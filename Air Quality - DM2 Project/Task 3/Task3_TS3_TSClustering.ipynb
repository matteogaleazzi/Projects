{
  "nbformat": 4,
  "nbformat_minor": 0,
  "metadata": {
    "colab": {
      "name": "Task3_TS3_TSClustering.ipynb",
      "provenance": [],
      "collapsed_sections": [],
      "toc_visible": true
    },
    "kernelspec": {
      "name": "python3",
      "display_name": "Python 3"
    }
  },
  "cells": [
    {
      "cell_type": "markdown",
      "metadata": {
        "id": "O8fQkdgJYdrL"
      },
      "source": [
        "# **Clustering Analysis**"
      ]
    },
    {
      "cell_type": "code",
      "metadata": {
        "id": "bk4KjfMqYrW4"
      },
      "source": [
        "%matplotlib inline\n",
        "import math\n",
        "import numpy as np\n",
        "import pandas as pd\n",
        "import scipy.stats as stats\n",
        "from sklearn import preprocessing\n",
        "import matplotlib.pyplot as plt\n",
        "import seaborn as sns\n",
        "\n",
        "from collections import defaultdict\n",
        "from scipy.stats.stats import pearsonr"
      ],
      "execution_count": 136,
      "outputs": []
    },
    {
      "cell_type": "markdown",
      "metadata": {
        "id": "zCYkcMkqZ-cO"
      },
      "source": [
        "Ora carico il dataset normale:"
      ]
    },
    {
      "cell_type": "code",
      "metadata": {
        "id": "c0R3HY55YdG9"
      },
      "source": [
        "dataframe = pd.read_csv('dataTS.csv', sep = ',', skipinitialspace=True, keep_default_na=True)"
      ],
      "execution_count": 137,
      "outputs": []
    },
    {
      "cell_type": "code",
      "metadata": {
        "colab": {
          "base_uri": "https://localhost:8080/",
          "height": 204
        },
        "id": "ipZe6dfqYy_e",
        "outputId": "573ca2f5-b216-4e91-b862-a8f312c79502"
      },
      "source": [
        "dataframe.head()"
      ],
      "execution_count": 138,
      "outputs": [
        {
          "output_type": "execute_result",
          "data": {
            "text/html": [
              "<div>\n",
              "<style scoped>\n",
              "    .dataframe tbody tr th:only-of-type {\n",
              "        vertical-align: middle;\n",
              "    }\n",
              "\n",
              "    .dataframe tbody tr th {\n",
              "        vertical-align: top;\n",
              "    }\n",
              "\n",
              "    .dataframe thead th {\n",
              "        text-align: right;\n",
              "    }\n",
              "</style>\n",
              "<table border=\"1\" class=\"dataframe\">\n",
              "  <thead>\n",
              "    <tr style=\"text-align: right;\">\n",
              "      <th></th>\n",
              "      <th>DateTime</th>\n",
              "      <th>CO(GT)</th>\n",
              "      <th>PT08.S1(CO)</th>\n",
              "      <th>NOx(GT)</th>\n",
              "      <th>NO2(GT)</th>\n",
              "      <th>PT08.S4(NO2)</th>\n",
              "      <th>T</th>\n",
              "      <th>Weekend</th>\n",
              "    </tr>\n",
              "  </thead>\n",
              "  <tbody>\n",
              "    <tr>\n",
              "      <th>0</th>\n",
              "      <td>2004-10-01 00:00:00</td>\n",
              "      <td>1.9</td>\n",
              "      <td>1176.0</td>\n",
              "      <td>206.000000</td>\n",
              "      <td>91.000000</td>\n",
              "      <td>1572.0</td>\n",
              "      <td>20.3</td>\n",
              "      <td>0</td>\n",
              "    </tr>\n",
              "    <tr>\n",
              "      <th>1</th>\n",
              "      <td>2004-10-01 01:00:00</td>\n",
              "      <td>1.6</td>\n",
              "      <td>1137.0</td>\n",
              "      <td>140.000000</td>\n",
              "      <td>74.000000</td>\n",
              "      <td>1557.0</td>\n",
              "      <td>19.4</td>\n",
              "      <td>0</td>\n",
              "    </tr>\n",
              "    <tr>\n",
              "      <th>2</th>\n",
              "      <td>2004-10-01 02:00:00</td>\n",
              "      <td>1.3</td>\n",
              "      <td>1035.0</td>\n",
              "      <td>132.000000</td>\n",
              "      <td>69.000000</td>\n",
              "      <td>1465.0</td>\n",
              "      <td>19.0</td>\n",
              "      <td>0</td>\n",
              "    </tr>\n",
              "    <tr>\n",
              "      <th>3</th>\n",
              "      <td>2004-10-01 03:00:00</td>\n",
              "      <td>0.8</td>\n",
              "      <td>943.0</td>\n",
              "      <td>246.896735</td>\n",
              "      <td>113.091251</td>\n",
              "      <td>1348.0</td>\n",
              "      <td>20.2</td>\n",
              "      <td>0</td>\n",
              "    </tr>\n",
              "    <tr>\n",
              "      <th>4</th>\n",
              "      <td>2004-10-01 04:00:00</td>\n",
              "      <td>0.6</td>\n",
              "      <td>904.0</td>\n",
              "      <td>81.000000</td>\n",
              "      <td>54.000000</td>\n",
              "      <td>1326.0</td>\n",
              "      <td>19.8</td>\n",
              "      <td>0</td>\n",
              "    </tr>\n",
              "  </tbody>\n",
              "</table>\n",
              "</div>"
            ],
            "text/plain": [
              "              DateTime  CO(GT)  PT08.S1(CO)  ...  PT08.S4(NO2)     T  Weekend\n",
              "0  2004-10-01 00:00:00     1.9       1176.0  ...        1572.0  20.3        0\n",
              "1  2004-10-01 01:00:00     1.6       1137.0  ...        1557.0  19.4        0\n",
              "2  2004-10-01 02:00:00     1.3       1035.0  ...        1465.0  19.0        0\n",
              "3  2004-10-01 03:00:00     0.8        943.0  ...        1348.0  20.2        0\n",
              "4  2004-10-01 04:00:00     0.6        904.0  ...        1326.0  19.8        0\n",
              "\n",
              "[5 rows x 8 columns]"
            ]
          },
          "metadata": {
            "tags": []
          },
          "execution_count": 138
        }
      ]
    },
    {
      "cell_type": "code",
      "metadata": {
        "colab": {
          "base_uri": "https://localhost:8080/"
        },
        "id": "rU9fiF3-Y3xn",
        "outputId": "066c2434-66d9-44c1-c4dc-67bdc625efdd"
      },
      "source": [
        "dataframe.dtypes"
      ],
      "execution_count": 139,
      "outputs": [
        {
          "output_type": "execute_result",
          "data": {
            "text/plain": [
              "DateTime         object\n",
              "CO(GT)          float64\n",
              "PT08.S1(CO)     float64\n",
              "NOx(GT)         float64\n",
              "NO2(GT)         float64\n",
              "PT08.S4(NO2)    float64\n",
              "T               float64\n",
              "Weekend           int64\n",
              "dtype: object"
            ]
          },
          "metadata": {
            "tags": []
          },
          "execution_count": 139
        }
      ]
    },
    {
      "cell_type": "markdown",
      "metadata": {
        "id": "GuV1AxXRaBhy"
      },
      "source": [
        "ora vado a convertire DateTime in formato data e poi la metto come indice:"
      ]
    },
    {
      "cell_type": "code",
      "metadata": {
        "id": "DLr9MAjvZJ2k"
      },
      "source": [
        "dataframe['DateTime']=pd.to_datetime(dataframe.DateTime)"
      ],
      "execution_count": 140,
      "outputs": []
    },
    {
      "cell_type": "code",
      "metadata": {
        "colab": {
          "base_uri": "https://localhost:8080/"
        },
        "id": "h703nBHPaiGe",
        "outputId": "9f0007dc-04b2-49bb-8aca-f69c0808dfca"
      },
      "source": [
        "dataframe.dtypes"
      ],
      "execution_count": 141,
      "outputs": [
        {
          "output_type": "execute_result",
          "data": {
            "text/plain": [
              "DateTime        datetime64[ns]\n",
              "CO(GT)                 float64\n",
              "PT08.S1(CO)            float64\n",
              "NOx(GT)                float64\n",
              "NO2(GT)                float64\n",
              "PT08.S4(NO2)           float64\n",
              "T                      float64\n",
              "Weekend                  int64\n",
              "dtype: object"
            ]
          },
          "metadata": {
            "tags": []
          },
          "execution_count": 141
        }
      ]
    },
    {
      "cell_type": "code",
      "metadata": {
        "colab": {
          "base_uri": "https://localhost:8080/",
          "height": 204
        },
        "id": "glrXO3ifZKPF",
        "outputId": "a7d94510-a54a-407a-9819-33dc67fc5c44"
      },
      "source": [
        "dataframe.head()"
      ],
      "execution_count": 142,
      "outputs": [
        {
          "output_type": "execute_result",
          "data": {
            "text/html": [
              "<div>\n",
              "<style scoped>\n",
              "    .dataframe tbody tr th:only-of-type {\n",
              "        vertical-align: middle;\n",
              "    }\n",
              "\n",
              "    .dataframe tbody tr th {\n",
              "        vertical-align: top;\n",
              "    }\n",
              "\n",
              "    .dataframe thead th {\n",
              "        text-align: right;\n",
              "    }\n",
              "</style>\n",
              "<table border=\"1\" class=\"dataframe\">\n",
              "  <thead>\n",
              "    <tr style=\"text-align: right;\">\n",
              "      <th></th>\n",
              "      <th>DateTime</th>\n",
              "      <th>CO(GT)</th>\n",
              "      <th>PT08.S1(CO)</th>\n",
              "      <th>NOx(GT)</th>\n",
              "      <th>NO2(GT)</th>\n",
              "      <th>PT08.S4(NO2)</th>\n",
              "      <th>T</th>\n",
              "      <th>Weekend</th>\n",
              "    </tr>\n",
              "  </thead>\n",
              "  <tbody>\n",
              "    <tr>\n",
              "      <th>0</th>\n",
              "      <td>2004-10-01 00:00:00</td>\n",
              "      <td>1.9</td>\n",
              "      <td>1176.0</td>\n",
              "      <td>206.000000</td>\n",
              "      <td>91.000000</td>\n",
              "      <td>1572.0</td>\n",
              "      <td>20.3</td>\n",
              "      <td>0</td>\n",
              "    </tr>\n",
              "    <tr>\n",
              "      <th>1</th>\n",
              "      <td>2004-10-01 01:00:00</td>\n",
              "      <td>1.6</td>\n",
              "      <td>1137.0</td>\n",
              "      <td>140.000000</td>\n",
              "      <td>74.000000</td>\n",
              "      <td>1557.0</td>\n",
              "      <td>19.4</td>\n",
              "      <td>0</td>\n",
              "    </tr>\n",
              "    <tr>\n",
              "      <th>2</th>\n",
              "      <td>2004-10-01 02:00:00</td>\n",
              "      <td>1.3</td>\n",
              "      <td>1035.0</td>\n",
              "      <td>132.000000</td>\n",
              "      <td>69.000000</td>\n",
              "      <td>1465.0</td>\n",
              "      <td>19.0</td>\n",
              "      <td>0</td>\n",
              "    </tr>\n",
              "    <tr>\n",
              "      <th>3</th>\n",
              "      <td>2004-10-01 03:00:00</td>\n",
              "      <td>0.8</td>\n",
              "      <td>943.0</td>\n",
              "      <td>246.896735</td>\n",
              "      <td>113.091251</td>\n",
              "      <td>1348.0</td>\n",
              "      <td>20.2</td>\n",
              "      <td>0</td>\n",
              "    </tr>\n",
              "    <tr>\n",
              "      <th>4</th>\n",
              "      <td>2004-10-01 04:00:00</td>\n",
              "      <td>0.6</td>\n",
              "      <td>904.0</td>\n",
              "      <td>81.000000</td>\n",
              "      <td>54.000000</td>\n",
              "      <td>1326.0</td>\n",
              "      <td>19.8</td>\n",
              "      <td>0</td>\n",
              "    </tr>\n",
              "  </tbody>\n",
              "</table>\n",
              "</div>"
            ],
            "text/plain": [
              "             DateTime  CO(GT)  PT08.S1(CO)  ...  PT08.S4(NO2)     T  Weekend\n",
              "0 2004-10-01 00:00:00     1.9       1176.0  ...        1572.0  20.3        0\n",
              "1 2004-10-01 01:00:00     1.6       1137.0  ...        1557.0  19.4        0\n",
              "2 2004-10-01 02:00:00     1.3       1035.0  ...        1465.0  19.0        0\n",
              "3 2004-10-01 03:00:00     0.8        943.0  ...        1348.0  20.2        0\n",
              "4 2004-10-01 04:00:00     0.6        904.0  ...        1326.0  19.8        0\n",
              "\n",
              "[5 rows x 8 columns]"
            ]
          },
          "metadata": {
            "tags": []
          },
          "execution_count": 142
        }
      ]
    },
    {
      "cell_type": "code",
      "metadata": {
        "colab": {
          "base_uri": "https://localhost:8080/"
        },
        "id": "gX7m7Tq4ZKDu",
        "outputId": "9e317e2b-2e50-49ed-a10f-8ff9b8e480de"
      },
      "source": [
        "dataframe.shape"
      ],
      "execution_count": 143,
      "outputs": [
        {
          "output_type": "execute_result",
          "data": {
            "text/plain": [
              "(744, 8)"
            ]
          },
          "metadata": {
            "tags": []
          },
          "execution_count": 143
        }
      ]
    },
    {
      "cell_type": "markdown",
      "metadata": {
        "id": "wbvQ6-wsauna"
      },
      "source": [
        "Ora che abbiamo DateTime nel formato giusto settiamolo come Indice:"
      ]
    },
    {
      "cell_type": "code",
      "metadata": {
        "id": "G2LSbjpUZKp1"
      },
      "source": [
        "dataframe = dataframe.set_index(['DateTime'])\n"
      ],
      "execution_count": 144,
      "outputs": []
    },
    {
      "cell_type": "code",
      "metadata": {
        "colab": {
          "base_uri": "https://localhost:8080/",
          "height": 235
        },
        "id": "BuTvUA43a6Pk",
        "outputId": "8df00d2a-a9a9-48dc-ac24-54567cc5bb6b"
      },
      "source": [
        "dataframe.head()"
      ],
      "execution_count": 145,
      "outputs": [
        {
          "output_type": "execute_result",
          "data": {
            "text/html": [
              "<div>\n",
              "<style scoped>\n",
              "    .dataframe tbody tr th:only-of-type {\n",
              "        vertical-align: middle;\n",
              "    }\n",
              "\n",
              "    .dataframe tbody tr th {\n",
              "        vertical-align: top;\n",
              "    }\n",
              "\n",
              "    .dataframe thead th {\n",
              "        text-align: right;\n",
              "    }\n",
              "</style>\n",
              "<table border=\"1\" class=\"dataframe\">\n",
              "  <thead>\n",
              "    <tr style=\"text-align: right;\">\n",
              "      <th></th>\n",
              "      <th>CO(GT)</th>\n",
              "      <th>PT08.S1(CO)</th>\n",
              "      <th>NOx(GT)</th>\n",
              "      <th>NO2(GT)</th>\n",
              "      <th>PT08.S4(NO2)</th>\n",
              "      <th>T</th>\n",
              "      <th>Weekend</th>\n",
              "    </tr>\n",
              "    <tr>\n",
              "      <th>DateTime</th>\n",
              "      <th></th>\n",
              "      <th></th>\n",
              "      <th></th>\n",
              "      <th></th>\n",
              "      <th></th>\n",
              "      <th></th>\n",
              "      <th></th>\n",
              "    </tr>\n",
              "  </thead>\n",
              "  <tbody>\n",
              "    <tr>\n",
              "      <th>2004-10-01 00:00:00</th>\n",
              "      <td>1.9</td>\n",
              "      <td>1176.0</td>\n",
              "      <td>206.000000</td>\n",
              "      <td>91.000000</td>\n",
              "      <td>1572.0</td>\n",
              "      <td>20.3</td>\n",
              "      <td>0</td>\n",
              "    </tr>\n",
              "    <tr>\n",
              "      <th>2004-10-01 01:00:00</th>\n",
              "      <td>1.6</td>\n",
              "      <td>1137.0</td>\n",
              "      <td>140.000000</td>\n",
              "      <td>74.000000</td>\n",
              "      <td>1557.0</td>\n",
              "      <td>19.4</td>\n",
              "      <td>0</td>\n",
              "    </tr>\n",
              "    <tr>\n",
              "      <th>2004-10-01 02:00:00</th>\n",
              "      <td>1.3</td>\n",
              "      <td>1035.0</td>\n",
              "      <td>132.000000</td>\n",
              "      <td>69.000000</td>\n",
              "      <td>1465.0</td>\n",
              "      <td>19.0</td>\n",
              "      <td>0</td>\n",
              "    </tr>\n",
              "    <tr>\n",
              "      <th>2004-10-01 03:00:00</th>\n",
              "      <td>0.8</td>\n",
              "      <td>943.0</td>\n",
              "      <td>246.896735</td>\n",
              "      <td>113.091251</td>\n",
              "      <td>1348.0</td>\n",
              "      <td>20.2</td>\n",
              "      <td>0</td>\n",
              "    </tr>\n",
              "    <tr>\n",
              "      <th>2004-10-01 04:00:00</th>\n",
              "      <td>0.6</td>\n",
              "      <td>904.0</td>\n",
              "      <td>81.000000</td>\n",
              "      <td>54.000000</td>\n",
              "      <td>1326.0</td>\n",
              "      <td>19.8</td>\n",
              "      <td>0</td>\n",
              "    </tr>\n",
              "  </tbody>\n",
              "</table>\n",
              "</div>"
            ],
            "text/plain": [
              "                     CO(GT)  PT08.S1(CO)  ...     T  Weekend\n",
              "DateTime                                  ...               \n",
              "2004-10-01 00:00:00     1.9       1176.0  ...  20.3        0\n",
              "2004-10-01 01:00:00     1.6       1137.0  ...  19.4        0\n",
              "2004-10-01 02:00:00     1.3       1035.0  ...  19.0        0\n",
              "2004-10-01 03:00:00     0.8        943.0  ...  20.2        0\n",
              "2004-10-01 04:00:00     0.6        904.0  ...  19.8        0\n",
              "\n",
              "[5 rows x 7 columns]"
            ]
          },
          "metadata": {
            "tags": []
          },
          "execution_count": 145
        }
      ]
    },
    {
      "cell_type": "markdown",
      "metadata": {
        "id": "UqNZYkP1bi2r"
      },
      "source": [
        "## Create Dataset 4 Clustering Analysis"
      ]
    },
    {
      "cell_type": "markdown",
      "metadata": {
        "id": "xCIOVmLW8lqc"
      },
      "source": [
        "as explained in the Univariate section we are going to analyze only the CO (GT) variable taking into account the last week of October to avoid anomalies\n"
      ]
    },
    {
      "cell_type": "code",
      "metadata": {
        "colab": {
          "base_uri": "https://localhost:8080/",
          "height": 235
        },
        "id": "HWqEf5Ira2yg",
        "outputId": "c6a0556b-decb-4dbd-a77a-256041a64873"
      },
      "source": [
        "dfCluster = dataframe[['CO(GT)']]\n",
        "dfCluster.head()"
      ],
      "execution_count": 146,
      "outputs": [
        {
          "output_type": "execute_result",
          "data": {
            "text/html": [
              "<div>\n",
              "<style scoped>\n",
              "    .dataframe tbody tr th:only-of-type {\n",
              "        vertical-align: middle;\n",
              "    }\n",
              "\n",
              "    .dataframe tbody tr th {\n",
              "        vertical-align: top;\n",
              "    }\n",
              "\n",
              "    .dataframe thead th {\n",
              "        text-align: right;\n",
              "    }\n",
              "</style>\n",
              "<table border=\"1\" class=\"dataframe\">\n",
              "  <thead>\n",
              "    <tr style=\"text-align: right;\">\n",
              "      <th></th>\n",
              "      <th>CO(GT)</th>\n",
              "    </tr>\n",
              "    <tr>\n",
              "      <th>DateTime</th>\n",
              "      <th></th>\n",
              "    </tr>\n",
              "  </thead>\n",
              "  <tbody>\n",
              "    <tr>\n",
              "      <th>2004-10-01 00:00:00</th>\n",
              "      <td>1.9</td>\n",
              "    </tr>\n",
              "    <tr>\n",
              "      <th>2004-10-01 01:00:00</th>\n",
              "      <td>1.6</td>\n",
              "    </tr>\n",
              "    <tr>\n",
              "      <th>2004-10-01 02:00:00</th>\n",
              "      <td>1.3</td>\n",
              "    </tr>\n",
              "    <tr>\n",
              "      <th>2004-10-01 03:00:00</th>\n",
              "      <td>0.8</td>\n",
              "    </tr>\n",
              "    <tr>\n",
              "      <th>2004-10-01 04:00:00</th>\n",
              "      <td>0.6</td>\n",
              "    </tr>\n",
              "  </tbody>\n",
              "</table>\n",
              "</div>"
            ],
            "text/plain": [
              "                     CO(GT)\n",
              "DateTime                   \n",
              "2004-10-01 00:00:00     1.9\n",
              "2004-10-01 01:00:00     1.6\n",
              "2004-10-01 02:00:00     1.3\n",
              "2004-10-01 03:00:00     0.8\n",
              "2004-10-01 04:00:00     0.6"
            ]
          },
          "metadata": {
            "tags": []
          },
          "execution_count": 146
        }
      ]
    },
    {
      "cell_type": "code",
      "metadata": {
        "colab": {
          "base_uri": "https://localhost:8080/",
          "height": 235
        },
        "id": "AuowtQ07zQ2q",
        "outputId": "8a4fd2ba-9599-44be-83b6-18ec2396434e"
      },
      "source": [
        "dfCluster.tail()"
      ],
      "execution_count": 147,
      "outputs": [
        {
          "output_type": "execute_result",
          "data": {
            "text/html": [
              "<div>\n",
              "<style scoped>\n",
              "    .dataframe tbody tr th:only-of-type {\n",
              "        vertical-align: middle;\n",
              "    }\n",
              "\n",
              "    .dataframe tbody tr th {\n",
              "        vertical-align: top;\n",
              "    }\n",
              "\n",
              "    .dataframe thead th {\n",
              "        text-align: right;\n",
              "    }\n",
              "</style>\n",
              "<table border=\"1\" class=\"dataframe\">\n",
              "  <thead>\n",
              "    <tr style=\"text-align: right;\">\n",
              "      <th></th>\n",
              "      <th>CO(GT)</th>\n",
              "    </tr>\n",
              "    <tr>\n",
              "      <th>DateTime</th>\n",
              "      <th></th>\n",
              "    </tr>\n",
              "  </thead>\n",
              "  <tbody>\n",
              "    <tr>\n",
              "      <th>2004-10-31 19:00:00</th>\n",
              "      <td>4.7</td>\n",
              "    </tr>\n",
              "    <tr>\n",
              "      <th>2004-10-31 20:00:00</th>\n",
              "      <td>4.1</td>\n",
              "    </tr>\n",
              "    <tr>\n",
              "      <th>2004-10-31 21:00:00</th>\n",
              "      <td>4.1</td>\n",
              "    </tr>\n",
              "    <tr>\n",
              "      <th>2004-10-31 22:00:00</th>\n",
              "      <td>2.7</td>\n",
              "    </tr>\n",
              "    <tr>\n",
              "      <th>2004-10-31 23:00:00</th>\n",
              "      <td>2.6</td>\n",
              "    </tr>\n",
              "  </tbody>\n",
              "</table>\n",
              "</div>"
            ],
            "text/plain": [
              "                     CO(GT)\n",
              "DateTime                   \n",
              "2004-10-31 19:00:00     4.7\n",
              "2004-10-31 20:00:00     4.1\n",
              "2004-10-31 21:00:00     4.1\n",
              "2004-10-31 22:00:00     2.7\n",
              "2004-10-31 23:00:00     2.6"
            ]
          },
          "metadata": {
            "tags": []
          },
          "execution_count": 147
        }
      ]
    },
    {
      "cell_type": "code",
      "metadata": {
        "colab": {
          "base_uri": "https://localhost:8080/"
        },
        "id": "tgNt67YKa21Q",
        "outputId": "32fd7d81-fd25-4be4-a279-4a31c7db43c7"
      },
      "source": [
        "dfCluster.shape"
      ],
      "execution_count": 148,
      "outputs": [
        {
          "output_type": "execute_result",
          "data": {
            "text/plain": [
              "(744, 1)"
            ]
          },
          "metadata": {
            "tags": []
          },
          "execution_count": 148
        }
      ]
    },
    {
      "cell_type": "markdown",
      "metadata": {
        "id": "JNA9bt9C80Nx"
      },
      "source": [
        "For the clustering of the times series of the variable CO(GT) we will work on the series without noise (come abbiamo rimosso in univariata) and we will use three different techniques:\n",
        "- Shape-based\n",
        "- Compressed-based and\n",
        "- Approximation-based."
      ]
    },
    {
      "cell_type": "code",
      "metadata": {
        "id": "iAxHjp738-cu"
      },
      "source": [
        "dfCluster_denoised = ((dfCluster-dfCluster.mean())/dfCluster.std()).rolling(window=180).mean()\n",
        "ts = dfCluster_denoised.loc['2004-10-25':'2004-10-31']\n",
        "sma = ts.rolling(window = 180).mean()\n",
        "ts_shift = ts - sma"
      ],
      "execution_count": 149,
      "outputs": []
    },
    {
      "cell_type": "markdown",
      "metadata": {
        "id": "tj_Kac5D97Hg"
      },
      "source": [
        "se volgiamo plottare qua andamento variabile CO(GT) senza rumore nella settimana considerata, è lo stesso grafico univariata perchè andamento è lo stesso, ma ho messo se servisse grafico:"
      ]
    },
    {
      "cell_type": "code",
      "metadata": {
        "colab": {
          "base_uri": "https://localhost:8080/",
          "height": 445
        },
        "id": "SmFiFrqv9n93",
        "outputId": "93d23315-ce33-4690-a2c6-f2efb40982c0"
      },
      "source": [
        "# CO(GT) senza rumore andamento in ultima settimana ottobre\n",
        "plt.figure(figsize=(15,7))\n",
        "plt.plot(dfCluster_denoised)"
      ],
      "execution_count": 150,
      "outputs": [
        {
          "output_type": "execute_result",
          "data": {
            "text/plain": [
              "[<matplotlib.lines.Line2D at 0x7f7013ff8278>]"
            ]
          },
          "metadata": {
            "tags": []
          },
          "execution_count": 150
        },
        {
          "output_type": "display_data",
          "data": {
            "image/png": "[encoded data removed]",
            "text/plain": [
              "<Figure size 1080x504 with 1 Axes>"
            ]
          },
          "metadata": {
            "tags": [],
            "needs_background": "light"
          }
        }
      ]
    },
    {
      "cell_type": "markdown",
      "metadata": {
        "id": "QQ3Yl95H-OL1"
      },
      "source": [
        "Ora dobbiamo preparare array da dare alle 3 tecniche di clustering, questo non penso serva scriverlo nel report , oppure basta dire che abbiamo preparato i dati per il clustering:"
      ]
    },
    {
      "cell_type": "code",
      "metadata": {
        "id": "Pa9ZxKpC-XkR"
      },
      "source": [
        "day_1 = dfCluster_denoised['2004-10-25']\n",
        "day_2 = dfCluster_denoised['2004-10-26']\n",
        "day_3 = dfCluster_denoised['2004-10-27']\n",
        "day_4 = dfCluster_denoised['2004-10-28']\n",
        "day_5 = dfCluster_denoised['2004-10-29']\n",
        "day_6 = dfCluster_denoised['2004-10-30']\n",
        "day_7 = dfCluster_denoised['2004-10-31']"
      ],
      "execution_count": 159,
      "outputs": []
    },
    {
      "cell_type": "code",
      "metadata": {
        "id": "mUT-aYEE-jSZ"
      },
      "source": [
        "day_1.reset_index(drop=True, inplace=True)\n",
        "day_2.reset_index(drop=True, inplace=True)\n",
        "day_3.reset_index(drop=True, inplace=True)\n",
        "day_4.reset_index(drop=True, inplace=True)\n",
        "day_5.reset_index(drop=True, inplace=True)\n",
        "day_6.reset_index(drop=True, inplace=True)\n",
        "day_7.reset_index(drop=True, inplace=True)"
      ],
      "execution_count": 160,
      "outputs": []
    },
    {
      "cell_type": "code",
      "metadata": {
        "id": "dRyxF3G7-rZ_"
      },
      "source": [
        "day1=day_1.values\n",
        "day2=day_2.values\n",
        "day3=day_3.values\n",
        "day4=day_4.values\n",
        "day5=day_5.values\n",
        "day6=day_6.values\n",
        "day7=day_7.values\n"
      ],
      "execution_count": 161,
      "outputs": []
    },
    {
      "cell_type": "code",
      "metadata": {
        "id": "Qxr3mD3R-8mk"
      },
      "source": [
        "A=np.array(day1)\n",
        "B=np.array(day2)\n",
        "C=np.array(day3)\n",
        "D=np.array(day4)\n",
        "E=np.array(day5)\n",
        "F=np.array(day6)\n",
        "G=np.array(day7)\n"
      ],
      "execution_count": 162,
      "outputs": []
    },
    {
      "cell_type": "code",
      "metadata": {
        "id": "Afsytz6I_Gvq"
      },
      "source": [
        "ArrayCluster=np.array([A,B,C,D,E,F,G])\n"
      ],
      "execution_count": 164,
      "outputs": []
    },
    {
      "cell_type": "code",
      "metadata": {
        "colab": {
          "base_uri": "https://localhost:8080/"
        },
        "id": "T7r5PzJk_M0s",
        "outputId": "2c04f371-9a67-4290-af8c-f6bbb612dadd"
      },
      "source": [
        "ArrayCluster.shape"
      ],
      "execution_count": 165,
      "outputs": [
        {
          "output_type": "execute_result",
          "data": {
            "text/plain": [
              "(7, 24, 1)"
            ]
          },
          "metadata": {
            "tags": []
          },
          "execution_count": 165
        }
      ]
    },
    {
      "cell_type": "markdown",
      "metadata": {
        "id": "TMPBGao4_bvF"
      },
      "source": [
        "## Shape-Based Clustering"
      ]
    },
    {
      "cell_type": "markdown",
      "metadata": {
        "id": "3UBJCfIF_hww"
      },
      "source": [
        "Plottiamo il nostro array sul quale fare clustering Shape-based in due dimensioni"
      ]
    },
    {
      "cell_type": "code",
      "metadata": {
        "colab": {
          "base_uri": "https://localhost:8080/"
        },
        "id": "cRqXN4YE_8Yf",
        "outputId": "9ea7d128-96bf-40bd-e6d8-a95e0c47fc09"
      },
      "source": [
        "pip install tslearn\n"
      ],
      "execution_count": 167,
      "outputs": [
        {
          "output_type": "stream",
          "text": [
            "Requirement already satisfied: tslearn in /usr/local/lib/python3.6/dist-packages (0.4.1)\n",
            "Requirement already satisfied: numba in /usr/local/lib/python3.6/dist-packages (from tslearn) (0.48.0)\n",
            "Requirement already satisfied: Cython in /usr/local/lib/python3.6/dist-packages (from tslearn) (0.29.21)\n",
            "Requirement already satisfied: scipy in /usr/local/lib/python3.6/dist-packages (from tslearn) (1.4.1)\n",
            "Requirement already satisfied: scikit-learn in /usr/local/lib/python3.6/dist-packages (from tslearn) (0.22.2.post1)\n",
            "Requirement already satisfied: joblib in /usr/local/lib/python3.6/dist-packages (from tslearn) (0.17.0)\n",
            "Requirement already satisfied: numpy in /usr/local/lib/python3.6/dist-packages (from tslearn) (1.18.5)\n",
            "Requirement already satisfied: llvmlite<0.32.0,>=0.31.0dev0 in /usr/local/lib/python3.6/dist-packages (from numba->tslearn) (0.31.0)\n",
            "Requirement already satisfied: setuptools in /usr/local/lib/python3.6/dist-packages (from numba->tslearn) (50.3.2)\n"
          ],
          "name": "stdout"
        }
      ]
    },
    {
      "cell_type": "code",
      "metadata": {
        "id": "h0XmZ47s_ydb"
      },
      "source": [
        "from tslearn.clustering import TimeSeriesKMeans\n"
      ],
      "execution_count": 168,
      "outputs": []
    },
    {
      "cell_type": "code",
      "metadata": {
        "colab": {
          "base_uri": "https://localhost:8080/",
          "height": 265
        },
        "id": "47vu5kUR_OKN",
        "outputId": "c3a8b7bc-312e-4b85-9473-b9bc41af5ec0"
      },
      "source": [
        "plt.plot(ArrayCluster.reshape(ArrayCluster.shape[1], ArrayCluster.shape[0]))\n",
        "plt.show()"
      ],
      "execution_count": 169,
      "outputs": [
        {
          "output_type": "display_data",
          "data": {
            "image/png": "[encoded data removed]",
            "text/plain": [
              "<Figure size 432x288 with 1 Axes>"
            ]
          },
          "metadata": {
            "tags": [],
            "needs_background": "light"
          }
        }
      ]
    },
    {
      "cell_type": "markdown",
      "metadata": {
        "id": "Ctx6vF57DE6P"
      },
      "source": [
        "as a first approach with the Shaped based clustering we tried the following settings:\n",
        "- n_clusters=2\n",
        "- metric='euclidean'\n",
        "- verbose=1"
      ]
    },
    {
      "cell_type": "code",
      "metadata": {
        "colab": {
          "base_uri": "https://localhost:8080/"
        },
        "id": "paS54UHsAH6t",
        "outputId": "7b169473-3246-4cad-d0bf-912dad8b570e"
      },
      "source": [
        "km = TimeSeriesKMeans(n_clusters=2, metric=\"euclidean\",verbose=1)\n",
        "km.fit(ArrayCluster)"
      ],
      "execution_count": 170,
      "outputs": [
        {
          "output_type": "stream",
          "text": [
            "0.139 --> 0.095 --> 0.095 --> \n"
          ],
          "name": "stdout"
        },
        {
          "output_type": "execute_result",
          "data": {
            "text/plain": [
              "TimeSeriesKMeans(dtw_inertia=False, init='k-means++', max_iter=50,\n",
              "                 max_iter_barycenter=100, metric='euclidean',\n",
              "                 metric_params=None, n_clusters=2, n_init=1, n_jobs=None,\n",
              "                 random_state=None, tol=1e-06, verbose=1)"
            ]
          },
          "metadata": {
            "tags": []
          },
          "execution_count": 170
        }
      ]
    },
    {
      "cell_type": "code",
      "metadata": {
        "colab": {
          "base_uri": "https://localhost:8080/",
          "height": 265
        },
        "id": "_iDoIl5LDbmA",
        "outputId": "dddb72eb-e53f-4d79-e041-395fa0cdea7b"
      },
      "source": [
        "plt.plot(km.cluster_centers_.reshape(ArrayCluster.shape[1], 2))\n",
        "plt.show()"
      ],
      "execution_count": 171,
      "outputs": [
        {
          "output_type": "display_data",
          "data": {
            "image/png": "[encoded data removed]",
            "text/plain": [
              "<Figure size 432x288 with 1 Axes>"
            ]
          },
          "metadata": {
            "tags": [],
            "needs_background": "light"
          }
        }
      ]
    },
    {
      "cell_type": "code",
      "metadata": {
        "colab": {
          "base_uri": "https://localhost:8080/"
        },
        "id": "5HL4YIlfDiXM",
        "outputId": "effd640f-f4c9-496c-b4c8-690cbac014f0"
      },
      "source": [
        "km.labels_\n"
      ],
      "execution_count": 172,
      "outputs": [
        {
          "output_type": "execute_result",
          "data": {
            "text/plain": [
              "array([0, 0, 1, 1, 0, 0, 0])"
            ]
          },
          "metadata": {
            "tags": []
          },
          "execution_count": 172
        }
      ]
    },
    {
      "cell_type": "code",
      "metadata": {
        "colab": {
          "base_uri": "https://localhost:8080/"
        },
        "id": "A_ApDGSvDmkZ",
        "outputId": "a8e6380f-6459-49e8-9dc8-7f5b459457a5"
      },
      "source": [
        "km.inertia_\n"
      ],
      "execution_count": 173,
      "outputs": [
        {
          "output_type": "execute_result",
          "data": {
            "text/plain": [
              "0.0947670271095054"
            ]
          },
          "metadata": {
            "tags": []
          },
          "execution_count": 173
        }
      ]
    },
    {
      "cell_type": "markdown",
      "metadata": {
        "id": "9e83EaUODriY"
      },
      "source": [
        "Test other options, in particualt a different metric \"dtw\":"
      ]
    },
    {
      "cell_type": "code",
      "metadata": {
        "colab": {
          "base_uri": "https://localhost:8080/"
        },
        "id": "ZflNJeygDoyI",
        "outputId": "dfbc1d00-8e5d-448e-d5b3-5d523a7afa7e"
      },
      "source": [
        "km_dtw = TimeSeriesKMeans(n_clusters=2, metric=\"dtw\",verbose=1)\n",
        "km_dtw.fit(ArrayCluster)"
      ],
      "execution_count": 174,
      "outputs": [
        {
          "output_type": "stream",
          "text": [
            "[Parallel(n_jobs=1)]: Using backend SequentialBackend with 1 concurrent workers.\n",
            "[Parallel(n_jobs=1)]: Done   7 out of   7 | elapsed:    0.8s finished\n",
            "[Parallel(n_jobs=1)]: Using backend SequentialBackend with 1 concurrent workers.\n",
            "[Parallel(n_jobs=1)]: Done  14 out of  14 | elapsed:    0.0s finished\n",
            "[Parallel(n_jobs=1)]: Using backend SequentialBackend with 1 concurrent workers.\n",
            "[Parallel(n_jobs=1)]: Done  14 out of  14 | elapsed:    0.0s finished\n"
          ],
          "name": "stderr"
        },
        {
          "output_type": "stream",
          "text": [
            "0.085 --> 0.045 --> 0.045 --> 0.045 --> \n"
          ],
          "name": "stdout"
        },
        {
          "output_type": "stream",
          "text": [
            "[Parallel(n_jobs=1)]: Using backend SequentialBackend with 1 concurrent workers.\n",
            "[Parallel(n_jobs=1)]: Done  14 out of  14 | elapsed:    0.0s finished\n",
            "[Parallel(n_jobs=1)]: Using backend SequentialBackend with 1 concurrent workers.\n",
            "[Parallel(n_jobs=1)]: Done  14 out of  14 | elapsed:    0.0s finished\n",
            "[Parallel(n_jobs=1)]: Using backend SequentialBackend with 1 concurrent workers.\n",
            "[Parallel(n_jobs=1)]: Done  14 out of  14 | elapsed:    0.0s finished\n",
            "[Parallel(n_jobs=1)]: Using backend SequentialBackend with 1 concurrent workers.\n",
            "[Parallel(n_jobs=1)]: Done  14 out of  14 | elapsed:    0.0s finished\n"
          ],
          "name": "stderr"
        },
        {
          "output_type": "execute_result",
          "data": {
            "text/plain": [
              "TimeSeriesKMeans(dtw_inertia=False, init='k-means++', max_iter=50,\n",
              "                 max_iter_barycenter=100, metric='dtw', metric_params=None,\n",
              "                 n_clusters=2, n_init=1, n_jobs=None, random_state=None,\n",
              "                 tol=1e-06, verbose=1)"
            ]
          },
          "metadata": {
            "tags": []
          },
          "execution_count": 174
        }
      ]
    },
    {
      "cell_type": "code",
      "metadata": {
        "colab": {
          "base_uri": "https://localhost:8080/",
          "height": 265
        },
        "id": "YhSWVTyuD2kP",
        "outputId": "bdcf8443-6c0d-420a-e0d5-34de5611041b"
      },
      "source": [
        "plt.plot(km_dtw.cluster_centers_.reshape(ArrayCluster.shape[1], 2))\n",
        "plt.show()"
      ],
      "execution_count": 176,
      "outputs": [
        {
          "output_type": "display_data",
          "data": {
            "image/png": "[encoded data removed]",
            "text/plain": [
              "<Figure size 432x288 with 1 Axes>"
            ]
          },
          "metadata": {
            "tags": [],
            "needs_background": "light"
          }
        }
      ]
    },
    {
      "cell_type": "code",
      "metadata": {
        "colab": {
          "base_uri": "https://localhost:8080/"
        },
        "id": "hDIeXs0sD9nL",
        "outputId": "0683375e-9a21-4162-ed3e-31f97ad88ed0"
      },
      "source": [
        "km_dtw.labels_\n"
      ],
      "execution_count": 177,
      "outputs": [
        {
          "output_type": "execute_result",
          "data": {
            "text/plain": [
              "array([0, 0, 1, 1, 0, 0, 0])"
            ]
          },
          "metadata": {
            "tags": []
          },
          "execution_count": 177
        }
      ]
    },
    {
      "cell_type": "code",
      "metadata": {
        "colab": {
          "base_uri": "https://localhost:8080/"
        },
        "id": "cawOAokuD_pP",
        "outputId": "34acbd16-9b57-4d0e-d29c-06a2d375d601"
      },
      "source": [
        "km_dtw.inertia_\n"
      ],
      "execution_count": 178,
      "outputs": [
        {
          "output_type": "execute_result",
          "data": {
            "text/plain": [
              "0.045314057032478185"
            ]
          },
          "metadata": {
            "tags": []
          },
          "execution_count": 178
        }
      ]
    },
    {
      "cell_type": "markdown",
      "metadata": {
        "id": "Wmjdm2yXETdL"
      },
      "source": [
        "Ricapitolando, ShapedBased provato 2 clusters e con metrica euclidean la prima volta e la metrica dtw la seconda volta , abbiamo le labels di entrambi e il valore di inertia di entrambi (capire se questo valore è meglio che sia alto o basso) -> **SPOILER: io ho capito che+ bassa è meglio è** "
      ]
    },
    {
      "cell_type": "markdown",
      "metadata": {
        "id": "mjJXMbRtEmkt"
      },
      "source": [
        "## Compressed-Based"
      ]
    },
    {
      "cell_type": "code",
      "metadata": {
        "id": "MIZij5xyEpEX"
      },
      "source": [
        "import zlib\n",
        "import string"
      ],
      "execution_count": 179,
      "outputs": []
    },
    {
      "cell_type": "code",
      "metadata": {
        "id": "Ti7SwKmTEsNR"
      },
      "source": [
        "from sklearn.metrics import pairwise_distances\n"
      ],
      "execution_count": 180,
      "outputs": []
    },
    {
      "cell_type": "code",
      "metadata": {
        "id": "YkE-ATI8Et-1"
      },
      "source": [
        "def cdm_dist(x, y):\n",
        "    x_str = (' '.join([str(v) for v in x.ravel()])).encode('utf-8')\n",
        "    y_str = (' '.join([str(v) for v in y.ravel()])).encode('utf-8')\n",
        "    return len(zlib.compress(x_str + y_str)) / (len(zlib.compress(x_str)) + len(zlib.compress(y_str)))"
      ],
      "execution_count": 181,
      "outputs": []
    },
    {
      "cell_type": "code",
      "metadata": {
        "id": "tZjZX2H5EwqX"
      },
      "source": [
        "Compressed = pairwise_distances(ArrayCluster.reshape(ArrayCluster.shape[0], ArrayCluster.shape[1]), metric=cdm_dist)\n"
      ],
      "execution_count": 187,
      "outputs": []
    },
    {
      "cell_type": "code",
      "metadata": {
        "colab": {
          "base_uri": "https://localhost:8080/"
        },
        "id": "jfGEYa1zE2Ag",
        "outputId": "39d2279b-aa94-493d-ecc3-68ae18a904f9"
      },
      "source": [
        "Compressed.shape\n"
      ],
      "execution_count": 188,
      "outputs": [
        {
          "output_type": "execute_result",
          "data": {
            "text/plain": [
              "(7, 7)"
            ]
          },
          "metadata": {
            "tags": []
          },
          "execution_count": 188
        }
      ]
    },
    {
      "cell_type": "code",
      "metadata": {
        "colab": {
          "base_uri": "https://localhost:8080/",
          "height": 265
        },
        "id": "19aHzZRPE4yl",
        "outputId": "b3746838-68d0-4aae-f0c0-4f6f0c70d022"
      },
      "source": [
        "plt.plot(sorted(Compressed.ravel()))\n",
        "plt.show()"
      ],
      "execution_count": 189,
      "outputs": [
        {
          "output_type": "display_data",
          "data": {
            "image/png": "[encoded data removed]",
            "text/plain": [
              "<Figure size 432x288 with 1 Axes>"
            ]
          },
          "metadata": {
            "tags": [],
            "needs_background": "light"
          }
        }
      ]
    },
    {
      "cell_type": "code",
      "metadata": {
        "id": "h5pnKTwYE7b9"
      },
      "source": [
        "from sklearn.cluster import DBSCAN\n"
      ],
      "execution_count": 185,
      "outputs": []
    },
    {
      "cell_type": "markdown",
      "metadata": {
        "id": "Teu9QM6IFJ_y"
      },
      "source": [
        "Parametri del DBscan sul compressed da dire :"
      ]
    },
    {
      "cell_type": "code",
      "metadata": {
        "colab": {
          "base_uri": "https://localhost:8080/"
        },
        "id": "7uUNHwe0E9QE",
        "outputId": "be0cf2b2-45fe-41d6-fad6-6454d97c5444"
      },
      "source": [
        "dbscan = DBSCAN(eps=1, min_samples=5, metric='precomputed')\n",
        "dbscan.fit(Compressed)"
      ],
      "execution_count": 190,
      "outputs": [
        {
          "output_type": "execute_result",
          "data": {
            "text/plain": [
              "DBSCAN(algorithm='auto', eps=1, leaf_size=30, metric='precomputed',\n",
              "       metric_params=None, min_samples=5, n_jobs=None, p=None)"
            ]
          },
          "metadata": {
            "tags": []
          },
          "execution_count": 190
        }
      ]
    },
    {
      "cell_type": "code",
      "metadata": {
        "colab": {
          "base_uri": "https://localhost:8080/"
        },
        "id": "VgskANPdFXXi",
        "outputId": "e97a3a86-5b6b-4759-b77f-808f3f3ae983"
      },
      "source": [
        "dbscan.labels_\n"
      ],
      "execution_count": 191,
      "outputs": [
        {
          "output_type": "execute_result",
          "data": {
            "text/plain": [
              "array([0, 0, 0, 0, 0, 0, 0])"
            ]
          },
          "metadata": {
            "tags": []
          },
          "execution_count": 191
        }
      ]
    },
    {
      "cell_type": "markdown",
      "metadata": {
        "id": "CUkZOibdFaBL"
      },
      "source": [
        "## Approximation based"
      ]
    },
    {
      "cell_type": "code",
      "metadata": {
        "colab": {
          "base_uri": "https://localhost:8080/"
        },
        "id": "5jFBIAwEFb_5",
        "outputId": "b7988f5e-24f2-4088-9be5-0765e973ed1c"
      },
      "source": [
        "pip install tslearn\n"
      ],
      "execution_count": 192,
      "outputs": [
        {
          "output_type": "stream",
          "text": [
            "Requirement already satisfied: tslearn in /usr/local/lib/python3.6/dist-packages (0.4.1)\n",
            "Requirement already satisfied: Cython in /usr/local/lib/python3.6/dist-packages (from tslearn) (0.29.21)\n",
            "Requirement already satisfied: joblib in /usr/local/lib/python3.6/dist-packages (from tslearn) (0.17.0)\n",
            "Requirement already satisfied: scipy in /usr/local/lib/python3.6/dist-packages (from tslearn) (1.4.1)\n",
            "Requirement already satisfied: numba in /usr/local/lib/python3.6/dist-packages (from tslearn) (0.48.0)\n",
            "Requirement already satisfied: scikit-learn in /usr/local/lib/python3.6/dist-packages (from tslearn) (0.22.2.post1)\n",
            "Requirement already satisfied: numpy in /usr/local/lib/python3.6/dist-packages (from tslearn) (1.18.5)\n",
            "Requirement already satisfied: llvmlite<0.32.0,>=0.31.0dev0 in /usr/local/lib/python3.6/dist-packages (from numba->tslearn) (0.31.0)\n",
            "Requirement already satisfied: setuptools in /usr/local/lib/python3.6/dist-packages (from numba->tslearn) (50.3.2)\n"
          ],
          "name": "stdout"
        }
      ]
    },
    {
      "cell_type": "code",
      "metadata": {
        "id": "J4qfrX3yFgjw"
      },
      "source": [
        "from tslearn.piecewise import PiecewiseAggregateApproximation\n",
        "from tslearn.piecewise import SymbolicAggregateApproximation\n",
        "from tslearn.piecewise import OneD_SymbolicAggregateApproximation\n",
        "from tslearn.clustering import TimeSeriesKMeans"
      ],
      "execution_count": 193,
      "outputs": []
    },
    {
      "cell_type": "markdown",
      "metadata": {
        "id": "6sJ8PIvdFmUH"
      },
      "source": [
        "impostazione parametri del Approximation based:\n",
        "- n_paa-segmentes=15\n",
        "- metric =[euclidiean, dtw]"
      ]
    },
    {
      "cell_type": "code",
      "metadata": {
        "id": "mUUhxDMBFigM"
      },
      "source": [
        "n_paa_segments = 15\n",
        "paa = PiecewiseAggregateApproximation(n_segments=n_paa_segments)\n",
        "ArrayCluster_paa = paa.fit_transform(ArrayCluster)"
      ],
      "execution_count": 195,
      "outputs": []
    },
    {
      "cell_type": "code",
      "metadata": {
        "colab": {
          "base_uri": "https://localhost:8080/",
          "height": 265
        },
        "id": "iMmxw7vEF76-",
        "outputId": "b0ee8be5-7fdb-4e79-e0a3-05e7ada2c114"
      },
      "source": [
        "plt.plot(ArrayCluster_paa.reshape(ArrayCluster_paa.shape[1], ArrayCluster_paa.shape[0]))\n",
        "plt.show()"
      ],
      "execution_count": 196,
      "outputs": [
        {
          "output_type": "display_data",
          "data": {
            "image/png": "[encoded data removed]",
            "text/plain": [
              "<Figure size 432x288 with 1 Axes>"
            ]
          },
          "metadata": {
            "tags": [],
            "needs_background": "light"
          }
        }
      ]
    },
    {
      "cell_type": "markdown",
      "metadata": {
        "id": "MW0GtzcZGFA2"
      },
      "source": [
        "segnare impostazioni del Kmeans con approccio Approximation based:"
      ]
    },
    {
      "cell_type": "code",
      "metadata": {
        "colab": {
          "base_uri": "https://localhost:8080/"
        },
        "id": "YchIB4xZGCae",
        "outputId": "f322ecec-420b-48e9-c59c-69efad155d4a"
      },
      "source": [
        "km = TimeSeriesKMeans(n_clusters=2, metric=\"euclidean\", max_iter=7)\n",
        "km.fit(ArrayCluster_paa)"
      ],
      "execution_count": 197,
      "outputs": [
        {
          "output_type": "execute_result",
          "data": {
            "text/plain": [
              "TimeSeriesKMeans(dtw_inertia=False, init='k-means++', max_iter=7,\n",
              "                 max_iter_barycenter=100, metric='euclidean',\n",
              "                 metric_params=None, n_clusters=2, n_init=1, n_jobs=None,\n",
              "                 random_state=None, tol=1e-06, verbose=0)"
            ]
          },
          "metadata": {
            "tags": []
          },
          "execution_count": 197
        }
      ]
    },
    {
      "cell_type": "code",
      "metadata": {
        "colab": {
          "base_uri": "https://localhost:8080/",
          "height": 265
        },
        "id": "6IkwUbPCGNrf",
        "outputId": "42778306-5543-4811-d46f-0096959f22ea"
      },
      "source": [
        "plt.plot(km.cluster_centers_.reshape(ArrayCluster_paa.shape[1], 2))\n",
        "plt.show()"
      ],
      "execution_count": 198,
      "outputs": [
        {
          "output_type": "display_data",
          "data": {
            "image/png": "[encoded data removed]",
            "text/plain": [
              "<Figure size 432x288 with 1 Axes>"
            ]
          },
          "metadata": {
            "tags": [],
            "needs_background": "light"
          }
        }
      ]
    },
    {
      "cell_type": "code",
      "metadata": {
        "colab": {
          "base_uri": "https://localhost:8080/"
        },
        "id": "PhWJyjmVGTE7",
        "outputId": "e9e3647d-9a94-495f-8e9f-92fae9d6b761"
      },
      "source": [
        "km.cluster_centers_.shape\n"
      ],
      "execution_count": 199,
      "outputs": [
        {
          "output_type": "execute_result",
          "data": {
            "text/plain": [
              "(2, 15, 1)"
            ]
          },
          "metadata": {
            "tags": []
          },
          "execution_count": 199
        }
      ]
    },
    {
      "cell_type": "code",
      "metadata": {
        "colab": {
          "base_uri": "https://localhost:8080/"
        },
        "id": "Y5YwF2v-GVGI",
        "outputId": "7c97e42c-2a75-44aa-8c96-79c8d20c9910"
      },
      "source": [
        "km.labels_\n"
      ],
      "execution_count": 200,
      "outputs": [
        {
          "output_type": "execute_result",
          "data": {
            "text/plain": [
              "array([1, 0, 0, 0, 0, 0, 0])"
            ]
          },
          "metadata": {
            "tags": []
          },
          "execution_count": 200
        }
      ]
    },
    {
      "cell_type": "code",
      "metadata": {
        "colab": {
          "base_uri": "https://localhost:8080/"
        },
        "id": "S-DAjeV_GWZr",
        "outputId": "454c6f89-3aa3-4767-a5ff-5ac24878c76c"
      },
      "source": [
        "km.inertia_\n"
      ],
      "execution_count": 201,
      "outputs": [
        {
          "output_type": "execute_result",
          "data": {
            "text/plain": [
              "0.06460215365138001"
            ]
          },
          "metadata": {
            "tags": []
          },
          "execution_count": 201
        }
      ]
    },
    {
      "cell_type": "markdown",
      "metadata": {
        "id": "NiG1rjQ-GYlb"
      },
      "source": [
        "provo altra metrica, segnare parametri usati:"
      ]
    },
    {
      "cell_type": "code",
      "metadata": {
        "colab": {
          "base_uri": "https://localhost:8080/"
        },
        "id": "0M1dd2kAGYPq",
        "outputId": "c5af5732-9893-41d2-db2d-aa11bd9213f2"
      },
      "source": [
        "km = TimeSeriesKMeans(n_clusters=2, metric=\"dtw\", max_iter=7)\n",
        "km.fit(ArrayCluster_paa)"
      ],
      "execution_count": 202,
      "outputs": [
        {
          "output_type": "execute_result",
          "data": {
            "text/plain": [
              "TimeSeriesKMeans(dtw_inertia=False, init='k-means++', max_iter=7,\n",
              "                 max_iter_barycenter=100, metric='dtw', metric_params=None,\n",
              "                 n_clusters=2, n_init=1, n_jobs=None, random_state=None,\n",
              "                 tol=1e-06, verbose=0)"
            ]
          },
          "metadata": {
            "tags": []
          },
          "execution_count": 202
        }
      ]
    },
    {
      "cell_type": "code",
      "metadata": {
        "colab": {
          "base_uri": "https://localhost:8080/",
          "height": 265
        },
        "id": "7ihiKOuFGgy1",
        "outputId": "1f217f51-fb6d-42e1-8dc4-9c83df59a082"
      },
      "source": [
        "plt.plot(km.cluster_centers_.reshape(ArrayCluster_paa.shape[1], 2))\n",
        "plt.show()"
      ],
      "execution_count": 203,
      "outputs": [
        {
          "output_type": "display_data",
          "data": {
            "image/png": "[encoded data removed]",
            "text/plain": [
              "<Figure size 432x288 with 1 Axes>"
            ]
          },
          "metadata": {
            "tags": [],
            "needs_background": "light"
          }
        }
      ]
    },
    {
      "cell_type": "code",
      "metadata": {
        "colab": {
          "base_uri": "https://localhost:8080/"
        },
        "id": "ndxEf1m9GmZ4",
        "outputId": "f24a87d3-6fed-44df-c2d8-41bbb86c04de"
      },
      "source": [
        "km.labels_\n"
      ],
      "execution_count": 204,
      "outputs": [
        {
          "output_type": "execute_result",
          "data": {
            "text/plain": [
              "array([1, 0, 0, 0, 0, 0, 0])"
            ]
          },
          "metadata": {
            "tags": []
          },
          "execution_count": 204
        }
      ]
    },
    {
      "cell_type": "code",
      "metadata": {
        "colab": {
          "base_uri": "https://localhost:8080/"
        },
        "id": "ydU_-oVYGn_e",
        "outputId": "bd812369-c7dd-4a15-d3fb-5627e3b5c3af"
      },
      "source": [
        "km.inertia_\n"
      ],
      "execution_count": 205,
      "outputs": [
        {
          "output_type": "execute_result",
          "data": {
            "text/plain": [
              "0.0422840997910788"
            ]
          },
          "metadata": {
            "tags": []
          },
          "execution_count": 205
        }
      ]
    },
    {
      "cell_type": "markdown",
      "metadata": {
        "id": "21pIQu75Gsoy"
      },
      "source": [
        "Discorso finale:\n",
        "Magari diciamo tutto quello che abbiamo provato senza stare a mettere tutti i grafici di ogni cosa, riportando le varie combinazioni di parametri, e magari potremmo fare una tabellina finale con tutti i valori di **inertia** e dire quale è stato il migliore e con quali paramentri (dovrebbe essere Approximation based con Kmeans, 2 clusters , metrica 'dtw' e maxiter=7) \n",
        "\n",
        "Vince chi ha inertia minore"
      ]
    }
  ]
}