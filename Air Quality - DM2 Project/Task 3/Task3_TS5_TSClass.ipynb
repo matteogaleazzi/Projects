{
  "nbformat": 4,
  "nbformat_minor": 0,
  "metadata": {
    "kernelspec": {
      "display_name": "Python 3",
      "language": "python",
      "name": "python3"
    },
    "language_info": {
      "codemirror_mode": {
        "name": "ipython",
        "version": 3
      },
      "file_extension": ".py",
      "mimetype": "text/x-python",
      "name": "python",
      "nbconvert_exporter": "python",
      "pygments_lexer": "ipython3",
      "version": "3.7.1"
    },
    "colab": {
      "name": "Task3_TS5_TSClass.ipynb",
      "provenance": [],
      "collapsed_sections": [],
      "toc_visible": true,
      "machine_shape": "hm"
    }
  },
  "cells": [
    {
      "cell_type": "markdown",
      "metadata": {
        "id": "NoKycV0dNakB"
      },
      "source": [
        "# **Classification**"
      ]
    },
    {
      "cell_type": "code",
      "metadata": {
        "id": "MF3AqR4dfB5m"
      },
      "source": [
        "%matplotlib inline\n",
        "import math\n",
        "import numpy as np\n",
        "import pandas as pd\n",
        "import scipy.stats as stats\n",
        "from sklearn import preprocessing\n",
        "import matplotlib.pyplot as plt\n",
        "import seaborn as sns\n",
        "\n",
        "from collections import defaultdict\n",
        "from scipy.stats.stats import pearsonr"
      ],
      "execution_count": null,
      "outputs": []
    },
    {
      "cell_type": "markdown",
      "metadata": {
        "id": "TV1QTvAANd0l"
      },
      "source": [
        "## Load Datasets"
      ]
    },
    {
      "cell_type": "code",
      "metadata": {
        "id": "nRmuvS1AfDr4"
      },
      "source": [
        "# script lettura dataset\n",
        "df = pd.read_csv('TrainingTSgrande.csv', sep = ',', skipinitialspace=True, keep_default_na=True)"
      ],
      "execution_count": null,
      "outputs": []
    },
    {
      "cell_type": "code",
      "metadata": {
        "id": "pulaI2gdGuXl"
      },
      "source": [
        "df_test1 = pd.read_csv('ValidateTSgrande.csv', sep = ',', skipinitialspace=True, keep_default_na=True)"
      ],
      "execution_count": null,
      "outputs": []
    },
    {
      "cell_type": "code",
      "metadata": {
        "id": "T1RhlqIJGz-_"
      },
      "source": [
        "df_test2 = pd.read_csv('TestTSgrande.csv', sep = ',', skipinitialspace=True, keep_default_na=True)"
      ],
      "execution_count": null,
      "outputs": []
    },
    {
      "cell_type": "code",
      "metadata": {
        "id": "0vpUgLxSGsYZ"
      },
      "source": [
        "df['DateTime'] = pd.to_datetime(df['DateTime'])\n",
        "df_test1['DateTime'] = pd.to_datetime(df_test1['DateTime'])\n",
        "df_test2['DateTime'] = pd.to_datetime(df_test2['DateTime'])"
      ],
      "execution_count": null,
      "outputs": []
    },
    {
      "cell_type": "markdown",
      "metadata": {
        "id": "o6DkkJu5HAQ4"
      },
      "source": [
        "## Data Preparation"
      ]
    },
    {
      "cell_type": "code",
      "metadata": {
        "colab": {
          "base_uri": "https://localhost:8080/",
          "height": 419
        },
        "id": "l85SwYmXG_oE",
        "outputId": "a85f2604-82de-431d-e4f0-5d5900628d09"
      },
      "source": [
        "df['Weekday']=df['DateTime'].apply(lambda x:x.weekday())\n",
        "df_test1['Weekday']=df_test1['DateTime'].apply(lambda x:x.weekday())\n",
        "df_test2['Weekday']=df_test2['DateTime'].apply(lambda x:x.weekday())\n",
        "\n",
        "df"
      ],
      "execution_count": null,
      "outputs": [
        {
          "output_type": "execute_result",
          "data": {
            "text/html": [
              "<div>\n",
              "<style scoped>\n",
              "    .dataframe tbody tr th:only-of-type {\n",
              "        vertical-align: middle;\n",
              "    }\n",
              "\n",
              "    .dataframe tbody tr th {\n",
              "        vertical-align: top;\n",
              "    }\n",
              "\n",
              "    .dataframe thead th {\n",
              "        text-align: right;\n",
              "    }\n",
              "</style>\n",
              "<table border=\"1\" class=\"dataframe\">\n",
              "  <thead>\n",
              "    <tr style=\"text-align: right;\">\n",
              "      <th></th>\n",
              "      <th>DateTime</th>\n",
              "      <th>CO(GT)</th>\n",
              "      <th>PT08.S1(CO)</th>\n",
              "      <th>NOx(GT)</th>\n",
              "      <th>NO2(GT)</th>\n",
              "      <th>PT08.S4(NO2)</th>\n",
              "      <th>T</th>\n",
              "      <th>Weekend</th>\n",
              "      <th>Weekday</th>\n",
              "    </tr>\n",
              "  </thead>\n",
              "  <tbody>\n",
              "    <tr>\n",
              "      <th>0</th>\n",
              "      <td>2004-10-23 22:00:00</td>\n",
              "      <td>2.60000</td>\n",
              "      <td>1297.0</td>\n",
              "      <td>283.000000</td>\n",
              "      <td>89.000000</td>\n",
              "      <td>1725.0</td>\n",
              "      <td>20.3</td>\n",
              "      <td>1</td>\n",
              "      <td>5</td>\n",
              "    </tr>\n",
              "    <tr>\n",
              "      <th>1</th>\n",
              "      <td>2004-09-03 02:00:00</td>\n",
              "      <td>2.15275</td>\n",
              "      <td>944.0</td>\n",
              "      <td>246.896735</td>\n",
              "      <td>113.091251</td>\n",
              "      <td>1407.0</td>\n",
              "      <td>24.0</td>\n",
              "      <td>0</td>\n",
              "      <td>4</td>\n",
              "    </tr>\n",
              "    <tr>\n",
              "      <th>2</th>\n",
              "      <td>2004-10-07 20:00:00</td>\n",
              "      <td>7.00000</td>\n",
              "      <td>1757.0</td>\n",
              "      <td>669.000000</td>\n",
              "      <td>117.000000</td>\n",
              "      <td>2280.0</td>\n",
              "      <td>23.2</td>\n",
              "      <td>0</td>\n",
              "      <td>3</td>\n",
              "    </tr>\n",
              "    <tr>\n",
              "      <th>3</th>\n",
              "      <td>2004-10-20 07:00:00</td>\n",
              "      <td>2.15275</td>\n",
              "      <td>1522.0</td>\n",
              "      <td>246.896735</td>\n",
              "      <td>113.091251</td>\n",
              "      <td>2043.0</td>\n",
              "      <td>18.8</td>\n",
              "      <td>0</td>\n",
              "      <td>2</td>\n",
              "    </tr>\n",
              "    <tr>\n",
              "      <th>4</th>\n",
              "      <td>2004-10-22 06:00:00</td>\n",
              "      <td>1.00000</td>\n",
              "      <td>982.0</td>\n",
              "      <td>185.000000</td>\n",
              "      <td>55.000000</td>\n",
              "      <td>1435.0</td>\n",
              "      <td>19.8</td>\n",
              "      <td>0</td>\n",
              "      <td>4</td>\n",
              "    </tr>\n",
              "    <tr>\n",
              "      <th>...</th>\n",
              "      <td>...</td>\n",
              "      <td>...</td>\n",
              "      <td>...</td>\n",
              "      <td>...</td>\n",
              "      <td>...</td>\n",
              "      <td>...</td>\n",
              "      <td>...</td>\n",
              "      <td>...</td>\n",
              "      <td>...</td>\n",
              "    </tr>\n",
              "    <tr>\n",
              "      <th>1751</th>\n",
              "      <td>2004-10-26 17:00:00</td>\n",
              "      <td>8.40000</td>\n",
              "      <td>1822.0</td>\n",
              "      <td>918.000000</td>\n",
              "      <td>187.000000</td>\n",
              "      <td>2641.0</td>\n",
              "      <td>23.2</td>\n",
              "      <td>0</td>\n",
              "      <td>1</td>\n",
              "    </tr>\n",
              "    <tr>\n",
              "      <th>1752</th>\n",
              "      <td>2004-10-16 03:00:00</td>\n",
              "      <td>2.15275</td>\n",
              "      <td>916.0</td>\n",
              "      <td>246.896735</td>\n",
              "      <td>113.091251</td>\n",
              "      <td>1287.0</td>\n",
              "      <td>14.5</td>\n",
              "      <td>1</td>\n",
              "      <td>5</td>\n",
              "    </tr>\n",
              "    <tr>\n",
              "      <th>1753</th>\n",
              "      <td>2004-10-08 09:00:00</td>\n",
              "      <td>3.90000</td>\n",
              "      <td>1473.0</td>\n",
              "      <td>557.000000</td>\n",
              "      <td>87.000000</td>\n",
              "      <td>1984.0</td>\n",
              "      <td>21.1</td>\n",
              "      <td>0</td>\n",
              "      <td>4</td>\n",
              "    </tr>\n",
              "    <tr>\n",
              "      <th>1754</th>\n",
              "      <td>2004-10-27 05:00:00</td>\n",
              "      <td>0.70000</td>\n",
              "      <td>967.0</td>\n",
              "      <td>132.000000</td>\n",
              "      <td>56.000000</td>\n",
              "      <td>1416.0</td>\n",
              "      <td>16.8</td>\n",
              "      <td>0</td>\n",
              "      <td>2</td>\n",
              "    </tr>\n",
              "    <tr>\n",
              "      <th>1755</th>\n",
              "      <td>2004-12-02 13:00:00</td>\n",
              "      <td>3.40000</td>\n",
              "      <td>1295.0</td>\n",
              "      <td>668.000000</td>\n",
              "      <td>128.000000</td>\n",
              "      <td>1579.0</td>\n",
              "      <td>16.4</td>\n",
              "      <td>0</td>\n",
              "      <td>3</td>\n",
              "    </tr>\n",
              "  </tbody>\n",
              "</table>\n",
              "<p>1756 rows × 9 columns</p>\n",
              "</div>"
            ],
            "text/plain": [
              "                DateTime   CO(GT)  PT08.S1(CO)  ...     T  Weekend  Weekday\n",
              "0    2004-10-23 22:00:00  2.60000       1297.0  ...  20.3        1        5\n",
              "1    2004-09-03 02:00:00  2.15275        944.0  ...  24.0        0        4\n",
              "2    2004-10-07 20:00:00  7.00000       1757.0  ...  23.2        0        3\n",
              "3    2004-10-20 07:00:00  2.15275       1522.0  ...  18.8        0        2\n",
              "4    2004-10-22 06:00:00  1.00000        982.0  ...  19.8        0        4\n",
              "...                  ...      ...          ...  ...   ...      ...      ...\n",
              "1751 2004-10-26 17:00:00  8.40000       1822.0  ...  23.2        0        1\n",
              "1752 2004-10-16 03:00:00  2.15275        916.0  ...  14.5        1        5\n",
              "1753 2004-10-08 09:00:00  3.90000       1473.0  ...  21.1        0        4\n",
              "1754 2004-10-27 05:00:00  0.70000        967.0  ...  16.8        0        2\n",
              "1755 2004-12-02 13:00:00  3.40000       1295.0  ...  16.4        0        3\n",
              "\n",
              "[1756 rows x 9 columns]"
            ]
          },
          "metadata": {
            "tags": []
          },
          "execution_count": 127
        }
      ]
    },
    {
      "cell_type": "code",
      "metadata": {
        "id": "hzAF6sgPHKbL"
      },
      "source": [
        "day1=df[['DateTime','CO(GT)','Weekend']][df['Weekday']==0].copy()\n",
        "day2=df[['DateTime','CO(GT)','Weekend']][df['Weekday']==1].copy()\n",
        "day3=df[['DateTime','CO(GT)','Weekend']][df['Weekday']==2].copy()\n",
        "day4=df[['DateTime','CO(GT)','Weekend']][df['Weekday']==3].copy()\n",
        "day5=df[['DateTime','CO(GT)','Weekend']][df['Weekday']==4].copy()\n",
        "day6=df[['DateTime','CO(GT)','Weekend']][df['Weekday']==5].copy()\n",
        "day7=df[['DateTime','CO(GT)','Weekend']][df['Weekday']==6].copy()\n",
        "    \n",
        "weekdays_train = [day1,day2,day3,day4,day5,day6,day7]\n",
        "\n",
        "day1_t1=df_test1[['DateTime','CO(GT)','Weekend']][df_test1['Weekday']==0].copy()\n",
        "day2_t1=df_test1[['DateTime','CO(GT)','Weekend']][df_test1['Weekday']==1].copy()  \n",
        "day3_t1=df_test1[['DateTime','CO(GT)','Weekend']][df_test1['Weekday']==2].copy()\n",
        "day4_t1=df_test1[['DateTime','CO(GT)','Weekend']][df_test1['Weekday']==3].copy()\n",
        "day5_t1=df_test1[['DateTime','CO(GT)','Weekend']][df_test1['Weekday']==4].copy()\n",
        "day6_t1=df_test1[['DateTime','CO(GT)','Weekend']][df_test1['Weekday']==5].copy()\n",
        "day7_t1=df_test1[['DateTime','CO(GT)','Weekend']][df_test1['Weekday']==6].copy()\n",
        "    \n",
        "weekdays_test1 = [day1_t1,day2_t1,day3_t1,day4_t1,day5_t1,day6_t1,day7_t1]\n",
        "\n",
        "day1_t2=df_test2[['DateTime','CO(GT)','Weekend']][df_test2['Weekday']==0].copy()\n",
        "day2_t2=df_test2[['DateTime','CO(GT)','Weekend']][df_test2['Weekday']==1].copy() \n",
        "day3_t2=df_test2[['DateTime','CO(GT)','Weekend']][df_test2['Weekday']==2].copy() \n",
        "day4_t2=df_test2[['DateTime','CO(GT)','Weekend']][df_test2['Weekday']==3].copy()\n",
        "day5_t2=df_test2[['DateTime','CO(GT)','Weekend']][df_test2['Weekday']==4].copy()\n",
        "day6_t2=df_test2[['DateTime','CO(GT)','Weekend']][df_test2['Weekday']==5].copy()\n",
        "day7_t2=df_test2[['DateTime','CO(GT)','Weekend']][df_test2['Weekday']==6].copy()\n",
        "    \n",
        "weekdays_test2 = [day1_t2,day2_t2,day3_t2,day4_t2,day5_t2,day6_t2,day7_t2]"
      ],
      "execution_count": null,
      "outputs": []
    },
    {
      "cell_type": "code",
      "metadata": {
        "id": "1axh_No4IAR1"
      },
      "source": [
        "day_l= []\n",
        "day0_l=[]\n",
        "day_t1_l=[]\n",
        "day_t2_l= []\n",
        "for day in weekdays_train:\n",
        "    day_copy =day.copy()\n",
        "    day_copy.reset_index(drop=True, inplace=True)\n",
        "    while (len(day_copy)>= 60):\n",
        "        day_copy['time']=day_copy['DateTime'].apply(lambda x: str(x)[11:19]) \n",
        "        day_copy['time']=pd.to_datetime(day_copy['time'], format='%H:%M:%S') \n",
        "        ts=day_copy.sample(60)\n",
        "        ts.sort_values('time', inplace=True)\n",
        "        day_l.append(ts)\n",
        "        day0_l.append(ts)\n",
        "        day_copy.drop(ts.index, axis=0, inplace=True)\n",
        "        \n",
        "for day in weekdays_test1:\n",
        "    day_copy =day.copy()\n",
        "    day_copy.reset_index(drop=True, inplace=True)\n",
        "    while (len(day_copy)>= 60):\n",
        "        day_copy['time']=day_copy['DateTime'].apply(lambda x: str(x)[11:19])\n",
        "        day_copy['time']=pd.to_datetime(day_copy['time'], format='%H:%M:%S')  \n",
        "        ts=day_copy.sample(60)\n",
        "        ts.sort_values('time', inplace=True)\n",
        "        day_l.append(ts)\n",
        "        day_t1_l.append(ts)\n",
        "        day_copy.drop(ts.index, axis=0, inplace=True) \n",
        "\n",
        "for day in weekdays_test2:\n",
        "    day_copy =day.copy()\n",
        "    day_copy.reset_index(drop=True, inplace=True)\n",
        "    while (len(day_copy)>= 60):\n",
        "        day_copy['time']=day_copy['DateTime'].apply(lambda x: str(x)[11:19]) \n",
        "        day_copy['time']=pd.to_datetime(day_copy['time'], format='%H:%M:%S') \n",
        "        ts=day_copy.sample(60)\n",
        "        ts.sort_values('time', inplace=True) \n",
        "        day_l.append(ts)\n",
        "        day_t2_l.append(ts)\n",
        "        day_copy.drop(ts.index, axis=0, inplace=True)"
      ],
      "execution_count": null,
      "outputs": []
    },
    {
      "cell_type": "code",
      "metadata": {
        "colab": {
          "base_uri": "https://localhost:8080/"
        },
        "id": "pSnMFoIbIIqr",
        "outputId": "c327aed6-f3ae-48cd-b2fe-b2848a0d0b50"
      },
      "source": [
        "split = 2 \n",
        "part_size = 60 // split\n",
        "day0_split = []\n",
        "day_t1_split = []\n",
        "day_t2_split = []\n",
        "\n",
        "for ts in day0_l:\n",
        "    copy= ts.copy()\n",
        "    for i in range(2):\n",
        "        day_div = copy[part_size*i:part_size*(i+1)]\n",
        "        day_div['divide'] = i    \n",
        "        day0_split.append(day_div)\n",
        "        \n",
        "for ts in day_t1_l:\n",
        "    copy= ts.copy()\n",
        "    for i in range(2):\n",
        "        day_div = copy[part_size*i:part_size*(i+1)]\n",
        "        day_div['divide'] = i\n",
        "        day_t1_split.append(day_div)\n",
        "    \n",
        "for ts in day_t2_l:\n",
        "    copy= ts.copy()\n",
        "    for i in range(2):\n",
        "        day_div = copy[part_size*i:part_size*(i+1)]\n",
        "        day_div['divide'] = i\n",
        "        day_t2_split.append(day_div)\n",
        "\n",
        "for day in day0_split:\n",
        "    day.reset_index(drop=True, inplace=True) \n",
        "for day in day_t1_split:\n",
        "    day.reset_index(drop=True, inplace=True)  \n",
        "for day in day_t2_split:\n",
        "    day.reset_index(drop=True, inplace=True)"
      ],
      "execution_count": null,
      "outputs": [
        {
          "output_type": "stream",
          "text": [
            "/usr/local/lib/python3.6/dist-packages/ipykernel_launcher.py:11: SettingWithCopyWarning: \n",
            "A value is trying to be set on a copy of a slice from a DataFrame.\n",
            "Try using .loc[row_indexer,col_indexer] = value instead\n",
            "\n",
            "See the caveats in the documentation: https://pandas.pydata.org/pandas-docs/stable/user_guide/indexing.html#returning-a-view-versus-a-copy\n",
            "  # This is added back by InteractiveShellApp.init_path()\n",
            "/usr/local/lib/python3.6/dist-packages/ipykernel_launcher.py:18: SettingWithCopyWarning: \n",
            "A value is trying to be set on a copy of a slice from a DataFrame.\n",
            "Try using .loc[row_indexer,col_indexer] = value instead\n",
            "\n",
            "See the caveats in the documentation: https://pandas.pydata.org/pandas-docs/stable/user_guide/indexing.html#returning-a-view-versus-a-copy\n",
            "/usr/local/lib/python3.6/dist-packages/ipykernel_launcher.py:25: SettingWithCopyWarning: \n",
            "A value is trying to be set on a copy of a slice from a DataFrame.\n",
            "Try using .loc[row_indexer,col_indexer] = value instead\n",
            "\n",
            "See the caveats in the documentation: https://pandas.pydata.org/pandas-docs/stable/user_guide/indexing.html#returning-a-view-versus-a-copy\n"
          ],
          "name": "stderr"
        }
      ]
    },
    {
      "cell_type": "markdown",
      "metadata": {
        "id": "VdiTduT4Mh-R"
      },
      "source": [
        "NOTA: dato che influenzati dalla presenza di Weekend come abbiamo visto nei classificatori vogliamo usare i valori di CO(GT) per predirre se è orario di ufficio oppure notte"
      ]
    },
    {
      "cell_type": "code",
      "metadata": {
        "colab": {
          "base_uri": "https://localhost:8080/",
          "height": 717
        },
        "id": "lJdyBo38ILQz",
        "outputId": "963aa32e-0fa0-4bad-e4ae-521d08d890bc"
      },
      "source": [
        "ts_l= []\n",
        "ts_arr = []\n",
        "\n",
        "for i in day0_split:\n",
        "    ts = i['CO(GT)'].copy()\n",
        "    ts_l.append(ts)\n",
        "\n",
        "ts_size = len(day0_split[1])\n",
        "for i in ts_l:\n",
        "    ts_arr.append(np.array(i).reshape(ts_size))\n",
        "X_train = np.array(ts_arr)\n",
        "\n",
        "def divide_day(ts): \n",
        "     if ts['DateTime'][ts.index[ts_size//2]].hour <= 19 and ts['DateTime'][ts.index[ts_size//2]].hour >= 7:\n",
        "        return 'Office Hour'\n",
        "     else:\n",
        "        return 'Night'\n",
        "    \n",
        "labels = np.array([divide_day(i) for i in day0_split])\n",
        "\n",
        "y_train = preprocessing.LabelEncoder().fit_transform(labels)\n",
        "\n",
        "plt.figure(figsize=(12,12))\n",
        "\n",
        "for i, classe in enumerate(['Office Hour', 'Night']):\n",
        "    plt.subplot(2, 1, i + 1)\n",
        "    for x in X_train[labels == classe]:\n",
        "        plt.plot(x, color='C0',linewidth=0.9)\n",
        "    plt.title('Classe: {}'.format(classe), fontsize=14)\n",
        "plt.subplots_adjust(hspace=0.5)\n",
        "plt.show()"
      ],
      "execution_count": null,
      "outputs": [
        {
          "output_type": "display_data",
          "data": {
            "image/png": "[encoded data removed]",
            "text/plain": [
              "<Figure size 864x864 with 2 Axes>"
            ]
          },
          "metadata": {
            "tags": [],
            "needs_background": "light"
          }
        }
      ]
    },
    {
      "cell_type": "code",
      "metadata": {
        "id": "CCYUUHEgNgc9"
      },
      "source": [
        "ts_l = []\n",
        "ts_arr = []\n",
        "\n",
        "for i in day_t1_split:\n",
        "    ts = i['CO(GT)'].copy()\n",
        "    ts_l.append(ts)\n",
        "    ts_size = len(day_t1_split[1])\n",
        "for i in ts_l:\n",
        "    ts_arr.append(np.array(i).reshape(ts_size))\n",
        "\n",
        "X_test1 = np.array(ts_arr)\n",
        "y_test1 = preprocessing.LabelEncoder().fit_transform(labels)"
      ],
      "execution_count": null,
      "outputs": []
    },
    {
      "cell_type": "code",
      "metadata": {
        "id": "E-7Jg0L1NsAf"
      },
      "source": [
        "ts_l = []\n",
        "ts_arr = []\n",
        "\n",
        "for i in day_t2_split:\n",
        "    ts = i['CO(GT)'].copy()\n",
        "    ts_l.append(ts)\n",
        "    ts_size = len(day_t2_split[1])\n",
        "for i in ts_l:\n",
        "    ts_arr.append(np.array(i).reshape(ts_size))\n",
        "    \n",
        "X_test2 = np.array(ts_arr)\n",
        "y_test2 = preprocessing.LabelEncoder().fit_transform(labels)"
      ],
      "execution_count": null,
      "outputs": []
    },
    {
      "cell_type": "code",
      "metadata": {
        "colab": {
          "base_uri": "https://localhost:8080/"
        },
        "id": "U6hIsYj4N6P7",
        "outputId": "77a7559d-d3f5-4a96-e39d-d9de1288a964"
      },
      "source": [
        "y_test1.shape, X_test1.shape"
      ],
      "execution_count": null,
      "outputs": [
        {
          "output_type": "execute_result",
          "data": {
            "text/plain": [
              "((52,), (14, 30))"
            ]
          },
          "metadata": {
            "tags": []
          },
          "execution_count": 136
        }
      ]
    },
    {
      "cell_type": "code",
      "metadata": {
        "colab": {
          "base_uri": "https://localhost:8080/"
        },
        "id": "-WYewepXN8p7",
        "outputId": "c37ec398-f7fa-4341-94e5-73554aff803d"
      },
      "source": [
        "X_train.shape, y_train.shape\n"
      ],
      "execution_count": null,
      "outputs": [
        {
          "output_type": "execute_result",
          "data": {
            "text/plain": [
              "((52, 30), (52,))"
            ]
          },
          "metadata": {
            "tags": []
          },
          "execution_count": 137
        }
      ]
    },
    {
      "cell_type": "code",
      "metadata": {
        "colab": {
          "base_uri": "https://localhost:8080/"
        },
        "id": "1tEqQX7tN-ut",
        "outputId": "5334de97-054a-4443-a369-4f409557b3ca"
      },
      "source": [
        "X_test2.shape, y_test2.shape\n"
      ],
      "execution_count": null,
      "outputs": [
        {
          "output_type": "execute_result",
          "data": {
            "text/plain": [
              "((14, 30), (52,))"
            ]
          },
          "metadata": {
            "tags": []
          },
          "execution_count": 138
        }
      ]
    },
    {
      "cell_type": "markdown",
      "metadata": {
        "id": "m0P7Z0W5OcDN"
      },
      "source": [
        "## **Classification Task**"
      ]
    },
    {
      "cell_type": "markdown",
      "metadata": {
        "id": "PS3oY2LeOd4p"
      },
      "source": [
        "according to our purposes, we want try to determine if a time series represented a office hour or Night. The attribute we will rely on is CO(GT)\n",
        "\n",
        "The classification task will carry out trogh the analysis of different techqnieus:\n",
        "\n",
        "Shapelet discovery\n",
        "Feature based\n",
        "KNeighborsCalssifiers\n",
        "DecisionTree\n",
        "CNN\n",
        "LSTM (keras)\n",
        "vediamo se le facciamo tutte, questa è idea base per poter confrontare i risultati"
      ]
    },
    {
      "cell_type": "markdown",
      "metadata": {
        "id": "NJB3m2MOOOGn"
      },
      "source": [
        "### Shapelet Discovery"
      ]
    },
    {
      "cell_type": "code",
      "metadata": {
        "colab": {
          "base_uri": "https://localhost:8080/"
        },
        "id": "fofSyeS4OUts",
        "outputId": "5d164623-37e1-488a-e041-6db452d106b2"
      },
      "source": [
        "pip install tslearn"
      ],
      "execution_count": null,
      "outputs": [
        {
          "output_type": "stream",
          "text": [
            "Requirement already satisfied: tslearn in /usr/local/lib/python3.6/dist-packages (0.4.1)\n",
            "Requirement already satisfied: Cython in /usr/local/lib/python3.6/dist-packages (from tslearn) (0.29.21)\n",
            "Requirement already satisfied: scikit-learn in /usr/local/lib/python3.6/dist-packages (from tslearn) (0.22.2.post1)\n",
            "Requirement already satisfied: numpy in /usr/local/lib/python3.6/dist-packages (from tslearn) (1.18.5)\n",
            "Requirement already satisfied: scipy in /usr/local/lib/python3.6/dist-packages (from tslearn) (1.4.1)\n",
            "Requirement already satisfied: numba in /usr/local/lib/python3.6/dist-packages (from tslearn) (0.48.0)\n",
            "Requirement already satisfied: joblib in /usr/local/lib/python3.6/dist-packages (from tslearn) (0.17.0)\n",
            "Requirement already satisfied: setuptools in /usr/local/lib/python3.6/dist-packages (from numba->tslearn) (50.3.2)\n",
            "Requirement already satisfied: llvmlite<0.32.0,>=0.31.0dev0 in /usr/local/lib/python3.6/dist-packages (from numba->tslearn) (0.31.0)\n"
          ],
          "name": "stdout"
        }
      ]
    },
    {
      "cell_type": "code",
      "metadata": {
        "id": "uj9Ch8OcOQuS"
      },
      "source": [
        "from keras.optimizers import Adagrad\n",
        "from tslearn.shapelets import ShapeletModel\n",
        "from tslearn.shapelets import grabocka_params_to_shapelet_size_dict\n",
        "\n",
        "from tslearn.preprocessing import TimeSeriesScalerMinMax\n",
        "from sklearn.model_selection import train_test_split, cross_val_score \n",
        "\n",
        "from sklearn.metrics import accuracy_score, f1_score, classification_report\n",
        "from sklearn.metrics import roc_curve, auc, roc_auc_score"
      ],
      "execution_count": null,
      "outputs": []
    },
    {
      "cell_type": "code",
      "metadata": {
        "colab": {
          "base_uri": "https://localhost:8080/"
        },
        "id": "_V5qI8G-OkUt",
        "outputId": "03cb1b7e-c2a2-4b46-e509-7e1a7aa8d727"
      },
      "source": [
        "n_ts, ts_sz = X_train.shape\n",
        "n_classes = len(set(y_train))\n",
        "\n",
        "# Set the number of shapelets per size as done in the original paper\n",
        "shapelet_sizes = grabocka_params_to_shapelet_size_dict(n_ts=n_ts,\n",
        "                                                       ts_sz=ts_sz,\n",
        "                                                       n_classes=n_classes,\n",
        "                                                       l=0.1,\n",
        "                                                       r=1)\n",
        "\n",
        "print('n_ts', n_ts)\n",
        "print('ts_sz', ts_sz)\n",
        "print('n_classes', n_classes)\n",
        "print('shapelet_sizes', shapelet_sizes)"
      ],
      "execution_count": null,
      "outputs": [
        {
          "output_type": "stream",
          "text": [
            "n_ts 52\n",
            "ts_sz 30\n",
            "n_classes 2\n",
            "shapelet_sizes {3: 3}\n"
          ],
          "name": "stdout"
        }
      ]
    },
    {
      "cell_type": "code",
      "metadata": {
        "colab": {
          "base_uri": "https://localhost:8080/",
          "height": 180
        },
        "id": "Cyp3ukhsOnqm",
        "outputId": "0d76c1e1-f18d-46e5-8a46-f2fcd5403a24"
      },
      "source": [
        "keys = sorted(shapelet_sizes.keys())\n",
        "# shapelet_sizes[keys]"
      ],
      "execution_count": null,
      "outputs": [
        {
          "output_type": "error",
          "ename": "TypeError",
          "evalue": "ignored",
          "traceback": [
            "\u001b[0;31m---------------------------------------------------------------------------\u001b[0m",
            "\u001b[0;31mTypeError\u001b[0m                                 Traceback (most recent call last)",
            "\u001b[0;32m<ipython-input-143-53b217ca7e3d>\u001b[0m in \u001b[0;36m<module>\u001b[0;34m()\u001b[0m\n\u001b[1;32m      1\u001b[0m \u001b[0mkeys\u001b[0m \u001b[0;34m=\u001b[0m \u001b[0msorted\u001b[0m\u001b[0;34m(\u001b[0m\u001b[0mshapelet_sizes\u001b[0m\u001b[0;34m.\u001b[0m\u001b[0mkeys\u001b[0m\u001b[0;34m(\u001b[0m\u001b[0;34m)\u001b[0m\u001b[0;34m)\u001b[0m\u001b[0;34m\u001b[0m\u001b[0;34m\u001b[0m\u001b[0m\n\u001b[0;32m----> 2\u001b[0;31m \u001b[0mshapelet_sizes\u001b[0m\u001b[0;34m[\u001b[0m\u001b[0mkeys\u001b[0m\u001b[0;34m]\u001b[0m\u001b[0;34m\u001b[0m\u001b[0;34m\u001b[0m\u001b[0m\n\u001b[0m",
            "\u001b[0;31mTypeError\u001b[0m: unhashable type: 'list'"
          ]
        }
      ]
    },
    {
      "cell_type": "code",
      "metadata": {
        "colab": {
          "base_uri": "https://localhost:8080/"
        },
        "id": "3oupuE99Oubx",
        "outputId": "1c79996e-909f-42e2-ecf7-7e0968f4e5a0"
      },
      "source": [
        "# Define the model using parameters provided by the authors (except that we use fewer iterations here)\n",
        "shp_clf = ShapeletModel(n_shapelets_per_size=shapelet_sizes,\n",
        "                        optimizer=\"sgd\",\n",
        "                        weight_regularizer=.01,\n",
        "                        max_iter=100,\n",
        "                        verbose=1)"
      ],
      "execution_count": null,
      "outputs": [
        {
          "output_type": "stream",
          "text": [
            "/usr/local/lib/python3.6/dist-packages/tslearn/shapelets.py:363: FutureWarning: The default value for 'scale' is set to False in version 0.4 to ensure backward compatibility, but is likely to change in a future version.\n",
            "  FutureWarning)\n"
          ],
          "name": "stderr"
        }
      ]
    },
    {
      "cell_type": "code",
      "metadata": {
        "colab": {
          "base_uri": "https://localhost:8080/"
        },
        "id": "LnBVqLhbOyNU",
        "outputId": "f987a981-4c6f-4bef-a231-d06b5f955a84"
      },
      "source": [
        "shp_clf.fit(X_train, y_train)"
      ],
      "execution_count": null,
      "outputs": [
        {
          "output_type": "stream",
          "text": [
            "Epoch 1/100\n",
            "1/1 [==============================] - 0s 2ms/step - loss: 0.7997 - binary_accuracy: 0.5962 - binary_crossentropy: 0.7927\n",
            "Epoch 2/100\n",
            "1/1 [==============================] - 0s 2ms/step - loss: 0.7988 - binary_accuracy: 0.5962 - binary_crossentropy: 0.7918\n",
            "Epoch 3/100\n",
            "1/1 [==============================] - 0s 1ms/step - loss: 0.7979 - binary_accuracy: 0.5962 - binary_crossentropy: 0.7909\n",
            "Epoch 4/100\n",
            "1/1 [==============================] - 0s 2ms/step - loss: 0.7970 - binary_accuracy: 0.5962 - binary_crossentropy: 0.7901\n",
            "Epoch 5/100\n",
            "1/1 [==============================] - 0s 4ms/step - loss: 0.7961 - binary_accuracy: 0.5962 - binary_crossentropy: 0.7892\n",
            "Epoch 6/100\n",
            "1/1 [==============================] - 0s 1ms/step - loss: 0.7952 - binary_accuracy: 0.5962 - binary_crossentropy: 0.7883\n",
            "Epoch 7/100\n",
            "1/1 [==============================] - 0s 2ms/step - loss: 0.7943 - binary_accuracy: 0.5962 - binary_crossentropy: 0.7875\n",
            "Epoch 8/100\n",
            "1/1 [==============================] - 0s 1ms/step - loss: 0.7934 - binary_accuracy: 0.5962 - binary_crossentropy: 0.7866\n",
            "Epoch 9/100\n",
            "1/1 [==============================] - 0s 5ms/step - loss: 0.7926 - binary_accuracy: 0.5962 - binary_crossentropy: 0.7858\n",
            "Epoch 10/100\n",
            "1/1 [==============================] - 0s 2ms/step - loss: 0.7917 - binary_accuracy: 0.5769 - binary_crossentropy: 0.7850\n",
            "Epoch 11/100\n",
            "1/1 [==============================] - 0s 1ms/step - loss: 0.7909 - binary_accuracy: 0.5769 - binary_crossentropy: 0.7842\n",
            "Epoch 12/100\n",
            "1/1 [==============================] - 0s 1ms/step - loss: 0.7900 - binary_accuracy: 0.5769 - binary_crossentropy: 0.7834\n",
            "Epoch 13/100\n",
            "1/1 [==============================] - 0s 2ms/step - loss: 0.7892 - binary_accuracy: 0.5769 - binary_crossentropy: 0.7826\n",
            "Epoch 14/100\n",
            "1/1 [==============================] - 0s 1ms/step - loss: 0.7884 - binary_accuracy: 0.5769 - binary_crossentropy: 0.7818\n",
            "Epoch 15/100\n",
            "1/1 [==============================] - 0s 1ms/step - loss: 0.7875 - binary_accuracy: 0.5769 - binary_crossentropy: 0.7810\n",
            "Epoch 16/100\n",
            "1/1 [==============================] - 0s 2ms/step - loss: 0.7867 - binary_accuracy: 0.5769 - binary_crossentropy: 0.7802\n",
            "Epoch 17/100\n",
            "1/1 [==============================] - 0s 961us/step - loss: 0.7859 - binary_accuracy: 0.5769 - binary_crossentropy: 0.7794\n",
            "Epoch 18/100\n",
            "1/1 [==============================] - 0s 978us/step - loss: 0.7851 - binary_accuracy: 0.5769 - binary_crossentropy: 0.7786\n",
            "Epoch 19/100\n",
            "1/1 [==============================] - 0s 1ms/step - loss: 0.7843 - binary_accuracy: 0.5769 - binary_crossentropy: 0.7779\n",
            "Epoch 20/100\n",
            "1/1 [==============================] - 0s 1ms/step - loss: 0.7836 - binary_accuracy: 0.5769 - binary_crossentropy: 0.7771\n",
            "Epoch 21/100\n",
            "1/1 [==============================] - 0s 1ms/step - loss: 0.7828 - binary_accuracy: 0.5769 - binary_crossentropy: 0.7764\n",
            "Epoch 22/100\n",
            "1/1 [==============================] - 0s 1ms/step - loss: 0.7820 - binary_accuracy: 0.5769 - binary_crossentropy: 0.7756\n",
            "Epoch 23/100\n",
            "1/1 [==============================] - 0s 2ms/step - loss: 0.7812 - binary_accuracy: 0.5769 - binary_crossentropy: 0.7749\n",
            "Epoch 24/100\n",
            "1/1 [==============================] - 0s 1ms/step - loss: 0.7805 - binary_accuracy: 0.5769 - binary_crossentropy: 0.7742\n",
            "Epoch 25/100\n",
            "1/1 [==============================] - 0s 1ms/step - loss: 0.7797 - binary_accuracy: 0.5769 - binary_crossentropy: 0.7735\n",
            "Epoch 26/100\n",
            "1/1 [==============================] - 0s 1ms/step - loss: 0.7790 - binary_accuracy: 0.5577 - binary_crossentropy: 0.7727\n",
            "Epoch 27/100\n",
            "1/1 [==============================] - 0s 2ms/step - loss: 0.7783 - binary_accuracy: 0.5577 - binary_crossentropy: 0.7720\n",
            "Epoch 28/100\n",
            "1/1 [==============================] - 0s 1ms/step - loss: 0.7775 - binary_accuracy: 0.5577 - binary_crossentropy: 0.7713\n",
            "Epoch 29/100\n",
            "1/1 [==============================] - 0s 2ms/step - loss: 0.7768 - binary_accuracy: 0.5577 - binary_crossentropy: 0.7706\n",
            "Epoch 30/100\n",
            "1/1 [==============================] - 0s 1ms/step - loss: 0.7761 - binary_accuracy: 0.5577 - binary_crossentropy: 0.7700\n",
            "Epoch 31/100\n",
            "1/1 [==============================] - 0s 3ms/step - loss: 0.7754 - binary_accuracy: 0.5577 - binary_crossentropy: 0.7693\n",
            "Epoch 32/100\n",
            "1/1 [==============================] - 0s 1ms/step - loss: 0.7747 - binary_accuracy: 0.5577 - binary_crossentropy: 0.7686\n",
            "Epoch 33/100\n",
            "1/1 [==============================] - 0s 1ms/step - loss: 0.7740 - binary_accuracy: 0.5577 - binary_crossentropy: 0.7679\n",
            "Epoch 34/100\n",
            "1/1 [==============================] - 0s 1ms/step - loss: 0.7733 - binary_accuracy: 0.5577 - binary_crossentropy: 0.7673\n",
            "Epoch 35/100\n",
            "1/1 [==============================] - 0s 2ms/step - loss: 0.7726 - binary_accuracy: 0.5577 - binary_crossentropy: 0.7666\n",
            "Epoch 36/100\n",
            "1/1 [==============================] - 0s 1ms/step - loss: 0.7719 - binary_accuracy: 0.5577 - binary_crossentropy: 0.7659\n",
            "Epoch 37/100\n",
            "1/1 [==============================] - 0s 2ms/step - loss: 0.7713 - binary_accuracy: 0.5577 - binary_crossentropy: 0.7653\n",
            "Epoch 38/100\n",
            "1/1 [==============================] - 0s 1ms/step - loss: 0.7706 - binary_accuracy: 0.5577 - binary_crossentropy: 0.7646\n",
            "Epoch 39/100\n",
            "1/1 [==============================] - 0s 1ms/step - loss: 0.7699 - binary_accuracy: 0.5385 - binary_crossentropy: 0.7640\n",
            "Epoch 40/100\n",
            "1/1 [==============================] - 0s 1ms/step - loss: 0.7693 - binary_accuracy: 0.5385 - binary_crossentropy: 0.7634\n",
            "Epoch 41/100\n",
            "1/1 [==============================] - 0s 1ms/step - loss: 0.7686 - binary_accuracy: 0.5385 - binary_crossentropy: 0.7627\n",
            "Epoch 42/100\n",
            "1/1 [==============================] - 0s 2ms/step - loss: 0.7680 - binary_accuracy: 0.5385 - binary_crossentropy: 0.7621\n",
            "Epoch 43/100\n",
            "1/1 [==============================] - 0s 2ms/step - loss: 0.7673 - binary_accuracy: 0.5385 - binary_crossentropy: 0.7615\n",
            "Epoch 44/100\n",
            "1/1 [==============================] - 0s 2ms/step - loss: 0.7667 - binary_accuracy: 0.5385 - binary_crossentropy: 0.7609\n",
            "Epoch 45/100\n",
            "1/1 [==============================] - 0s 2ms/step - loss: 0.7661 - binary_accuracy: 0.5385 - binary_crossentropy: 0.7603\n",
            "Epoch 46/100\n",
            "1/1 [==============================] - 0s 1ms/step - loss: 0.7654 - binary_accuracy: 0.5385 - binary_crossentropy: 0.7597\n",
            "Epoch 47/100\n",
            "1/1 [==============================] - 0s 3ms/step - loss: 0.7648 - binary_accuracy: 0.5385 - binary_crossentropy: 0.7591\n",
            "Epoch 48/100\n",
            "1/1 [==============================] - 0s 3ms/step - loss: 0.7642 - binary_accuracy: 0.5385 - binary_crossentropy: 0.7585\n",
            "Epoch 49/100\n",
            "1/1 [==============================] - 0s 3ms/step - loss: 0.7636 - binary_accuracy: 0.5385 - binary_crossentropy: 0.7579\n",
            "Epoch 50/100\n",
            "1/1 [==============================] - 0s 2ms/step - loss: 0.7630 - binary_accuracy: 0.5385 - binary_crossentropy: 0.7573\n",
            "Epoch 51/100\n",
            "1/1 [==============================] - 0s 1ms/step - loss: 0.7624 - binary_accuracy: 0.5385 - binary_crossentropy: 0.7567\n",
            "Epoch 52/100\n",
            "1/1 [==============================] - 0s 1ms/step - loss: 0.7618 - binary_accuracy: 0.5385 - binary_crossentropy: 0.7562\n",
            "Epoch 53/100\n",
            "1/1 [==============================] - 0s 2ms/step - loss: 0.7612 - binary_accuracy: 0.5385 - binary_crossentropy: 0.7556\n",
            "Epoch 54/100\n",
            "1/1 [==============================] - 0s 2ms/step - loss: 0.7606 - binary_accuracy: 0.5385 - binary_crossentropy: 0.7550\n",
            "Epoch 55/100\n",
            "1/1 [==============================] - 0s 2ms/step - loss: 0.7600 - binary_accuracy: 0.5385 - binary_crossentropy: 0.7545\n",
            "Epoch 56/100\n",
            "1/1 [==============================] - 0s 2ms/step - loss: 0.7595 - binary_accuracy: 0.5385 - binary_crossentropy: 0.7539\n",
            "Epoch 57/100\n",
            "1/1 [==============================] - 0s 3ms/step - loss: 0.7589 - binary_accuracy: 0.5385 - binary_crossentropy: 0.7534\n",
            "Epoch 58/100\n",
            "1/1 [==============================] - 0s 1ms/step - loss: 0.7583 - binary_accuracy: 0.5385 - binary_crossentropy: 0.7528\n",
            "Epoch 59/100\n",
            "1/1 [==============================] - 0s 2ms/step - loss: 0.7578 - binary_accuracy: 0.5385 - binary_crossentropy: 0.7523\n",
            "Epoch 60/100\n",
            "1/1 [==============================] - 0s 1ms/step - loss: 0.7572 - binary_accuracy: 0.5385 - binary_crossentropy: 0.7518\n",
            "Epoch 61/100\n",
            "1/1 [==============================] - 0s 2ms/step - loss: 0.7567 - binary_accuracy: 0.5385 - binary_crossentropy: 0.7512\n",
            "Epoch 62/100\n",
            "1/1 [==============================] - 0s 3ms/step - loss: 0.7561 - binary_accuracy: 0.5385 - binary_crossentropy: 0.7507\n",
            "Epoch 63/100\n",
            "1/1 [==============================] - 0s 2ms/step - loss: 0.7556 - binary_accuracy: 0.5385 - binary_crossentropy: 0.7502\n",
            "Epoch 64/100\n",
            "1/1 [==============================] - 0s 2ms/step - loss: 0.7550 - binary_accuracy: 0.5385 - binary_crossentropy: 0.7497\n",
            "Epoch 65/100\n",
            "1/1 [==============================] - 0s 1ms/step - loss: 0.7545 - binary_accuracy: 0.5385 - binary_crossentropy: 0.7491\n",
            "Epoch 66/100\n",
            "1/1 [==============================] - 0s 1ms/step - loss: 0.7540 - binary_accuracy: 0.5385 - binary_crossentropy: 0.7486\n",
            "Epoch 67/100\n",
            "1/1 [==============================] - 0s 1ms/step - loss: 0.7534 - binary_accuracy: 0.5385 - binary_crossentropy: 0.7481\n",
            "Epoch 68/100\n",
            "1/1 [==============================] - 0s 2ms/step - loss: 0.7529 - binary_accuracy: 0.5385 - binary_crossentropy: 0.7476\n",
            "Epoch 69/100\n",
            "1/1 [==============================] - 0s 1ms/step - loss: 0.7524 - binary_accuracy: 0.5385 - binary_crossentropy: 0.7471\n",
            "Epoch 70/100\n",
            "1/1 [==============================] - 0s 3ms/step - loss: 0.7519 - binary_accuracy: 0.5385 - binary_crossentropy: 0.7466\n",
            "Epoch 71/100\n",
            "1/1 [==============================] - 0s 3ms/step - loss: 0.7514 - binary_accuracy: 0.5385 - binary_crossentropy: 0.7461\n",
            "Epoch 72/100\n",
            "1/1 [==============================] - 0s 1ms/step - loss: 0.7509 - binary_accuracy: 0.5385 - binary_crossentropy: 0.7456\n",
            "Epoch 73/100\n",
            "1/1 [==============================] - 0s 1ms/step - loss: 0.7503 - binary_accuracy: 0.5385 - binary_crossentropy: 0.7451\n",
            "Epoch 74/100\n",
            "1/1 [==============================] - 0s 1ms/step - loss: 0.7498 - binary_accuracy: 0.5385 - binary_crossentropy: 0.7447\n",
            "Epoch 75/100\n",
            "1/1 [==============================] - 0s 3ms/step - loss: 0.7493 - binary_accuracy: 0.5385 - binary_crossentropy: 0.7442\n",
            "Epoch 76/100\n",
            "1/1 [==============================] - 0s 2ms/step - loss: 0.7489 - binary_accuracy: 0.5385 - binary_crossentropy: 0.7437\n",
            "Epoch 77/100\n",
            "1/1 [==============================] - 0s 1ms/step - loss: 0.7484 - binary_accuracy: 0.5385 - binary_crossentropy: 0.7432\n",
            "Epoch 78/100\n",
            "1/1 [==============================] - 0s 1ms/step - loss: 0.7479 - binary_accuracy: 0.5385 - binary_crossentropy: 0.7428\n",
            "Epoch 79/100\n",
            "1/1 [==============================] - 0s 1ms/step - loss: 0.7474 - binary_accuracy: 0.5385 - binary_crossentropy: 0.7423\n",
            "Epoch 80/100\n",
            "1/1 [==============================] - 0s 1ms/step - loss: 0.7469 - binary_accuracy: 0.5385 - binary_crossentropy: 0.7418\n",
            "Epoch 81/100\n",
            "1/1 [==============================] - 0s 2ms/step - loss: 0.7464 - binary_accuracy: 0.5385 - binary_crossentropy: 0.7414\n",
            "Epoch 82/100\n",
            "1/1 [==============================] - 0s 2ms/step - loss: 0.7460 - binary_accuracy: 0.5385 - binary_crossentropy: 0.7409\n",
            "Epoch 83/100\n",
            "1/1 [==============================] - 0s 2ms/step - loss: 0.7455 - binary_accuracy: 0.5385 - binary_crossentropy: 0.7405\n",
            "Epoch 84/100\n",
            "1/1 [==============================] - 0s 1ms/step - loss: 0.7450 - binary_accuracy: 0.5385 - binary_crossentropy: 0.7400\n",
            "Epoch 85/100\n",
            "1/1 [==============================] - 0s 2ms/step - loss: 0.7445 - binary_accuracy: 0.5385 - binary_crossentropy: 0.7395\n",
            "Epoch 86/100\n",
            "1/1 [==============================] - 0s 2ms/step - loss: 0.7441 - binary_accuracy: 0.5385 - binary_crossentropy: 0.7391\n",
            "Epoch 87/100\n",
            "1/1 [==============================] - 0s 2ms/step - loss: 0.7436 - binary_accuracy: 0.5385 - binary_crossentropy: 0.7387\n",
            "Epoch 88/100\n",
            "1/1 [==============================] - 0s 2ms/step - loss: 0.7431 - binary_accuracy: 0.5385 - binary_crossentropy: 0.7382\n",
            "Epoch 89/100\n",
            "1/1 [==============================] - 0s 2ms/step - loss: 0.7427 - binary_accuracy: 0.5385 - binary_crossentropy: 0.7378\n",
            "Epoch 90/100\n",
            "1/1 [==============================] - 0s 2ms/step - loss: 0.7422 - binary_accuracy: 0.5385 - binary_crossentropy: 0.7373\n",
            "Epoch 91/100\n",
            "1/1 [==============================] - 0s 1ms/step - loss: 0.7418 - binary_accuracy: 0.5385 - binary_crossentropy: 0.7369\n",
            "Epoch 92/100\n",
            "1/1 [==============================] - 0s 2ms/step - loss: 0.7413 - binary_accuracy: 0.5385 - binary_crossentropy: 0.7365\n",
            "Epoch 93/100\n",
            "1/1 [==============================] - 0s 2ms/step - loss: 0.7409 - binary_accuracy: 0.5385 - binary_crossentropy: 0.7360\n",
            "Epoch 94/100\n",
            "1/1 [==============================] - 0s 2ms/step - loss: 0.7404 - binary_accuracy: 0.5385 - binary_crossentropy: 0.7356\n",
            "Epoch 95/100\n",
            "1/1 [==============================] - 0s 3ms/step - loss: 0.7400 - binary_accuracy: 0.5385 - binary_crossentropy: 0.7352\n",
            "Epoch 96/100\n",
            "1/1 [==============================] - 0s 1ms/step - loss: 0.7396 - binary_accuracy: 0.5385 - binary_crossentropy: 0.7348\n",
            "Epoch 97/100\n",
            "1/1 [==============================] - 0s 2ms/step - loss: 0.7391 - binary_accuracy: 0.5385 - binary_crossentropy: 0.7343\n",
            "Epoch 98/100\n",
            "1/1 [==============================] - 0s 1ms/step - loss: 0.7387 - binary_accuracy: 0.5385 - binary_crossentropy: 0.7339\n",
            "Epoch 99/100\n",
            "1/1 [==============================] - 0s 3ms/step - loss: 0.7383 - binary_accuracy: 0.5385 - binary_crossentropy: 0.7335\n",
            "Epoch 100/100\n",
            "1/1 [==============================] - 0s 2ms/step - loss: 0.7378 - binary_accuracy: 0.5385 - binary_crossentropy: 0.7331\n"
          ],
          "name": "stdout"
        },
        {
          "output_type": "execute_result",
          "data": {
            "text/plain": [
              "LearningShapelets(batch_size=256, max_iter=100, max_size=None,\n",
              "                  n_shapelets_per_size={3: 3}, optimizer='sgd',\n",
              "                  random_state=None, scale=False, shapelet_length=0.15,\n",
              "                  total_lengths=3, verbose=1, weight_regularizer=0.01)"
            ]
          },
          "metadata": {
            "tags": []
          },
          "execution_count": 145
        }
      ]
    },
    {
      "cell_type": "code",
      "metadata": {
        "colab": {
          "base_uri": "https://localhost:8080/",
          "height": 411
        },
        "id": "1CqA96muP2Gz",
        "outputId": "5a645801-c036-465b-e4ce-d13295eae6d3"
      },
      "source": [
        "predicted_labels = shp_clf.predict(X_train)\n",
        "y_pred = shp_clf.predict(X_test2)\n",
        "print(\"Correct classification rate:\", accuracy_score(y_test2, y_pred))"
      ],
      "execution_count": null,
      "outputs": [
        {
          "output_type": "stream",
          "text": [
            "WARNING:tensorflow:6 out of the last 8 calls to <function Model.make_predict_function.<locals>.predict_function at 0x7f40bbc8b510> triggered tf.function retracing. Tracing is expensive and the excessive number of tracings could be due to (1) creating @tf.function repeatedly in a loop, (2) passing tensors with different shapes, (3) passing Python objects instead of tensors. For (1), please define your @tf.function outside of the loop. For (2), @tf.function has experimental_relax_shapes=True option that relaxes argument shapes that can avoid unnecessary retracing. For (3), please refer to https://www.tensorflow.org/tutorials/customization/performance#python_or_tensor_args and https://www.tensorflow.org/api_docs/python/tf/function for  more details.\n",
            "1/1 [==============================] - 0s 1ms/step\n",
            "1/1 [==============================] - 0s 1ms/step\n"
          ],
          "name": "stdout"
        },
        {
          "output_type": "error",
          "ename": "ValueError",
          "evalue": "ignored",
          "traceback": [
            "\u001b[0;31m---------------------------------------------------------------------------\u001b[0m",
            "\u001b[0;31mValueError\u001b[0m                                Traceback (most recent call last)",
            "\u001b[0;32m<ipython-input-146-aa58efb5259c>\u001b[0m in \u001b[0;36m<module>\u001b[0;34m()\u001b[0m\n\u001b[1;32m      1\u001b[0m \u001b[0mpredicted_labels\u001b[0m \u001b[0;34m=\u001b[0m \u001b[0mshp_clf\u001b[0m\u001b[0;34m.\u001b[0m\u001b[0mpredict\u001b[0m\u001b[0;34m(\u001b[0m\u001b[0mX_train\u001b[0m\u001b[0;34m)\u001b[0m\u001b[0;34m\u001b[0m\u001b[0;34m\u001b[0m\u001b[0m\n\u001b[1;32m      2\u001b[0m \u001b[0my_pred\u001b[0m \u001b[0;34m=\u001b[0m \u001b[0mshp_clf\u001b[0m\u001b[0;34m.\u001b[0m\u001b[0mpredict\u001b[0m\u001b[0;34m(\u001b[0m\u001b[0mX_test2\u001b[0m\u001b[0;34m)\u001b[0m\u001b[0;34m\u001b[0m\u001b[0;34m\u001b[0m\u001b[0m\n\u001b[0;32m----> 3\u001b[0;31m \u001b[0mprint\u001b[0m\u001b[0;34m(\u001b[0m\u001b[0;34m\"Correct classification rate:\"\u001b[0m\u001b[0;34m,\u001b[0m \u001b[0maccuracy_score\u001b[0m\u001b[0;34m(\u001b[0m\u001b[0my_test2\u001b[0m\u001b[0;34m,\u001b[0m \u001b[0my_pred\u001b[0m\u001b[0;34m)\u001b[0m\u001b[0;34m)\u001b[0m\u001b[0;34m\u001b[0m\u001b[0;34m\u001b[0m\u001b[0m\n\u001b[0m",
            "\u001b[0;32m/usr/local/lib/python3.6/dist-packages/sklearn/metrics/_classification.py\u001b[0m in \u001b[0;36maccuracy_score\u001b[0;34m(y_true, y_pred, normalize, sample_weight)\u001b[0m\n\u001b[1;32m    183\u001b[0m \u001b[0;34m\u001b[0m\u001b[0m\n\u001b[1;32m    184\u001b[0m     \u001b[0;31m# Compute accuracy for each possible representation\u001b[0m\u001b[0;34m\u001b[0m\u001b[0;34m\u001b[0m\u001b[0;34m\u001b[0m\u001b[0m\n\u001b[0;32m--> 185\u001b[0;31m     \u001b[0my_type\u001b[0m\u001b[0;34m,\u001b[0m \u001b[0my_true\u001b[0m\u001b[0;34m,\u001b[0m \u001b[0my_pred\u001b[0m \u001b[0;34m=\u001b[0m \u001b[0m_check_targets\u001b[0m\u001b[0;34m(\u001b[0m\u001b[0my_true\u001b[0m\u001b[0;34m,\u001b[0m \u001b[0my_pred\u001b[0m\u001b[0;34m)\u001b[0m\u001b[0;34m\u001b[0m\u001b[0;34m\u001b[0m\u001b[0m\n\u001b[0m\u001b[1;32m    186\u001b[0m     \u001b[0mcheck_consistent_length\u001b[0m\u001b[0;34m(\u001b[0m\u001b[0my_true\u001b[0m\u001b[0;34m,\u001b[0m \u001b[0my_pred\u001b[0m\u001b[0;34m,\u001b[0m \u001b[0msample_weight\u001b[0m\u001b[0;34m)\u001b[0m\u001b[0;34m\u001b[0m\u001b[0;34m\u001b[0m\u001b[0m\n\u001b[1;32m    187\u001b[0m     \u001b[0;32mif\u001b[0m \u001b[0my_type\u001b[0m\u001b[0;34m.\u001b[0m\u001b[0mstartswith\u001b[0m\u001b[0;34m(\u001b[0m\u001b[0;34m'multilabel'\u001b[0m\u001b[0;34m)\u001b[0m\u001b[0;34m:\u001b[0m\u001b[0;34m\u001b[0m\u001b[0;34m\u001b[0m\u001b[0m\n",
            "\u001b[0;32m/usr/local/lib/python3.6/dist-packages/sklearn/metrics/_classification.py\u001b[0m in \u001b[0;36m_check_targets\u001b[0;34m(y_true, y_pred)\u001b[0m\n\u001b[1;32m     78\u001b[0m     \u001b[0my_pred\u001b[0m \u001b[0;34m:\u001b[0m \u001b[0marray\u001b[0m \u001b[0;32mor\u001b[0m \u001b[0mindicator\u001b[0m \u001b[0mmatrix\u001b[0m\u001b[0;34m\u001b[0m\u001b[0;34m\u001b[0m\u001b[0m\n\u001b[1;32m     79\u001b[0m     \"\"\"\n\u001b[0;32m---> 80\u001b[0;31m     \u001b[0mcheck_consistent_length\u001b[0m\u001b[0;34m(\u001b[0m\u001b[0my_true\u001b[0m\u001b[0;34m,\u001b[0m \u001b[0my_pred\u001b[0m\u001b[0;34m)\u001b[0m\u001b[0;34m\u001b[0m\u001b[0;34m\u001b[0m\u001b[0m\n\u001b[0m\u001b[1;32m     81\u001b[0m     \u001b[0mtype_true\u001b[0m \u001b[0;34m=\u001b[0m \u001b[0mtype_of_target\u001b[0m\u001b[0;34m(\u001b[0m\u001b[0my_true\u001b[0m\u001b[0;34m)\u001b[0m\u001b[0;34m\u001b[0m\u001b[0;34m\u001b[0m\u001b[0m\n\u001b[1;32m     82\u001b[0m     \u001b[0mtype_pred\u001b[0m \u001b[0;34m=\u001b[0m \u001b[0mtype_of_target\u001b[0m\u001b[0;34m(\u001b[0m\u001b[0my_pred\u001b[0m\u001b[0;34m)\u001b[0m\u001b[0;34m\u001b[0m\u001b[0;34m\u001b[0m\u001b[0m\n",
            "\u001b[0;32m/usr/local/lib/python3.6/dist-packages/sklearn/utils/validation.py\u001b[0m in \u001b[0;36mcheck_consistent_length\u001b[0;34m(*arrays)\u001b[0m\n\u001b[1;32m    210\u001b[0m     \u001b[0;32mif\u001b[0m \u001b[0mlen\u001b[0m\u001b[0;34m(\u001b[0m\u001b[0muniques\u001b[0m\u001b[0;34m)\u001b[0m \u001b[0;34m>\u001b[0m \u001b[0;36m1\u001b[0m\u001b[0;34m:\u001b[0m\u001b[0;34m\u001b[0m\u001b[0;34m\u001b[0m\u001b[0m\n\u001b[1;32m    211\u001b[0m         raise ValueError(\"Found input variables with inconsistent numbers of\"\n\u001b[0;32m--> 212\u001b[0;31m                          \" samples: %r\" % [int(l) for l in lengths])\n\u001b[0m\u001b[1;32m    213\u001b[0m \u001b[0;34m\u001b[0m\u001b[0m\n\u001b[1;32m    214\u001b[0m \u001b[0;34m\u001b[0m\u001b[0m\n",
            "\u001b[0;31mValueError\u001b[0m: Found input variables with inconsistent numbers of samples: [52, 14]"
          ]
        }
      ]
    },
    {
      "cell_type": "code",
      "metadata": {
        "id": "ATYyhMyHP23q"
      },
      "source": [
        ""
      ],
      "execution_count": null,
      "outputs": []
    },
    {
      "cell_type": "code",
      "metadata": {
        "id": "4hgJmxMmWpnF"
      },
      "source": [
        ""
      ],
      "execution_count": null,
      "outputs": []
    },
    {
      "cell_type": "code",
      "metadata": {
        "id": "ieUONT1KWqCe"
      },
      "source": [
        ""
      ],
      "execution_count": null,
      "outputs": []
    },
    {
      "cell_type": "code",
      "metadata": {
        "id": "VxPJSw9IWqHf"
      },
      "source": [
        ""
      ],
      "execution_count": null,
      "outputs": []
    },
    {
      "cell_type": "code",
      "metadata": {
        "id": "eAfNia9-WqF-"
      },
      "source": [
        ""
      ],
      "execution_count": null,
      "outputs": []
    },
    {
      "cell_type": "code",
      "metadata": {
        "id": "BdkZmh32Wpq_"
      },
      "source": [
        ""
      ],
      "execution_count": null,
      "outputs": []
    },
    {
      "cell_type": "code",
      "metadata": {
        "id": "kRppOjCsWpjp"
      },
      "source": [
        ""
      ],
      "execution_count": null,
      "outputs": []
    },
    {
      "cell_type": "code",
      "metadata": {
        "id": "PLFt5ud5P2V-"
      },
      "source": [
        "from sklearn.model_selection import train_test_split, cross_val_score \n",
        "\n",
        "from sklearn.metrics import accuracy_score, f1_score, classification_report\n",
        "from sklearn.metrics import roc_curve, auc, roc_auc_score"
      ],
      "execution_count": null,
      "outputs": []
    },
    {
      "cell_type": "code",
      "metadata": {
        "colab": {
          "base_uri": "https://localhost:8080/",
          "height": 306
        },
        "id": "QyBBLeQbP5BC",
        "outputId": "193afbb4-a6f0-49c6-c5be-10922d54520f"
      },
      "source": [
        "X_train, X_test, y_train, y_test = train_test_split(X, y_train, test_size=0.3, random_state=100, stratify=y_train)\n"
      ],
      "execution_count": null,
      "outputs": [
        {
          "output_type": "error",
          "ename": "ValueError",
          "evalue": "ignored",
          "traceback": [
            "\u001b[0;31m---------------------------------------------------------------------------\u001b[0m",
            "\u001b[0;31mValueError\u001b[0m                                Traceback (most recent call last)",
            "\u001b[0;32m<ipython-input-152-5e5ac69539b4>\u001b[0m in \u001b[0;36m<module>\u001b[0;34m()\u001b[0m\n\u001b[0;32m----> 1\u001b[0;31m \u001b[0mX_train\u001b[0m\u001b[0;34m,\u001b[0m \u001b[0mX_test\u001b[0m\u001b[0;34m,\u001b[0m \u001b[0my_train\u001b[0m\u001b[0;34m,\u001b[0m \u001b[0my_test\u001b[0m \u001b[0;34m=\u001b[0m \u001b[0mtrain_test_split\u001b[0m\u001b[0;34m(\u001b[0m\u001b[0mX\u001b[0m\u001b[0;34m,\u001b[0m \u001b[0my_train\u001b[0m\u001b[0;34m,\u001b[0m \u001b[0mtest_size\u001b[0m\u001b[0;34m=\u001b[0m\u001b[0;36m0.3\u001b[0m\u001b[0;34m,\u001b[0m \u001b[0mrandom_state\u001b[0m\u001b[0;34m=\u001b[0m\u001b[0;36m100\u001b[0m\u001b[0;34m,\u001b[0m \u001b[0mstratify\u001b[0m\u001b[0;34m=\u001b[0m\u001b[0my_train\u001b[0m\u001b[0;34m)\u001b[0m\u001b[0;34m\u001b[0m\u001b[0;34m\u001b[0m\u001b[0m\n\u001b[0m",
            "\u001b[0;32m/usr/local/lib/python3.6/dist-packages/sklearn/model_selection/_split.py\u001b[0m in \u001b[0;36mtrain_test_split\u001b[0;34m(*arrays, **options)\u001b[0m\n\u001b[1;32m   2116\u001b[0m         \u001b[0;32mraise\u001b[0m \u001b[0mTypeError\u001b[0m\u001b[0;34m(\u001b[0m\u001b[0;34m\"Invalid parameters passed: %s\"\u001b[0m \u001b[0;34m%\u001b[0m \u001b[0mstr\u001b[0m\u001b[0;34m(\u001b[0m\u001b[0moptions\u001b[0m\u001b[0;34m)\u001b[0m\u001b[0;34m)\u001b[0m\u001b[0;34m\u001b[0m\u001b[0;34m\u001b[0m\u001b[0m\n\u001b[1;32m   2117\u001b[0m \u001b[0;34m\u001b[0m\u001b[0m\n\u001b[0;32m-> 2118\u001b[0;31m     \u001b[0marrays\u001b[0m \u001b[0;34m=\u001b[0m \u001b[0mindexable\u001b[0m\u001b[0;34m(\u001b[0m\u001b[0;34m*\u001b[0m\u001b[0marrays\u001b[0m\u001b[0;34m)\u001b[0m\u001b[0;34m\u001b[0m\u001b[0;34m\u001b[0m\u001b[0m\n\u001b[0m\u001b[1;32m   2119\u001b[0m \u001b[0;34m\u001b[0m\u001b[0m\n\u001b[1;32m   2120\u001b[0m     \u001b[0mn_samples\u001b[0m \u001b[0;34m=\u001b[0m \u001b[0m_num_samples\u001b[0m\u001b[0;34m(\u001b[0m\u001b[0marrays\u001b[0m\u001b[0;34m[\u001b[0m\u001b[0;36m0\u001b[0m\u001b[0;34m]\u001b[0m\u001b[0;34m)\u001b[0m\u001b[0;34m\u001b[0m\u001b[0;34m\u001b[0m\u001b[0m\n",
            "\u001b[0;32m/usr/local/lib/python3.6/dist-packages/sklearn/utils/validation.py\u001b[0m in \u001b[0;36mindexable\u001b[0;34m(*iterables)\u001b[0m\n\u001b[1;32m    246\u001b[0m     \"\"\"\n\u001b[1;32m    247\u001b[0m     \u001b[0mresult\u001b[0m \u001b[0;34m=\u001b[0m \u001b[0;34m[\u001b[0m\u001b[0m_make_indexable\u001b[0m\u001b[0;34m(\u001b[0m\u001b[0mX\u001b[0m\u001b[0;34m)\u001b[0m \u001b[0;32mfor\u001b[0m \u001b[0mX\u001b[0m \u001b[0;32min\u001b[0m \u001b[0miterables\u001b[0m\u001b[0;34m]\u001b[0m\u001b[0;34m\u001b[0m\u001b[0;34m\u001b[0m\u001b[0m\n\u001b[0;32m--> 248\u001b[0;31m     \u001b[0mcheck_consistent_length\u001b[0m\u001b[0;34m(\u001b[0m\u001b[0;34m*\u001b[0m\u001b[0mresult\u001b[0m\u001b[0;34m)\u001b[0m\u001b[0;34m\u001b[0m\u001b[0;34m\u001b[0m\u001b[0m\n\u001b[0m\u001b[1;32m    249\u001b[0m     \u001b[0;32mreturn\u001b[0m \u001b[0mresult\u001b[0m\u001b[0;34m\u001b[0m\u001b[0;34m\u001b[0m\u001b[0m\n\u001b[1;32m    250\u001b[0m \u001b[0;34m\u001b[0m\u001b[0m\n",
            "\u001b[0;32m/usr/local/lib/python3.6/dist-packages/sklearn/utils/validation.py\u001b[0m in \u001b[0;36mcheck_consistent_length\u001b[0;34m(*arrays)\u001b[0m\n\u001b[1;32m    210\u001b[0m     \u001b[0;32mif\u001b[0m \u001b[0mlen\u001b[0m\u001b[0;34m(\u001b[0m\u001b[0muniques\u001b[0m\u001b[0;34m)\u001b[0m \u001b[0;34m>\u001b[0m \u001b[0;36m1\u001b[0m\u001b[0;34m:\u001b[0m\u001b[0;34m\u001b[0m\u001b[0;34m\u001b[0m\u001b[0m\n\u001b[1;32m    211\u001b[0m         raise ValueError(\"Found input variables with inconsistent numbers of\"\n\u001b[0;32m--> 212\u001b[0;31m                          \" samples: %r\" % [int(l) for l in lengths])\n\u001b[0m\u001b[1;32m    213\u001b[0m \u001b[0;34m\u001b[0m\u001b[0m\n\u001b[1;32m    214\u001b[0m \u001b[0;34m\u001b[0m\u001b[0m\n",
            "\u001b[0;31mValueError\u001b[0m: Found input variables with inconsistent numbers of samples: [8, 52]"
          ]
        }
      ]
    },
    {
      "cell_type": "code",
      "metadata": {
        "colab": {
          "base_uri": "https://localhost:8080/"
        },
        "id": "MI-jhh5VQPbL",
        "outputId": "189ddac2-a752-493c-d3bd-fd59eedfd99b"
      },
      "source": [
        "n_ts, ts_sz = X_train.shape\n",
        "n_classes = len(set(y_train))\n",
        "\n",
        "# Set the number of shapelets per size as done in the original paper\n",
        "shapelet_sizes = grabocka_params_to_shapelet_size_dict(n_ts=n_ts,\n",
        "                                                       ts_sz=ts_sz,\n",
        "                                                       n_classes=n_classes,\n",
        "                                                       l=0.1,\n",
        "                                                       r=1)\n",
        "\n",
        "print('n_ts', n_ts)\n",
        "print('ts_sz', ts_sz)\n",
        "print('n_classes', n_classes)\n",
        "print('shapelet_sizes', shapelet_sizes)"
      ],
      "execution_count": null,
      "outputs": [
        {
          "output_type": "stream",
          "text": [
            "n_ts 52\n",
            "ts_sz 30\n",
            "n_classes 2\n",
            "shapelet_sizes {3: 3}\n"
          ],
          "name": "stdout"
        }
      ]
    },
    {
      "cell_type": "code",
      "metadata": {
        "colab": {
          "base_uri": "https://localhost:8080/"
        },
        "id": "rPh2lYAOQZQo",
        "outputId": "9aa33679-c1b3-4ac2-e43d-8f643d601e65"
      },
      "source": [
        "# Define the model using parameters provided by the authors (except that we use\n",
        "# fewer iterations here)\n",
        "shp_clf = ShapeletModel(n_shapelets_per_size=shapelet_sizes,\n",
        "                        optimizer=\"sgd\",\n",
        "                        weight_regularizer=.01,\n",
        "                        max_iter=200,\n",
        "                        verbose=1)"
      ],
      "execution_count": null,
      "outputs": [
        {
          "output_type": "stream",
          "text": [
            "/usr/local/lib/python3.6/dist-packages/tslearn/shapelets.py:363: FutureWarning: The default value for 'scale' is set to False in version 0.4 to ensure backward compatibility, but is likely to change in a future version.\n",
            "  FutureWarning)\n"
          ],
          "name": "stderr"
        }
      ]
    },
    {
      "cell_type": "code",
      "metadata": {
        "colab": {
          "base_uri": "https://localhost:8080/"
        },
        "id": "IWaewt9UQbjs",
        "outputId": "9e3e1e55-7989-4609-f91b-44787af4ca55"
      },
      "source": [
        "shp_clf.fit(X_train, y_train)\n"
      ],
      "execution_count": null,
      "outputs": [
        {
          "output_type": "stream",
          "text": [
            "Epoch 1/200\n",
            "1/1 [==============================] - 0s 2ms/step - loss: 1.2703 - binary_accuracy: 0.3846 - binary_crossentropy: 1.2505\n",
            "Epoch 2/200\n",
            "1/1 [==============================] - 0s 1ms/step - loss: 1.2569 - binary_accuracy: 0.3846 - binary_crossentropy: 1.2373\n",
            "Epoch 3/200\n",
            "1/1 [==============================] - 0s 2ms/step - loss: 1.2438 - binary_accuracy: 0.3846 - binary_crossentropy: 1.2243\n",
            "Epoch 4/200\n",
            "1/1 [==============================] - 0s 1ms/step - loss: 1.2308 - binary_accuracy: 0.3846 - binary_crossentropy: 1.2115\n",
            "Epoch 5/200\n",
            "1/1 [==============================] - 0s 1ms/step - loss: 1.2180 - binary_accuracy: 0.3846 - binary_crossentropy: 1.1988\n",
            "Epoch 6/200\n",
            "1/1 [==============================] - 0s 1ms/step - loss: 1.2054 - binary_accuracy: 0.3846 - binary_crossentropy: 1.1864\n",
            "Epoch 7/200\n",
            "1/1 [==============================] - 0s 1ms/step - loss: 1.1930 - binary_accuracy: 0.3846 - binary_crossentropy: 1.1742\n",
            "Epoch 8/200\n",
            "1/1 [==============================] - 0s 2ms/step - loss: 1.1808 - binary_accuracy: 0.3846 - binary_crossentropy: 1.1621\n",
            "Epoch 9/200\n",
            "1/1 [==============================] - 0s 1ms/step - loss: 1.1688 - binary_accuracy: 0.3846 - binary_crossentropy: 1.1503\n",
            "Epoch 10/200\n",
            "1/1 [==============================] - 0s 2ms/step - loss: 1.1570 - binary_accuracy: 0.3846 - binary_crossentropy: 1.1387\n",
            "Epoch 11/200\n",
            "1/1 [==============================] - 0s 1ms/step - loss: 1.1454 - binary_accuracy: 0.3846 - binary_crossentropy: 1.1272\n",
            "Epoch 12/200\n",
            "1/1 [==============================] - 0s 1ms/step - loss: 1.1340 - binary_accuracy: 0.3846 - binary_crossentropy: 1.1160\n",
            "Epoch 13/200\n",
            "1/1 [==============================] - 0s 1ms/step - loss: 1.1228 - binary_accuracy: 0.3846 - binary_crossentropy: 1.1049\n",
            "Epoch 14/200\n",
            "1/1 [==============================] - 0s 1ms/step - loss: 1.1117 - binary_accuracy: 0.3846 - binary_crossentropy: 1.0941\n",
            "Epoch 15/200\n",
            "1/1 [==============================] - 0s 1ms/step - loss: 1.1009 - binary_accuracy: 0.3846 - binary_crossentropy: 1.0834\n",
            "Epoch 16/200\n",
            "1/1 [==============================] - 0s 1ms/step - loss: 1.0903 - binary_accuracy: 0.3846 - binary_crossentropy: 1.0729\n",
            "Epoch 17/200\n",
            "1/1 [==============================] - 0s 2ms/step - loss: 1.0798 - binary_accuracy: 0.3846 - binary_crossentropy: 1.0625\n",
            "Epoch 18/200\n",
            "1/1 [==============================] - 0s 2ms/step - loss: 1.0695 - binary_accuracy: 0.3846 - binary_crossentropy: 1.0524\n",
            "Epoch 19/200\n",
            "1/1 [==============================] - 0s 1ms/step - loss: 1.0594 - binary_accuracy: 0.3846 - binary_crossentropy: 1.0424\n",
            "Epoch 20/200\n",
            "1/1 [==============================] - 0s 1ms/step - loss: 1.0495 - binary_accuracy: 0.3846 - binary_crossentropy: 1.0326\n",
            "Epoch 21/200\n",
            "1/1 [==============================] - 0s 2ms/step - loss: 1.0397 - binary_accuracy: 0.3846 - binary_crossentropy: 1.0230\n",
            "Epoch 22/200\n",
            "1/1 [==============================] - 0s 2ms/step - loss: 1.0301 - binary_accuracy: 0.4038 - binary_crossentropy: 1.0136\n",
            "Epoch 23/200\n",
            "1/1 [==============================] - 0s 2ms/step - loss: 1.0207 - binary_accuracy: 0.4038 - binary_crossentropy: 1.0043\n",
            "Epoch 24/200\n",
            "1/1 [==============================] - 0s 1ms/step - loss: 1.0115 - binary_accuracy: 0.4038 - binary_crossentropy: 0.9952\n",
            "Epoch 25/200\n",
            "1/1 [==============================] - 0s 1ms/step - loss: 1.0024 - binary_accuracy: 0.4038 - binary_crossentropy: 0.9862\n",
            "Epoch 26/200\n",
            "1/1 [==============================] - 0s 2ms/step - loss: 0.9935 - binary_accuracy: 0.4038 - binary_crossentropy: 0.9774\n",
            "Epoch 27/200\n",
            "1/1 [==============================] - 0s 2ms/step - loss: 0.9848 - binary_accuracy: 0.4038 - binary_crossentropy: 0.9688\n",
            "Epoch 28/200\n",
            "1/1 [==============================] - 0s 3ms/step - loss: 0.9762 - binary_accuracy: 0.4038 - binary_crossentropy: 0.9603\n",
            "Epoch 29/200\n",
            "1/1 [==============================] - 0s 3ms/step - loss: 0.9678 - binary_accuracy: 0.4038 - binary_crossentropy: 0.9520\n",
            "Epoch 30/200\n",
            "1/1 [==============================] - 0s 2ms/step - loss: 0.9595 - binary_accuracy: 0.4038 - binary_crossentropy: 0.9439\n",
            "Epoch 31/200\n",
            "1/1 [==============================] - 0s 2ms/step - loss: 0.9514 - binary_accuracy: 0.4038 - binary_crossentropy: 0.9359\n",
            "Epoch 32/200\n",
            "1/1 [==============================] - 0s 1ms/step - loss: 0.9434 - binary_accuracy: 0.4038 - binary_crossentropy: 0.9280\n",
            "Epoch 33/200\n",
            "1/1 [==============================] - 0s 1ms/step - loss: 0.9356 - binary_accuracy: 0.4038 - binary_crossentropy: 0.9203\n",
            "Epoch 34/200\n",
            "1/1 [==============================] - 0s 1ms/step - loss: 0.9279 - binary_accuracy: 0.4038 - binary_crossentropy: 0.9127\n",
            "Epoch 35/200\n",
            "1/1 [==============================] - 0s 2ms/step - loss: 0.9203 - binary_accuracy: 0.4038 - binary_crossentropy: 0.9053\n",
            "Epoch 36/200\n",
            "1/1 [==============================] - 0s 1ms/step - loss: 0.9130 - binary_accuracy: 0.4038 - binary_crossentropy: 0.8980\n",
            "Epoch 37/200\n",
            "1/1 [==============================] - 0s 1ms/step - loss: 0.9057 - binary_accuracy: 0.4038 - binary_crossentropy: 0.8908\n",
            "Epoch 38/200\n",
            "1/1 [==============================] - 0s 2ms/step - loss: 0.8986 - binary_accuracy: 0.4038 - binary_crossentropy: 0.8838\n",
            "Epoch 39/200\n",
            "1/1 [==============================] - 0s 2ms/step - loss: 0.8917 - binary_accuracy: 0.4038 - binary_crossentropy: 0.8770\n",
            "Epoch 40/200\n",
            "1/1 [==============================] - 0s 1ms/step - loss: 0.8849 - binary_accuracy: 0.4231 - binary_crossentropy: 0.8703\n",
            "Epoch 41/200\n",
            "1/1 [==============================] - 0s 1ms/step - loss: 0.8782 - binary_accuracy: 0.4231 - binary_crossentropy: 0.8637\n",
            "Epoch 42/200\n",
            "1/1 [==============================] - 0s 1ms/step - loss: 0.8717 - binary_accuracy: 0.4231 - binary_crossentropy: 0.8573\n",
            "Epoch 43/200\n",
            "1/1 [==============================] - 0s 1ms/step - loss: 0.8653 - binary_accuracy: 0.4231 - binary_crossentropy: 0.8510\n",
            "Epoch 44/200\n",
            "1/1 [==============================] - 0s 2ms/step - loss: 0.8591 - binary_accuracy: 0.4231 - binary_crossentropy: 0.8448\n",
            "Epoch 45/200\n",
            "1/1 [==============================] - 0s 1ms/step - loss: 0.8530 - binary_accuracy: 0.4231 - binary_crossentropy: 0.8388\n",
            "Epoch 46/200\n",
            "1/1 [==============================] - 0s 2ms/step - loss: 0.8470 - binary_accuracy: 0.4231 - binary_crossentropy: 0.8329\n",
            "Epoch 47/200\n",
            "1/1 [==============================] - 0s 1ms/step - loss: 0.8411 - binary_accuracy: 0.4231 - binary_crossentropy: 0.8271\n",
            "Epoch 48/200\n",
            "1/1 [==============================] - 0s 1ms/step - loss: 0.8353 - binary_accuracy: 0.4231 - binary_crossentropy: 0.8214\n",
            "Epoch 49/200\n",
            "1/1 [==============================] - 0s 2ms/step - loss: 0.8297 - binary_accuracy: 0.4231 - binary_crossentropy: 0.8158\n",
            "Epoch 50/200\n",
            "1/1 [==============================] - 0s 2ms/step - loss: 0.8242 - binary_accuracy: 0.4231 - binary_crossentropy: 0.8104\n",
            "Epoch 51/200\n",
            "1/1 [==============================] - 0s 2ms/step - loss: 0.8188 - binary_accuracy: 0.4231 - binary_crossentropy: 0.8051\n",
            "Epoch 52/200\n",
            "1/1 [==============================] - 0s 1ms/step - loss: 0.8136 - binary_accuracy: 0.4231 - binary_crossentropy: 0.7999\n",
            "Epoch 53/200\n",
            "1/1 [==============================] - 0s 2ms/step - loss: 0.8084 - binary_accuracy: 0.4231 - binary_crossentropy: 0.7948\n",
            "Epoch 54/200\n",
            "1/1 [==============================] - 0s 2ms/step - loss: 0.8034 - binary_accuracy: 0.4231 - binary_crossentropy: 0.7899\n",
            "Epoch 55/200\n",
            "1/1 [==============================] - 0s 2ms/step - loss: 0.7985 - binary_accuracy: 0.4231 - binary_crossentropy: 0.7850\n",
            "Epoch 56/200\n",
            "1/1 [==============================] - 0s 2ms/step - loss: 0.7937 - binary_accuracy: 0.4231 - binary_crossentropy: 0.7803\n",
            "Epoch 57/200\n",
            "1/1 [==============================] - 0s 1ms/step - loss: 0.7890 - binary_accuracy: 0.4231 - binary_crossentropy: 0.7757\n",
            "Epoch 58/200\n",
            "1/1 [==============================] - 0s 2ms/step - loss: 0.7844 - binary_accuracy: 0.4231 - binary_crossentropy: 0.7712\n",
            "Epoch 59/200\n",
            "1/1 [==============================] - 0s 2ms/step - loss: 0.7800 - binary_accuracy: 0.4231 - binary_crossentropy: 0.7668\n",
            "Epoch 60/200\n",
            "1/1 [==============================] - 0s 3ms/step - loss: 0.7756 - binary_accuracy: 0.4231 - binary_crossentropy: 0.7625\n",
            "Epoch 61/200\n",
            "1/1 [==============================] - 0s 3ms/step - loss: 0.7713 - binary_accuracy: 0.4231 - binary_crossentropy: 0.7583\n",
            "Epoch 62/200\n",
            "1/1 [==============================] - 0s 2ms/step - loss: 0.7672 - binary_accuracy: 0.4423 - binary_crossentropy: 0.7542\n",
            "Epoch 63/200\n",
            "1/1 [==============================] - 0s 2ms/step - loss: 0.7631 - binary_accuracy: 0.4423 - binary_crossentropy: 0.7502\n",
            "Epoch 64/200\n",
            "1/1 [==============================] - 0s 2ms/step - loss: 0.7592 - binary_accuracy: 0.4423 - binary_crossentropy: 0.7463\n",
            "Epoch 65/200\n",
            "1/1 [==============================] - 0s 3ms/step - loss: 0.7553 - binary_accuracy: 0.4423 - binary_crossentropy: 0.7425\n",
            "Epoch 66/200\n",
            "1/1 [==============================] - 0s 2ms/step - loss: 0.7516 - binary_accuracy: 0.4423 - binary_crossentropy: 0.7388\n",
            "Epoch 67/200\n",
            "1/1 [==============================] - 0s 2ms/step - loss: 0.7479 - binary_accuracy: 0.4423 - binary_crossentropy: 0.7351\n",
            "Epoch 68/200\n",
            "1/1 [==============================] - 0s 3ms/step - loss: 0.7443 - binary_accuracy: 0.4423 - binary_crossentropy: 0.7316\n",
            "Epoch 69/200\n",
            "1/1 [==============================] - 0s 2ms/step - loss: 0.7408 - binary_accuracy: 0.4423 - binary_crossentropy: 0.7282\n",
            "Epoch 70/200\n",
            "1/1 [==============================] - 0s 2ms/step - loss: 0.7374 - binary_accuracy: 0.4423 - binary_crossentropy: 0.7248\n",
            "Epoch 71/200\n",
            "1/1 [==============================] - 0s 2ms/step - loss: 0.7341 - binary_accuracy: 0.4615 - binary_crossentropy: 0.7216\n",
            "Epoch 72/200\n",
            "1/1 [==============================] - 0s 2ms/step - loss: 0.7309 - binary_accuracy: 0.4615 - binary_crossentropy: 0.7184\n",
            "Epoch 73/200\n",
            "1/1 [==============================] - 0s 1ms/step - loss: 0.7278 - binary_accuracy: 0.4615 - binary_crossentropy: 0.7153\n",
            "Epoch 74/200\n",
            "1/1 [==============================] - 0s 2ms/step - loss: 0.7247 - binary_accuracy: 0.4615 - binary_crossentropy: 0.7123\n",
            "Epoch 75/200\n",
            "1/1 [==============================] - 0s 2ms/step - loss: 0.7217 - binary_accuracy: 0.4808 - binary_crossentropy: 0.7093\n",
            "Epoch 76/200\n",
            "1/1 [==============================] - 0s 2ms/step - loss: 0.7188 - binary_accuracy: 0.5000 - binary_crossentropy: 0.7064\n",
            "Epoch 77/200\n",
            "1/1 [==============================] - 0s 2ms/step - loss: 0.7160 - binary_accuracy: 0.5000 - binary_crossentropy: 0.7036\n",
            "Epoch 78/200\n",
            "1/1 [==============================] - 0s 2ms/step - loss: 0.7132 - binary_accuracy: 0.5000 - binary_crossentropy: 0.7009\n",
            "Epoch 79/200\n",
            "1/1 [==============================] - 0s 2ms/step - loss: 0.7105 - binary_accuracy: 0.5000 - binary_crossentropy: 0.6983\n",
            "Epoch 80/200\n",
            "1/1 [==============================] - 0s 2ms/step - loss: 0.7079 - binary_accuracy: 0.5000 - binary_crossentropy: 0.6957\n",
            "Epoch 81/200\n",
            "1/1 [==============================] - 0s 2ms/step - loss: 0.7053 - binary_accuracy: 0.5000 - binary_crossentropy: 0.6932\n",
            "Epoch 82/200\n",
            "1/1 [==============================] - 0s 2ms/step - loss: 0.7029 - binary_accuracy: 0.5192 - binary_crossentropy: 0.6907\n",
            "Epoch 83/200\n",
            "1/1 [==============================] - 0s 1ms/step - loss: 0.7005 - binary_accuracy: 0.5192 - binary_crossentropy: 0.6884\n",
            "Epoch 84/200\n",
            "1/1 [==============================] - 0s 2ms/step - loss: 0.6981 - binary_accuracy: 0.5192 - binary_crossentropy: 0.6861\n",
            "Epoch 85/200\n",
            "1/1 [==============================] - 0s 1ms/step - loss: 0.6958 - binary_accuracy: 0.5192 - binary_crossentropy: 0.6838\n",
            "Epoch 86/200\n",
            "1/1 [==============================] - 0s 2ms/step - loss: 0.6936 - binary_accuracy: 0.5192 - binary_crossentropy: 0.6816\n",
            "Epoch 87/200\n",
            "1/1 [==============================] - 0s 2ms/step - loss: 0.6915 - binary_accuracy: 0.5385 - binary_crossentropy: 0.6795\n",
            "Epoch 88/200\n",
            "1/1 [==============================] - 0s 2ms/step - loss: 0.6894 - binary_accuracy: 0.5577 - binary_crossentropy: 0.6774\n",
            "Epoch 89/200\n",
            "1/1 [==============================] - 0s 3ms/step - loss: 0.6873 - binary_accuracy: 0.5769 - binary_crossentropy: 0.6754\n",
            "Epoch 90/200\n",
            "1/1 [==============================] - 0s 2ms/step - loss: 0.6853 - binary_accuracy: 0.5769 - binary_crossentropy: 0.6735\n",
            "Epoch 91/200\n",
            "1/1 [==============================] - 0s 3ms/step - loss: 0.6834 - binary_accuracy: 0.5962 - binary_crossentropy: 0.6716\n",
            "Epoch 92/200\n",
            "1/1 [==============================] - 0s 2ms/step - loss: 0.6815 - binary_accuracy: 0.5962 - binary_crossentropy: 0.6697\n",
            "Epoch 93/200\n",
            "1/1 [==============================] - 0s 2ms/step - loss: 0.6797 - binary_accuracy: 0.5962 - binary_crossentropy: 0.6679\n",
            "Epoch 94/200\n",
            "1/1 [==============================] - 0s 2ms/step - loss: 0.6779 - binary_accuracy: 0.5962 - binary_crossentropy: 0.6662\n",
            "Epoch 95/200\n",
            "1/1 [==============================] - 0s 4ms/step - loss: 0.6762 - binary_accuracy: 0.6154 - binary_crossentropy: 0.6645\n",
            "Epoch 96/200\n",
            "1/1 [==============================] - 0s 1ms/step - loss: 0.6745 - binary_accuracy: 0.6154 - binary_crossentropy: 0.6628\n",
            "Epoch 97/200\n",
            "1/1 [==============================] - 0s 3ms/step - loss: 0.6729 - binary_accuracy: 0.6154 - binary_crossentropy: 0.6612\n",
            "Epoch 98/200\n",
            "1/1 [==============================] - 0s 4ms/step - loss: 0.6713 - binary_accuracy: 0.6154 - binary_crossentropy: 0.6596\n",
            "Epoch 99/200\n",
            "1/1 [==============================] - 0s 1ms/step - loss: 0.6698 - binary_accuracy: 0.6154 - binary_crossentropy: 0.6581\n",
            "Epoch 100/200\n",
            "1/1 [==============================] - 0s 1ms/step - loss: 0.6683 - binary_accuracy: 0.6154 - binary_crossentropy: 0.6567\n",
            "Epoch 101/200\n",
            "1/1 [==============================] - 0s 2ms/step - loss: 0.6668 - binary_accuracy: 0.6154 - binary_crossentropy: 0.6552\n",
            "Epoch 102/200\n",
            "1/1 [==============================] - 0s 1ms/step - loss: 0.6654 - binary_accuracy: 0.6154 - binary_crossentropy: 0.6538\n",
            "Epoch 103/200\n",
            "1/1 [==============================] - 0s 2ms/step - loss: 0.6640 - binary_accuracy: 0.6346 - binary_crossentropy: 0.6525\n",
            "Epoch 104/200\n",
            "1/1 [==============================] - 0s 3ms/step - loss: 0.6627 - binary_accuracy: 0.6346 - binary_crossentropy: 0.6512\n",
            "Epoch 105/200\n",
            "1/1 [==============================] - 0s 2ms/step - loss: 0.6614 - binary_accuracy: 0.6538 - binary_crossentropy: 0.6499\n",
            "Epoch 106/200\n",
            "1/1 [==============================] - 0s 1ms/step - loss: 0.6602 - binary_accuracy: 0.6538 - binary_crossentropy: 0.6487\n",
            "Epoch 107/200\n",
            "1/1 [==============================] - 0s 2ms/step - loss: 0.6589 - binary_accuracy: 0.6538 - binary_crossentropy: 0.6475\n",
            "Epoch 108/200\n",
            "1/1 [==============================] - 0s 2ms/step - loss: 0.6577 - binary_accuracy: 0.6538 - binary_crossentropy: 0.6463\n",
            "Epoch 109/200\n",
            "1/1 [==============================] - 0s 2ms/step - loss: 0.6566 - binary_accuracy: 0.6538 - binary_crossentropy: 0.6452\n",
            "Epoch 110/200\n",
            "1/1 [==============================] - 0s 2ms/step - loss: 0.6555 - binary_accuracy: 0.6538 - binary_crossentropy: 0.6441\n",
            "Epoch 111/200\n",
            "1/1 [==============================] - 0s 2ms/step - loss: 0.6544 - binary_accuracy: 0.6731 - binary_crossentropy: 0.6430\n",
            "Epoch 112/200\n",
            "1/1 [==============================] - 0s 2ms/step - loss: 0.6533 - binary_accuracy: 0.6731 - binary_crossentropy: 0.6419\n",
            "Epoch 113/200\n",
            "1/1 [==============================] - 0s 1ms/step - loss: 0.6523 - binary_accuracy: 0.6731 - binary_crossentropy: 0.6409\n",
            "Epoch 114/200\n",
            "1/1 [==============================] - 0s 2ms/step - loss: 0.6513 - binary_accuracy: 0.6731 - binary_crossentropy: 0.6399\n",
            "Epoch 115/200\n",
            "1/1 [==============================] - 0s 3ms/step - loss: 0.6503 - binary_accuracy: 0.6731 - binary_crossentropy: 0.6390\n",
            "Epoch 116/200\n",
            "1/1 [==============================] - 0s 1ms/step - loss: 0.6494 - binary_accuracy: 0.6731 - binary_crossentropy: 0.6380\n",
            "Epoch 117/200\n",
            "1/1 [==============================] - 0s 1ms/step - loss: 0.6484 - binary_accuracy: 0.6731 - binary_crossentropy: 0.6371\n",
            "Epoch 118/200\n",
            "1/1 [==============================] - 0s 2ms/step - loss: 0.6475 - binary_accuracy: 0.6731 - binary_crossentropy: 0.6363\n",
            "Epoch 119/200\n",
            "1/1 [==============================] - 0s 2ms/step - loss: 0.6467 - binary_accuracy: 0.6731 - binary_crossentropy: 0.6354\n",
            "Epoch 120/200\n",
            "1/1 [==============================] - 0s 4ms/step - loss: 0.6458 - binary_accuracy: 0.6731 - binary_crossentropy: 0.6346\n",
            "Epoch 121/200\n",
            "1/1 [==============================] - 0s 4ms/step - loss: 0.6450 - binary_accuracy: 0.6731 - binary_crossentropy: 0.6337\n",
            "Epoch 122/200\n",
            "1/1 [==============================] - 0s 1ms/step - loss: 0.6442 - binary_accuracy: 0.6731 - binary_crossentropy: 0.6329\n",
            "Epoch 123/200\n",
            "1/1 [==============================] - 0s 3ms/step - loss: 0.6434 - binary_accuracy: 0.6731 - binary_crossentropy: 0.6322\n",
            "Epoch 124/200\n",
            "1/1 [==============================] - 0s 2ms/step - loss: 0.6426 - binary_accuracy: 0.6731 - binary_crossentropy: 0.6314\n",
            "Epoch 125/200\n",
            "1/1 [==============================] - 0s 2ms/step - loss: 0.6419 - binary_accuracy: 0.6731 - binary_crossentropy: 0.6307\n",
            "Epoch 126/200\n",
            "1/1 [==============================] - 0s 1ms/step - loss: 0.6411 - binary_accuracy: 0.6731 - binary_crossentropy: 0.6300\n",
            "Epoch 127/200\n",
            "1/1 [==============================] - 0s 2ms/step - loss: 0.6404 - binary_accuracy: 0.6731 - binary_crossentropy: 0.6293\n",
            "Epoch 128/200\n",
            "1/1 [==============================] - 0s 2ms/step - loss: 0.6397 - binary_accuracy: 0.6923 - binary_crossentropy: 0.6286\n",
            "Epoch 129/200\n",
            "1/1 [==============================] - 0s 4ms/step - loss: 0.6391 - binary_accuracy: 0.6731 - binary_crossentropy: 0.6279\n",
            "Epoch 130/200\n",
            "1/1 [==============================] - 0s 3ms/step - loss: 0.6384 - binary_accuracy: 0.6731 - binary_crossentropy: 0.6273\n",
            "Epoch 131/200\n",
            "1/1 [==============================] - 0s 2ms/step - loss: 0.6378 - binary_accuracy: 0.6731 - binary_crossentropy: 0.6267\n",
            "Epoch 132/200\n",
            "1/1 [==============================] - 0s 1ms/step - loss: 0.6372 - binary_accuracy: 0.6731 - binary_crossentropy: 0.6261\n",
            "Epoch 133/200\n",
            "1/1 [==============================] - 0s 3ms/step - loss: 0.6365 - binary_accuracy: 0.6923 - binary_crossentropy: 0.6255\n",
            "Epoch 134/200\n",
            "1/1 [==============================] - 0s 2ms/step - loss: 0.6360 - binary_accuracy: 0.6923 - binary_crossentropy: 0.6249\n",
            "Epoch 135/200\n",
            "1/1 [==============================] - 0s 2ms/step - loss: 0.6354 - binary_accuracy: 0.6923 - binary_crossentropy: 0.6243\n",
            "Epoch 136/200\n",
            "1/1 [==============================] - 0s 2ms/step - loss: 0.6348 - binary_accuracy: 0.6923 - binary_crossentropy: 0.6238\n",
            "Epoch 137/200\n",
            "1/1 [==============================] - 0s 2ms/step - loss: 0.6343 - binary_accuracy: 0.6923 - binary_crossentropy: 0.6232\n",
            "Epoch 138/200\n",
            "1/1 [==============================] - 0s 2ms/step - loss: 0.6337 - binary_accuracy: 0.6731 - binary_crossentropy: 0.6227\n",
            "Epoch 139/200\n",
            "1/1 [==============================] - 0s 3ms/step - loss: 0.6332 - binary_accuracy: 0.6923 - binary_crossentropy: 0.6222\n",
            "Epoch 140/200\n",
            "1/1 [==============================] - 0s 1ms/step - loss: 0.6327 - binary_accuracy: 0.6923 - binary_crossentropy: 0.6217\n",
            "Epoch 141/200\n",
            "1/1 [==============================] - 0s 2ms/step - loss: 0.6322 - binary_accuracy: 0.7115 - binary_crossentropy: 0.6212\n",
            "Epoch 142/200\n",
            "1/1 [==============================] - 0s 1ms/step - loss: 0.6317 - binary_accuracy: 0.7115 - binary_crossentropy: 0.6207\n",
            "Epoch 143/200\n",
            "1/1 [==============================] - 0s 2ms/step - loss: 0.6312 - binary_accuracy: 0.7115 - binary_crossentropy: 0.6202\n",
            "Epoch 144/200\n",
            "1/1 [==============================] - 0s 1ms/step - loss: 0.6308 - binary_accuracy: 0.7115 - binary_crossentropy: 0.6198\n",
            "Epoch 145/200\n",
            "1/1 [==============================] - 0s 1ms/step - loss: 0.6303 - binary_accuracy: 0.7115 - binary_crossentropy: 0.6193\n",
            "Epoch 146/200\n",
            "1/1 [==============================] - 0s 2ms/step - loss: 0.6299 - binary_accuracy: 0.7115 - binary_crossentropy: 0.6189\n",
            "Epoch 147/200\n",
            "1/1 [==============================] - 0s 2ms/step - loss: 0.6294 - binary_accuracy: 0.7308 - binary_crossentropy: 0.6185\n",
            "Epoch 148/200\n",
            "1/1 [==============================] - 0s 2ms/step - loss: 0.6290 - binary_accuracy: 0.7308 - binary_crossentropy: 0.6180\n",
            "Epoch 149/200\n",
            "1/1 [==============================] - 0s 1ms/step - loss: 0.6286 - binary_accuracy: 0.7308 - binary_crossentropy: 0.6176\n",
            "Epoch 150/200\n",
            "1/1 [==============================] - 0s 1ms/step - loss: 0.6282 - binary_accuracy: 0.7308 - binary_crossentropy: 0.6172\n",
            "Epoch 151/200\n",
            "1/1 [==============================] - 0s 2ms/step - loss: 0.6278 - binary_accuracy: 0.7308 - binary_crossentropy: 0.6168\n",
            "Epoch 152/200\n",
            "1/1 [==============================] - 0s 4ms/step - loss: 0.6274 - binary_accuracy: 0.7500 - binary_crossentropy: 0.6164\n",
            "Epoch 153/200\n",
            "1/1 [==============================] - 0s 3ms/step - loss: 0.6270 - binary_accuracy: 0.7500 - binary_crossentropy: 0.6161\n",
            "Epoch 154/200\n",
            "1/1 [==============================] - 0s 1ms/step - loss: 0.6266 - binary_accuracy: 0.7500 - binary_crossentropy: 0.6157\n",
            "Epoch 155/200\n",
            "1/1 [==============================] - 0s 3ms/step - loss: 0.6262 - binary_accuracy: 0.7500 - binary_crossentropy: 0.6153\n",
            "Epoch 156/200\n",
            "1/1 [==============================] - 0s 3ms/step - loss: 0.6258 - binary_accuracy: 0.7500 - binary_crossentropy: 0.6150\n",
            "Epoch 157/200\n",
            "1/1 [==============================] - 0s 2ms/step - loss: 0.6255 - binary_accuracy: 0.7308 - binary_crossentropy: 0.6146\n",
            "Epoch 158/200\n",
            "1/1 [==============================] - 0s 2ms/step - loss: 0.6251 - binary_accuracy: 0.7308 - binary_crossentropy: 0.6143\n",
            "Epoch 159/200\n",
            "1/1 [==============================] - 0s 2ms/step - loss: 0.6248 - binary_accuracy: 0.7308 - binary_crossentropy: 0.6139\n",
            "Epoch 160/200\n",
            "1/1 [==============================] - 0s 4ms/step - loss: 0.6244 - binary_accuracy: 0.7308 - binary_crossentropy: 0.6136\n",
            "Epoch 161/200\n",
            "1/1 [==============================] - 0s 2ms/step - loss: 0.6241 - binary_accuracy: 0.7308 - binary_crossentropy: 0.6132\n",
            "Epoch 162/200\n",
            "1/1 [==============================] - 0s 3ms/step - loss: 0.6238 - binary_accuracy: 0.7308 - binary_crossentropy: 0.6129\n",
            "Epoch 163/200\n",
            "1/1 [==============================] - 0s 2ms/step - loss: 0.6234 - binary_accuracy: 0.7308 - binary_crossentropy: 0.6126\n",
            "Epoch 164/200\n",
            "1/1 [==============================] - 0s 3ms/step - loss: 0.6231 - binary_accuracy: 0.7308 - binary_crossentropy: 0.6123\n",
            "Epoch 165/200\n",
            "1/1 [==============================] - 0s 3ms/step - loss: 0.6228 - binary_accuracy: 0.7115 - binary_crossentropy: 0.6120\n",
            "Epoch 166/200\n",
            "1/1 [==============================] - 0s 2ms/step - loss: 0.6225 - binary_accuracy: 0.7115 - binary_crossentropy: 0.6117\n",
            "Epoch 167/200\n",
            "1/1 [==============================] - 0s 2ms/step - loss: 0.6222 - binary_accuracy: 0.7115 - binary_crossentropy: 0.6114\n",
            "Epoch 168/200\n",
            "1/1 [==============================] - 0s 2ms/step - loss: 0.6219 - binary_accuracy: 0.7115 - binary_crossentropy: 0.6111\n",
            "Epoch 169/200\n",
            "1/1 [==============================] - 0s 2ms/step - loss: 0.6216 - binary_accuracy: 0.7115 - binary_crossentropy: 0.6108\n",
            "Epoch 170/200\n",
            "1/1 [==============================] - 0s 2ms/step - loss: 0.6213 - binary_accuracy: 0.7115 - binary_crossentropy: 0.6105\n",
            "Epoch 171/200\n",
            "1/1 [==============================] - 0s 3ms/step - loss: 0.6210 - binary_accuracy: 0.7115 - binary_crossentropy: 0.6102\n",
            "Epoch 172/200\n",
            "1/1 [==============================] - 0s 2ms/step - loss: 0.6207 - binary_accuracy: 0.7115 - binary_crossentropy: 0.6099\n",
            "Epoch 173/200\n",
            "1/1 [==============================] - 0s 2ms/step - loss: 0.6204 - binary_accuracy: 0.7115 - binary_crossentropy: 0.6096\n",
            "Epoch 174/200\n",
            "1/1 [==============================] - 0s 3ms/step - loss: 0.6202 - binary_accuracy: 0.7115 - binary_crossentropy: 0.6094\n",
            "Epoch 175/200\n",
            "1/1 [==============================] - 0s 2ms/step - loss: 0.6199 - binary_accuracy: 0.7115 - binary_crossentropy: 0.6091\n",
            "Epoch 176/200\n",
            "1/1 [==============================] - 0s 3ms/step - loss: 0.6196 - binary_accuracy: 0.7115 - binary_crossentropy: 0.6088\n",
            "Epoch 177/200\n",
            "1/1 [==============================] - 0s 1ms/step - loss: 0.6194 - binary_accuracy: 0.7115 - binary_crossentropy: 0.6086\n",
            "Epoch 178/200\n",
            "1/1 [==============================] - 0s 2ms/step - loss: 0.6191 - binary_accuracy: 0.7115 - binary_crossentropy: 0.6083\n",
            "Epoch 179/200\n",
            "1/1 [==============================] - 0s 4ms/step - loss: 0.6188 - binary_accuracy: 0.6923 - binary_crossentropy: 0.6081\n",
            "Epoch 180/200\n",
            "1/1 [==============================] - 0s 3ms/step - loss: 0.6186 - binary_accuracy: 0.6923 - binary_crossentropy: 0.6078\n",
            "Epoch 181/200\n",
            "1/1 [==============================] - 0s 2ms/step - loss: 0.6183 - binary_accuracy: 0.6923 - binary_crossentropy: 0.6076\n",
            "Epoch 182/200\n",
            "1/1 [==============================] - 0s 6ms/step - loss: 0.6181 - binary_accuracy: 0.6731 - binary_crossentropy: 0.6073\n",
            "Epoch 183/200\n",
            "1/1 [==============================] - 0s 6ms/step - loss: 0.6178 - binary_accuracy: 0.6731 - binary_crossentropy: 0.6071\n",
            "Epoch 184/200\n",
            "1/1 [==============================] - 0s 3ms/step - loss: 0.6176 - binary_accuracy: 0.6731 - binary_crossentropy: 0.6068\n",
            "Epoch 185/200\n",
            "1/1 [==============================] - 0s 2ms/step - loss: 0.6173 - binary_accuracy: 0.6923 - binary_crossentropy: 0.6066\n",
            "Epoch 186/200\n",
            "1/1 [==============================] - 0s 2ms/step - loss: 0.6171 - binary_accuracy: 0.6923 - binary_crossentropy: 0.6064\n",
            "Epoch 187/200\n",
            "1/1 [==============================] - 0s 3ms/step - loss: 0.6169 - binary_accuracy: 0.6923 - binary_crossentropy: 0.6061\n",
            "Epoch 188/200\n",
            "1/1 [==============================] - 0s 2ms/step - loss: 0.6166 - binary_accuracy: 0.6923 - binary_crossentropy: 0.6059\n",
            "Epoch 189/200\n",
            "1/1 [==============================] - 0s 4ms/step - loss: 0.6164 - binary_accuracy: 0.6923 - binary_crossentropy: 0.6057\n",
            "Epoch 190/200\n",
            "1/1 [==============================] - 0s 3ms/step - loss: 0.6162 - binary_accuracy: 0.6923 - binary_crossentropy: 0.6054\n",
            "Epoch 191/200\n",
            "1/1 [==============================] - 0s 2ms/step - loss: 0.6159 - binary_accuracy: 0.6923 - binary_crossentropy: 0.6052\n",
            "Epoch 192/200\n",
            "1/1 [==============================] - 0s 2ms/step - loss: 0.6157 - binary_accuracy: 0.6923 - binary_crossentropy: 0.6050\n",
            "Epoch 193/200\n",
            "1/1 [==============================] - 0s 2ms/step - loss: 0.6155 - binary_accuracy: 0.6923 - binary_crossentropy: 0.6048\n",
            "Epoch 194/200\n",
            "1/1 [==============================] - 0s 2ms/step - loss: 0.6153 - binary_accuracy: 0.7115 - binary_crossentropy: 0.6045\n",
            "Epoch 195/200\n",
            "1/1 [==============================] - 0s 2ms/step - loss: 0.6150 - binary_accuracy: 0.7115 - binary_crossentropy: 0.6043\n",
            "Epoch 196/200\n",
            "1/1 [==============================] - 0s 2ms/step - loss: 0.6148 - binary_accuracy: 0.7308 - binary_crossentropy: 0.6041\n",
            "Epoch 197/200\n",
            "1/1 [==============================] - 0s 2ms/step - loss: 0.6146 - binary_accuracy: 0.7308 - binary_crossentropy: 0.6039\n",
            "Epoch 198/200\n",
            "1/1 [==============================] - 0s 4ms/step - loss: 0.6144 - binary_accuracy: 0.7308 - binary_crossentropy: 0.6037\n",
            "Epoch 199/200\n",
            "1/1 [==============================] - 0s 2ms/step - loss: 0.6142 - binary_accuracy: 0.7308 - binary_crossentropy: 0.6035\n",
            "Epoch 200/200\n",
            "1/1 [==============================] - 0s 4ms/step - loss: 0.6140 - binary_accuracy: 0.7308 - binary_crossentropy: 0.6033\n"
          ],
          "name": "stdout"
        },
        {
          "output_type": "execute_result",
          "data": {
            "text/plain": [
              "LearningShapelets(batch_size=256, max_iter=200, max_size=None,\n",
              "                  n_shapelets_per_size={3: 3}, optimizer='sgd',\n",
              "                  random_state=None, scale=False, shapelet_length=0.15,\n",
              "                  total_lengths=3, verbose=1, weight_regularizer=0.01)"
            ]
          },
          "metadata": {
            "tags": []
          },
          "execution_count": 155
        }
      ]
    },
    {
      "cell_type": "code",
      "metadata": {
        "colab": {
          "base_uri": "https://localhost:8080/"
        },
        "id": "pxb5o5IDQf3d",
        "outputId": "04bd8e19-87e9-4a17-d004-f05da5a06cfb"
      },
      "source": [
        "y_pred = shp_clf.predict(X_test)\n"
      ],
      "execution_count": null,
      "outputs": [
        {
          "output_type": "stream",
          "text": [
            "WARNING:tensorflow:7 out of the last 10 calls to <function Model.make_predict_function.<locals>.predict_function at 0x7f40b90e57b8> triggered tf.function retracing. Tracing is expensive and the excessive number of tracings could be due to (1) creating @tf.function repeatedly in a loop, (2) passing tensors with different shapes, (3) passing Python objects instead of tensors. For (1), please define your @tf.function outside of the loop. For (2), @tf.function has experimental_relax_shapes=True option that relaxes argument shapes that can avoid unnecessary retracing. For (3), please refer to https://www.tensorflow.org/tutorials/customization/performance#python_or_tensor_args and https://www.tensorflow.org/api_docs/python/tf/function for  more details.\n",
            "1/1 [==============================] - 0s 1ms/step\n"
          ],
          "name": "stdout"
        }
      ]
    },
    {
      "cell_type": "code",
      "metadata": {
        "colab": {
          "base_uri": "https://localhost:8080/"
        },
        "id": "yh5fPnneQirW",
        "outputId": "7caab531-b9f9-4e67-807d-b6333a7acfd8"
      },
      "source": [
        "print('Accuracy %s' % accuracy_score(y_test, y_pred))\n",
        "print('F1-score %s' % f1_score(y_test, y_pred, average=None))\n",
        "print(classification_report(y_test, y_pred))"
      ],
      "execution_count": null,
      "outputs": [
        {
          "output_type": "stream",
          "text": [
            "Accuracy 0.6666666666666666\n",
            "F1-score [0.66666667 0.66666667]\n",
            "              precision    recall  f1-score   support\n",
            "\n",
            "           0       0.50      1.00      0.67         1\n",
            "           1       1.00      0.50      0.67         2\n",
            "\n",
            "    accuracy                           0.67         3\n",
            "   macro avg       0.75      0.75      0.67         3\n",
            "weighted avg       0.83      0.67      0.67         3\n",
            "\n"
          ],
          "name": "stdout"
        }
      ]
    },
    {
      "cell_type": "markdown",
      "metadata": {
        "id": "mnmlmFx4RAYD"
      },
      "source": [
        "### Shaplet-distances-based Classifier"
      ]
    },
    {
      "cell_type": "code",
      "metadata": {
        "colab": {
          "base_uri": "https://localhost:8080/"
        },
        "id": "0ciBrej-RD7q",
        "outputId": "9a06ca22-651f-45a1-bed4-a1f4b99961ac"
      },
      "source": [
        "X_train2 = shp_clf.transform(X_train)\n"
      ],
      "execution_count": null,
      "outputs": [
        {
          "output_type": "stream",
          "text": [
            "WARNING:tensorflow:8 out of the last 11 calls to <function Model.make_predict_function.<locals>.predict_function at 0x7f40b9091ea0> triggered tf.function retracing. Tracing is expensive and the excessive number of tracings could be due to (1) creating @tf.function repeatedly in a loop, (2) passing tensors with different shapes, (3) passing Python objects instead of tensors. For (1), please define your @tf.function outside of the loop. For (2), @tf.function has experimental_relax_shapes=True option that relaxes argument shapes that can avoid unnecessary retracing. For (3), please refer to https://www.tensorflow.org/tutorials/customization/performance#python_or_tensor_args and https://www.tensorflow.org/api_docs/python/tf/function for  more details.\n",
            "1/1 [==============================] - 0s 1ms/step\n"
          ],
          "name": "stdout"
        }
      ]
    },
    {
      "cell_type": "code",
      "metadata": {
        "colab": {
          "base_uri": "https://localhost:8080/"
        },
        "id": "xhVQ4atbRHNv",
        "outputId": "7fc260ba-f20e-4882-97a4-64e15238df7a"
      },
      "source": [
        "X_train2.shape\n"
      ],
      "execution_count": null,
      "outputs": [
        {
          "output_type": "execute_result",
          "data": {
            "text/plain": [
              "(52, 3)"
            ]
          },
          "metadata": {
            "tags": []
          },
          "execution_count": 159
        }
      ]
    },
    {
      "cell_type": "code",
      "metadata": {
        "colab": {
          "base_uri": "https://localhost:8080/"
        },
        "id": "_-bep3kcRKfE",
        "outputId": "6b9c625b-01f6-4e65-a9d2-1e503301f34a"
      },
      "source": [
        "X_test2 = shp_clf.transform(X_test)\n"
      ],
      "execution_count": null,
      "outputs": [
        {
          "output_type": "stream",
          "text": [
            "1/1 [==============================] - 0s 2ms/step\n"
          ],
          "name": "stdout"
        }
      ]
    },
    {
      "cell_type": "code",
      "metadata": {
        "id": "Fwnt6A8pRMpz"
      },
      "source": [
        "from sklearn.neighbors import KNeighborsClassifier\n"
      ],
      "execution_count": null,
      "outputs": []
    },
    {
      "cell_type": "code",
      "metadata": {
        "colab": {
          "base_uri": "https://localhost:8080/"
        },
        "id": "NKszXFBRROZ-",
        "outputId": "83411c82-2b3c-4362-b4cc-fd9f088e799f"
      },
      "source": [
        "clf = KNeighborsClassifier(n_neighbors=5, weights='uniform')\n",
        "clf.fit(X_train2, y_train)"
      ],
      "execution_count": null,
      "outputs": [
        {
          "output_type": "execute_result",
          "data": {
            "text/plain": [
              "KNeighborsClassifier(algorithm='auto', leaf_size=30, metric='minkowski',\n",
              "                     metric_params=None, n_jobs=None, n_neighbors=5, p=2,\n",
              "                     weights='uniform')"
            ]
          },
          "metadata": {
            "tags": []
          },
          "execution_count": 162
        }
      ]
    },
    {
      "cell_type": "code",
      "metadata": {
        "colab": {
          "base_uri": "https://localhost:8080/"
        },
        "id": "AF37bZQsRQl5",
        "outputId": "5826e8c7-dff8-4181-cd71-45cfb6f35d14"
      },
      "source": [
        "y_pred = clf.predict(X_test2)\n",
        "\n",
        "print('Accuracy %s' % accuracy_score(y_test, y_pred))\n",
        "print('F1-score %s' % f1_score(y_test, y_pred, average=None))\n",
        "print(classification_report(y_test, y_pred))"
      ],
      "execution_count": null,
      "outputs": [
        {
          "output_type": "stream",
          "text": [
            "Accuracy 1.0\n",
            "F1-score [1. 1.]\n",
            "              precision    recall  f1-score   support\n",
            "\n",
            "           0       1.00      1.00      1.00         1\n",
            "           1       1.00      1.00      1.00         2\n",
            "\n",
            "    accuracy                           1.00         3\n",
            "   macro avg       1.00      1.00      1.00         3\n",
            "weighted avg       1.00      1.00      1.00         3\n",
            "\n"
          ],
          "name": "stdout"
        }
      ]
    },
    {
      "cell_type": "markdown",
      "metadata": {
        "id": "vBk6VAoHRk1s"
      },
      "source": [
        ""
      ]
    },
    {
      "cell_type": "code",
      "metadata": {
        "id": "WvriEhVpRnKw"
      },
      "source": [
        ""
      ],
      "execution_count": null,
      "outputs": []
    },
    {
      "cell_type": "code",
      "metadata": {
        "id": "RrfrN55KRnbI"
      },
      "source": [
        "import scipy.stats as stats\n"
      ],
      "execution_count": null,
      "outputs": []
    },
    {
      "cell_type": "code",
      "metadata": {
        "id": "SKWxtPeMRpXL"
      },
      "source": [
        "def calculate_features(values):\n",
        "    features = {\n",
        "        'avg': np.mean(values),\n",
        "        'std': np.std(values),\n",
        "        'var': np.var(values),\n",
        "        'med': np.median(values),\n",
        "        '10p': np.percentile(values, 10),\n",
        "        '25p': np.percentile(values, 25),\n",
        "        '50p': np.percentile(values, 50),\n",
        "        '75p': np.percentile(values, 75),\n",
        "        '90p': np.percentile(values, 90),\n",
        "        'iqr': np.percentile(values, 75) - np.percentile(values, 25),\n",
        "        'cov': 1.0 * np.mean(values) / np.std(values),\n",
        "        'skw': stats.skew(values),\n",
        "        'kur': stats.kurtosis(values)\n",
        "    }\n",
        "\n",
        "    return features"
      ],
      "execution_count": null,
      "outputs": []
    },
    {
      "cell_type": "code",
      "metadata": {
        "colab": {
          "base_uri": "https://localhost:8080/"
        },
        "id": "WjLZPtTdRrtE",
        "outputId": "82d9b4ca-7880-4402-d500-43da5f5e0bac"
      },
      "source": [
        "X_train3 = np.array([list(calculate_features(x).values()) for x in X_train])\n",
        "X_train3"
      ],
      "execution_count": null,
      "outputs": [
        {
          "output_type": "execute_result",
          "data": {
            "text/plain": [
              "array([[ 1.88230823,  1.27655508,  1.62959288,  1.97637477,  0.59      ,\n",
              "         0.75      ,  1.97637477,  2.26318739,  3.42      ,  1.51318739,\n",
              "         1.47452174,  1.29526642,  2.5258145 ],\n",
              "       [ 2.54721658,  1.04700549,  1.0962205 ,  2.15274954,  1.4       ,\n",
              "         1.7       ,  2.15274954,  3.15      ,  4.02      ,  1.45      ,\n",
              "         2.43285884,  0.76550505, -0.32591733],\n",
              "       [ 1.54212492,  0.85004264,  0.72257249,  1.4       ,  0.58      ,\n",
              "         0.9       ,  1.4       ,  2.15274954,  2.32      ,  1.25274954,\n",
              "         1.81417361,  0.48402695,  0.03582951],\n",
              "       [ 2.99545826,  1.3301447 ,  1.76928493,  2.45      ,  1.79      ,\n",
              "         2.15274954,  2.45      ,  3.5       ,  4.73      ,  1.34725046,\n",
              "         2.25197924,  1.16916111,  0.54898241],\n",
              "       [ 1.98036661,  1.14253761,  1.30539219,  1.85      ,  0.88      ,\n",
              "         1.325     ,  1.85      ,  2.18818739,  3.01      ,  0.86318739,\n",
              "         1.7333054 ,  2.05689143,  6.44266581],\n",
              "       [ 3.27842498,  1.83022967,  3.34974064,  2.6       ,  1.7       ,\n",
              "         2.1       ,  2.6       ,  3.95      ,  6.54      ,  1.85      ,\n",
              "         1.79126426,  1.34671868,  0.91210005],\n",
              "       [ 1.91194162,  1.19034125,  1.4169123 ,  1.9       ,  0.39      ,\n",
              "         0.95      ,  1.9       ,  2.375     ,  3.55      ,  1.425     ,\n",
              "         1.60621302,  0.60637575, -0.21768372],\n",
              "       [ 3.29879159,  1.98939584,  3.95769581,  2.35      ,  1.59      ,\n",
              "         2.11318739,  2.35      ,  4.        ,  6.42      ,  1.88681261,\n",
              "         1.65818764,  1.5658731 ,  2.09829593],\n",
              "       [ 2.40582486,  1.28878725,  1.66097257,  2.15274954,  0.78      ,\n",
              "         1.55      ,  2.15274954,  3.4       ,  4.4       ,  1.85      ,\n",
              "         1.86673546,  0.55013468, -0.33883871],\n",
              "       [ 3.68230823,  2.13399858,  4.55394993,  2.9       ,  1.6       ,\n",
              "         2.15274954,  2.9       ,  4.575     ,  6.85      ,  2.42225046,\n",
              "         1.7255439 ,  1.07508963,  0.1790634 ],\n",
              "       [ 2.07776648,  1.10707664,  1.22561868,  2.15274954,  0.98      ,\n",
              "         1.3       ,  2.15274954,  2.15274954,  3.76      ,  0.85274954,\n",
              "         1.87680457,  1.31479589,  1.79153031],\n",
              "       [ 3.26091651,  2.10765281,  4.44220035,  2.2       ,  2.14747459,\n",
              "         2.15274954,  2.2       ,  3.875     ,  5.3       ,  1.72225046,\n",
              "         1.54717917,  2.53792447,  7.0658044 ],\n",
              "       [ 1.91582486,  1.09159559,  1.19158094,  2.15274954,  0.6       ,\n",
              "         0.8       ,  2.15274954,  2.41318739,  3.41      ,  1.61318739,\n",
              "         1.75506834,  0.36738763, -0.85309782],\n",
              "       [ 3.51564156,  1.69162887,  2.86160823,  2.6       ,  1.95      ,\n",
              "         2.15274954,  2.6       ,  4.85      ,  5.81      ,  2.69725046,\n",
              "         2.0782582 ,  0.58462267, -0.90698536],\n",
              "       [ 1.81739988,  0.85354897,  0.72854584,  1.9       ,  0.89      ,\n",
              "         1.15      ,  1.9       ,  2.15274954,  3.22      ,  1.00274954,\n",
              "         2.12922743,  0.38321673, -0.163987  ],\n",
              "       [ 3.29739988,  1.6286934 ,  2.6526422 ,  2.7       ,  2.09      ,\n",
              "         2.15274954,  2.7       ,  4.15      ,  5.45      ,  1.99725046,\n",
              "         2.02456759,  1.44994586,  1.13285775],\n",
              "       [ 2.2593415 ,  1.11098929,  1.23429721,  2.15274954,  0.99      ,\n",
              "         1.7       ,  2.15274954,  2.18818739,  3.81      ,  0.48818739,\n",
              "         2.03363031,  0.88251428,  0.71895161],\n",
              "       [ 3.50369994,  1.69656442,  2.87833082,  2.95      ,  2.14747459,\n",
              "         2.2       ,  2.95      ,  4.1       ,  5.07      ,  1.9       ,\n",
              "         2.06517354,  2.10216249,  5.5649348 ],\n",
              "       [ 2.07406655,  1.21904449,  1.48606946,  2.15274954,  0.59      ,\n",
              "         1.2       ,  2.15274954,  2.56318739,  4.23      ,  1.36318739,\n",
              "         1.70138708,  0.83996805,  0.01002833],\n",
              "       [ 2.9591582 ,  1.23113035,  1.51568195,  2.65      ,  2.07747459,\n",
              "         2.15274954,  2.65      ,  3.375     ,  4.61      ,  1.22225046,\n",
              "         2.40361079,  0.96605233,  0.3506445 ],\n",
              "       [ 1.79109982,  0.78317326,  0.61336035,  2.15274954,  0.79      ,\n",
              "         1.025     ,  2.15274954,  2.15274954,  2.61      ,  1.12774954,\n",
              "         2.28697776,  0.18493163, -0.26456347],\n",
              "       [ 3.24091651,  1.77789304,  3.16090368,  2.3       ,  1.89      ,\n",
              "         2.15274954,  2.3       ,  3.6       ,  6.24      ,  1.44725046,\n",
              "         1.82289735,  1.53234263,  1.32677576],\n",
              "       [ 2.23443315,  0.96972886,  0.94037407,  2.15274954,  0.99      ,\n",
              "         2.        ,  2.15274954,  2.18818739,  3.22      ,  0.18818739,\n",
              "         2.3041834 ,  1.24454478,  3.05349196],\n",
              "       [ 3.27739988,  1.60066805,  2.5621382 ,  2.55      ,  1.97      ,\n",
              "         2.15274954,  2.55      ,  4.425     ,  5.32      ,  2.27225046,\n",
              "         2.04752002,  1.34243257,  1.53290344],\n",
              "       [ 1.96739988,  1.13453039,  1.28715921,  2.02637477,  0.6       ,\n",
              "         1.025     ,  2.02637477,  2.15274954,  3.32      ,  1.12774954,\n",
              "         1.73410945,  0.98795821,  1.0100282 ],\n",
              "       [ 4.07684997,  2.15304042,  4.63558303,  3.35      ,  1.7       ,\n",
              "         2.375     ,  3.35      ,  4.975     ,  7.26      ,  2.6       ,\n",
              "         1.89353156,  0.73742917, -0.36879592],\n",
              "       [ 2.36424985,  0.99788085,  0.99576619,  2.15274954,  1.07      ,\n",
              "         1.925     ,  2.15274954,  3.075     ,  4.01      ,  1.15      ,\n",
              "         2.36927069,  0.38913906, -0.65568233],\n",
              "       [ 3.83073321,  1.93863471,  3.75830455,  3.4       ,  2.15274954,\n",
              "         2.15274954,  3.4       ,  4.975     ,  5.92      ,  2.82225046,\n",
              "         1.97599537,  0.94063331,  0.24010574],\n",
              "       [ 2.16897489,  1.16342528,  1.35355838,  2.15274954,  0.6       ,\n",
              "         1.275     ,  2.15274954,  2.7       ,  3.61      ,  1.425     ,\n",
              "         1.86430098,  0.53073864,  0.0124248 ],\n",
              "       [ 3.41388324,  1.835738  ,  3.369934  ,  2.65      ,  1.7       ,\n",
              "         2.15274954,  2.65      ,  4.3       ,  6.03      ,  2.14725046,\n",
              "         1.85967891,  1.15991828,  1.12451314],\n",
              "       [ 1.83721658,  1.00838222,  1.01683471,  1.85      ,  0.69      ,\n",
              "         0.95      ,  1.85      ,  2.15274954,  3.41      ,  1.20274954,\n",
              "         1.82194463,  0.6343779 , -0.30666096],\n",
              "       [ 3.29369994,  1.62443368,  2.63878479,  2.6       ,  1.6       ,\n",
              "         2.15274954,  2.6       ,  4.35      ,  5.51      ,  2.19725046,\n",
              "         2.02759889,  0.96651773,  0.22438478],\n",
              "       [ 2.38879159,  1.59595212,  2.54706317,  2.15274954,  0.7       ,\n",
              "         1.        ,  2.15274954,  3.45      ,  4.29      ,  2.45      ,\n",
              "         1.49678149,  0.85777014,  0.0749018 ],\n",
              "       [ 3.49703327,  1.76908706,  3.12966904,  3.05      ,  1.58      ,\n",
              "         2.15274954,  3.05      ,  4.625     ,  6.11      ,  2.47225046,\n",
              "         1.97674458,  0.75460186, -0.05576446],\n",
              "       [ 2.34212492,  1.50770442,  2.27317261,  2.15274954,  0.69      ,\n",
              "         1.2       ,  2.15274954,  2.875     ,  4.69      ,  1.675     ,\n",
              "         1.55343773,  0.87987991, -0.21364308],\n",
              "       [ 3.08054991,  1.42082548,  2.01874505,  2.5       ,  1.3       ,\n",
              "         2.15274954,  2.5       ,  4.225     ,  5.13      ,  2.07225046,\n",
              "         2.16814095,  0.33668602, -1.24114176],\n",
              "       [ 2.03212492,  1.6283499 ,  2.65152339,  1.8       ,  0.4       ,\n",
              "         0.725     ,  1.8       ,  2.4       ,  4.26      ,  1.675     ,\n",
              "         1.24796576,  1.21638827,  0.8886502 ],\n",
              "       [ 3.84388324,  2.11662335,  4.48009441,  3.35      ,  1.7       ,\n",
              "         2.15274954,  3.35      ,  5.175     ,  6.81      ,  3.02225046,\n",
              "         1.816045  ,  1.00369433,  0.46236297],\n",
              "       [ 1.6091582 ,  0.74960595,  0.56190908,  1.6       ,  0.69      ,\n",
              "         0.925     ,  1.6       ,  2.15274954,  2.20747459,  1.22774954,\n",
              "         2.14667213,  0.05332052, -0.67910763],\n",
              "       [ 2.42036661,  0.95937631,  0.92040291,  2.17637477,  1.49      ,\n",
              "         1.925     ,  2.17637477,  2.6       ,  3.56      ,  0.675     ,\n",
              "         2.52285425,  1.49904188,  2.51239566],\n",
              "       [ 2.22739988,  0.96497562,  0.93117794,  2.15274954,  1.18      ,\n",
              "         1.625     ,  2.15274954,  2.475     ,  3.21      ,  0.85      ,\n",
              "         2.30824473,  1.76170957,  4.72063382],\n",
              "       [ 2.62860829,  0.93444361,  0.87318486,  2.4       ,  1.5       ,\n",
              "         2.15274954,  2.4       ,  3.075     ,  4.22      ,  0.92225046,\n",
              "         2.8130197 ,  0.70914655,  0.0631696 ],\n",
              "       [ 1.92545826,  1.15079636,  1.32433227,  1.9       ,  0.89      ,\n",
              "         1.1       ,  1.9       ,  2.2       ,  2.51      ,  1.1       ,\n",
              "         1.67315289,  1.66122129,  3.07022262],\n",
              "       [ 2.49388324,  1.13066905,  1.27841249,  2.15274954,  1.1       ,\n",
              "         1.85      ,  2.15274954,  3.225     ,  4.24      ,  1.375     ,\n",
              "         2.20567039,  0.59241863, -0.53280245],\n",
              "       [ 1.96860829,  1.04371826,  1.0893478 ,  1.75      ,  0.69      ,\n",
              "         1.2       ,  1.75      ,  2.775     ,  3.35      ,  1.575     ,\n",
              "         1.88614913,  0.449888  , -0.87200916],\n",
              "       [ 2.88212492,  1.08200941,  1.17074436,  2.95      ,  1.68      ,\n",
              "         2.15274954,  2.95      ,  3.775     ,  4.03      ,  1.62225046,\n",
              "         2.66367825,  0.07018854, -0.75683424],\n",
              "       [ 1.79230823,  1.10210784,  1.21464169,  1.45      ,  0.89      ,\n",
              "         1.        ,  1.45      ,  2.15274954,  2.62      ,  1.15274954,\n",
              "         1.62625486,  1.78578545,  3.81253867],\n",
              "       [ 2.23036661,  1.13124219,  1.27970888,  2.1       ,  0.8       ,\n",
              "         1.625     ,  2.1       ,  2.975     ,  3.62      ,  1.35      ,\n",
              "         1.97160841,  0.82391086,  0.60940806],\n",
              "       [ 1.47703327,  0.76981608,  0.59261679,  1.4       ,  0.59      ,\n",
              "         0.9       ,  1.4       ,  2.11456216,  2.21      ,  1.21456216,\n",
              "         1.91868333,  0.60548714,  0.06949354],\n",
              "       [ 2.08388324,  0.96865719,  0.93829675,  2.05      ,  0.99      ,\n",
              "         1.525     ,  2.05      ,  2.15274954,  3.44      ,  0.62774954,\n",
              "         2.15131138,  0.87990365,  0.48586192],\n",
              "       [ 1.44564156,  0.76885041,  0.59113095,  1.35      ,  0.58      ,\n",
              "         0.8       ,  1.35      ,  2.15274954,  2.42      ,  1.35274954,\n",
              "         1.88026376,  0.27500773, -1.19138398],\n",
              "       [ 2.32212492,  1.2857388 ,  1.65312427,  2.07637477,  1.09      ,\n",
              "         1.5       ,  2.07637477,  2.925     ,  4.32      ,  1.425     ,\n",
              "         1.80606272,  1.25241847,  1.26739316]])"
            ]
          },
          "metadata": {
            "tags": []
          },
          "execution_count": 167
        }
      ]
    },
    {
      "cell_type": "code",
      "metadata": {
        "colab": {
          "base_uri": "https://localhost:8080/"
        },
        "id": "wzTUXGFTRteu",
        "outputId": "6780d345-dfc7-46c9-e18e-27b881df34ee"
      },
      "source": [
        "X_test3 = np.array([list(calculate_features(x).values()) for x in X_test2])\n",
        "X_test3"
      ],
      "execution_count": null,
      "outputs": [
        {
          "output_type": "execute_result",
          "data": {
            "text/plain": [
              "array([[ 0.99176747,  0.92425901,  0.85425472,  0.58469009,  0.21263504,\n",
              "         0.35215569,  0.58469009,  1.42784059,  1.93373089,  1.07568491,\n",
              "         1.07304063,  0.57521713, -1.49999988],\n",
              "       [ 1.21337736,  1.34493935,  1.80886173,  0.41145071,  0.17884598,\n",
              "         0.26607276,  0.41145071,  1.75971858,  2.5686793 ,  1.49364582,\n",
              "         0.90217998,  0.68240172, -1.50000008],\n",
              "       [ 0.85644835,  0.84945923,  0.72158098,  0.27576447,  0.24398041,\n",
              "         0.25589943,  0.27576447,  1.1666553 ,  1.7011898 ,  0.91075587,\n",
              "         1.00822773,  0.7059468 , -1.49999999]])"
            ]
          },
          "metadata": {
            "tags": []
          },
          "execution_count": 168
        }
      ]
    },
    {
      "cell_type": "code",
      "metadata": {
        "id": "VYSsxOifRu7y"
      },
      "source": [
        "from sklearn.tree import DecisionTreeClassifier\n"
      ],
      "execution_count": null,
      "outputs": []
    },
    {
      "cell_type": "code",
      "metadata": {
        "colab": {
          "base_uri": "https://localhost:8080/"
        },
        "id": "116sZ_mmXIhZ",
        "outputId": "8fd645a9-fe70-4be8-8e49-1db92a979622"
      },
      "source": [
        "clf = DecisionTreeClassifier(max_depth=8, random_state=42)\n",
        "clf.fit(X_train2, y_train)\n",
        "\n",
        "y_pred = clf.predict(X_test2)\n",
        "\n",
        "print('Accuracy %s' % accuracy_score(y_test, y_pred))\n",
        "print('F1-score %s' % f1_score(y_test, y_pred, average=None))\n",
        "print(classification_report(y_test, y_pred))"
      ],
      "execution_count": null,
      "outputs": [
        {
          "output_type": "stream",
          "text": [
            "Accuracy 0.6666666666666666\n",
            "F1-score [0.66666667 0.66666667]\n",
            "              precision    recall  f1-score   support\n",
            "\n",
            "           0       0.50      1.00      0.67         1\n",
            "           1       1.00      0.50      0.67         2\n",
            "\n",
            "    accuracy                           0.67         3\n",
            "   macro avg       0.75      0.75      0.67         3\n",
            "weighted avg       0.83      0.67      0.67         3\n",
            "\n"
          ],
          "name": "stdout"
        }
      ]
    },
    {
      "cell_type": "markdown",
      "metadata": {
        "id": "WQbvckdYXMef"
      },
      "source": [
        "### Feature-based Classifier\n"
      ]
    },
    {
      "cell_type": "code",
      "metadata": {
        "id": "x-d2QyWfXOHC"
      },
      "source": [
        "import scipy.stats as stats\n"
      ],
      "execution_count": null,
      "outputs": []
    },
    {
      "cell_type": "code",
      "metadata": {
        "id": "grlx1a9UXVQL"
      },
      "source": [
        "def calculate_features(values):\n",
        "    features = {\n",
        "        'avg': np.mean(values),\n",
        "        'std': np.std(values),\n",
        "        'var': np.var(values),\n",
        "        'med': np.median(values),\n",
        "        '10p': np.percentile(values, 10),\n",
        "        '25p': np.percentile(values, 25),\n",
        "        '50p': np.percentile(values, 50),\n",
        "        '75p': np.percentile(values, 75),\n",
        "        '90p': np.percentile(values, 90),\n",
        "        'iqr': np.percentile(values, 75) - np.percentile(values, 25),\n",
        "        'cov': 1.0 * np.mean(values) / np.std(values),\n",
        "        'skw': stats.skew(values),\n",
        "        'kur': stats.kurtosis(values)\n",
        "    }\n",
        "\n",
        "    return features"
      ],
      "execution_count": null,
      "outputs": []
    },
    {
      "cell_type": "code",
      "metadata": {
        "id": "Sh3BsX86XX2a"
      },
      "source": [
        "X_train3 = np.array([list(calculate_features(x).values()) for x in X_train])\n"
      ],
      "execution_count": null,
      "outputs": []
    },
    {
      "cell_type": "code",
      "metadata": {
        "colab": {
          "base_uri": "https://localhost:8080/"
        },
        "id": "2-Sw0trGXZr0",
        "outputId": "fca56640-be7b-47c6-8b58-6bf7a6f467c9"
      },
      "source": [
        "X_train3.shape\n"
      ],
      "execution_count": null,
      "outputs": [
        {
          "output_type": "execute_result",
          "data": {
            "text/plain": [
              "(52, 13)"
            ]
          },
          "metadata": {
            "tags": []
          },
          "execution_count": 174
        }
      ]
    },
    {
      "cell_type": "code",
      "metadata": {
        "colab": {
          "base_uri": "https://localhost:8080/"
        },
        "id": "zsuFOJRZXbgt",
        "outputId": "71412cf0-80d7-40cc-e385-0265b1dc881c"
      },
      "source": [
        "X_train3"
      ],
      "execution_count": null,
      "outputs": [
        {
          "output_type": "execute_result",
          "data": {
            "text/plain": [
              "array([[ 1.88230823,  1.27655508,  1.62959288,  1.97637477,  0.59      ,\n",
              "         0.75      ,  1.97637477,  2.26318739,  3.42      ,  1.51318739,\n",
              "         1.47452174,  1.29526642,  2.5258145 ],\n",
              "       [ 2.54721658,  1.04700549,  1.0962205 ,  2.15274954,  1.4       ,\n",
              "         1.7       ,  2.15274954,  3.15      ,  4.02      ,  1.45      ,\n",
              "         2.43285884,  0.76550505, -0.32591733],\n",
              "       [ 1.54212492,  0.85004264,  0.72257249,  1.4       ,  0.58      ,\n",
              "         0.9       ,  1.4       ,  2.15274954,  2.32      ,  1.25274954,\n",
              "         1.81417361,  0.48402695,  0.03582951],\n",
              "       [ 2.99545826,  1.3301447 ,  1.76928493,  2.45      ,  1.79      ,\n",
              "         2.15274954,  2.45      ,  3.5       ,  4.73      ,  1.34725046,\n",
              "         2.25197924,  1.16916111,  0.54898241],\n",
              "       [ 1.98036661,  1.14253761,  1.30539219,  1.85      ,  0.88      ,\n",
              "         1.325     ,  1.85      ,  2.18818739,  3.01      ,  0.86318739,\n",
              "         1.7333054 ,  2.05689143,  6.44266581],\n",
              "       [ 3.27842498,  1.83022967,  3.34974064,  2.6       ,  1.7       ,\n",
              "         2.1       ,  2.6       ,  3.95      ,  6.54      ,  1.85      ,\n",
              "         1.79126426,  1.34671868,  0.91210005],\n",
              "       [ 1.91194162,  1.19034125,  1.4169123 ,  1.9       ,  0.39      ,\n",
              "         0.95      ,  1.9       ,  2.375     ,  3.55      ,  1.425     ,\n",
              "         1.60621302,  0.60637575, -0.21768372],\n",
              "       [ 3.29879159,  1.98939584,  3.95769581,  2.35      ,  1.59      ,\n",
              "         2.11318739,  2.35      ,  4.        ,  6.42      ,  1.88681261,\n",
              "         1.65818764,  1.5658731 ,  2.09829593],\n",
              "       [ 2.40582486,  1.28878725,  1.66097257,  2.15274954,  0.78      ,\n",
              "         1.55      ,  2.15274954,  3.4       ,  4.4       ,  1.85      ,\n",
              "         1.86673546,  0.55013468, -0.33883871],\n",
              "       [ 3.68230823,  2.13399858,  4.55394993,  2.9       ,  1.6       ,\n",
              "         2.15274954,  2.9       ,  4.575     ,  6.85      ,  2.42225046,\n",
              "         1.7255439 ,  1.07508963,  0.1790634 ],\n",
              "       [ 2.07776648,  1.10707664,  1.22561868,  2.15274954,  0.98      ,\n",
              "         1.3       ,  2.15274954,  2.15274954,  3.76      ,  0.85274954,\n",
              "         1.87680457,  1.31479589,  1.79153031],\n",
              "       [ 3.26091651,  2.10765281,  4.44220035,  2.2       ,  2.14747459,\n",
              "         2.15274954,  2.2       ,  3.875     ,  5.3       ,  1.72225046,\n",
              "         1.54717917,  2.53792447,  7.0658044 ],\n",
              "       [ 1.91582486,  1.09159559,  1.19158094,  2.15274954,  0.6       ,\n",
              "         0.8       ,  2.15274954,  2.41318739,  3.41      ,  1.61318739,\n",
              "         1.75506834,  0.36738763, -0.85309782],\n",
              "       [ 3.51564156,  1.69162887,  2.86160823,  2.6       ,  1.95      ,\n",
              "         2.15274954,  2.6       ,  4.85      ,  5.81      ,  2.69725046,\n",
              "         2.0782582 ,  0.58462267, -0.90698536],\n",
              "       [ 1.81739988,  0.85354897,  0.72854584,  1.9       ,  0.89      ,\n",
              "         1.15      ,  1.9       ,  2.15274954,  3.22      ,  1.00274954,\n",
              "         2.12922743,  0.38321673, -0.163987  ],\n",
              "       [ 3.29739988,  1.6286934 ,  2.6526422 ,  2.7       ,  2.09      ,\n",
              "         2.15274954,  2.7       ,  4.15      ,  5.45      ,  1.99725046,\n",
              "         2.02456759,  1.44994586,  1.13285775],\n",
              "       [ 2.2593415 ,  1.11098929,  1.23429721,  2.15274954,  0.99      ,\n",
              "         1.7       ,  2.15274954,  2.18818739,  3.81      ,  0.48818739,\n",
              "         2.03363031,  0.88251428,  0.71895161],\n",
              "       [ 3.50369994,  1.69656442,  2.87833082,  2.95      ,  2.14747459,\n",
              "         2.2       ,  2.95      ,  4.1       ,  5.07      ,  1.9       ,\n",
              "         2.06517354,  2.10216249,  5.5649348 ],\n",
              "       [ 2.07406655,  1.21904449,  1.48606946,  2.15274954,  0.59      ,\n",
              "         1.2       ,  2.15274954,  2.56318739,  4.23      ,  1.36318739,\n",
              "         1.70138708,  0.83996805,  0.01002833],\n",
              "       [ 2.9591582 ,  1.23113035,  1.51568195,  2.65      ,  2.07747459,\n",
              "         2.15274954,  2.65      ,  3.375     ,  4.61      ,  1.22225046,\n",
              "         2.40361079,  0.96605233,  0.3506445 ],\n",
              "       [ 1.79109982,  0.78317326,  0.61336035,  2.15274954,  0.79      ,\n",
              "         1.025     ,  2.15274954,  2.15274954,  2.61      ,  1.12774954,\n",
              "         2.28697776,  0.18493163, -0.26456347],\n",
              "       [ 3.24091651,  1.77789304,  3.16090368,  2.3       ,  1.89      ,\n",
              "         2.15274954,  2.3       ,  3.6       ,  6.24      ,  1.44725046,\n",
              "         1.82289735,  1.53234263,  1.32677576],\n",
              "       [ 2.23443315,  0.96972886,  0.94037407,  2.15274954,  0.99      ,\n",
              "         2.        ,  2.15274954,  2.18818739,  3.22      ,  0.18818739,\n",
              "         2.3041834 ,  1.24454478,  3.05349196],\n",
              "       [ 3.27739988,  1.60066805,  2.5621382 ,  2.55      ,  1.97      ,\n",
              "         2.15274954,  2.55      ,  4.425     ,  5.32      ,  2.27225046,\n",
              "         2.04752002,  1.34243257,  1.53290344],\n",
              "       [ 1.96739988,  1.13453039,  1.28715921,  2.02637477,  0.6       ,\n",
              "         1.025     ,  2.02637477,  2.15274954,  3.32      ,  1.12774954,\n",
              "         1.73410945,  0.98795821,  1.0100282 ],\n",
              "       [ 4.07684997,  2.15304042,  4.63558303,  3.35      ,  1.7       ,\n",
              "         2.375     ,  3.35      ,  4.975     ,  7.26      ,  2.6       ,\n",
              "         1.89353156,  0.73742917, -0.36879592],\n",
              "       [ 2.36424985,  0.99788085,  0.99576619,  2.15274954,  1.07      ,\n",
              "         1.925     ,  2.15274954,  3.075     ,  4.01      ,  1.15      ,\n",
              "         2.36927069,  0.38913906, -0.65568233],\n",
              "       [ 3.83073321,  1.93863471,  3.75830455,  3.4       ,  2.15274954,\n",
              "         2.15274954,  3.4       ,  4.975     ,  5.92      ,  2.82225046,\n",
              "         1.97599537,  0.94063331,  0.24010574],\n",
              "       [ 2.16897489,  1.16342528,  1.35355838,  2.15274954,  0.6       ,\n",
              "         1.275     ,  2.15274954,  2.7       ,  3.61      ,  1.425     ,\n",
              "         1.86430098,  0.53073864,  0.0124248 ],\n",
              "       [ 3.41388324,  1.835738  ,  3.369934  ,  2.65      ,  1.7       ,\n",
              "         2.15274954,  2.65      ,  4.3       ,  6.03      ,  2.14725046,\n",
              "         1.85967891,  1.15991828,  1.12451314],\n",
              "       [ 1.83721658,  1.00838222,  1.01683471,  1.85      ,  0.69      ,\n",
              "         0.95      ,  1.85      ,  2.15274954,  3.41      ,  1.20274954,\n",
              "         1.82194463,  0.6343779 , -0.30666096],\n",
              "       [ 3.29369994,  1.62443368,  2.63878479,  2.6       ,  1.6       ,\n",
              "         2.15274954,  2.6       ,  4.35      ,  5.51      ,  2.19725046,\n",
              "         2.02759889,  0.96651773,  0.22438478],\n",
              "       [ 2.38879159,  1.59595212,  2.54706317,  2.15274954,  0.7       ,\n",
              "         1.        ,  2.15274954,  3.45      ,  4.29      ,  2.45      ,\n",
              "         1.49678149,  0.85777014,  0.0749018 ],\n",
              "       [ 3.49703327,  1.76908706,  3.12966904,  3.05      ,  1.58      ,\n",
              "         2.15274954,  3.05      ,  4.625     ,  6.11      ,  2.47225046,\n",
              "         1.97674458,  0.75460186, -0.05576446],\n",
              "       [ 2.34212492,  1.50770442,  2.27317261,  2.15274954,  0.69      ,\n",
              "         1.2       ,  2.15274954,  2.875     ,  4.69      ,  1.675     ,\n",
              "         1.55343773,  0.87987991, -0.21364308],\n",
              "       [ 3.08054991,  1.42082548,  2.01874505,  2.5       ,  1.3       ,\n",
              "         2.15274954,  2.5       ,  4.225     ,  5.13      ,  2.07225046,\n",
              "         2.16814095,  0.33668602, -1.24114176],\n",
              "       [ 2.03212492,  1.6283499 ,  2.65152339,  1.8       ,  0.4       ,\n",
              "         0.725     ,  1.8       ,  2.4       ,  4.26      ,  1.675     ,\n",
              "         1.24796576,  1.21638827,  0.8886502 ],\n",
              "       [ 3.84388324,  2.11662335,  4.48009441,  3.35      ,  1.7       ,\n",
              "         2.15274954,  3.35      ,  5.175     ,  6.81      ,  3.02225046,\n",
              "         1.816045  ,  1.00369433,  0.46236297],\n",
              "       [ 1.6091582 ,  0.74960595,  0.56190908,  1.6       ,  0.69      ,\n",
              "         0.925     ,  1.6       ,  2.15274954,  2.20747459,  1.22774954,\n",
              "         2.14667213,  0.05332052, -0.67910763],\n",
              "       [ 2.42036661,  0.95937631,  0.92040291,  2.17637477,  1.49      ,\n",
              "         1.925     ,  2.17637477,  2.6       ,  3.56      ,  0.675     ,\n",
              "         2.52285425,  1.49904188,  2.51239566],\n",
              "       [ 2.22739988,  0.96497562,  0.93117794,  2.15274954,  1.18      ,\n",
              "         1.625     ,  2.15274954,  2.475     ,  3.21      ,  0.85      ,\n",
              "         2.30824473,  1.76170957,  4.72063382],\n",
              "       [ 2.62860829,  0.93444361,  0.87318486,  2.4       ,  1.5       ,\n",
              "         2.15274954,  2.4       ,  3.075     ,  4.22      ,  0.92225046,\n",
              "         2.8130197 ,  0.70914655,  0.0631696 ],\n",
              "       [ 1.92545826,  1.15079636,  1.32433227,  1.9       ,  0.89      ,\n",
              "         1.1       ,  1.9       ,  2.2       ,  2.51      ,  1.1       ,\n",
              "         1.67315289,  1.66122129,  3.07022262],\n",
              "       [ 2.49388324,  1.13066905,  1.27841249,  2.15274954,  1.1       ,\n",
              "         1.85      ,  2.15274954,  3.225     ,  4.24      ,  1.375     ,\n",
              "         2.20567039,  0.59241863, -0.53280245],\n",
              "       [ 1.96860829,  1.04371826,  1.0893478 ,  1.75      ,  0.69      ,\n",
              "         1.2       ,  1.75      ,  2.775     ,  3.35      ,  1.575     ,\n",
              "         1.88614913,  0.449888  , -0.87200916],\n",
              "       [ 2.88212492,  1.08200941,  1.17074436,  2.95      ,  1.68      ,\n",
              "         2.15274954,  2.95      ,  3.775     ,  4.03      ,  1.62225046,\n",
              "         2.66367825,  0.07018854, -0.75683424],\n",
              "       [ 1.79230823,  1.10210784,  1.21464169,  1.45      ,  0.89      ,\n",
              "         1.        ,  1.45      ,  2.15274954,  2.62      ,  1.15274954,\n",
              "         1.62625486,  1.78578545,  3.81253867],\n",
              "       [ 2.23036661,  1.13124219,  1.27970888,  2.1       ,  0.8       ,\n",
              "         1.625     ,  2.1       ,  2.975     ,  3.62      ,  1.35      ,\n",
              "         1.97160841,  0.82391086,  0.60940806],\n",
              "       [ 1.47703327,  0.76981608,  0.59261679,  1.4       ,  0.59      ,\n",
              "         0.9       ,  1.4       ,  2.11456216,  2.21      ,  1.21456216,\n",
              "         1.91868333,  0.60548714,  0.06949354],\n",
              "       [ 2.08388324,  0.96865719,  0.93829675,  2.05      ,  0.99      ,\n",
              "         1.525     ,  2.05      ,  2.15274954,  3.44      ,  0.62774954,\n",
              "         2.15131138,  0.87990365,  0.48586192],\n",
              "       [ 1.44564156,  0.76885041,  0.59113095,  1.35      ,  0.58      ,\n",
              "         0.8       ,  1.35      ,  2.15274954,  2.42      ,  1.35274954,\n",
              "         1.88026376,  0.27500773, -1.19138398],\n",
              "       [ 2.32212492,  1.2857388 ,  1.65312427,  2.07637477,  1.09      ,\n",
              "         1.5       ,  2.07637477,  2.925     ,  4.32      ,  1.425     ,\n",
              "         1.80606272,  1.25241847,  1.26739316]])"
            ]
          },
          "metadata": {
            "tags": []
          },
          "execution_count": 175
        }
      ]
    },
    {
      "cell_type": "code",
      "metadata": {
        "id": "GSxA70h5XdkQ"
      },
      "source": [
        "X_test3 = np.array([list(calculate_features(x).values()) for x in X_test])\n"
      ],
      "execution_count": null,
      "outputs": []
    },
    {
      "cell_type": "code",
      "metadata": {
        "colab": {
          "base_uri": "https://localhost:8080/"
        },
        "id": "iytJYWtvXfj0",
        "outputId": "f1b4b130-f9f6-4168-f29e-1227297f4585"
      },
      "source": [
        "clf = DecisionTreeClassifier(max_depth=8, random_state=42)\n",
        "clf.fit(X_train3, y_train)\n",
        "\n",
        "y_pred = clf.predict(X_test3)\n",
        "\n",
        "print('Accuracy %s' % accuracy_score(y_test, y_pred))\n",
        "print('F1-score %s' % f1_score(y_test, y_pred, average=None))\n",
        "print(classification_report(y_test, y_pred))"
      ],
      "execution_count": null,
      "outputs": [
        {
          "output_type": "stream",
          "text": [
            "Accuracy 0.6666666666666666\n",
            "F1-score [0.  0.8]\n",
            "              precision    recall  f1-score   support\n",
            "\n",
            "           0       0.00      0.00      0.00         1\n",
            "           1       0.67      1.00      0.80         2\n",
            "\n",
            "    accuracy                           0.67         3\n",
            "   macro avg       0.33      0.50      0.40         3\n",
            "weighted avg       0.44      0.67      0.53         3\n",
            "\n"
          ],
          "name": "stdout"
        },
        {
          "output_type": "stream",
          "text": [
            "/usr/local/lib/python3.6/dist-packages/sklearn/metrics/_classification.py:1272: UndefinedMetricWarning: Precision and F-score are ill-defined and being set to 0.0 in labels with no predicted samples. Use `zero_division` parameter to control this behavior.\n",
            "  _warn_prf(average, modifier, msg_start, len(result))\n"
          ],
          "name": "stderr"
        }
      ]
    },
    {
      "cell_type": "markdown",
      "metadata": {
        "id": "MY_HQ6iWXkOq"
      },
      "source": [
        "### Time Series Classifier"
      ]
    },
    {
      "cell_type": "code",
      "metadata": {
        "colab": {
          "base_uri": "https://localhost:8080/"
        },
        "id": "UqyByn6-XlT6",
        "outputId": "f66ecfff-a49b-450f-fc66-063cb14c6032"
      },
      "source": [
        "clf = KNeighborsClassifier(n_neighbors=5, weights='uniform')\n",
        "clf.fit(X_train, y_train)\n",
        "\n",
        "y_pred = clf.predict(X_test)\n",
        "\n",
        "print('Accuracy %s' % accuracy_score(y_test, y_pred))\n",
        "print('F1-score %s' % f1_score(y_test, y_pred, average=None))\n",
        "print(classification_report(y_test, y_pred))"
      ],
      "execution_count": null,
      "outputs": [
        {
          "output_type": "stream",
          "text": [
            "Accuracy 1.0\n",
            "F1-score [1. 1.]\n",
            "              precision    recall  f1-score   support\n",
            "\n",
            "           0       1.00      1.00      1.00         1\n",
            "           1       1.00      1.00      1.00         2\n",
            "\n",
            "    accuracy                           1.00         3\n",
            "   macro avg       1.00      1.00      1.00         3\n",
            "weighted avg       1.00      1.00      1.00         3\n",
            "\n"
          ],
          "name": "stdout"
        }
      ]
    },
    {
      "cell_type": "code",
      "metadata": {
        "colab": {
          "base_uri": "https://localhost:8080/"
        },
        "id": "4TF0kNNyXqzM",
        "outputId": "d82e5653-4afb-4d41-91ef-b61e45d07887"
      },
      "source": [
        "clf = DecisionTreeClassifier(max_depth=8, random_state=42)\n",
        "clf.fit(X_train, y_train)\n",
        "\n",
        "y_pred = clf.predict(X_test)\n",
        "\n",
        "print('Accuracy %s' % accuracy_score(y_test, y_pred))\n",
        "print('F1-score %s' % f1_score(y_test, y_pred, average=None))\n",
        "print(classification_report(y_test, y_pred))"
      ],
      "execution_count": null,
      "outputs": [
        {
          "output_type": "stream",
          "text": [
            "Accuracy 0.6666666666666666\n",
            "F1-score [0.  0.8]\n",
            "              precision    recall  f1-score   support\n",
            "\n",
            "           0       0.00      0.00      0.00         1\n",
            "           1       0.67      1.00      0.80         2\n",
            "\n",
            "    accuracy                           0.67         3\n",
            "   macro avg       0.33      0.50      0.40         3\n",
            "weighted avg       0.44      0.67      0.53         3\n",
            "\n"
          ],
          "name": "stdout"
        },
        {
          "output_type": "stream",
          "text": [
            "/usr/local/lib/python3.6/dist-packages/sklearn/metrics/_classification.py:1272: UndefinedMetricWarning: Precision and F-score are ill-defined and being set to 0.0 in labels with no predicted samples. Use `zero_division` parameter to control this behavior.\n",
            "  _warn_prf(average, modifier, msg_start, len(result))\n"
          ],
          "name": "stderr"
        }
      ]
    },
    {
      "cell_type": "code",
      "metadata": {
        "colab": {
          "base_uri": "https://localhost:8080/"
        },
        "id": "IARwGPRDXvLM",
        "outputId": "dad0e579-6c58-4238-bb53-5d2195a4a820"
      },
      "source": [
        "pip install pyts"
      ],
      "execution_count": null,
      "outputs": [
        {
          "output_type": "stream",
          "text": [
            "Collecting pyts\n",
            "\u001b[?25l  Downloading https://files.pythonhosted.org/packages/b6/2b/1a62c0d32b40ee85daa8f6a6160828537b3d846c9fe93253b38846c6ec1f/pyts-0.11.0-py3-none-any.whl (2.5MB)\n",
            "\u001b[K     |████████████████████████████████| 2.5MB 5.1MB/s \n",
            "\u001b[?25hRequirement already satisfied: numba>=0.48.0 in /usr/local/lib/python3.6/dist-packages (from pyts) (0.48.0)\n",
            "Requirement already satisfied: numpy>=1.17.5 in /usr/local/lib/python3.6/dist-packages (from pyts) (1.18.5)\n",
            "Requirement already satisfied: scikit-learn>=0.22.1 in /usr/local/lib/python3.6/dist-packages (from pyts) (0.22.2.post1)\n",
            "Requirement already satisfied: joblib>=0.12 in /usr/local/lib/python3.6/dist-packages (from pyts) (0.17.0)\n",
            "Requirement already satisfied: scipy>=1.3.0 in /usr/local/lib/python3.6/dist-packages (from pyts) (1.4.1)\n",
            "Requirement already satisfied: setuptools in /usr/local/lib/python3.6/dist-packages (from numba>=0.48.0->pyts) (50.3.2)\n",
            "Requirement already satisfied: llvmlite<0.32.0,>=0.31.0dev0 in /usr/local/lib/python3.6/dist-packages (from numba>=0.48.0->pyts) (0.31.0)\n",
            "Installing collected packages: pyts\n",
            "Successfully installed pyts-0.11.0\n"
          ],
          "name": "stdout"
        }
      ]
    },
    {
      "cell_type": "code",
      "metadata": {
        "id": "kCm8QIQzXspl"
      },
      "source": [
        "from pyts.classification import KNeighborsClassifier\n"
      ],
      "execution_count": null,
      "outputs": []
    },
    {
      "cell_type": "code",
      "metadata": {
        "colab": {
          "base_uri": "https://localhost:8080/"
        },
        "id": "rTdaY-18Xudv",
        "outputId": "68b811df-dee7-4768-8983-05e38119a4fc"
      },
      "source": [
        "clf = KNeighborsClassifier(metric='dtw_sakoechiba')\n",
        "clf.fit(X_train, y_train)\n",
        "\n",
        "y_pred = clf.predict(X_test)\n",
        "\n",
        "print('Accuracy %s' % accuracy_score(y_test, y_pred))\n",
        "print('F1-score %s' % f1_score(y_test, y_pred, average=None))\n",
        "print(classification_report(y_test, y_pred))"
      ],
      "execution_count": null,
      "outputs": [
        {
          "output_type": "stream",
          "text": [
            "Accuracy 0.6666666666666666\n",
            "F1-score [0.66666667 0.66666667]\n",
            "              precision    recall  f1-score   support\n",
            "\n",
            "           0       0.50      1.00      0.67         1\n",
            "           1       1.00      0.50      0.67         2\n",
            "\n",
            "    accuracy                           0.67         3\n",
            "   macro avg       0.75      0.75      0.67         3\n",
            "weighted avg       0.83      0.67      0.67         3\n",
            "\n"
          ],
          "name": "stdout"
        }
      ]
    },
    {
      "cell_type": "markdown",
      "metadata": {
        "id": "j7hKBJ66X00H"
      },
      "source": [
        "### CNN"
      ]
    },
    {
      "cell_type": "code",
      "metadata": {
        "id": "3j3DB4AZYGhe"
      },
      "source": [
        "from keras.models import Sequential\n",
        "from keras.layers import Dense, Dropout, GlobalAveragePooling1D\n",
        "from keras.layers import Conv1D, Activation, Conv1D, BatchNormalization"
      ],
      "execution_count": null,
      "outputs": []
    },
    {
      "cell_type": "code",
      "metadata": {
        "id": "eEQp3Q75YIXB"
      },
      "source": [
        "def build_simple_cnn(n_timesteps, n_outputs):\n",
        "    model = Sequential()\n",
        "    \n",
        "    model.add(Conv1D(filters=16, kernel_size=8, activation='relu', input_shape=(n_timesteps, 1)))\n",
        "    model.add(BatchNormalization())\n",
        "    model.add(Activation('relu'))\n",
        "    \n",
        "    model.add(Dropout(0.3))\n",
        "    \n",
        "    model.add(Conv1D(filters=32, kernel_size=5, activation='relu'))\n",
        "    model.add(BatchNormalization())\n",
        "    model.add(Activation('relu'))\n",
        "    \n",
        "    model.add(Dropout(0.3))\n",
        "    \n",
        "    model.add(Conv1D(filters=64, kernel_size=3, activation='relu'))\n",
        "    model.add(BatchNormalization())\n",
        "    model.add(Activation('relu'))\n",
        "    \n",
        "    model.add(Dropout(0.3))\n",
        "    \n",
        "    model.add(GlobalAveragePooling1D())\n",
        "    \n",
        "    model.add(Dense(n_outputs, activation='sigmoid'))\n",
        "    model.compile(loss='sparse_categorical_crossentropy', optimizer='adam', metrics=['accuracy'])\n",
        "    \n",
        "    return model"
      ],
      "execution_count": null,
      "outputs": []
    },
    {
      "cell_type": "code",
      "metadata": {
        "colab": {
          "base_uri": "https://localhost:8080/"
        },
        "id": "yyg0G5w6YKkU",
        "outputId": "07a56b5e-3835-422f-884b-ae7310c707c0"
      },
      "source": [
        "X_train_cnn = X_train.reshape((X_train.shape[0], X_train.shape[1], 1))\n",
        "X_test_cnn = X_test.reshape((X_test.shape[0], X_test.shape[1], 1))\n",
        "\n",
        "X_train_cnn, X_val_cnn, y_train_cnn, y_val_cnn = train_test_split(X_train_cnn, y_train, test_size=0.2, stratify=y_train)\n",
        "\n",
        "n_timesteps, n_outputs, n_features = X_train_cnn.shape[1], len(np.unique(y_train_cnn)), 1 \n",
        "print(\"TIMESTEPS: \", n_timesteps)\n",
        "print(\"N. LABELS: \", n_outputs)"
      ],
      "execution_count": null,
      "outputs": [
        {
          "output_type": "stream",
          "text": [
            "TIMESTEPS:  30\n",
            "N. LABELS:  2\n"
          ],
          "name": "stdout"
        }
      ]
    },
    {
      "cell_type": "code",
      "metadata": {
        "id": "sgx_X3VfYMcu"
      },
      "source": [
        "cnn = build_simple_cnn(n_timesteps, n_outputs)\n"
      ],
      "execution_count": null,
      "outputs": []
    },
    {
      "cell_type": "code",
      "metadata": {
        "colab": {
          "base_uri": "https://localhost:8080/"
        },
        "id": "dyNo0CqyYN3W",
        "outputId": "d9e32c2c-1e9d-4c34-9458-891c0ecded23"
      },
      "source": [
        "cnn.summary()\n"
      ],
      "execution_count": null,
      "outputs": [
        {
          "output_type": "stream",
          "text": [
            "Model: \"sequential\"\n",
            "_________________________________________________________________\n",
            "Layer (type)                 Output Shape              Param #   \n",
            "=================================================================\n",
            "conv1d (Conv1D)              (None, 23, 16)            144       \n",
            "_________________________________________________________________\n",
            "batch_normalization (BatchNo (None, 23, 16)            64        \n",
            "_________________________________________________________________\n",
            "activation (Activation)      (None, 23, 16)            0         \n",
            "_________________________________________________________________\n",
            "dropout (Dropout)            (None, 23, 16)            0         \n",
            "_________________________________________________________________\n",
            "conv1d_1 (Conv1D)            (None, 19, 32)            2592      \n",
            "_________________________________________________________________\n",
            "batch_normalization_1 (Batch (None, 19, 32)            128       \n",
            "_________________________________________________________________\n",
            "activation_1 (Activation)    (None, 19, 32)            0         \n",
            "_________________________________________________________________\n",
            "dropout_1 (Dropout)          (None, 19, 32)            0         \n",
            "_________________________________________________________________\n",
            "conv1d_2 (Conv1D)            (None, 17, 64)            6208      \n",
            "_________________________________________________________________\n",
            "batch_normalization_2 (Batch (None, 17, 64)            256       \n",
            "_________________________________________________________________\n",
            "activation_2 (Activation)    (None, 17, 64)            0         \n",
            "_________________________________________________________________\n",
            "dropout_2 (Dropout)          (None, 17, 64)            0         \n",
            "_________________________________________________________________\n",
            "global_average_pooling1d (Gl (None, 64)                0         \n",
            "_________________________________________________________________\n",
            "dense (Dense)                (None, 2)                 130       \n",
            "=================================================================\n",
            "Total params: 9,522\n",
            "Trainable params: 9,298\n",
            "Non-trainable params: 224\n",
            "_________________________________________________________________\n"
          ],
          "name": "stdout"
        }
      ]
    },
    {
      "cell_type": "code",
      "metadata": {
        "id": "tNntTu7eYPmJ"
      },
      "source": [
        "from keras.callbacks import ReduceLROnPlateau, ModelCheckpoint\n"
      ],
      "execution_count": null,
      "outputs": []
    },
    {
      "cell_type": "code",
      "metadata": {
        "id": "DvV4HPZoYRhM"
      },
      "source": [
        "rlr = ReduceLROnPlateau(monitor='loss', factor=0.5, patience=50, min_lr=0.0001)\n",
        "mc = ModelCheckpoint('best_model_cnn.h5', monitor='val_loss', save_best_only=True)\n",
        "\n",
        "callbacks = [rlr, mc]\n",
        "\n",
        "batch_size = 16\n",
        "mini_batch_size = int(min(X_train_cnn.shape[0]/10, batch_size))"
      ],
      "execution_count": null,
      "outputs": []
    },
    {
      "cell_type": "code",
      "metadata": {
        "colab": {
          "base_uri": "https://localhost:8080/"
        },
        "id": "Pq3LOtSbYTlU",
        "outputId": "fe5c7e51-02e4-48dd-df85-847cd8f25e87"
      },
      "source": [
        "history_cnn = cnn.fit(X_train_cnn, y_train_cnn, epochs=5, batch_size=mini_batch_size, callbacks=callbacks,\n",
        "                      validation_data=(X_val_cnn, y_val_cnn)).history"
      ],
      "execution_count": null,
      "outputs": [
        {
          "output_type": "stream",
          "text": [
            "Epoch 1/5\n",
            "11/11 [==============================] - 0s 10ms/step - loss: 0.4791 - accuracy: 0.8049 - val_loss: 0.4812 - val_accuracy: 0.6364\n",
            "Epoch 2/5\n",
            "11/11 [==============================] - 0s 5ms/step - loss: 0.4483 - accuracy: 0.7561 - val_loss: 0.4953 - val_accuracy: 0.6364\n",
            "Epoch 3/5\n",
            "11/11 [==============================] - 0s 5ms/step - loss: 0.4960 - accuracy: 0.7561 - val_loss: 0.5219 - val_accuracy: 0.6364\n",
            "Epoch 4/5\n",
            "11/11 [==============================] - 0s 5ms/step - loss: 0.3485 - accuracy: 0.8537 - val_loss: 0.5481 - val_accuracy: 0.6364\n",
            "Epoch 5/5\n",
            "11/11 [==============================] - 0s 5ms/step - loss: 0.4273 - accuracy: 0.8537 - val_loss: 0.5587 - val_accuracy: 0.6364\n"
          ],
          "name": "stdout"
        }
      ]
    },
    {
      "cell_type": "code",
      "metadata": {
        "colab": {
          "base_uri": "https://localhost:8080/"
        },
        "id": "8S5f0ZXiYXia",
        "outputId": "74552c10-7150-4b5a-8c81-5caee3495d64"
      },
      "source": [
        "y_pred = np.argmax(cnn.predict(X_test_cnn), axis=1)\n",
        "\n",
        "print('Accuracy %s' % accuracy_score(y_test, y_pred))\n",
        "print('F1-score %s' % f1_score(y_test, y_pred, average=None))\n",
        "print(classification_report(y_test, y_pred))"
      ],
      "execution_count": null,
      "outputs": [
        {
          "output_type": "stream",
          "text": [
            "WARNING:tensorflow:7 out of the last 11 calls to <function Model.make_predict_function.<locals>.predict_function at 0x7f40b4293268> triggered tf.function retracing. Tracing is expensive and the excessive number of tracings could be due to (1) creating @tf.function repeatedly in a loop, (2) passing tensors with different shapes, (3) passing Python objects instead of tensors. For (1), please define your @tf.function outside of the loop. For (2), @tf.function has experimental_relax_shapes=True option that relaxes argument shapes that can avoid unnecessary retracing. For (3), please refer to https://www.tensorflow.org/tutorials/customization/performance#python_or_tensor_args and https://www.tensorflow.org/api_docs/python/tf/function for  more details.\n",
            "Accuracy 0.6666666666666666\n",
            "F1-score [0.  0.8]\n",
            "              precision    recall  f1-score   support\n",
            "\n",
            "           0       0.00      0.00      0.00         1\n",
            "           1       0.67      1.00      0.80         2\n",
            "\n",
            "    accuracy                           0.67         3\n",
            "   macro avg       0.33      0.50      0.40         3\n",
            "weighted avg       0.44      0.67      0.53         3\n",
            "\n"
          ],
          "name": "stdout"
        },
        {
          "output_type": "stream",
          "text": [
            "/usr/local/lib/python3.6/dist-packages/sklearn/metrics/_classification.py:1272: UndefinedMetricWarning: Precision and F-score are ill-defined and being set to 0.0 in labels with no predicted samples. Use `zero_division` parameter to control this behavior.\n",
            "  _warn_prf(average, modifier, msg_start, len(result))\n"
          ],
          "name": "stderr"
        }
      ]
    },
    {
      "cell_type": "code",
      "metadata": {
        "colab": {
          "base_uri": "https://localhost:8080/"
        },
        "id": "er80ihkOYZoj",
        "outputId": "7e4686d9-885c-4a42-eb81-39a7a2f9f205"
      },
      "source": [
        "cnn.evaluate(X_test_cnn, y_test)\n"
      ],
      "execution_count": null,
      "outputs": [
        {
          "output_type": "stream",
          "text": [
            "1/1 [==============================] - 0s 1ms/step - loss: 0.5521 - accuracy: 0.6667\n"
          ],
          "name": "stdout"
        },
        {
          "output_type": "execute_result",
          "data": {
            "text/plain": [
              "[0.5520922541618347, 0.6666666865348816]"
            ]
          },
          "metadata": {
            "tags": []
          },
          "execution_count": 197
        }
      ]
    },
    {
      "cell_type": "markdown",
      "metadata": {
        "id": "S3QXSxnrYcC_"
      },
      "source": [
        "###  LSTM Classifier"
      ]
    },
    {
      "cell_type": "code",
      "metadata": {
        "id": "btXDw8OxYelY"
      },
      "source": [
        "from keras.layers import LSTM\n"
      ],
      "execution_count": null,
      "outputs": []
    },
    {
      "cell_type": "code",
      "metadata": {
        "id": "hPyXL1XqYrI4"
      },
      "source": [
        "def build_lstm(n_timesteps, n_outputs):\n",
        "    model = Sequential()\n",
        "    model.add(LSTM(256, input_shape=(n_timesteps, 1)))\n",
        "    model.add(Dropout(0.5))\n",
        "    model.add(Dense(64, activation='relu'))\n",
        "    model.add(Dropout(0.2))\n",
        "    model.add(Dense(n_outputs, activation='sigmoid'))\n",
        "    \n",
        "    model.compile(loss='sparse_categorical_crossentropy', optimizer='adam', metrics=['accuracy'])\n",
        "    \n",
        "    return model"
      ],
      "execution_count": null,
      "outputs": []
    },
    {
      "cell_type": "code",
      "metadata": {
        "id": "CEi5sNVVYsqI"
      },
      "source": [
        "lstm = build_lstm(n_timesteps, n_outputs)\n"
      ],
      "execution_count": null,
      "outputs": []
    },
    {
      "cell_type": "code",
      "metadata": {
        "colab": {
          "base_uri": "https://localhost:8080/"
        },
        "id": "XHpw9haTYuEn",
        "outputId": "a97cb4b1-59d2-4b48-95df-12cacd9b0805"
      },
      "source": [
        "lstm.summary()\n"
      ],
      "execution_count": null,
      "outputs": [
        {
          "output_type": "stream",
          "text": [
            "Model: \"sequential_1\"\n",
            "_________________________________________________________________\n",
            "Layer (type)                 Output Shape              Param #   \n",
            "=================================================================\n",
            "lstm (LSTM)                  (None, 256)               264192    \n",
            "_________________________________________________________________\n",
            "dropout_3 (Dropout)          (None, 256)               0         \n",
            "_________________________________________________________________\n",
            "dense_1 (Dense)              (None, 64)                16448     \n",
            "_________________________________________________________________\n",
            "dropout_4 (Dropout)          (None, 64)                0         \n",
            "_________________________________________________________________\n",
            "dense_2 (Dense)              (None, 2)                 130       \n",
            "=================================================================\n",
            "Total params: 280,770\n",
            "Trainable params: 280,770\n",
            "Non-trainable params: 0\n",
            "_________________________________________________________________\n"
          ],
          "name": "stdout"
        }
      ]
    },
    {
      "cell_type": "code",
      "metadata": {
        "colab": {
          "base_uri": "https://localhost:8080/"
        },
        "id": "R-AyNDHKYw8O",
        "outputId": "6d57e33b-4020-43cd-f3fd-f7ffe2d60d89"
      },
      "source": [
        "history_lstm = cnn.fit(X_train_cnn, y_train_cnn, epochs=10, batch_size=mini_batch_size, callbacks=callbacks,\n",
        "                       validation_data=(X_val_cnn, y_val_cnn)).history"
      ],
      "execution_count": null,
      "outputs": [
        {
          "output_type": "stream",
          "text": [
            "Epoch 1/10\n",
            "11/11 [==============================] - 0s 6ms/step - loss: 0.5468 - accuracy: 0.7073 - val_loss: 0.5627 - val_accuracy: 0.6364\n",
            "Epoch 2/10\n",
            "11/11 [==============================] - 0s 4ms/step - loss: 0.3962 - accuracy: 0.8293 - val_loss: 0.5659 - val_accuracy: 0.6364\n",
            "Epoch 3/10\n",
            "11/11 [==============================] - 0s 4ms/step - loss: 0.5001 - accuracy: 0.7561 - val_loss: 0.5762 - val_accuracy: 0.6364\n",
            "Epoch 4/10\n",
            "11/11 [==============================] - 0s 4ms/step - loss: 0.3708 - accuracy: 0.8780 - val_loss: 0.5859 - val_accuracy: 0.6364\n",
            "Epoch 5/10\n",
            "11/11 [==============================] - 0s 4ms/step - loss: 0.4112 - accuracy: 0.7561 - val_loss: 0.5823 - val_accuracy: 0.6364\n",
            "Epoch 6/10\n",
            "11/11 [==============================] - 0s 4ms/step - loss: 0.4183 - accuracy: 0.8293 - val_loss: 0.5828 - val_accuracy: 0.7273\n",
            "Epoch 7/10\n",
            "11/11 [==============================] - 0s 4ms/step - loss: 0.5255 - accuracy: 0.7805 - val_loss: 0.5889 - val_accuracy: 0.7273\n",
            "Epoch 8/10\n",
            "11/11 [==============================] - 0s 4ms/step - loss: 0.3226 - accuracy: 0.8780 - val_loss: 0.5907 - val_accuracy: 0.8182\n",
            "Epoch 9/10\n",
            "11/11 [==============================] - 0s 4ms/step - loss: 0.4088 - accuracy: 0.8537 - val_loss: 0.5902 - val_accuracy: 0.8182\n",
            "Epoch 10/10\n",
            "11/11 [==============================] - 0s 4ms/step - loss: 0.2914 - accuracy: 0.9268 - val_loss: 0.5864 - val_accuracy: 0.8182\n"
          ],
          "name": "stdout"
        }
      ]
    },
    {
      "cell_type": "code",
      "metadata": {
        "colab": {
          "base_uri": "https://localhost:8080/"
        },
        "id": "wugoHpgAYzgm",
        "outputId": "25bfe987-a150-4af3-bec0-73218afcd7ad"
      },
      "source": [
        "y_pred = np.argmax(lstm.predict(X_test_cnn), axis=1)\n",
        "\n",
        "print('Accuracy %s' % accuracy_score(y_test, y_pred))\n",
        "print('F1-score %s' % f1_score(y_test, y_pred, average=None))\n",
        "print(classification_report(y_test, y_pred))"
      ],
      "execution_count": null,
      "outputs": [
        {
          "output_type": "stream",
          "text": [
            "WARNING:tensorflow:8 out of the last 12 calls to <function Model.make_predict_function.<locals>.predict_function at 0x7f40b410e840> triggered tf.function retracing. Tracing is expensive and the excessive number of tracings could be due to (1) creating @tf.function repeatedly in a loop, (2) passing tensors with different shapes, (3) passing Python objects instead of tensors. For (1), please define your @tf.function outside of the loop. For (2), @tf.function has experimental_relax_shapes=True option that relaxes argument shapes that can avoid unnecessary retracing. For (3), please refer to https://www.tensorflow.org/tutorials/customization/performance#python_or_tensor_args and https://www.tensorflow.org/api_docs/python/tf/function for  more details.\n",
            "Accuracy 0.6666666666666666\n",
            "F1-score [0.  0.8]\n",
            "              precision    recall  f1-score   support\n",
            "\n",
            "           0       0.00      0.00      0.00         1\n",
            "           1       0.67      1.00      0.80         2\n",
            "\n",
            "    accuracy                           0.67         3\n",
            "   macro avg       0.33      0.50      0.40         3\n",
            "weighted avg       0.44      0.67      0.53         3\n",
            "\n"
          ],
          "name": "stdout"
        },
        {
          "output_type": "stream",
          "text": [
            "/usr/local/lib/python3.6/dist-packages/sklearn/metrics/_classification.py:1272: UndefinedMetricWarning: Precision and F-score are ill-defined and being set to 0.0 in labels with no predicted samples. Use `zero_division` parameter to control this behavior.\n",
            "  _warn_prf(average, modifier, msg_start, len(result))\n"
          ],
          "name": "stderr"
        }
      ]
    },
    {
      "cell_type": "code",
      "metadata": {
        "colab": {
          "base_uri": "https://localhost:8080/"
        },
        "id": "TVYrd2CQY1cS",
        "outputId": "47a83f0d-5778-4e15-a834-b369b4ec9f3b"
      },
      "source": [
        "lstm.evaluate(X_test_cnn, y_test)\n"
      ],
      "execution_count": null,
      "outputs": [
        {
          "output_type": "stream",
          "text": [
            "1/1 [==============================] - 0s 1ms/step - loss: 0.6746 - accuracy: 0.6667\n"
          ],
          "name": "stdout"
        },
        {
          "output_type": "execute_result",
          "data": {
            "text/plain": [
              "[0.6745977401733398, 0.6666666865348816]"
            ]
          },
          "metadata": {
            "tags": []
          },
          "execution_count": 204
        }
      ]
    }
  ]
}