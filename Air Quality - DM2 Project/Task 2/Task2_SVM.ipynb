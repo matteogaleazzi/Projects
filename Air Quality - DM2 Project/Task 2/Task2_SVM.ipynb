{
  "nbformat": 4,
  "nbformat_minor": 0,
  "metadata": {
    "kernelspec": {
      "display_name": "Python 3",
      "language": "python",
      "name": "python3"
    },
    "language_info": {
      "codemirror_mode": {
        "name": "ipython",
        "version": 3
      },
      "file_extension": ".py",
      "mimetype": "text/x-python",
      "name": "python",
      "nbconvert_exporter": "python",
      "pygments_lexer": "ipython3",
      "version": "3.7.1"
    },
    "colab": {
      "name": "Task2_SVM.ipynb",
      "provenance": [],
      "collapsed_sections": [],
      "toc_visible": true,
      "machine_shape": "hm"
    }
  },
  "cells": [
    {
      "cell_type": "markdown",
      "metadata": {
        "id": "jK5qS2Tnhb6f"
      },
      "source": [
        "# **Project Task 2 - Advanced Classifiers and Evaluation**"
      ]
    },
    {
      "cell_type": "markdown",
      "metadata": {
        "id": "ycBF3aX14_oC"
      },
      "source": [
        "## **Data Preparation**"
      ]
    },
    {
      "cell_type": "code",
      "metadata": {
        "id": "IApkCGAO4F-V"
      },
      "source": [
        "%matplotlib inline\n",
        "import math\n",
        "import numpy as np\n",
        "import pandas as pd\n",
        "import scipy.stats as stats\n",
        "from sklearn import preprocessing\n",
        "import matplotlib.pyplot as plt\n",
        "import seaborn as sns\n",
        "\n",
        "from collections import defaultdict\n",
        "from scipy.stats.stats import pearsonr"
      ],
      "execution_count": null,
      "outputs": []
    },
    {
      "cell_type": "code",
      "metadata": {
        "id": "1ePun270PB4N"
      },
      "source": [
        "df = pd.read_csv('AirQualityUCI.csv', sep=';',decimal=\",\") "
      ],
      "execution_count": null,
      "outputs": []
    },
    {
      "cell_type": "code",
      "metadata": {
        "id": "ur4nX_fVPB4W",
        "outputId": "d7052f0a-05f0-4910-8ed6-63468f7be74d",
        "colab": {
          "base_uri": "https://localhost:8080/",
          "height": 241
        }
      },
      "source": [
        "df.head()"
      ],
      "execution_count": null,
      "outputs": [
        {
          "output_type": "execute_result",
          "data": {
            "text/html": [
              "<div>\n",
              "<style scoped>\n",
              "    .dataframe tbody tr th:only-of-type {\n",
              "        vertical-align: middle;\n",
              "    }\n",
              "\n",
              "    .dataframe tbody tr th {\n",
              "        vertical-align: top;\n",
              "    }\n",
              "\n",
              "    .dataframe thead th {\n",
              "        text-align: right;\n",
              "    }\n",
              "</style>\n",
              "<table border=\"1\" class=\"dataframe\">\n",
              "  <thead>\n",
              "    <tr style=\"text-align: right;\">\n",
              "      <th></th>\n",
              "      <th>Date</th>\n",
              "      <th>Time</th>\n",
              "      <th>CO(GT)</th>\n",
              "      <th>PT08.S1(CO)</th>\n",
              "      <th>NMHC(GT)</th>\n",
              "      <th>C6H6(GT)</th>\n",
              "      <th>PT08.S2(NMHC)</th>\n",
              "      <th>NOx(GT)</th>\n",
              "      <th>PT08.S3(NOx)</th>\n",
              "      <th>NO2(GT)</th>\n",
              "      <th>PT08.S4(NO2)</th>\n",
              "      <th>PT08.S5(O3)</th>\n",
              "      <th>T</th>\n",
              "      <th>RH</th>\n",
              "      <th>AH</th>\n",
              "      <th>Unnamed: 15</th>\n",
              "      <th>Unnamed: 16</th>\n",
              "    </tr>\n",
              "  </thead>\n",
              "  <tbody>\n",
              "    <tr>\n",
              "      <th>0</th>\n",
              "      <td>10/03/2004</td>\n",
              "      <td>18.00.00</td>\n",
              "      <td>2.6</td>\n",
              "      <td>1360.0</td>\n",
              "      <td>150.0</td>\n",
              "      <td>11.9</td>\n",
              "      <td>1046.0</td>\n",
              "      <td>166.0</td>\n",
              "      <td>1056.0</td>\n",
              "      <td>113.0</td>\n",
              "      <td>1692.0</td>\n",
              "      <td>1268.0</td>\n",
              "      <td>13.6</td>\n",
              "      <td>48.9</td>\n",
              "      <td>0.7578</td>\n",
              "      <td>NaN</td>\n",
              "      <td>NaN</td>\n",
              "    </tr>\n",
              "    <tr>\n",
              "      <th>1</th>\n",
              "      <td>10/03/2004</td>\n",
              "      <td>19.00.00</td>\n",
              "      <td>2.0</td>\n",
              "      <td>1292.0</td>\n",
              "      <td>112.0</td>\n",
              "      <td>9.4</td>\n",
              "      <td>955.0</td>\n",
              "      <td>103.0</td>\n",
              "      <td>1174.0</td>\n",
              "      <td>92.0</td>\n",
              "      <td>1559.0</td>\n",
              "      <td>972.0</td>\n",
              "      <td>13.3</td>\n",
              "      <td>47.7</td>\n",
              "      <td>0.7255</td>\n",
              "      <td>NaN</td>\n",
              "      <td>NaN</td>\n",
              "    </tr>\n",
              "    <tr>\n",
              "      <th>2</th>\n",
              "      <td>10/03/2004</td>\n",
              "      <td>20.00.00</td>\n",
              "      <td>2.2</td>\n",
              "      <td>1402.0</td>\n",
              "      <td>88.0</td>\n",
              "      <td>9.0</td>\n",
              "      <td>939.0</td>\n",
              "      <td>131.0</td>\n",
              "      <td>1140.0</td>\n",
              "      <td>114.0</td>\n",
              "      <td>1555.0</td>\n",
              "      <td>1074.0</td>\n",
              "      <td>11.9</td>\n",
              "      <td>54.0</td>\n",
              "      <td>0.7502</td>\n",
              "      <td>NaN</td>\n",
              "      <td>NaN</td>\n",
              "    </tr>\n",
              "    <tr>\n",
              "      <th>3</th>\n",
              "      <td>10/03/2004</td>\n",
              "      <td>21.00.00</td>\n",
              "      <td>2.2</td>\n",
              "      <td>1376.0</td>\n",
              "      <td>80.0</td>\n",
              "      <td>9.2</td>\n",
              "      <td>948.0</td>\n",
              "      <td>172.0</td>\n",
              "      <td>1092.0</td>\n",
              "      <td>122.0</td>\n",
              "      <td>1584.0</td>\n",
              "      <td>1203.0</td>\n",
              "      <td>11.0</td>\n",
              "      <td>60.0</td>\n",
              "      <td>0.7867</td>\n",
              "      <td>NaN</td>\n",
              "      <td>NaN</td>\n",
              "    </tr>\n",
              "    <tr>\n",
              "      <th>4</th>\n",
              "      <td>10/03/2004</td>\n",
              "      <td>22.00.00</td>\n",
              "      <td>1.6</td>\n",
              "      <td>1272.0</td>\n",
              "      <td>51.0</td>\n",
              "      <td>6.5</td>\n",
              "      <td>836.0</td>\n",
              "      <td>131.0</td>\n",
              "      <td>1205.0</td>\n",
              "      <td>116.0</td>\n",
              "      <td>1490.0</td>\n",
              "      <td>1110.0</td>\n",
              "      <td>11.2</td>\n",
              "      <td>59.6</td>\n",
              "      <td>0.7888</td>\n",
              "      <td>NaN</td>\n",
              "      <td>NaN</td>\n",
              "    </tr>\n",
              "  </tbody>\n",
              "</table>\n",
              "</div>"
            ],
            "text/plain": [
              "         Date      Time  CO(GT)  ...      AH  Unnamed: 15  Unnamed: 16\n",
              "0  10/03/2004  18.00.00     2.6  ...  0.7578          NaN          NaN\n",
              "1  10/03/2004  19.00.00     2.0  ...  0.7255          NaN          NaN\n",
              "2  10/03/2004  20.00.00     2.2  ...  0.7502          NaN          NaN\n",
              "3  10/03/2004  21.00.00     2.2  ...  0.7867          NaN          NaN\n",
              "4  10/03/2004  22.00.00     1.6  ...  0.7888          NaN          NaN\n",
              "\n",
              "[5 rows x 17 columns]"
            ]
          },
          "metadata": {
            "tags": []
          },
          "execution_count": 110
        }
      ]
    },
    {
      "cell_type": "code",
      "metadata": {
        "id": "a_fsw4q8wgKN",
        "outputId": "b5c5d654-11b9-4996-d803-392f6162cf3d",
        "colab": {
          "base_uri": "https://localhost:8080/",
          "height": 241
        }
      },
      "source": [
        "df.tail()"
      ],
      "execution_count": null,
      "outputs": [
        {
          "output_type": "execute_result",
          "data": {
            "text/html": [
              "<div>\n",
              "<style scoped>\n",
              "    .dataframe tbody tr th:only-of-type {\n",
              "        vertical-align: middle;\n",
              "    }\n",
              "\n",
              "    .dataframe tbody tr th {\n",
              "        vertical-align: top;\n",
              "    }\n",
              "\n",
              "    .dataframe thead th {\n",
              "        text-align: right;\n",
              "    }\n",
              "</style>\n",
              "<table border=\"1\" class=\"dataframe\">\n",
              "  <thead>\n",
              "    <tr style=\"text-align: right;\">\n",
              "      <th></th>\n",
              "      <th>Date</th>\n",
              "      <th>Time</th>\n",
              "      <th>CO(GT)</th>\n",
              "      <th>PT08.S1(CO)</th>\n",
              "      <th>NMHC(GT)</th>\n",
              "      <th>C6H6(GT)</th>\n",
              "      <th>PT08.S2(NMHC)</th>\n",
              "      <th>NOx(GT)</th>\n",
              "      <th>PT08.S3(NOx)</th>\n",
              "      <th>NO2(GT)</th>\n",
              "      <th>PT08.S4(NO2)</th>\n",
              "      <th>PT08.S5(O3)</th>\n",
              "      <th>T</th>\n",
              "      <th>RH</th>\n",
              "      <th>AH</th>\n",
              "      <th>Unnamed: 15</th>\n",
              "      <th>Unnamed: 16</th>\n",
              "    </tr>\n",
              "  </thead>\n",
              "  <tbody>\n",
              "    <tr>\n",
              "      <th>9466</th>\n",
              "      <td>NaN</td>\n",
              "      <td>NaN</td>\n",
              "      <td>NaN</td>\n",
              "      <td>NaN</td>\n",
              "      <td>NaN</td>\n",
              "      <td>NaN</td>\n",
              "      <td>NaN</td>\n",
              "      <td>NaN</td>\n",
              "      <td>NaN</td>\n",
              "      <td>NaN</td>\n",
              "      <td>NaN</td>\n",
              "      <td>NaN</td>\n",
              "      <td>NaN</td>\n",
              "      <td>NaN</td>\n",
              "      <td>NaN</td>\n",
              "      <td>NaN</td>\n",
              "      <td>NaN</td>\n",
              "    </tr>\n",
              "    <tr>\n",
              "      <th>9467</th>\n",
              "      <td>NaN</td>\n",
              "      <td>NaN</td>\n",
              "      <td>NaN</td>\n",
              "      <td>NaN</td>\n",
              "      <td>NaN</td>\n",
              "      <td>NaN</td>\n",
              "      <td>NaN</td>\n",
              "      <td>NaN</td>\n",
              "      <td>NaN</td>\n",
              "      <td>NaN</td>\n",
              "      <td>NaN</td>\n",
              "      <td>NaN</td>\n",
              "      <td>NaN</td>\n",
              "      <td>NaN</td>\n",
              "      <td>NaN</td>\n",
              "      <td>NaN</td>\n",
              "      <td>NaN</td>\n",
              "    </tr>\n",
              "    <tr>\n",
              "      <th>9468</th>\n",
              "      <td>NaN</td>\n",
              "      <td>NaN</td>\n",
              "      <td>NaN</td>\n",
              "      <td>NaN</td>\n",
              "      <td>NaN</td>\n",
              "      <td>NaN</td>\n",
              "      <td>NaN</td>\n",
              "      <td>NaN</td>\n",
              "      <td>NaN</td>\n",
              "      <td>NaN</td>\n",
              "      <td>NaN</td>\n",
              "      <td>NaN</td>\n",
              "      <td>NaN</td>\n",
              "      <td>NaN</td>\n",
              "      <td>NaN</td>\n",
              "      <td>NaN</td>\n",
              "      <td>NaN</td>\n",
              "    </tr>\n",
              "    <tr>\n",
              "      <th>9469</th>\n",
              "      <td>NaN</td>\n",
              "      <td>NaN</td>\n",
              "      <td>NaN</td>\n",
              "      <td>NaN</td>\n",
              "      <td>NaN</td>\n",
              "      <td>NaN</td>\n",
              "      <td>NaN</td>\n",
              "      <td>NaN</td>\n",
              "      <td>NaN</td>\n",
              "      <td>NaN</td>\n",
              "      <td>NaN</td>\n",
              "      <td>NaN</td>\n",
              "      <td>NaN</td>\n",
              "      <td>NaN</td>\n",
              "      <td>NaN</td>\n",
              "      <td>NaN</td>\n",
              "      <td>NaN</td>\n",
              "    </tr>\n",
              "    <tr>\n",
              "      <th>9470</th>\n",
              "      <td>NaN</td>\n",
              "      <td>NaN</td>\n",
              "      <td>NaN</td>\n",
              "      <td>NaN</td>\n",
              "      <td>NaN</td>\n",
              "      <td>NaN</td>\n",
              "      <td>NaN</td>\n",
              "      <td>NaN</td>\n",
              "      <td>NaN</td>\n",
              "      <td>NaN</td>\n",
              "      <td>NaN</td>\n",
              "      <td>NaN</td>\n",
              "      <td>NaN</td>\n",
              "      <td>NaN</td>\n",
              "      <td>NaN</td>\n",
              "      <td>NaN</td>\n",
              "      <td>NaN</td>\n",
              "    </tr>\n",
              "  </tbody>\n",
              "</table>\n",
              "</div>"
            ],
            "text/plain": [
              "     Date Time  CO(GT)  PT08.S1(CO)  ...  RH  AH  Unnamed: 15  Unnamed: 16\n",
              "9466  NaN  NaN     NaN          NaN  ... NaN NaN          NaN          NaN\n",
              "9467  NaN  NaN     NaN          NaN  ... NaN NaN          NaN          NaN\n",
              "9468  NaN  NaN     NaN          NaN  ... NaN NaN          NaN          NaN\n",
              "9469  NaN  NaN     NaN          NaN  ... NaN NaN          NaN          NaN\n",
              "9470  NaN  NaN     NaN          NaN  ... NaN NaN          NaN          NaN\n",
              "\n",
              "[5 rows x 17 columns]"
            ]
          },
          "metadata": {
            "tags": []
          },
          "execution_count": 111
        }
      ]
    },
    {
      "cell_type": "code",
      "metadata": {
        "id": "OQk6mtJpPB4c",
        "outputId": "53e88607-1629-48eb-c03d-2deacbcd1a0c",
        "colab": {
          "base_uri": "https://localhost:8080/"
        }
      },
      "source": [
        "df.dtypes"
      ],
      "execution_count": null,
      "outputs": [
        {
          "output_type": "execute_result",
          "data": {
            "text/plain": [
              "Date              object\n",
              "Time              object\n",
              "CO(GT)           float64\n",
              "PT08.S1(CO)      float64\n",
              "NMHC(GT)         float64\n",
              "C6H6(GT)         float64\n",
              "PT08.S2(NMHC)    float64\n",
              "NOx(GT)          float64\n",
              "PT08.S3(NOx)     float64\n",
              "NO2(GT)          float64\n",
              "PT08.S4(NO2)     float64\n",
              "PT08.S5(O3)      float64\n",
              "T                float64\n",
              "RH               float64\n",
              "AH               float64\n",
              "Unnamed: 15      float64\n",
              "Unnamed: 16      float64\n",
              "dtype: object"
            ]
          },
          "metadata": {
            "tags": []
          },
          "execution_count": 112
        }
      ]
    },
    {
      "cell_type": "code",
      "metadata": {
        "id": "FKfF_m3uPB4n",
        "outputId": "e1bbc451-c5a7-42fa-85d8-fcac7699d0c7",
        "colab": {
          "base_uri": "https://localhost:8080/",
          "height": 334
        }
      },
      "source": [
        "df.describe()"
      ],
      "execution_count": null,
      "outputs": [
        {
          "output_type": "execute_result",
          "data": {
            "text/html": [
              "<div>\n",
              "<style scoped>\n",
              "    .dataframe tbody tr th:only-of-type {\n",
              "        vertical-align: middle;\n",
              "    }\n",
              "\n",
              "    .dataframe tbody tr th {\n",
              "        vertical-align: top;\n",
              "    }\n",
              "\n",
              "    .dataframe thead th {\n",
              "        text-align: right;\n",
              "    }\n",
              "</style>\n",
              "<table border=\"1\" class=\"dataframe\">\n",
              "  <thead>\n",
              "    <tr style=\"text-align: right;\">\n",
              "      <th></th>\n",
              "      <th>CO(GT)</th>\n",
              "      <th>PT08.S1(CO)</th>\n",
              "      <th>NMHC(GT)</th>\n",
              "      <th>C6H6(GT)</th>\n",
              "      <th>PT08.S2(NMHC)</th>\n",
              "      <th>NOx(GT)</th>\n",
              "      <th>PT08.S3(NOx)</th>\n",
              "      <th>NO2(GT)</th>\n",
              "      <th>PT08.S4(NO2)</th>\n",
              "      <th>PT08.S5(O3)</th>\n",
              "      <th>T</th>\n",
              "      <th>RH</th>\n",
              "      <th>AH</th>\n",
              "      <th>Unnamed: 15</th>\n",
              "      <th>Unnamed: 16</th>\n",
              "    </tr>\n",
              "  </thead>\n",
              "  <tbody>\n",
              "    <tr>\n",
              "      <th>count</th>\n",
              "      <td>9357.000000</td>\n",
              "      <td>9357.000000</td>\n",
              "      <td>9357.000000</td>\n",
              "      <td>9357.000000</td>\n",
              "      <td>9357.000000</td>\n",
              "      <td>9357.000000</td>\n",
              "      <td>9357.000000</td>\n",
              "      <td>9357.000000</td>\n",
              "      <td>9357.000000</td>\n",
              "      <td>9357.000000</td>\n",
              "      <td>9357.000000</td>\n",
              "      <td>9357.000000</td>\n",
              "      <td>9357.000000</td>\n",
              "      <td>0.0</td>\n",
              "      <td>0.0</td>\n",
              "    </tr>\n",
              "    <tr>\n",
              "      <th>mean</th>\n",
              "      <td>-34.207524</td>\n",
              "      <td>1048.990061</td>\n",
              "      <td>-159.090093</td>\n",
              "      <td>1.865683</td>\n",
              "      <td>894.595276</td>\n",
              "      <td>168.616971</td>\n",
              "      <td>794.990168</td>\n",
              "      <td>58.148873</td>\n",
              "      <td>1391.479641</td>\n",
              "      <td>975.072032</td>\n",
              "      <td>9.778305</td>\n",
              "      <td>39.485380</td>\n",
              "      <td>-6.837604</td>\n",
              "      <td>NaN</td>\n",
              "      <td>NaN</td>\n",
              "    </tr>\n",
              "    <tr>\n",
              "      <th>std</th>\n",
              "      <td>77.657170</td>\n",
              "      <td>329.832710</td>\n",
              "      <td>139.789093</td>\n",
              "      <td>41.380206</td>\n",
              "      <td>342.333252</td>\n",
              "      <td>257.433866</td>\n",
              "      <td>321.993552</td>\n",
              "      <td>126.940455</td>\n",
              "      <td>467.210125</td>\n",
              "      <td>456.938184</td>\n",
              "      <td>43.203623</td>\n",
              "      <td>51.216145</td>\n",
              "      <td>38.976670</td>\n",
              "      <td>NaN</td>\n",
              "      <td>NaN</td>\n",
              "    </tr>\n",
              "    <tr>\n",
              "      <th>min</th>\n",
              "      <td>-200.000000</td>\n",
              "      <td>-200.000000</td>\n",
              "      <td>-200.000000</td>\n",
              "      <td>-200.000000</td>\n",
              "      <td>-200.000000</td>\n",
              "      <td>-200.000000</td>\n",
              "      <td>-200.000000</td>\n",
              "      <td>-200.000000</td>\n",
              "      <td>-200.000000</td>\n",
              "      <td>-200.000000</td>\n",
              "      <td>-200.000000</td>\n",
              "      <td>-200.000000</td>\n",
              "      <td>-200.000000</td>\n",
              "      <td>NaN</td>\n",
              "      <td>NaN</td>\n",
              "    </tr>\n",
              "    <tr>\n",
              "      <th>25%</th>\n",
              "      <td>0.600000</td>\n",
              "      <td>921.000000</td>\n",
              "      <td>-200.000000</td>\n",
              "      <td>4.000000</td>\n",
              "      <td>711.000000</td>\n",
              "      <td>50.000000</td>\n",
              "      <td>637.000000</td>\n",
              "      <td>53.000000</td>\n",
              "      <td>1185.000000</td>\n",
              "      <td>700.000000</td>\n",
              "      <td>10.900000</td>\n",
              "      <td>34.100000</td>\n",
              "      <td>0.692300</td>\n",
              "      <td>NaN</td>\n",
              "      <td>NaN</td>\n",
              "    </tr>\n",
              "    <tr>\n",
              "      <th>50%</th>\n",
              "      <td>1.500000</td>\n",
              "      <td>1053.000000</td>\n",
              "      <td>-200.000000</td>\n",
              "      <td>7.900000</td>\n",
              "      <td>895.000000</td>\n",
              "      <td>141.000000</td>\n",
              "      <td>794.000000</td>\n",
              "      <td>96.000000</td>\n",
              "      <td>1446.000000</td>\n",
              "      <td>942.000000</td>\n",
              "      <td>17.200000</td>\n",
              "      <td>48.600000</td>\n",
              "      <td>0.976800</td>\n",
              "      <td>NaN</td>\n",
              "      <td>NaN</td>\n",
              "    </tr>\n",
              "    <tr>\n",
              "      <th>75%</th>\n",
              "      <td>2.600000</td>\n",
              "      <td>1221.000000</td>\n",
              "      <td>-200.000000</td>\n",
              "      <td>13.600000</td>\n",
              "      <td>1105.000000</td>\n",
              "      <td>284.000000</td>\n",
              "      <td>960.000000</td>\n",
              "      <td>133.000000</td>\n",
              "      <td>1662.000000</td>\n",
              "      <td>1255.000000</td>\n",
              "      <td>24.100000</td>\n",
              "      <td>61.900000</td>\n",
              "      <td>1.296200</td>\n",
              "      <td>NaN</td>\n",
              "      <td>NaN</td>\n",
              "    </tr>\n",
              "    <tr>\n",
              "      <th>max</th>\n",
              "      <td>11.900000</td>\n",
              "      <td>2040.000000</td>\n",
              "      <td>1189.000000</td>\n",
              "      <td>63.700000</td>\n",
              "      <td>2214.000000</td>\n",
              "      <td>1479.000000</td>\n",
              "      <td>2683.000000</td>\n",
              "      <td>340.000000</td>\n",
              "      <td>2775.000000</td>\n",
              "      <td>2523.000000</td>\n",
              "      <td>44.600000</td>\n",
              "      <td>88.700000</td>\n",
              "      <td>2.231000</td>\n",
              "      <td>NaN</td>\n",
              "      <td>NaN</td>\n",
              "    </tr>\n",
              "  </tbody>\n",
              "</table>\n",
              "</div>"
            ],
            "text/plain": [
              "            CO(GT)  PT08.S1(CO)  ...  Unnamed: 15  Unnamed: 16\n",
              "count  9357.000000  9357.000000  ...          0.0          0.0\n",
              "mean    -34.207524  1048.990061  ...          NaN          NaN\n",
              "std      77.657170   329.832710  ...          NaN          NaN\n",
              "min    -200.000000  -200.000000  ...          NaN          NaN\n",
              "25%       0.600000   921.000000  ...          NaN          NaN\n",
              "50%       1.500000  1053.000000  ...          NaN          NaN\n",
              "75%       2.600000  1221.000000  ...          NaN          NaN\n",
              "max      11.900000  2040.000000  ...          NaN          NaN\n",
              "\n",
              "[8 rows x 15 columns]"
            ]
          },
          "metadata": {
            "tags": []
          },
          "execution_count": 113
        }
      ]
    },
    {
      "cell_type": "markdown",
      "metadata": {
        "id": "WQasPxRwuMQ3"
      },
      "source": [
        "### Drop Columns Unnamed"
      ]
    },
    {
      "cell_type": "markdown",
      "metadata": {
        "id": "Z377_tuqxLZi"
      },
      "source": [
        "First of all we saw that there are 2 columns that contain only NaN values, so we dropped out that columns.\n",
        "\n",
        "The columns are labeled as Unnamed: 15 and Unnamed: 16"
      ]
    },
    {
      "cell_type": "code",
      "metadata": {
        "id": "kg1OYF3kr7s-"
      },
      "source": [
        "df = df.drop([\"Unnamed: 15\",\"Unnamed: 16\"], axis=1)"
      ],
      "execution_count": null,
      "outputs": []
    },
    {
      "cell_type": "code",
      "metadata": {
        "id": "uavPuh-Er778",
        "outputId": "82b354fd-078b-49cc-ae82-0073ec60ccc5",
        "colab": {
          "base_uri": "https://localhost:8080/",
          "height": 204
        }
      },
      "source": [
        "df.head()"
      ],
      "execution_count": null,
      "outputs": [
        {
          "output_type": "execute_result",
          "data": {
            "text/html": [
              "<div>\n",
              "<style scoped>\n",
              "    .dataframe tbody tr th:only-of-type {\n",
              "        vertical-align: middle;\n",
              "    }\n",
              "\n",
              "    .dataframe tbody tr th {\n",
              "        vertical-align: top;\n",
              "    }\n",
              "\n",
              "    .dataframe thead th {\n",
              "        text-align: right;\n",
              "    }\n",
              "</style>\n",
              "<table border=\"1\" class=\"dataframe\">\n",
              "  <thead>\n",
              "    <tr style=\"text-align: right;\">\n",
              "      <th></th>\n",
              "      <th>Date</th>\n",
              "      <th>Time</th>\n",
              "      <th>CO(GT)</th>\n",
              "      <th>PT08.S1(CO)</th>\n",
              "      <th>NMHC(GT)</th>\n",
              "      <th>C6H6(GT)</th>\n",
              "      <th>PT08.S2(NMHC)</th>\n",
              "      <th>NOx(GT)</th>\n",
              "      <th>PT08.S3(NOx)</th>\n",
              "      <th>NO2(GT)</th>\n",
              "      <th>PT08.S4(NO2)</th>\n",
              "      <th>PT08.S5(O3)</th>\n",
              "      <th>T</th>\n",
              "      <th>RH</th>\n",
              "      <th>AH</th>\n",
              "    </tr>\n",
              "  </thead>\n",
              "  <tbody>\n",
              "    <tr>\n",
              "      <th>0</th>\n",
              "      <td>10/03/2004</td>\n",
              "      <td>18.00.00</td>\n",
              "      <td>2.6</td>\n",
              "      <td>1360.0</td>\n",
              "      <td>150.0</td>\n",
              "      <td>11.9</td>\n",
              "      <td>1046.0</td>\n",
              "      <td>166.0</td>\n",
              "      <td>1056.0</td>\n",
              "      <td>113.0</td>\n",
              "      <td>1692.0</td>\n",
              "      <td>1268.0</td>\n",
              "      <td>13.6</td>\n",
              "      <td>48.9</td>\n",
              "      <td>0.7578</td>\n",
              "    </tr>\n",
              "    <tr>\n",
              "      <th>1</th>\n",
              "      <td>10/03/2004</td>\n",
              "      <td>19.00.00</td>\n",
              "      <td>2.0</td>\n",
              "      <td>1292.0</td>\n",
              "      <td>112.0</td>\n",
              "      <td>9.4</td>\n",
              "      <td>955.0</td>\n",
              "      <td>103.0</td>\n",
              "      <td>1174.0</td>\n",
              "      <td>92.0</td>\n",
              "      <td>1559.0</td>\n",
              "      <td>972.0</td>\n",
              "      <td>13.3</td>\n",
              "      <td>47.7</td>\n",
              "      <td>0.7255</td>\n",
              "    </tr>\n",
              "    <tr>\n",
              "      <th>2</th>\n",
              "      <td>10/03/2004</td>\n",
              "      <td>20.00.00</td>\n",
              "      <td>2.2</td>\n",
              "      <td>1402.0</td>\n",
              "      <td>88.0</td>\n",
              "      <td>9.0</td>\n",
              "      <td>939.0</td>\n",
              "      <td>131.0</td>\n",
              "      <td>1140.0</td>\n",
              "      <td>114.0</td>\n",
              "      <td>1555.0</td>\n",
              "      <td>1074.0</td>\n",
              "      <td>11.9</td>\n",
              "      <td>54.0</td>\n",
              "      <td>0.7502</td>\n",
              "    </tr>\n",
              "    <tr>\n",
              "      <th>3</th>\n",
              "      <td>10/03/2004</td>\n",
              "      <td>21.00.00</td>\n",
              "      <td>2.2</td>\n",
              "      <td>1376.0</td>\n",
              "      <td>80.0</td>\n",
              "      <td>9.2</td>\n",
              "      <td>948.0</td>\n",
              "      <td>172.0</td>\n",
              "      <td>1092.0</td>\n",
              "      <td>122.0</td>\n",
              "      <td>1584.0</td>\n",
              "      <td>1203.0</td>\n",
              "      <td>11.0</td>\n",
              "      <td>60.0</td>\n",
              "      <td>0.7867</td>\n",
              "    </tr>\n",
              "    <tr>\n",
              "      <th>4</th>\n",
              "      <td>10/03/2004</td>\n",
              "      <td>22.00.00</td>\n",
              "      <td>1.6</td>\n",
              "      <td>1272.0</td>\n",
              "      <td>51.0</td>\n",
              "      <td>6.5</td>\n",
              "      <td>836.0</td>\n",
              "      <td>131.0</td>\n",
              "      <td>1205.0</td>\n",
              "      <td>116.0</td>\n",
              "      <td>1490.0</td>\n",
              "      <td>1110.0</td>\n",
              "      <td>11.2</td>\n",
              "      <td>59.6</td>\n",
              "      <td>0.7888</td>\n",
              "    </tr>\n",
              "  </tbody>\n",
              "</table>\n",
              "</div>"
            ],
            "text/plain": [
              "         Date      Time  CO(GT)  PT08.S1(CO)  ...  PT08.S5(O3)     T    RH      AH\n",
              "0  10/03/2004  18.00.00     2.6       1360.0  ...       1268.0  13.6  48.9  0.7578\n",
              "1  10/03/2004  19.00.00     2.0       1292.0  ...        972.0  13.3  47.7  0.7255\n",
              "2  10/03/2004  20.00.00     2.2       1402.0  ...       1074.0  11.9  54.0  0.7502\n",
              "3  10/03/2004  21.00.00     2.2       1376.0  ...       1203.0  11.0  60.0  0.7867\n",
              "4  10/03/2004  22.00.00     1.6       1272.0  ...       1110.0  11.2  59.6  0.7888\n",
              "\n",
              "[5 rows x 15 columns]"
            ]
          },
          "metadata": {
            "tags": []
          },
          "execution_count": 115
        }
      ]
    },
    {
      "cell_type": "markdown",
      "metadata": {
        "id": "KdGR9LCazk_M"
      },
      "source": [
        "### Drop column NMHC(GT)"
      ]
    },
    {
      "cell_type": "markdown",
      "metadata": {
        "id": "oCUvmqLazoao"
      },
      "source": [
        "In this column there are too much -200 values (missing values) so also if we replace with mean of the feature is too much dependent from this missing values."
      ]
    },
    {
      "cell_type": "code",
      "metadata": {
        "id": "ZzuxD9E4zks1"
      },
      "source": [
        "df = df.drop([\"NMHC(GT)\"], axis=1)"
      ],
      "execution_count": null,
      "outputs": []
    },
    {
      "cell_type": "markdown",
      "metadata": {
        "id": "AzATAyzYur28"
      },
      "source": [
        "### NaN Values"
      ]
    },
    {
      "cell_type": "markdown",
      "metadata": {
        "id": "BPPtIVy9x8uX"
      },
      "source": [
        "Drop columns with NaN, the last 2, Unnamed:15 and Unnamed:16\n",
        "Drop rows with NaN , there only 1% circa.\n"
      ]
    },
    {
      "cell_type": "code",
      "metadata": {
        "id": "OnMt5j_7r7hC",
        "outputId": "861d9ed0-a559-4510-868f-98fcd53c5fc3",
        "colab": {
          "base_uri": "https://localhost:8080/"
        }
      },
      "source": [
        "df.isnull().any()"
      ],
      "execution_count": null,
      "outputs": [
        {
          "output_type": "execute_result",
          "data": {
            "text/plain": [
              "Date             True\n",
              "Time             True\n",
              "CO(GT)           True\n",
              "PT08.S1(CO)      True\n",
              "C6H6(GT)         True\n",
              "PT08.S2(NMHC)    True\n",
              "NOx(GT)          True\n",
              "PT08.S3(NOx)     True\n",
              "NO2(GT)          True\n",
              "PT08.S4(NO2)     True\n",
              "PT08.S5(O3)      True\n",
              "T                True\n",
              "RH               True\n",
              "AH               True\n",
              "dtype: bool"
            ]
          },
          "metadata": {
            "tags": []
          },
          "execution_count": 117
        }
      ]
    },
    {
      "cell_type": "code",
      "metadata": {
        "id": "pmtjNGKCu181",
        "outputId": "e0964bd3-f30a-40ea-87b5-46dff3dba890",
        "colab": {
          "base_uri": "https://localhost:8080/"
        }
      },
      "source": [
        "df.isnull().sum()"
      ],
      "execution_count": null,
      "outputs": [
        {
          "output_type": "execute_result",
          "data": {
            "text/plain": [
              "Date             114\n",
              "Time             114\n",
              "CO(GT)           114\n",
              "PT08.S1(CO)      114\n",
              "C6H6(GT)         114\n",
              "PT08.S2(NMHC)    114\n",
              "NOx(GT)          114\n",
              "PT08.S3(NOx)     114\n",
              "NO2(GT)          114\n",
              "PT08.S4(NO2)     114\n",
              "PT08.S5(O3)      114\n",
              "T                114\n",
              "RH               114\n",
              "AH               114\n",
              "dtype: int64"
            ]
          },
          "metadata": {
            "tags": []
          },
          "execution_count": 118
        }
      ]
    },
    {
      "cell_type": "code",
      "metadata": {
        "id": "epIEL7LgvXYT",
        "outputId": "9f68f1ca-1e24-468b-893d-ce4b361aae62",
        "colab": {
          "base_uri": "https://localhost:8080/"
        }
      },
      "source": [
        "df.shape"
      ],
      "execution_count": null,
      "outputs": [
        {
          "output_type": "execute_result",
          "data": {
            "text/plain": [
              "(9471, 14)"
            ]
          },
          "metadata": {
            "tags": []
          },
          "execution_count": 119
        }
      ]
    },
    {
      "cell_type": "code",
      "metadata": {
        "id": "x4-ywGyv3c78",
        "outputId": "75a42ee6-89bb-4c00-9c48-f9a1f4b46b12",
        "colab": {
          "base_uri": "https://localhost:8080/",
          "height": 419
        }
      },
      "source": [
        "df"
      ],
      "execution_count": null,
      "outputs": [
        {
          "output_type": "execute_result",
          "data": {
            "text/html": [
              "<div>\n",
              "<style scoped>\n",
              "    .dataframe tbody tr th:only-of-type {\n",
              "        vertical-align: middle;\n",
              "    }\n",
              "\n",
              "    .dataframe tbody tr th {\n",
              "        vertical-align: top;\n",
              "    }\n",
              "\n",
              "    .dataframe thead th {\n",
              "        text-align: right;\n",
              "    }\n",
              "</style>\n",
              "<table border=\"1\" class=\"dataframe\">\n",
              "  <thead>\n",
              "    <tr style=\"text-align: right;\">\n",
              "      <th></th>\n",
              "      <th>Date</th>\n",
              "      <th>Time</th>\n",
              "      <th>CO(GT)</th>\n",
              "      <th>PT08.S1(CO)</th>\n",
              "      <th>C6H6(GT)</th>\n",
              "      <th>PT08.S2(NMHC)</th>\n",
              "      <th>NOx(GT)</th>\n",
              "      <th>PT08.S3(NOx)</th>\n",
              "      <th>NO2(GT)</th>\n",
              "      <th>PT08.S4(NO2)</th>\n",
              "      <th>PT08.S5(O3)</th>\n",
              "      <th>T</th>\n",
              "      <th>RH</th>\n",
              "      <th>AH</th>\n",
              "    </tr>\n",
              "  </thead>\n",
              "  <tbody>\n",
              "    <tr>\n",
              "      <th>0</th>\n",
              "      <td>10/03/2004</td>\n",
              "      <td>18.00.00</td>\n",
              "      <td>2.6</td>\n",
              "      <td>1360.0</td>\n",
              "      <td>11.9</td>\n",
              "      <td>1046.0</td>\n",
              "      <td>166.0</td>\n",
              "      <td>1056.0</td>\n",
              "      <td>113.0</td>\n",
              "      <td>1692.0</td>\n",
              "      <td>1268.0</td>\n",
              "      <td>13.6</td>\n",
              "      <td>48.9</td>\n",
              "      <td>0.7578</td>\n",
              "    </tr>\n",
              "    <tr>\n",
              "      <th>1</th>\n",
              "      <td>10/03/2004</td>\n",
              "      <td>19.00.00</td>\n",
              "      <td>2.0</td>\n",
              "      <td>1292.0</td>\n",
              "      <td>9.4</td>\n",
              "      <td>955.0</td>\n",
              "      <td>103.0</td>\n",
              "      <td>1174.0</td>\n",
              "      <td>92.0</td>\n",
              "      <td>1559.0</td>\n",
              "      <td>972.0</td>\n",
              "      <td>13.3</td>\n",
              "      <td>47.7</td>\n",
              "      <td>0.7255</td>\n",
              "    </tr>\n",
              "    <tr>\n",
              "      <th>2</th>\n",
              "      <td>10/03/2004</td>\n",
              "      <td>20.00.00</td>\n",
              "      <td>2.2</td>\n",
              "      <td>1402.0</td>\n",
              "      <td>9.0</td>\n",
              "      <td>939.0</td>\n",
              "      <td>131.0</td>\n",
              "      <td>1140.0</td>\n",
              "      <td>114.0</td>\n",
              "      <td>1555.0</td>\n",
              "      <td>1074.0</td>\n",
              "      <td>11.9</td>\n",
              "      <td>54.0</td>\n",
              "      <td>0.7502</td>\n",
              "    </tr>\n",
              "    <tr>\n",
              "      <th>3</th>\n",
              "      <td>10/03/2004</td>\n",
              "      <td>21.00.00</td>\n",
              "      <td>2.2</td>\n",
              "      <td>1376.0</td>\n",
              "      <td>9.2</td>\n",
              "      <td>948.0</td>\n",
              "      <td>172.0</td>\n",
              "      <td>1092.0</td>\n",
              "      <td>122.0</td>\n",
              "      <td>1584.0</td>\n",
              "      <td>1203.0</td>\n",
              "      <td>11.0</td>\n",
              "      <td>60.0</td>\n",
              "      <td>0.7867</td>\n",
              "    </tr>\n",
              "    <tr>\n",
              "      <th>4</th>\n",
              "      <td>10/03/2004</td>\n",
              "      <td>22.00.00</td>\n",
              "      <td>1.6</td>\n",
              "      <td>1272.0</td>\n",
              "      <td>6.5</td>\n",
              "      <td>836.0</td>\n",
              "      <td>131.0</td>\n",
              "      <td>1205.0</td>\n",
              "      <td>116.0</td>\n",
              "      <td>1490.0</td>\n",
              "      <td>1110.0</td>\n",
              "      <td>11.2</td>\n",
              "      <td>59.6</td>\n",
              "      <td>0.7888</td>\n",
              "    </tr>\n",
              "    <tr>\n",
              "      <th>...</th>\n",
              "      <td>...</td>\n",
              "      <td>...</td>\n",
              "      <td>...</td>\n",
              "      <td>...</td>\n",
              "      <td>...</td>\n",
              "      <td>...</td>\n",
              "      <td>...</td>\n",
              "      <td>...</td>\n",
              "      <td>...</td>\n",
              "      <td>...</td>\n",
              "      <td>...</td>\n",
              "      <td>...</td>\n",
              "      <td>...</td>\n",
              "      <td>...</td>\n",
              "    </tr>\n",
              "    <tr>\n",
              "      <th>9466</th>\n",
              "      <td>NaN</td>\n",
              "      <td>NaN</td>\n",
              "      <td>NaN</td>\n",
              "      <td>NaN</td>\n",
              "      <td>NaN</td>\n",
              "      <td>NaN</td>\n",
              "      <td>NaN</td>\n",
              "      <td>NaN</td>\n",
              "      <td>NaN</td>\n",
              "      <td>NaN</td>\n",
              "      <td>NaN</td>\n",
              "      <td>NaN</td>\n",
              "      <td>NaN</td>\n",
              "      <td>NaN</td>\n",
              "    </tr>\n",
              "    <tr>\n",
              "      <th>9467</th>\n",
              "      <td>NaN</td>\n",
              "      <td>NaN</td>\n",
              "      <td>NaN</td>\n",
              "      <td>NaN</td>\n",
              "      <td>NaN</td>\n",
              "      <td>NaN</td>\n",
              "      <td>NaN</td>\n",
              "      <td>NaN</td>\n",
              "      <td>NaN</td>\n",
              "      <td>NaN</td>\n",
              "      <td>NaN</td>\n",
              "      <td>NaN</td>\n",
              "      <td>NaN</td>\n",
              "      <td>NaN</td>\n",
              "    </tr>\n",
              "    <tr>\n",
              "      <th>9468</th>\n",
              "      <td>NaN</td>\n",
              "      <td>NaN</td>\n",
              "      <td>NaN</td>\n",
              "      <td>NaN</td>\n",
              "      <td>NaN</td>\n",
              "      <td>NaN</td>\n",
              "      <td>NaN</td>\n",
              "      <td>NaN</td>\n",
              "      <td>NaN</td>\n",
              "      <td>NaN</td>\n",
              "      <td>NaN</td>\n",
              "      <td>NaN</td>\n",
              "      <td>NaN</td>\n",
              "      <td>NaN</td>\n",
              "    </tr>\n",
              "    <tr>\n",
              "      <th>9469</th>\n",
              "      <td>NaN</td>\n",
              "      <td>NaN</td>\n",
              "      <td>NaN</td>\n",
              "      <td>NaN</td>\n",
              "      <td>NaN</td>\n",
              "      <td>NaN</td>\n",
              "      <td>NaN</td>\n",
              "      <td>NaN</td>\n",
              "      <td>NaN</td>\n",
              "      <td>NaN</td>\n",
              "      <td>NaN</td>\n",
              "      <td>NaN</td>\n",
              "      <td>NaN</td>\n",
              "      <td>NaN</td>\n",
              "    </tr>\n",
              "    <tr>\n",
              "      <th>9470</th>\n",
              "      <td>NaN</td>\n",
              "      <td>NaN</td>\n",
              "      <td>NaN</td>\n",
              "      <td>NaN</td>\n",
              "      <td>NaN</td>\n",
              "      <td>NaN</td>\n",
              "      <td>NaN</td>\n",
              "      <td>NaN</td>\n",
              "      <td>NaN</td>\n",
              "      <td>NaN</td>\n",
              "      <td>NaN</td>\n",
              "      <td>NaN</td>\n",
              "      <td>NaN</td>\n",
              "      <td>NaN</td>\n",
              "    </tr>\n",
              "  </tbody>\n",
              "</table>\n",
              "<p>9471 rows × 14 columns</p>\n",
              "</div>"
            ],
            "text/plain": [
              "            Date      Time  CO(GT)  ...     T    RH      AH\n",
              "0     10/03/2004  18.00.00     2.6  ...  13.6  48.9  0.7578\n",
              "1     10/03/2004  19.00.00     2.0  ...  13.3  47.7  0.7255\n",
              "2     10/03/2004  20.00.00     2.2  ...  11.9  54.0  0.7502\n",
              "3     10/03/2004  21.00.00     2.2  ...  11.0  60.0  0.7867\n",
              "4     10/03/2004  22.00.00     1.6  ...  11.2  59.6  0.7888\n",
              "...          ...       ...     ...  ...   ...   ...     ...\n",
              "9466         NaN       NaN     NaN  ...   NaN   NaN     NaN\n",
              "9467         NaN       NaN     NaN  ...   NaN   NaN     NaN\n",
              "9468         NaN       NaN     NaN  ...   NaN   NaN     NaN\n",
              "9469         NaN       NaN     NaN  ...   NaN   NaN     NaN\n",
              "9470         NaN       NaN     NaN  ...   NaN   NaN     NaN\n",
              "\n",
              "[9471 rows x 14 columns]"
            ]
          },
          "metadata": {
            "tags": []
          },
          "execution_count": 120
        }
      ]
    },
    {
      "cell_type": "code",
      "metadata": {
        "id": "NL8_qDrh7jR9"
      },
      "source": [
        "df= df.dropna()"
      ],
      "execution_count": null,
      "outputs": []
    },
    {
      "cell_type": "code",
      "metadata": {
        "id": "cSC4iB7rxsz_",
        "outputId": "f9d721de-8a9d-4784-cfe2-e8815cce48a7",
        "colab": {
          "base_uri": "https://localhost:8080/"
        }
      },
      "source": [
        "df.shape"
      ],
      "execution_count": null,
      "outputs": [
        {
          "output_type": "execute_result",
          "data": {
            "text/plain": [
              "(9357, 14)"
            ]
          },
          "metadata": {
            "tags": []
          },
          "execution_count": 122
        }
      ]
    },
    {
      "cell_type": "code",
      "metadata": {
        "id": "dcNGZco_x2GT",
        "outputId": "06550db4-c0a1-41a7-d8d9-764e4ca319f3",
        "colab": {
          "base_uri": "https://localhost:8080/",
          "height": 419
        }
      },
      "source": [
        "df"
      ],
      "execution_count": null,
      "outputs": [
        {
          "output_type": "execute_result",
          "data": {
            "text/html": [
              "<div>\n",
              "<style scoped>\n",
              "    .dataframe tbody tr th:only-of-type {\n",
              "        vertical-align: middle;\n",
              "    }\n",
              "\n",
              "    .dataframe tbody tr th {\n",
              "        vertical-align: top;\n",
              "    }\n",
              "\n",
              "    .dataframe thead th {\n",
              "        text-align: right;\n",
              "    }\n",
              "</style>\n",
              "<table border=\"1\" class=\"dataframe\">\n",
              "  <thead>\n",
              "    <tr style=\"text-align: right;\">\n",
              "      <th></th>\n",
              "      <th>Date</th>\n",
              "      <th>Time</th>\n",
              "      <th>CO(GT)</th>\n",
              "      <th>PT08.S1(CO)</th>\n",
              "      <th>C6H6(GT)</th>\n",
              "      <th>PT08.S2(NMHC)</th>\n",
              "      <th>NOx(GT)</th>\n",
              "      <th>PT08.S3(NOx)</th>\n",
              "      <th>NO2(GT)</th>\n",
              "      <th>PT08.S4(NO2)</th>\n",
              "      <th>PT08.S5(O3)</th>\n",
              "      <th>T</th>\n",
              "      <th>RH</th>\n",
              "      <th>AH</th>\n",
              "    </tr>\n",
              "  </thead>\n",
              "  <tbody>\n",
              "    <tr>\n",
              "      <th>0</th>\n",
              "      <td>10/03/2004</td>\n",
              "      <td>18.00.00</td>\n",
              "      <td>2.6</td>\n",
              "      <td>1360.0</td>\n",
              "      <td>11.9</td>\n",
              "      <td>1046.0</td>\n",
              "      <td>166.0</td>\n",
              "      <td>1056.0</td>\n",
              "      <td>113.0</td>\n",
              "      <td>1692.0</td>\n",
              "      <td>1268.0</td>\n",
              "      <td>13.6</td>\n",
              "      <td>48.9</td>\n",
              "      <td>0.7578</td>\n",
              "    </tr>\n",
              "    <tr>\n",
              "      <th>1</th>\n",
              "      <td>10/03/2004</td>\n",
              "      <td>19.00.00</td>\n",
              "      <td>2.0</td>\n",
              "      <td>1292.0</td>\n",
              "      <td>9.4</td>\n",
              "      <td>955.0</td>\n",
              "      <td>103.0</td>\n",
              "      <td>1174.0</td>\n",
              "      <td>92.0</td>\n",
              "      <td>1559.0</td>\n",
              "      <td>972.0</td>\n",
              "      <td>13.3</td>\n",
              "      <td>47.7</td>\n",
              "      <td>0.7255</td>\n",
              "    </tr>\n",
              "    <tr>\n",
              "      <th>2</th>\n",
              "      <td>10/03/2004</td>\n",
              "      <td>20.00.00</td>\n",
              "      <td>2.2</td>\n",
              "      <td>1402.0</td>\n",
              "      <td>9.0</td>\n",
              "      <td>939.0</td>\n",
              "      <td>131.0</td>\n",
              "      <td>1140.0</td>\n",
              "      <td>114.0</td>\n",
              "      <td>1555.0</td>\n",
              "      <td>1074.0</td>\n",
              "      <td>11.9</td>\n",
              "      <td>54.0</td>\n",
              "      <td>0.7502</td>\n",
              "    </tr>\n",
              "    <tr>\n",
              "      <th>3</th>\n",
              "      <td>10/03/2004</td>\n",
              "      <td>21.00.00</td>\n",
              "      <td>2.2</td>\n",
              "      <td>1376.0</td>\n",
              "      <td>9.2</td>\n",
              "      <td>948.0</td>\n",
              "      <td>172.0</td>\n",
              "      <td>1092.0</td>\n",
              "      <td>122.0</td>\n",
              "      <td>1584.0</td>\n",
              "      <td>1203.0</td>\n",
              "      <td>11.0</td>\n",
              "      <td>60.0</td>\n",
              "      <td>0.7867</td>\n",
              "    </tr>\n",
              "    <tr>\n",
              "      <th>4</th>\n",
              "      <td>10/03/2004</td>\n",
              "      <td>22.00.00</td>\n",
              "      <td>1.6</td>\n",
              "      <td>1272.0</td>\n",
              "      <td>6.5</td>\n",
              "      <td>836.0</td>\n",
              "      <td>131.0</td>\n",
              "      <td>1205.0</td>\n",
              "      <td>116.0</td>\n",
              "      <td>1490.0</td>\n",
              "      <td>1110.0</td>\n",
              "      <td>11.2</td>\n",
              "      <td>59.6</td>\n",
              "      <td>0.7888</td>\n",
              "    </tr>\n",
              "    <tr>\n",
              "      <th>...</th>\n",
              "      <td>...</td>\n",
              "      <td>...</td>\n",
              "      <td>...</td>\n",
              "      <td>...</td>\n",
              "      <td>...</td>\n",
              "      <td>...</td>\n",
              "      <td>...</td>\n",
              "      <td>...</td>\n",
              "      <td>...</td>\n",
              "      <td>...</td>\n",
              "      <td>...</td>\n",
              "      <td>...</td>\n",
              "      <td>...</td>\n",
              "      <td>...</td>\n",
              "    </tr>\n",
              "    <tr>\n",
              "      <th>9352</th>\n",
              "      <td>04/04/2005</td>\n",
              "      <td>10.00.00</td>\n",
              "      <td>3.1</td>\n",
              "      <td>1314.0</td>\n",
              "      <td>13.5</td>\n",
              "      <td>1101.0</td>\n",
              "      <td>472.0</td>\n",
              "      <td>539.0</td>\n",
              "      <td>190.0</td>\n",
              "      <td>1374.0</td>\n",
              "      <td>1729.0</td>\n",
              "      <td>21.9</td>\n",
              "      <td>29.3</td>\n",
              "      <td>0.7568</td>\n",
              "    </tr>\n",
              "    <tr>\n",
              "      <th>9353</th>\n",
              "      <td>04/04/2005</td>\n",
              "      <td>11.00.00</td>\n",
              "      <td>2.4</td>\n",
              "      <td>1163.0</td>\n",
              "      <td>11.4</td>\n",
              "      <td>1027.0</td>\n",
              "      <td>353.0</td>\n",
              "      <td>604.0</td>\n",
              "      <td>179.0</td>\n",
              "      <td>1264.0</td>\n",
              "      <td>1269.0</td>\n",
              "      <td>24.3</td>\n",
              "      <td>23.7</td>\n",
              "      <td>0.7119</td>\n",
              "    </tr>\n",
              "    <tr>\n",
              "      <th>9354</th>\n",
              "      <td>04/04/2005</td>\n",
              "      <td>12.00.00</td>\n",
              "      <td>2.4</td>\n",
              "      <td>1142.0</td>\n",
              "      <td>12.4</td>\n",
              "      <td>1063.0</td>\n",
              "      <td>293.0</td>\n",
              "      <td>603.0</td>\n",
              "      <td>175.0</td>\n",
              "      <td>1241.0</td>\n",
              "      <td>1092.0</td>\n",
              "      <td>26.9</td>\n",
              "      <td>18.3</td>\n",
              "      <td>0.6406</td>\n",
              "    </tr>\n",
              "    <tr>\n",
              "      <th>9355</th>\n",
              "      <td>04/04/2005</td>\n",
              "      <td>13.00.00</td>\n",
              "      <td>2.1</td>\n",
              "      <td>1003.0</td>\n",
              "      <td>9.5</td>\n",
              "      <td>961.0</td>\n",
              "      <td>235.0</td>\n",
              "      <td>702.0</td>\n",
              "      <td>156.0</td>\n",
              "      <td>1041.0</td>\n",
              "      <td>770.0</td>\n",
              "      <td>28.3</td>\n",
              "      <td>13.5</td>\n",
              "      <td>0.5139</td>\n",
              "    </tr>\n",
              "    <tr>\n",
              "      <th>9356</th>\n",
              "      <td>04/04/2005</td>\n",
              "      <td>14.00.00</td>\n",
              "      <td>2.2</td>\n",
              "      <td>1071.0</td>\n",
              "      <td>11.9</td>\n",
              "      <td>1047.0</td>\n",
              "      <td>265.0</td>\n",
              "      <td>654.0</td>\n",
              "      <td>168.0</td>\n",
              "      <td>1129.0</td>\n",
              "      <td>816.0</td>\n",
              "      <td>28.5</td>\n",
              "      <td>13.1</td>\n",
              "      <td>0.5028</td>\n",
              "    </tr>\n",
              "  </tbody>\n",
              "</table>\n",
              "<p>9357 rows × 14 columns</p>\n",
              "</div>"
            ],
            "text/plain": [
              "            Date      Time  CO(GT)  ...     T    RH      AH\n",
              "0     10/03/2004  18.00.00     2.6  ...  13.6  48.9  0.7578\n",
              "1     10/03/2004  19.00.00     2.0  ...  13.3  47.7  0.7255\n",
              "2     10/03/2004  20.00.00     2.2  ...  11.9  54.0  0.7502\n",
              "3     10/03/2004  21.00.00     2.2  ...  11.0  60.0  0.7867\n",
              "4     10/03/2004  22.00.00     1.6  ...  11.2  59.6  0.7888\n",
              "...          ...       ...     ...  ...   ...   ...     ...\n",
              "9352  04/04/2005  10.00.00     3.1  ...  21.9  29.3  0.7568\n",
              "9353  04/04/2005  11.00.00     2.4  ...  24.3  23.7  0.7119\n",
              "9354  04/04/2005  12.00.00     2.4  ...  26.9  18.3  0.6406\n",
              "9355  04/04/2005  13.00.00     2.1  ...  28.3  13.5  0.5139\n",
              "9356  04/04/2005  14.00.00     2.2  ...  28.5  13.1  0.5028\n",
              "\n",
              "[9357 rows x 14 columns]"
            ]
          },
          "metadata": {
            "tags": []
          },
          "execution_count": 123
        }
      ]
    },
    {
      "cell_type": "markdown",
      "metadata": {
        "id": "0wX04ajl-C8p"
      },
      "source": [
        "After the drop of NaN values in rows we have passed from 9471 rows to 9357 rows.\n"
      ]
    },
    {
      "cell_type": "code",
      "metadata": {
        "id": "mYYaLUSryio3",
        "outputId": "c2e9f2f4-d666-49b4-d0aa-652757dff387",
        "colab": {
          "base_uri": "https://localhost:8080/"
        }
      },
      "source": [
        "df.dtypes"
      ],
      "execution_count": null,
      "outputs": [
        {
          "output_type": "execute_result",
          "data": {
            "text/plain": [
              "Date              object\n",
              "Time              object\n",
              "CO(GT)           float64\n",
              "PT08.S1(CO)      float64\n",
              "C6H6(GT)         float64\n",
              "PT08.S2(NMHC)    float64\n",
              "NOx(GT)          float64\n",
              "PT08.S3(NOx)     float64\n",
              "NO2(GT)          float64\n",
              "PT08.S4(NO2)     float64\n",
              "PT08.S5(O3)      float64\n",
              "T                float64\n",
              "RH               float64\n",
              "AH               float64\n",
              "dtype: object"
            ]
          },
          "metadata": {
            "tags": []
          },
          "execution_count": 124
        }
      ]
    },
    {
      "cell_type": "markdown",
      "metadata": {
        "id": "M_gLOm8fAnOg"
      },
      "source": [
        "### Missing values with \"-200\" value"
      ]
    },
    {
      "cell_type": "code",
      "metadata": {
        "id": "wyhZHmFv-aQi",
        "outputId": "bceb29dd-dbee-47c0-ecbe-491524fc97be",
        "colab": {
          "base_uri": "https://localhost:8080/"
        }
      },
      "source": [
        "df.isin([-200.0]).any()"
      ],
      "execution_count": null,
      "outputs": [
        {
          "output_type": "execute_result",
          "data": {
            "text/plain": [
              "Date             False\n",
              "Time             False\n",
              "CO(GT)            True\n",
              "PT08.S1(CO)       True\n",
              "C6H6(GT)          True\n",
              "PT08.S2(NMHC)     True\n",
              "NOx(GT)           True\n",
              "PT08.S3(NOx)      True\n",
              "NO2(GT)           True\n",
              "PT08.S4(NO2)      True\n",
              "PT08.S5(O3)       True\n",
              "T                 True\n",
              "RH                True\n",
              "AH                True\n",
              "dtype: bool"
            ]
          },
          "metadata": {
            "tags": []
          },
          "execution_count": 125
        }
      ]
    },
    {
      "cell_type": "markdown",
      "metadata": {
        "id": "MZEbccuzAvq0"
      },
      "source": [
        "We know if there is a value with -200 is a missing value by the discription of the dataset, so, we want replace this values with the mean of the each column"
      ]
    },
    {
      "cell_type": "code",
      "metadata": {
        "id": "di6FpzcC-a5d"
      },
      "source": [
        "df1=df.replace(-200.0, np.nan)"
      ],
      "execution_count": null,
      "outputs": []
    },
    {
      "cell_type": "code",
      "metadata": {
        "id": "Fz25a2LN-bbS",
        "outputId": "56fc3bcc-fddf-4526-c9bb-f393a563c902",
        "colab": {
          "base_uri": "https://localhost:8080/"
        }
      },
      "source": [
        "df1.isin([-200]).any()"
      ],
      "execution_count": null,
      "outputs": [
        {
          "output_type": "execute_result",
          "data": {
            "text/plain": [
              "Date             False\n",
              "Time             False\n",
              "CO(GT)           False\n",
              "PT08.S1(CO)      False\n",
              "C6H6(GT)         False\n",
              "PT08.S2(NMHC)    False\n",
              "NOx(GT)          False\n",
              "PT08.S3(NOx)     False\n",
              "NO2(GT)          False\n",
              "PT08.S4(NO2)     False\n",
              "PT08.S5(O3)      False\n",
              "T                False\n",
              "RH               False\n",
              "AH               False\n",
              "dtype: bool"
            ]
          },
          "metadata": {
            "tags": []
          },
          "execution_count": 127
        }
      ]
    },
    {
      "cell_type": "code",
      "metadata": {
        "id": "HvNzes4v-arK",
        "outputId": "075e557f-6c27-4735-d1f9-77ae4d2cc6ea",
        "colab": {
          "base_uri": "https://localhost:8080/"
        }
      },
      "source": [
        "df1.isnull().any()"
      ],
      "execution_count": null,
      "outputs": [
        {
          "output_type": "execute_result",
          "data": {
            "text/plain": [
              "Date             False\n",
              "Time             False\n",
              "CO(GT)            True\n",
              "PT08.S1(CO)       True\n",
              "C6H6(GT)          True\n",
              "PT08.S2(NMHC)     True\n",
              "NOx(GT)           True\n",
              "PT08.S3(NOx)      True\n",
              "NO2(GT)           True\n",
              "PT08.S4(NO2)      True\n",
              "PT08.S5(O3)       True\n",
              "T                 True\n",
              "RH                True\n",
              "AH                True\n",
              "dtype: bool"
            ]
          },
          "metadata": {
            "tags": []
          },
          "execution_count": 128
        }
      ]
    },
    {
      "cell_type": "code",
      "metadata": {
        "id": "qhj-qnAf-bVE"
      },
      "source": [
        "dataframe= df1.fillna(df1.mean())"
      ],
      "execution_count": null,
      "outputs": []
    },
    {
      "cell_type": "code",
      "metadata": {
        "id": "ZmkG4F80-apq",
        "outputId": "4e1ba023-eff0-4ca2-da24-bf1cc202a09f",
        "colab": {
          "base_uri": "https://localhost:8080/"
        }
      },
      "source": [
        "dataframe.isnull().any()"
      ],
      "execution_count": null,
      "outputs": [
        {
          "output_type": "execute_result",
          "data": {
            "text/plain": [
              "Date             False\n",
              "Time             False\n",
              "CO(GT)           False\n",
              "PT08.S1(CO)      False\n",
              "C6H6(GT)         False\n",
              "PT08.S2(NMHC)    False\n",
              "NOx(GT)          False\n",
              "PT08.S3(NOx)     False\n",
              "NO2(GT)          False\n",
              "PT08.S4(NO2)     False\n",
              "PT08.S5(O3)      False\n",
              "T                False\n",
              "RH               False\n",
              "AH               False\n",
              "dtype: bool"
            ]
          },
          "metadata": {
            "tags": []
          },
          "execution_count": 130
        }
      ]
    },
    {
      "cell_type": "code",
      "metadata": {
        "id": "k-w9LUMQi06n",
        "outputId": "397cdfef-9d39-41f0-d988-c55ccd8404d2",
        "colab": {
          "base_uri": "https://localhost:8080/",
          "height": 419
        }
      },
      "source": [
        "dataframe"
      ],
      "execution_count": null,
      "outputs": [
        {
          "output_type": "execute_result",
          "data": {
            "text/html": [
              "<div>\n",
              "<style scoped>\n",
              "    .dataframe tbody tr th:only-of-type {\n",
              "        vertical-align: middle;\n",
              "    }\n",
              "\n",
              "    .dataframe tbody tr th {\n",
              "        vertical-align: top;\n",
              "    }\n",
              "\n",
              "    .dataframe thead th {\n",
              "        text-align: right;\n",
              "    }\n",
              "</style>\n",
              "<table border=\"1\" class=\"dataframe\">\n",
              "  <thead>\n",
              "    <tr style=\"text-align: right;\">\n",
              "      <th></th>\n",
              "      <th>Date</th>\n",
              "      <th>Time</th>\n",
              "      <th>CO(GT)</th>\n",
              "      <th>PT08.S1(CO)</th>\n",
              "      <th>C6H6(GT)</th>\n",
              "      <th>PT08.S2(NMHC)</th>\n",
              "      <th>NOx(GT)</th>\n",
              "      <th>PT08.S3(NOx)</th>\n",
              "      <th>NO2(GT)</th>\n",
              "      <th>PT08.S4(NO2)</th>\n",
              "      <th>PT08.S5(O3)</th>\n",
              "      <th>T</th>\n",
              "      <th>RH</th>\n",
              "      <th>AH</th>\n",
              "    </tr>\n",
              "  </thead>\n",
              "  <tbody>\n",
              "    <tr>\n",
              "      <th>0</th>\n",
              "      <td>10/03/2004</td>\n",
              "      <td>18.00.00</td>\n",
              "      <td>2.6</td>\n",
              "      <td>1360.0</td>\n",
              "      <td>11.9</td>\n",
              "      <td>1046.0</td>\n",
              "      <td>166.0</td>\n",
              "      <td>1056.0</td>\n",
              "      <td>113.0</td>\n",
              "      <td>1692.0</td>\n",
              "      <td>1268.0</td>\n",
              "      <td>13.6</td>\n",
              "      <td>48.9</td>\n",
              "      <td>0.7578</td>\n",
              "    </tr>\n",
              "    <tr>\n",
              "      <th>1</th>\n",
              "      <td>10/03/2004</td>\n",
              "      <td>19.00.00</td>\n",
              "      <td>2.0</td>\n",
              "      <td>1292.0</td>\n",
              "      <td>9.4</td>\n",
              "      <td>955.0</td>\n",
              "      <td>103.0</td>\n",
              "      <td>1174.0</td>\n",
              "      <td>92.0</td>\n",
              "      <td>1559.0</td>\n",
              "      <td>972.0</td>\n",
              "      <td>13.3</td>\n",
              "      <td>47.7</td>\n",
              "      <td>0.7255</td>\n",
              "    </tr>\n",
              "    <tr>\n",
              "      <th>2</th>\n",
              "      <td>10/03/2004</td>\n",
              "      <td>20.00.00</td>\n",
              "      <td>2.2</td>\n",
              "      <td>1402.0</td>\n",
              "      <td>9.0</td>\n",
              "      <td>939.0</td>\n",
              "      <td>131.0</td>\n",
              "      <td>1140.0</td>\n",
              "      <td>114.0</td>\n",
              "      <td>1555.0</td>\n",
              "      <td>1074.0</td>\n",
              "      <td>11.9</td>\n",
              "      <td>54.0</td>\n",
              "      <td>0.7502</td>\n",
              "    </tr>\n",
              "    <tr>\n",
              "      <th>3</th>\n",
              "      <td>10/03/2004</td>\n",
              "      <td>21.00.00</td>\n",
              "      <td>2.2</td>\n",
              "      <td>1376.0</td>\n",
              "      <td>9.2</td>\n",
              "      <td>948.0</td>\n",
              "      <td>172.0</td>\n",
              "      <td>1092.0</td>\n",
              "      <td>122.0</td>\n",
              "      <td>1584.0</td>\n",
              "      <td>1203.0</td>\n",
              "      <td>11.0</td>\n",
              "      <td>60.0</td>\n",
              "      <td>0.7867</td>\n",
              "    </tr>\n",
              "    <tr>\n",
              "      <th>4</th>\n",
              "      <td>10/03/2004</td>\n",
              "      <td>22.00.00</td>\n",
              "      <td>1.6</td>\n",
              "      <td>1272.0</td>\n",
              "      <td>6.5</td>\n",
              "      <td>836.0</td>\n",
              "      <td>131.0</td>\n",
              "      <td>1205.0</td>\n",
              "      <td>116.0</td>\n",
              "      <td>1490.0</td>\n",
              "      <td>1110.0</td>\n",
              "      <td>11.2</td>\n",
              "      <td>59.6</td>\n",
              "      <td>0.7888</td>\n",
              "    </tr>\n",
              "    <tr>\n",
              "      <th>...</th>\n",
              "      <td>...</td>\n",
              "      <td>...</td>\n",
              "      <td>...</td>\n",
              "      <td>...</td>\n",
              "      <td>...</td>\n",
              "      <td>...</td>\n",
              "      <td>...</td>\n",
              "      <td>...</td>\n",
              "      <td>...</td>\n",
              "      <td>...</td>\n",
              "      <td>...</td>\n",
              "      <td>...</td>\n",
              "      <td>...</td>\n",
              "      <td>...</td>\n",
              "    </tr>\n",
              "    <tr>\n",
              "      <th>9352</th>\n",
              "      <td>04/04/2005</td>\n",
              "      <td>10.00.00</td>\n",
              "      <td>3.1</td>\n",
              "      <td>1314.0</td>\n",
              "      <td>13.5</td>\n",
              "      <td>1101.0</td>\n",
              "      <td>472.0</td>\n",
              "      <td>539.0</td>\n",
              "      <td>190.0</td>\n",
              "      <td>1374.0</td>\n",
              "      <td>1729.0</td>\n",
              "      <td>21.9</td>\n",
              "      <td>29.3</td>\n",
              "      <td>0.7568</td>\n",
              "    </tr>\n",
              "    <tr>\n",
              "      <th>9353</th>\n",
              "      <td>04/04/2005</td>\n",
              "      <td>11.00.00</td>\n",
              "      <td>2.4</td>\n",
              "      <td>1163.0</td>\n",
              "      <td>11.4</td>\n",
              "      <td>1027.0</td>\n",
              "      <td>353.0</td>\n",
              "      <td>604.0</td>\n",
              "      <td>179.0</td>\n",
              "      <td>1264.0</td>\n",
              "      <td>1269.0</td>\n",
              "      <td>24.3</td>\n",
              "      <td>23.7</td>\n",
              "      <td>0.7119</td>\n",
              "    </tr>\n",
              "    <tr>\n",
              "      <th>9354</th>\n",
              "      <td>04/04/2005</td>\n",
              "      <td>12.00.00</td>\n",
              "      <td>2.4</td>\n",
              "      <td>1142.0</td>\n",
              "      <td>12.4</td>\n",
              "      <td>1063.0</td>\n",
              "      <td>293.0</td>\n",
              "      <td>603.0</td>\n",
              "      <td>175.0</td>\n",
              "      <td>1241.0</td>\n",
              "      <td>1092.0</td>\n",
              "      <td>26.9</td>\n",
              "      <td>18.3</td>\n",
              "      <td>0.6406</td>\n",
              "    </tr>\n",
              "    <tr>\n",
              "      <th>9355</th>\n",
              "      <td>04/04/2005</td>\n",
              "      <td>13.00.00</td>\n",
              "      <td>2.1</td>\n",
              "      <td>1003.0</td>\n",
              "      <td>9.5</td>\n",
              "      <td>961.0</td>\n",
              "      <td>235.0</td>\n",
              "      <td>702.0</td>\n",
              "      <td>156.0</td>\n",
              "      <td>1041.0</td>\n",
              "      <td>770.0</td>\n",
              "      <td>28.3</td>\n",
              "      <td>13.5</td>\n",
              "      <td>0.5139</td>\n",
              "    </tr>\n",
              "    <tr>\n",
              "      <th>9356</th>\n",
              "      <td>04/04/2005</td>\n",
              "      <td>14.00.00</td>\n",
              "      <td>2.2</td>\n",
              "      <td>1071.0</td>\n",
              "      <td>11.9</td>\n",
              "      <td>1047.0</td>\n",
              "      <td>265.0</td>\n",
              "      <td>654.0</td>\n",
              "      <td>168.0</td>\n",
              "      <td>1129.0</td>\n",
              "      <td>816.0</td>\n",
              "      <td>28.5</td>\n",
              "      <td>13.1</td>\n",
              "      <td>0.5028</td>\n",
              "    </tr>\n",
              "  </tbody>\n",
              "</table>\n",
              "<p>9357 rows × 14 columns</p>\n",
              "</div>"
            ],
            "text/plain": [
              "            Date      Time  CO(GT)  ...     T    RH      AH\n",
              "0     10/03/2004  18.00.00     2.6  ...  13.6  48.9  0.7578\n",
              "1     10/03/2004  19.00.00     2.0  ...  13.3  47.7  0.7255\n",
              "2     10/03/2004  20.00.00     2.2  ...  11.9  54.0  0.7502\n",
              "3     10/03/2004  21.00.00     2.2  ...  11.0  60.0  0.7867\n",
              "4     10/03/2004  22.00.00     1.6  ...  11.2  59.6  0.7888\n",
              "...          ...       ...     ...  ...   ...   ...     ...\n",
              "9352  04/04/2005  10.00.00     3.1  ...  21.9  29.3  0.7568\n",
              "9353  04/04/2005  11.00.00     2.4  ...  24.3  23.7  0.7119\n",
              "9354  04/04/2005  12.00.00     2.4  ...  26.9  18.3  0.6406\n",
              "9355  04/04/2005  13.00.00     2.1  ...  28.3  13.5  0.5139\n",
              "9356  04/04/2005  14.00.00     2.2  ...  28.5  13.1  0.5028\n",
              "\n",
              "[9357 rows x 14 columns]"
            ]
          },
          "metadata": {
            "tags": []
          },
          "execution_count": 131
        }
      ]
    },
    {
      "cell_type": "markdown",
      "metadata": {
        "id": "s-72edI4Hsey"
      },
      "source": [
        "Now our dataset is called dataframe, we dropped out NaN columns and NMHC(GT) column, we dropped NaN values and we replaced the -200 missing values with the mean of the column."
      ]
    },
    {
      "cell_type": "markdown",
      "metadata": {
        "id": "zKJ46U7iwx8g"
      },
      "source": [
        "### Deal with Data and Time"
      ]
    },
    {
      "cell_type": "markdown",
      "metadata": {
        "id": "evWYhvB4w2el"
      },
      "source": [
        "In this section we are going to deal with Date and Time format"
      ]
    },
    {
      "cell_type": "markdown",
      "metadata": {
        "id": "Xy1AscUf1BRD"
      },
      "source": [
        "#### Date"
      ]
    },
    {
      "cell_type": "markdown",
      "metadata": {
        "id": "HMcFje5l3-8k"
      },
      "source": [
        "The problem is that i need the format year - month - day to use datetime function, so i have to switch month with day "
      ]
    },
    {
      "cell_type": "code",
      "metadata": {
        "id": "Rnibp7XG5peC"
      },
      "source": [
        "dataframe['Date']=pd.to_datetime(dataframe.Date, dayfirst=True)"
      ],
      "execution_count": null,
      "outputs": []
    },
    {
      "cell_type": "code",
      "metadata": {
        "id": "ctroSTCA6czD"
      },
      "source": [
        "dataframe['Weekday']=dataframe.Date.dt.weekday"
      ],
      "execution_count": null,
      "outputs": []
    },
    {
      "cell_type": "code",
      "metadata": {
        "id": "lBUjdDp18E7n"
      },
      "source": [
        "dataframe['Month']=dataframe.Date.dt.month"
      ],
      "execution_count": null,
      "outputs": []
    },
    {
      "cell_type": "code",
      "metadata": {
        "id": "R88fK-3V44Wc",
        "outputId": "e48c28a3-93fd-4470-88d3-a7eb79b5a4e3",
        "colab": {
          "base_uri": "https://localhost:8080/"
        }
      },
      "source": [
        "dataframe.dtypes\n"
      ],
      "execution_count": null,
      "outputs": [
        {
          "output_type": "execute_result",
          "data": {
            "text/plain": [
              "Date             datetime64[ns]\n",
              "Time                     object\n",
              "CO(GT)                  float64\n",
              "PT08.S1(CO)             float64\n",
              "C6H6(GT)                float64\n",
              "PT08.S2(NMHC)           float64\n",
              "NOx(GT)                 float64\n",
              "PT08.S3(NOx)            float64\n",
              "NO2(GT)                 float64\n",
              "PT08.S4(NO2)            float64\n",
              "PT08.S5(O3)             float64\n",
              "T                       float64\n",
              "RH                      float64\n",
              "AH                      float64\n",
              "Weekday                   int64\n",
              "Month                     int64\n",
              "dtype: object"
            ]
          },
          "metadata": {
            "tags": []
          },
          "execution_count": 135
        }
      ]
    },
    {
      "cell_type": "code",
      "metadata": {
        "id": "Rs1drCQK5xsA",
        "outputId": "9bfe9235-3557-4ac1-f01c-ac682946075f",
        "colab": {
          "base_uri": "https://localhost:8080/",
          "height": 589
        }
      },
      "source": [
        "dataframe"
      ],
      "execution_count": null,
      "outputs": [
        {
          "output_type": "execute_result",
          "data": {
            "text/html": [
              "<div>\n",
              "<style scoped>\n",
              "    .dataframe tbody tr th:only-of-type {\n",
              "        vertical-align: middle;\n",
              "    }\n",
              "\n",
              "    .dataframe tbody tr th {\n",
              "        vertical-align: top;\n",
              "    }\n",
              "\n",
              "    .dataframe thead th {\n",
              "        text-align: right;\n",
              "    }\n",
              "</style>\n",
              "<table border=\"1\" class=\"dataframe\">\n",
              "  <thead>\n",
              "    <tr style=\"text-align: right;\">\n",
              "      <th></th>\n",
              "      <th>Date</th>\n",
              "      <th>Time</th>\n",
              "      <th>CO(GT)</th>\n",
              "      <th>PT08.S1(CO)</th>\n",
              "      <th>C6H6(GT)</th>\n",
              "      <th>PT08.S2(NMHC)</th>\n",
              "      <th>NOx(GT)</th>\n",
              "      <th>PT08.S3(NOx)</th>\n",
              "      <th>NO2(GT)</th>\n",
              "      <th>PT08.S4(NO2)</th>\n",
              "      <th>PT08.S5(O3)</th>\n",
              "      <th>T</th>\n",
              "      <th>RH</th>\n",
              "      <th>AH</th>\n",
              "      <th>Weekday</th>\n",
              "      <th>Month</th>\n",
              "    </tr>\n",
              "  </thead>\n",
              "  <tbody>\n",
              "    <tr>\n",
              "      <th>0</th>\n",
              "      <td>2004-03-10</td>\n",
              "      <td>18.00.00</td>\n",
              "      <td>2.6</td>\n",
              "      <td>1360.0</td>\n",
              "      <td>11.9</td>\n",
              "      <td>1046.0</td>\n",
              "      <td>166.0</td>\n",
              "      <td>1056.0</td>\n",
              "      <td>113.0</td>\n",
              "      <td>1692.0</td>\n",
              "      <td>1268.0</td>\n",
              "      <td>13.6</td>\n",
              "      <td>48.9</td>\n",
              "      <td>0.7578</td>\n",
              "      <td>2</td>\n",
              "      <td>3</td>\n",
              "    </tr>\n",
              "    <tr>\n",
              "      <th>1</th>\n",
              "      <td>2004-03-10</td>\n",
              "      <td>19.00.00</td>\n",
              "      <td>2.0</td>\n",
              "      <td>1292.0</td>\n",
              "      <td>9.4</td>\n",
              "      <td>955.0</td>\n",
              "      <td>103.0</td>\n",
              "      <td>1174.0</td>\n",
              "      <td>92.0</td>\n",
              "      <td>1559.0</td>\n",
              "      <td>972.0</td>\n",
              "      <td>13.3</td>\n",
              "      <td>47.7</td>\n",
              "      <td>0.7255</td>\n",
              "      <td>2</td>\n",
              "      <td>3</td>\n",
              "    </tr>\n",
              "    <tr>\n",
              "      <th>2</th>\n",
              "      <td>2004-03-10</td>\n",
              "      <td>20.00.00</td>\n",
              "      <td>2.2</td>\n",
              "      <td>1402.0</td>\n",
              "      <td>9.0</td>\n",
              "      <td>939.0</td>\n",
              "      <td>131.0</td>\n",
              "      <td>1140.0</td>\n",
              "      <td>114.0</td>\n",
              "      <td>1555.0</td>\n",
              "      <td>1074.0</td>\n",
              "      <td>11.9</td>\n",
              "      <td>54.0</td>\n",
              "      <td>0.7502</td>\n",
              "      <td>2</td>\n",
              "      <td>3</td>\n",
              "    </tr>\n",
              "    <tr>\n",
              "      <th>3</th>\n",
              "      <td>2004-03-10</td>\n",
              "      <td>21.00.00</td>\n",
              "      <td>2.2</td>\n",
              "      <td>1376.0</td>\n",
              "      <td>9.2</td>\n",
              "      <td>948.0</td>\n",
              "      <td>172.0</td>\n",
              "      <td>1092.0</td>\n",
              "      <td>122.0</td>\n",
              "      <td>1584.0</td>\n",
              "      <td>1203.0</td>\n",
              "      <td>11.0</td>\n",
              "      <td>60.0</td>\n",
              "      <td>0.7867</td>\n",
              "      <td>2</td>\n",
              "      <td>3</td>\n",
              "    </tr>\n",
              "    <tr>\n",
              "      <th>4</th>\n",
              "      <td>2004-03-10</td>\n",
              "      <td>22.00.00</td>\n",
              "      <td>1.6</td>\n",
              "      <td>1272.0</td>\n",
              "      <td>6.5</td>\n",
              "      <td>836.0</td>\n",
              "      <td>131.0</td>\n",
              "      <td>1205.0</td>\n",
              "      <td>116.0</td>\n",
              "      <td>1490.0</td>\n",
              "      <td>1110.0</td>\n",
              "      <td>11.2</td>\n",
              "      <td>59.6</td>\n",
              "      <td>0.7888</td>\n",
              "      <td>2</td>\n",
              "      <td>3</td>\n",
              "    </tr>\n",
              "    <tr>\n",
              "      <th>...</th>\n",
              "      <td>...</td>\n",
              "      <td>...</td>\n",
              "      <td>...</td>\n",
              "      <td>...</td>\n",
              "      <td>...</td>\n",
              "      <td>...</td>\n",
              "      <td>...</td>\n",
              "      <td>...</td>\n",
              "      <td>...</td>\n",
              "      <td>...</td>\n",
              "      <td>...</td>\n",
              "      <td>...</td>\n",
              "      <td>...</td>\n",
              "      <td>...</td>\n",
              "      <td>...</td>\n",
              "      <td>...</td>\n",
              "    </tr>\n",
              "    <tr>\n",
              "      <th>9352</th>\n",
              "      <td>2005-04-04</td>\n",
              "      <td>10.00.00</td>\n",
              "      <td>3.1</td>\n",
              "      <td>1314.0</td>\n",
              "      <td>13.5</td>\n",
              "      <td>1101.0</td>\n",
              "      <td>472.0</td>\n",
              "      <td>539.0</td>\n",
              "      <td>190.0</td>\n",
              "      <td>1374.0</td>\n",
              "      <td>1729.0</td>\n",
              "      <td>21.9</td>\n",
              "      <td>29.3</td>\n",
              "      <td>0.7568</td>\n",
              "      <td>0</td>\n",
              "      <td>4</td>\n",
              "    </tr>\n",
              "    <tr>\n",
              "      <th>9353</th>\n",
              "      <td>2005-04-04</td>\n",
              "      <td>11.00.00</td>\n",
              "      <td>2.4</td>\n",
              "      <td>1163.0</td>\n",
              "      <td>11.4</td>\n",
              "      <td>1027.0</td>\n",
              "      <td>353.0</td>\n",
              "      <td>604.0</td>\n",
              "      <td>179.0</td>\n",
              "      <td>1264.0</td>\n",
              "      <td>1269.0</td>\n",
              "      <td>24.3</td>\n",
              "      <td>23.7</td>\n",
              "      <td>0.7119</td>\n",
              "      <td>0</td>\n",
              "      <td>4</td>\n",
              "    </tr>\n",
              "    <tr>\n",
              "      <th>9354</th>\n",
              "      <td>2005-04-04</td>\n",
              "      <td>12.00.00</td>\n",
              "      <td>2.4</td>\n",
              "      <td>1142.0</td>\n",
              "      <td>12.4</td>\n",
              "      <td>1063.0</td>\n",
              "      <td>293.0</td>\n",
              "      <td>603.0</td>\n",
              "      <td>175.0</td>\n",
              "      <td>1241.0</td>\n",
              "      <td>1092.0</td>\n",
              "      <td>26.9</td>\n",
              "      <td>18.3</td>\n",
              "      <td>0.6406</td>\n",
              "      <td>0</td>\n",
              "      <td>4</td>\n",
              "    </tr>\n",
              "    <tr>\n",
              "      <th>9355</th>\n",
              "      <td>2005-04-04</td>\n",
              "      <td>13.00.00</td>\n",
              "      <td>2.1</td>\n",
              "      <td>1003.0</td>\n",
              "      <td>9.5</td>\n",
              "      <td>961.0</td>\n",
              "      <td>235.0</td>\n",
              "      <td>702.0</td>\n",
              "      <td>156.0</td>\n",
              "      <td>1041.0</td>\n",
              "      <td>770.0</td>\n",
              "      <td>28.3</td>\n",
              "      <td>13.5</td>\n",
              "      <td>0.5139</td>\n",
              "      <td>0</td>\n",
              "      <td>4</td>\n",
              "    </tr>\n",
              "    <tr>\n",
              "      <th>9356</th>\n",
              "      <td>2005-04-04</td>\n",
              "      <td>14.00.00</td>\n",
              "      <td>2.2</td>\n",
              "      <td>1071.0</td>\n",
              "      <td>11.9</td>\n",
              "      <td>1047.0</td>\n",
              "      <td>265.0</td>\n",
              "      <td>654.0</td>\n",
              "      <td>168.0</td>\n",
              "      <td>1129.0</td>\n",
              "      <td>816.0</td>\n",
              "      <td>28.5</td>\n",
              "      <td>13.1</td>\n",
              "      <td>0.5028</td>\n",
              "      <td>0</td>\n",
              "      <td>4</td>\n",
              "    </tr>\n",
              "  </tbody>\n",
              "</table>\n",
              "<p>9357 rows × 16 columns</p>\n",
              "</div>"
            ],
            "text/plain": [
              "           Date      Time  CO(GT)  PT08.S1(CO)  ...    RH      AH  Weekday  Month\n",
              "0    2004-03-10  18.00.00     2.6       1360.0  ...  48.9  0.7578        2      3\n",
              "1    2004-03-10  19.00.00     2.0       1292.0  ...  47.7  0.7255        2      3\n",
              "2    2004-03-10  20.00.00     2.2       1402.0  ...  54.0  0.7502        2      3\n",
              "3    2004-03-10  21.00.00     2.2       1376.0  ...  60.0  0.7867        2      3\n",
              "4    2004-03-10  22.00.00     1.6       1272.0  ...  59.6  0.7888        2      3\n",
              "...         ...       ...     ...          ...  ...   ...     ...      ...    ...\n",
              "9352 2005-04-04  10.00.00     3.1       1314.0  ...  29.3  0.7568        0      4\n",
              "9353 2005-04-04  11.00.00     2.4       1163.0  ...  23.7  0.7119        0      4\n",
              "9354 2005-04-04  12.00.00     2.4       1142.0  ...  18.3  0.6406        0      4\n",
              "9355 2005-04-04  13.00.00     2.1       1003.0  ...  13.5  0.5139        0      4\n",
              "9356 2005-04-04  14.00.00     2.2       1071.0  ...  13.1  0.5028        0      4\n",
              "\n",
              "[9357 rows x 16 columns]"
            ]
          },
          "metadata": {
            "tags": []
          },
          "execution_count": 136
        }
      ]
    },
    {
      "cell_type": "markdown",
      "metadata": {
        "id": "_RRdUxOl8eIx"
      },
      "source": [
        "Now the Data Format it's ok and also i create a new feature Weekday with 0=monday and ..... and 6=Sunday."
      ]
    },
    {
      "cell_type": "markdown",
      "metadata": {
        "id": "IoVi5EYK8xVt"
      },
      "source": [
        "#### Time"
      ]
    },
    {
      "cell_type": "markdown",
      "metadata": {
        "id": "I6e6Q_aoA-ng"
      },
      "source": [
        "From Time feature i figure out only the hour and assign it to new feature Hour"
      ]
    },
    {
      "cell_type": "code",
      "metadata": {
        "id": "a6hhAd1u1yLk",
        "outputId": "eaf4a2a4-6b34-4a3e-a948-75c44c126c11",
        "colab": {
          "base_uri": "https://localhost:8080/"
        }
      },
      "source": [
        "dataframe['Hour'] = pd.to_datetime(dataframe['Time'],format= '%H.%M.%S').dt.hour\n",
        "type(dataframe['Time'][0])"
      ],
      "execution_count": null,
      "outputs": [
        {
          "output_type": "execute_result",
          "data": {
            "text/plain": [
              "str"
            ]
          },
          "metadata": {
            "tags": []
          },
          "execution_count": 137
        }
      ]
    },
    {
      "cell_type": "code",
      "metadata": {
        "id": "_UVtzMVtApBu",
        "outputId": "2698cc2a-3e45-4b64-ec5a-e0e7555f64ec",
        "colab": {
          "base_uri": "https://localhost:8080/"
        }
      },
      "source": [
        "dataframe.dtypes"
      ],
      "execution_count": null,
      "outputs": [
        {
          "output_type": "execute_result",
          "data": {
            "text/plain": [
              "Date             datetime64[ns]\n",
              "Time                     object\n",
              "CO(GT)                  float64\n",
              "PT08.S1(CO)             float64\n",
              "C6H6(GT)                float64\n",
              "PT08.S2(NMHC)           float64\n",
              "NOx(GT)                 float64\n",
              "PT08.S3(NOx)            float64\n",
              "NO2(GT)                 float64\n",
              "PT08.S4(NO2)            float64\n",
              "PT08.S5(O3)             float64\n",
              "T                       float64\n",
              "RH                      float64\n",
              "AH                      float64\n",
              "Weekday                   int64\n",
              "Month                     int64\n",
              "Hour                      int64\n",
              "dtype: object"
            ]
          },
          "metadata": {
            "tags": []
          },
          "execution_count": 138
        }
      ]
    },
    {
      "cell_type": "code",
      "metadata": {
        "id": "0Ws3AbaqAlE5",
        "outputId": "0916f53f-77e6-41be-d38f-9fb598103391",
        "colab": {
          "base_uri": "https://localhost:8080/",
          "height": 609
        }
      },
      "source": [
        "dataframe"
      ],
      "execution_count": null,
      "outputs": [
        {
          "output_type": "execute_result",
          "data": {
            "text/html": [
              "<div>\n",
              "<style scoped>\n",
              "    .dataframe tbody tr th:only-of-type {\n",
              "        vertical-align: middle;\n",
              "    }\n",
              "\n",
              "    .dataframe tbody tr th {\n",
              "        vertical-align: top;\n",
              "    }\n",
              "\n",
              "    .dataframe thead th {\n",
              "        text-align: right;\n",
              "    }\n",
              "</style>\n",
              "<table border=\"1\" class=\"dataframe\">\n",
              "  <thead>\n",
              "    <tr style=\"text-align: right;\">\n",
              "      <th></th>\n",
              "      <th>Date</th>\n",
              "      <th>Time</th>\n",
              "      <th>CO(GT)</th>\n",
              "      <th>PT08.S1(CO)</th>\n",
              "      <th>C6H6(GT)</th>\n",
              "      <th>PT08.S2(NMHC)</th>\n",
              "      <th>NOx(GT)</th>\n",
              "      <th>PT08.S3(NOx)</th>\n",
              "      <th>NO2(GT)</th>\n",
              "      <th>PT08.S4(NO2)</th>\n",
              "      <th>PT08.S5(O3)</th>\n",
              "      <th>T</th>\n",
              "      <th>RH</th>\n",
              "      <th>AH</th>\n",
              "      <th>Weekday</th>\n",
              "      <th>Month</th>\n",
              "      <th>Hour</th>\n",
              "    </tr>\n",
              "  </thead>\n",
              "  <tbody>\n",
              "    <tr>\n",
              "      <th>0</th>\n",
              "      <td>2004-03-10</td>\n",
              "      <td>18.00.00</td>\n",
              "      <td>2.6</td>\n",
              "      <td>1360.0</td>\n",
              "      <td>11.9</td>\n",
              "      <td>1046.0</td>\n",
              "      <td>166.0</td>\n",
              "      <td>1056.0</td>\n",
              "      <td>113.0</td>\n",
              "      <td>1692.0</td>\n",
              "      <td>1268.0</td>\n",
              "      <td>13.6</td>\n",
              "      <td>48.9</td>\n",
              "      <td>0.7578</td>\n",
              "      <td>2</td>\n",
              "      <td>3</td>\n",
              "      <td>18</td>\n",
              "    </tr>\n",
              "    <tr>\n",
              "      <th>1</th>\n",
              "      <td>2004-03-10</td>\n",
              "      <td>19.00.00</td>\n",
              "      <td>2.0</td>\n",
              "      <td>1292.0</td>\n",
              "      <td>9.4</td>\n",
              "      <td>955.0</td>\n",
              "      <td>103.0</td>\n",
              "      <td>1174.0</td>\n",
              "      <td>92.0</td>\n",
              "      <td>1559.0</td>\n",
              "      <td>972.0</td>\n",
              "      <td>13.3</td>\n",
              "      <td>47.7</td>\n",
              "      <td>0.7255</td>\n",
              "      <td>2</td>\n",
              "      <td>3</td>\n",
              "      <td>19</td>\n",
              "    </tr>\n",
              "    <tr>\n",
              "      <th>2</th>\n",
              "      <td>2004-03-10</td>\n",
              "      <td>20.00.00</td>\n",
              "      <td>2.2</td>\n",
              "      <td>1402.0</td>\n",
              "      <td>9.0</td>\n",
              "      <td>939.0</td>\n",
              "      <td>131.0</td>\n",
              "      <td>1140.0</td>\n",
              "      <td>114.0</td>\n",
              "      <td>1555.0</td>\n",
              "      <td>1074.0</td>\n",
              "      <td>11.9</td>\n",
              "      <td>54.0</td>\n",
              "      <td>0.7502</td>\n",
              "      <td>2</td>\n",
              "      <td>3</td>\n",
              "      <td>20</td>\n",
              "    </tr>\n",
              "    <tr>\n",
              "      <th>3</th>\n",
              "      <td>2004-03-10</td>\n",
              "      <td>21.00.00</td>\n",
              "      <td>2.2</td>\n",
              "      <td>1376.0</td>\n",
              "      <td>9.2</td>\n",
              "      <td>948.0</td>\n",
              "      <td>172.0</td>\n",
              "      <td>1092.0</td>\n",
              "      <td>122.0</td>\n",
              "      <td>1584.0</td>\n",
              "      <td>1203.0</td>\n",
              "      <td>11.0</td>\n",
              "      <td>60.0</td>\n",
              "      <td>0.7867</td>\n",
              "      <td>2</td>\n",
              "      <td>3</td>\n",
              "      <td>21</td>\n",
              "    </tr>\n",
              "    <tr>\n",
              "      <th>4</th>\n",
              "      <td>2004-03-10</td>\n",
              "      <td>22.00.00</td>\n",
              "      <td>1.6</td>\n",
              "      <td>1272.0</td>\n",
              "      <td>6.5</td>\n",
              "      <td>836.0</td>\n",
              "      <td>131.0</td>\n",
              "      <td>1205.0</td>\n",
              "      <td>116.0</td>\n",
              "      <td>1490.0</td>\n",
              "      <td>1110.0</td>\n",
              "      <td>11.2</td>\n",
              "      <td>59.6</td>\n",
              "      <td>0.7888</td>\n",
              "      <td>2</td>\n",
              "      <td>3</td>\n",
              "      <td>22</td>\n",
              "    </tr>\n",
              "    <tr>\n",
              "      <th>...</th>\n",
              "      <td>...</td>\n",
              "      <td>...</td>\n",
              "      <td>...</td>\n",
              "      <td>...</td>\n",
              "      <td>...</td>\n",
              "      <td>...</td>\n",
              "      <td>...</td>\n",
              "      <td>...</td>\n",
              "      <td>...</td>\n",
              "      <td>...</td>\n",
              "      <td>...</td>\n",
              "      <td>...</td>\n",
              "      <td>...</td>\n",
              "      <td>...</td>\n",
              "      <td>...</td>\n",
              "      <td>...</td>\n",
              "      <td>...</td>\n",
              "    </tr>\n",
              "    <tr>\n",
              "      <th>9352</th>\n",
              "      <td>2005-04-04</td>\n",
              "      <td>10.00.00</td>\n",
              "      <td>3.1</td>\n",
              "      <td>1314.0</td>\n",
              "      <td>13.5</td>\n",
              "      <td>1101.0</td>\n",
              "      <td>472.0</td>\n",
              "      <td>539.0</td>\n",
              "      <td>190.0</td>\n",
              "      <td>1374.0</td>\n",
              "      <td>1729.0</td>\n",
              "      <td>21.9</td>\n",
              "      <td>29.3</td>\n",
              "      <td>0.7568</td>\n",
              "      <td>0</td>\n",
              "      <td>4</td>\n",
              "      <td>10</td>\n",
              "    </tr>\n",
              "    <tr>\n",
              "      <th>9353</th>\n",
              "      <td>2005-04-04</td>\n",
              "      <td>11.00.00</td>\n",
              "      <td>2.4</td>\n",
              "      <td>1163.0</td>\n",
              "      <td>11.4</td>\n",
              "      <td>1027.0</td>\n",
              "      <td>353.0</td>\n",
              "      <td>604.0</td>\n",
              "      <td>179.0</td>\n",
              "      <td>1264.0</td>\n",
              "      <td>1269.0</td>\n",
              "      <td>24.3</td>\n",
              "      <td>23.7</td>\n",
              "      <td>0.7119</td>\n",
              "      <td>0</td>\n",
              "      <td>4</td>\n",
              "      <td>11</td>\n",
              "    </tr>\n",
              "    <tr>\n",
              "      <th>9354</th>\n",
              "      <td>2005-04-04</td>\n",
              "      <td>12.00.00</td>\n",
              "      <td>2.4</td>\n",
              "      <td>1142.0</td>\n",
              "      <td>12.4</td>\n",
              "      <td>1063.0</td>\n",
              "      <td>293.0</td>\n",
              "      <td>603.0</td>\n",
              "      <td>175.0</td>\n",
              "      <td>1241.0</td>\n",
              "      <td>1092.0</td>\n",
              "      <td>26.9</td>\n",
              "      <td>18.3</td>\n",
              "      <td>0.6406</td>\n",
              "      <td>0</td>\n",
              "      <td>4</td>\n",
              "      <td>12</td>\n",
              "    </tr>\n",
              "    <tr>\n",
              "      <th>9355</th>\n",
              "      <td>2005-04-04</td>\n",
              "      <td>13.00.00</td>\n",
              "      <td>2.1</td>\n",
              "      <td>1003.0</td>\n",
              "      <td>9.5</td>\n",
              "      <td>961.0</td>\n",
              "      <td>235.0</td>\n",
              "      <td>702.0</td>\n",
              "      <td>156.0</td>\n",
              "      <td>1041.0</td>\n",
              "      <td>770.0</td>\n",
              "      <td>28.3</td>\n",
              "      <td>13.5</td>\n",
              "      <td>0.5139</td>\n",
              "      <td>0</td>\n",
              "      <td>4</td>\n",
              "      <td>13</td>\n",
              "    </tr>\n",
              "    <tr>\n",
              "      <th>9356</th>\n",
              "      <td>2005-04-04</td>\n",
              "      <td>14.00.00</td>\n",
              "      <td>2.2</td>\n",
              "      <td>1071.0</td>\n",
              "      <td>11.9</td>\n",
              "      <td>1047.0</td>\n",
              "      <td>265.0</td>\n",
              "      <td>654.0</td>\n",
              "      <td>168.0</td>\n",
              "      <td>1129.0</td>\n",
              "      <td>816.0</td>\n",
              "      <td>28.5</td>\n",
              "      <td>13.1</td>\n",
              "      <td>0.5028</td>\n",
              "      <td>0</td>\n",
              "      <td>4</td>\n",
              "      <td>14</td>\n",
              "    </tr>\n",
              "  </tbody>\n",
              "</table>\n",
              "<p>9357 rows × 17 columns</p>\n",
              "</div>"
            ],
            "text/plain": [
              "           Date      Time  CO(GT)  PT08.S1(CO)  ...      AH  Weekday  Month  Hour\n",
              "0    2004-03-10  18.00.00     2.6       1360.0  ...  0.7578        2      3    18\n",
              "1    2004-03-10  19.00.00     2.0       1292.0  ...  0.7255        2      3    19\n",
              "2    2004-03-10  20.00.00     2.2       1402.0  ...  0.7502        2      3    20\n",
              "3    2004-03-10  21.00.00     2.2       1376.0  ...  0.7867        2      3    21\n",
              "4    2004-03-10  22.00.00     1.6       1272.0  ...  0.7888        2      3    22\n",
              "...         ...       ...     ...          ...  ...     ...      ...    ...   ...\n",
              "9352 2005-04-04  10.00.00     3.1       1314.0  ...  0.7568        0      4    10\n",
              "9353 2005-04-04  11.00.00     2.4       1163.0  ...  0.7119        0      4    11\n",
              "9354 2005-04-04  12.00.00     2.4       1142.0  ...  0.6406        0      4    12\n",
              "9355 2005-04-04  13.00.00     2.1       1003.0  ...  0.5139        0      4    13\n",
              "9356 2005-04-04  14.00.00     2.2       1071.0  ...  0.5028        0      4    14\n",
              "\n",
              "[9357 rows x 17 columns]"
            ]
          },
          "metadata": {
            "tags": []
          },
          "execution_count": 139
        }
      ]
    },
    {
      "cell_type": "markdown",
      "metadata": {
        "id": "7dk-c1p1H8e0"
      },
      "source": [
        "### New features"
      ]
    },
    {
      "cell_type": "markdown",
      "metadata": {
        "id": "78TAGVBlIDSV"
      },
      "source": [
        "At this point we want implement some new features, like 'is night' , 'is evening' , 'officheHour' and 'is weekend' .\n",
        "Aftet that for each variable we transform from boolean to int 0 and 1 .\n",
        "1 == True\n",
        "0 == False"
      ]
    },
    {
      "cell_type": "code",
      "metadata": {
        "id": "9Y2tu0Ss-ccI"
      },
      "source": [
        "# dataframe['is Evening'] = (dataframe['Hour'] >= 18) "
      ],
      "execution_count": null,
      "outputs": []
    },
    {
      "cell_type": "code",
      "metadata": {
        "id": "tmECPVRMvSBf"
      },
      "source": [
        "# dataframe['is Evening'] = dataframe['is Evening'].astype(int)"
      ],
      "execution_count": null,
      "outputs": []
    },
    {
      "cell_type": "code",
      "metadata": {
        "id": "HVVWY5ahp3SB"
      },
      "source": [
        "# dataframe['is Night'] = ( (dataframe['Hour'] >= 18) | (dataframe['Hour'] <6) )"
      ],
      "execution_count": null,
      "outputs": []
    },
    {
      "cell_type": "code",
      "metadata": {
        "id": "WnD2ZCDmvaUz"
      },
      "source": [
        "# dataframe['is Night'] = dataframe['is Night'].astype(int)"
      ],
      "execution_count": null,
      "outputs": []
    },
    {
      "cell_type": "code",
      "metadata": {
        "id": "st9TzinrrPO0"
      },
      "source": [
        "# dataframe['OfficeHour'] = ( (dataframe['Hour'] >= 9) & (dataframe['Hour'] <=18 ) )"
      ],
      "execution_count": null,
      "outputs": []
    },
    {
      "cell_type": "code",
      "metadata": {
        "id": "M0io6W4qvf0D"
      },
      "source": [
        "# dataframe['OfficeHour'] = dataframe['OfficeHour'].astype(int)"
      ],
      "execution_count": null,
      "outputs": []
    },
    {
      "cell_type": "code",
      "metadata": {
        "id": "j2hhnWgDq4Qo"
      },
      "source": [
        "dataframe['Weekend'] = ( (dataframe['Weekday'] == 5) | (dataframe['Weekday'] == 6) )"
      ],
      "execution_count": null,
      "outputs": []
    },
    {
      "cell_type": "code",
      "metadata": {
        "id": "EuL_uUKPvlLN"
      },
      "source": [
        "dataframe['Weekend'] = dataframe['Weekend'].astype(int)"
      ],
      "execution_count": null,
      "outputs": []
    },
    {
      "cell_type": "code",
      "metadata": {
        "id": "mJEn7hyw-cWJ",
        "outputId": "e6efcbb3-e074-4fb2-dfdf-9d63f94dcd7d",
        "colab": {
          "base_uri": "https://localhost:8080/",
          "height": 609
        }
      },
      "source": [
        "dataframe"
      ],
      "execution_count": null,
      "outputs": [
        {
          "output_type": "execute_result",
          "data": {
            "text/html": [
              "<div>\n",
              "<style scoped>\n",
              "    .dataframe tbody tr th:only-of-type {\n",
              "        vertical-align: middle;\n",
              "    }\n",
              "\n",
              "    .dataframe tbody tr th {\n",
              "        vertical-align: top;\n",
              "    }\n",
              "\n",
              "    .dataframe thead th {\n",
              "        text-align: right;\n",
              "    }\n",
              "</style>\n",
              "<table border=\"1\" class=\"dataframe\">\n",
              "  <thead>\n",
              "    <tr style=\"text-align: right;\">\n",
              "      <th></th>\n",
              "      <th>Date</th>\n",
              "      <th>Time</th>\n",
              "      <th>CO(GT)</th>\n",
              "      <th>PT08.S1(CO)</th>\n",
              "      <th>C6H6(GT)</th>\n",
              "      <th>PT08.S2(NMHC)</th>\n",
              "      <th>NOx(GT)</th>\n",
              "      <th>PT08.S3(NOx)</th>\n",
              "      <th>NO2(GT)</th>\n",
              "      <th>PT08.S4(NO2)</th>\n",
              "      <th>PT08.S5(O3)</th>\n",
              "      <th>T</th>\n",
              "      <th>RH</th>\n",
              "      <th>AH</th>\n",
              "      <th>Weekday</th>\n",
              "      <th>Month</th>\n",
              "      <th>Hour</th>\n",
              "      <th>Weekend</th>\n",
              "    </tr>\n",
              "  </thead>\n",
              "  <tbody>\n",
              "    <tr>\n",
              "      <th>0</th>\n",
              "      <td>2004-03-10</td>\n",
              "      <td>18.00.00</td>\n",
              "      <td>2.6</td>\n",
              "      <td>1360.0</td>\n",
              "      <td>11.9</td>\n",
              "      <td>1046.0</td>\n",
              "      <td>166.0</td>\n",
              "      <td>1056.0</td>\n",
              "      <td>113.0</td>\n",
              "      <td>1692.0</td>\n",
              "      <td>1268.0</td>\n",
              "      <td>13.6</td>\n",
              "      <td>48.9</td>\n",
              "      <td>0.7578</td>\n",
              "      <td>2</td>\n",
              "      <td>3</td>\n",
              "      <td>18</td>\n",
              "      <td>0</td>\n",
              "    </tr>\n",
              "    <tr>\n",
              "      <th>1</th>\n",
              "      <td>2004-03-10</td>\n",
              "      <td>19.00.00</td>\n",
              "      <td>2.0</td>\n",
              "      <td>1292.0</td>\n",
              "      <td>9.4</td>\n",
              "      <td>955.0</td>\n",
              "      <td>103.0</td>\n",
              "      <td>1174.0</td>\n",
              "      <td>92.0</td>\n",
              "      <td>1559.0</td>\n",
              "      <td>972.0</td>\n",
              "      <td>13.3</td>\n",
              "      <td>47.7</td>\n",
              "      <td>0.7255</td>\n",
              "      <td>2</td>\n",
              "      <td>3</td>\n",
              "      <td>19</td>\n",
              "      <td>0</td>\n",
              "    </tr>\n",
              "    <tr>\n",
              "      <th>2</th>\n",
              "      <td>2004-03-10</td>\n",
              "      <td>20.00.00</td>\n",
              "      <td>2.2</td>\n",
              "      <td>1402.0</td>\n",
              "      <td>9.0</td>\n",
              "      <td>939.0</td>\n",
              "      <td>131.0</td>\n",
              "      <td>1140.0</td>\n",
              "      <td>114.0</td>\n",
              "      <td>1555.0</td>\n",
              "      <td>1074.0</td>\n",
              "      <td>11.9</td>\n",
              "      <td>54.0</td>\n",
              "      <td>0.7502</td>\n",
              "      <td>2</td>\n",
              "      <td>3</td>\n",
              "      <td>20</td>\n",
              "      <td>0</td>\n",
              "    </tr>\n",
              "    <tr>\n",
              "      <th>3</th>\n",
              "      <td>2004-03-10</td>\n",
              "      <td>21.00.00</td>\n",
              "      <td>2.2</td>\n",
              "      <td>1376.0</td>\n",
              "      <td>9.2</td>\n",
              "      <td>948.0</td>\n",
              "      <td>172.0</td>\n",
              "      <td>1092.0</td>\n",
              "      <td>122.0</td>\n",
              "      <td>1584.0</td>\n",
              "      <td>1203.0</td>\n",
              "      <td>11.0</td>\n",
              "      <td>60.0</td>\n",
              "      <td>0.7867</td>\n",
              "      <td>2</td>\n",
              "      <td>3</td>\n",
              "      <td>21</td>\n",
              "      <td>0</td>\n",
              "    </tr>\n",
              "    <tr>\n",
              "      <th>4</th>\n",
              "      <td>2004-03-10</td>\n",
              "      <td>22.00.00</td>\n",
              "      <td>1.6</td>\n",
              "      <td>1272.0</td>\n",
              "      <td>6.5</td>\n",
              "      <td>836.0</td>\n",
              "      <td>131.0</td>\n",
              "      <td>1205.0</td>\n",
              "      <td>116.0</td>\n",
              "      <td>1490.0</td>\n",
              "      <td>1110.0</td>\n",
              "      <td>11.2</td>\n",
              "      <td>59.6</td>\n",
              "      <td>0.7888</td>\n",
              "      <td>2</td>\n",
              "      <td>3</td>\n",
              "      <td>22</td>\n",
              "      <td>0</td>\n",
              "    </tr>\n",
              "    <tr>\n",
              "      <th>...</th>\n",
              "      <td>...</td>\n",
              "      <td>...</td>\n",
              "      <td>...</td>\n",
              "      <td>...</td>\n",
              "      <td>...</td>\n",
              "      <td>...</td>\n",
              "      <td>...</td>\n",
              "      <td>...</td>\n",
              "      <td>...</td>\n",
              "      <td>...</td>\n",
              "      <td>...</td>\n",
              "      <td>...</td>\n",
              "      <td>...</td>\n",
              "      <td>...</td>\n",
              "      <td>...</td>\n",
              "      <td>...</td>\n",
              "      <td>...</td>\n",
              "      <td>...</td>\n",
              "    </tr>\n",
              "    <tr>\n",
              "      <th>9352</th>\n",
              "      <td>2005-04-04</td>\n",
              "      <td>10.00.00</td>\n",
              "      <td>3.1</td>\n",
              "      <td>1314.0</td>\n",
              "      <td>13.5</td>\n",
              "      <td>1101.0</td>\n",
              "      <td>472.0</td>\n",
              "      <td>539.0</td>\n",
              "      <td>190.0</td>\n",
              "      <td>1374.0</td>\n",
              "      <td>1729.0</td>\n",
              "      <td>21.9</td>\n",
              "      <td>29.3</td>\n",
              "      <td>0.7568</td>\n",
              "      <td>0</td>\n",
              "      <td>4</td>\n",
              "      <td>10</td>\n",
              "      <td>0</td>\n",
              "    </tr>\n",
              "    <tr>\n",
              "      <th>9353</th>\n",
              "      <td>2005-04-04</td>\n",
              "      <td>11.00.00</td>\n",
              "      <td>2.4</td>\n",
              "      <td>1163.0</td>\n",
              "      <td>11.4</td>\n",
              "      <td>1027.0</td>\n",
              "      <td>353.0</td>\n",
              "      <td>604.0</td>\n",
              "      <td>179.0</td>\n",
              "      <td>1264.0</td>\n",
              "      <td>1269.0</td>\n",
              "      <td>24.3</td>\n",
              "      <td>23.7</td>\n",
              "      <td>0.7119</td>\n",
              "      <td>0</td>\n",
              "      <td>4</td>\n",
              "      <td>11</td>\n",
              "      <td>0</td>\n",
              "    </tr>\n",
              "    <tr>\n",
              "      <th>9354</th>\n",
              "      <td>2005-04-04</td>\n",
              "      <td>12.00.00</td>\n",
              "      <td>2.4</td>\n",
              "      <td>1142.0</td>\n",
              "      <td>12.4</td>\n",
              "      <td>1063.0</td>\n",
              "      <td>293.0</td>\n",
              "      <td>603.0</td>\n",
              "      <td>175.0</td>\n",
              "      <td>1241.0</td>\n",
              "      <td>1092.0</td>\n",
              "      <td>26.9</td>\n",
              "      <td>18.3</td>\n",
              "      <td>0.6406</td>\n",
              "      <td>0</td>\n",
              "      <td>4</td>\n",
              "      <td>12</td>\n",
              "      <td>0</td>\n",
              "    </tr>\n",
              "    <tr>\n",
              "      <th>9355</th>\n",
              "      <td>2005-04-04</td>\n",
              "      <td>13.00.00</td>\n",
              "      <td>2.1</td>\n",
              "      <td>1003.0</td>\n",
              "      <td>9.5</td>\n",
              "      <td>961.0</td>\n",
              "      <td>235.0</td>\n",
              "      <td>702.0</td>\n",
              "      <td>156.0</td>\n",
              "      <td>1041.0</td>\n",
              "      <td>770.0</td>\n",
              "      <td>28.3</td>\n",
              "      <td>13.5</td>\n",
              "      <td>0.5139</td>\n",
              "      <td>0</td>\n",
              "      <td>4</td>\n",
              "      <td>13</td>\n",
              "      <td>0</td>\n",
              "    </tr>\n",
              "    <tr>\n",
              "      <th>9356</th>\n",
              "      <td>2005-04-04</td>\n",
              "      <td>14.00.00</td>\n",
              "      <td>2.2</td>\n",
              "      <td>1071.0</td>\n",
              "      <td>11.9</td>\n",
              "      <td>1047.0</td>\n",
              "      <td>265.0</td>\n",
              "      <td>654.0</td>\n",
              "      <td>168.0</td>\n",
              "      <td>1129.0</td>\n",
              "      <td>816.0</td>\n",
              "      <td>28.5</td>\n",
              "      <td>13.1</td>\n",
              "      <td>0.5028</td>\n",
              "      <td>0</td>\n",
              "      <td>4</td>\n",
              "      <td>14</td>\n",
              "      <td>0</td>\n",
              "    </tr>\n",
              "  </tbody>\n",
              "</table>\n",
              "<p>9357 rows × 18 columns</p>\n",
              "</div>"
            ],
            "text/plain": [
              "           Date      Time  CO(GT)  PT08.S1(CO)  ...  Weekday  Month  Hour  Weekend\n",
              "0    2004-03-10  18.00.00     2.6       1360.0  ...        2      3    18        0\n",
              "1    2004-03-10  19.00.00     2.0       1292.0  ...        2      3    19        0\n",
              "2    2004-03-10  20.00.00     2.2       1402.0  ...        2      3    20        0\n",
              "3    2004-03-10  21.00.00     2.2       1376.0  ...        2      3    21        0\n",
              "4    2004-03-10  22.00.00     1.6       1272.0  ...        2      3    22        0\n",
              "...         ...       ...     ...          ...  ...      ...    ...   ...      ...\n",
              "9352 2005-04-04  10.00.00     3.1       1314.0  ...        0      4    10        0\n",
              "9353 2005-04-04  11.00.00     2.4       1163.0  ...        0      4    11        0\n",
              "9354 2005-04-04  12.00.00     2.4       1142.0  ...        0      4    12        0\n",
              "9355 2005-04-04  13.00.00     2.1       1003.0  ...        0      4    13        0\n",
              "9356 2005-04-04  14.00.00     2.2       1071.0  ...        0      4    14        0\n",
              "\n",
              "[9357 rows x 18 columns]"
            ]
          },
          "metadata": {
            "tags": []
          },
          "execution_count": 148
        }
      ]
    },
    {
      "cell_type": "code",
      "metadata": {
        "id": "9LC4_ezxuSAk",
        "outputId": "4ee92090-e27a-4749-c79b-7f16bdde0e0b",
        "colab": {
          "base_uri": "https://localhost:8080/"
        }
      },
      "source": [
        "dataframe.dtypes"
      ],
      "execution_count": null,
      "outputs": [
        {
          "output_type": "execute_result",
          "data": {
            "text/plain": [
              "Date             datetime64[ns]\n",
              "Time                     object\n",
              "CO(GT)                  float64\n",
              "PT08.S1(CO)             float64\n",
              "C6H6(GT)                float64\n",
              "PT08.S2(NMHC)           float64\n",
              "NOx(GT)                 float64\n",
              "PT08.S3(NOx)            float64\n",
              "NO2(GT)                 float64\n",
              "PT08.S4(NO2)            float64\n",
              "PT08.S5(O3)             float64\n",
              "T                       float64\n",
              "RH                      float64\n",
              "AH                      float64\n",
              "Weekday                   int64\n",
              "Month                     int64\n",
              "Hour                      int64\n",
              "Weekend                   int64\n",
              "dtype: object"
            ]
          },
          "metadata": {
            "tags": []
          },
          "execution_count": 149
        }
      ]
    },
    {
      "cell_type": "code",
      "metadata": {
        "id": "s7JK2_BWzm8N",
        "outputId": "b03e4940-de5b-4c10-c73c-eb5376fc932c",
        "colab": {
          "base_uri": "https://localhost:8080/"
        }
      },
      "source": [
        "dataframe['Weekend'].value_counts()"
      ],
      "execution_count": null,
      "outputs": [
        {
          "output_type": "execute_result",
          "data": {
            "text/plain": [
              "0    6669\n",
              "1    2688\n",
              "Name: Weekend, dtype: int64"
            ]
          },
          "metadata": {
            "tags": []
          },
          "execution_count": 150
        }
      ]
    },
    {
      "cell_type": "markdown",
      "metadata": {
        "id": "wQEfMihDo1dM"
      },
      "source": [
        "Lavoreremo su un dataset che contiene solo i gas, la T, Rh e la varibiale dipendente Weekend"
      ]
    },
    {
      "cell_type": "code",
      "metadata": {
        "id": "2frSUPxJoVvv"
      },
      "source": [
        "df2 = dataframe[[\"CO(GT)\", \"PT08.S1(CO)\", \"C6H6(GT)\",\t\"PT08.S2(NMHC)\", \"NOx(GT)\",\t\"PT08.S3(NOx)\",\t\"NO2(GT)\",\t\"PT08.S4(NO2)\",\t\"PT08.S5(O3)\",\"T\"\t,\"RH\"\t,\"Weekend\"]]"
      ],
      "execution_count": null,
      "outputs": []
    },
    {
      "cell_type": "code",
      "metadata": {
        "id": "rb_YTzu3pgLa",
        "outputId": "eb5b1bbc-c0c5-4423-948a-33b7fa5c7c10",
        "colab": {
          "base_uri": "https://localhost:8080/",
          "height": 204
        }
      },
      "source": [
        "df2.head()"
      ],
      "execution_count": null,
      "outputs": [
        {
          "output_type": "execute_result",
          "data": {
            "text/html": [
              "<div>\n",
              "<style scoped>\n",
              "    .dataframe tbody tr th:only-of-type {\n",
              "        vertical-align: middle;\n",
              "    }\n",
              "\n",
              "    .dataframe tbody tr th {\n",
              "        vertical-align: top;\n",
              "    }\n",
              "\n",
              "    .dataframe thead th {\n",
              "        text-align: right;\n",
              "    }\n",
              "</style>\n",
              "<table border=\"1\" class=\"dataframe\">\n",
              "  <thead>\n",
              "    <tr style=\"text-align: right;\">\n",
              "      <th></th>\n",
              "      <th>CO(GT)</th>\n",
              "      <th>PT08.S1(CO)</th>\n",
              "      <th>C6H6(GT)</th>\n",
              "      <th>PT08.S2(NMHC)</th>\n",
              "      <th>NOx(GT)</th>\n",
              "      <th>PT08.S3(NOx)</th>\n",
              "      <th>NO2(GT)</th>\n",
              "      <th>PT08.S4(NO2)</th>\n",
              "      <th>PT08.S5(O3)</th>\n",
              "      <th>T</th>\n",
              "      <th>RH</th>\n",
              "      <th>Weekend</th>\n",
              "    </tr>\n",
              "  </thead>\n",
              "  <tbody>\n",
              "    <tr>\n",
              "      <th>0</th>\n",
              "      <td>2.6</td>\n",
              "      <td>1360.0</td>\n",
              "      <td>11.9</td>\n",
              "      <td>1046.0</td>\n",
              "      <td>166.0</td>\n",
              "      <td>1056.0</td>\n",
              "      <td>113.0</td>\n",
              "      <td>1692.0</td>\n",
              "      <td>1268.0</td>\n",
              "      <td>13.6</td>\n",
              "      <td>48.9</td>\n",
              "      <td>0</td>\n",
              "    </tr>\n",
              "    <tr>\n",
              "      <th>1</th>\n",
              "      <td>2.0</td>\n",
              "      <td>1292.0</td>\n",
              "      <td>9.4</td>\n",
              "      <td>955.0</td>\n",
              "      <td>103.0</td>\n",
              "      <td>1174.0</td>\n",
              "      <td>92.0</td>\n",
              "      <td>1559.0</td>\n",
              "      <td>972.0</td>\n",
              "      <td>13.3</td>\n",
              "      <td>47.7</td>\n",
              "      <td>0</td>\n",
              "    </tr>\n",
              "    <tr>\n",
              "      <th>2</th>\n",
              "      <td>2.2</td>\n",
              "      <td>1402.0</td>\n",
              "      <td>9.0</td>\n",
              "      <td>939.0</td>\n",
              "      <td>131.0</td>\n",
              "      <td>1140.0</td>\n",
              "      <td>114.0</td>\n",
              "      <td>1555.0</td>\n",
              "      <td>1074.0</td>\n",
              "      <td>11.9</td>\n",
              "      <td>54.0</td>\n",
              "      <td>0</td>\n",
              "    </tr>\n",
              "    <tr>\n",
              "      <th>3</th>\n",
              "      <td>2.2</td>\n",
              "      <td>1376.0</td>\n",
              "      <td>9.2</td>\n",
              "      <td>948.0</td>\n",
              "      <td>172.0</td>\n",
              "      <td>1092.0</td>\n",
              "      <td>122.0</td>\n",
              "      <td>1584.0</td>\n",
              "      <td>1203.0</td>\n",
              "      <td>11.0</td>\n",
              "      <td>60.0</td>\n",
              "      <td>0</td>\n",
              "    </tr>\n",
              "    <tr>\n",
              "      <th>4</th>\n",
              "      <td>1.6</td>\n",
              "      <td>1272.0</td>\n",
              "      <td>6.5</td>\n",
              "      <td>836.0</td>\n",
              "      <td>131.0</td>\n",
              "      <td>1205.0</td>\n",
              "      <td>116.0</td>\n",
              "      <td>1490.0</td>\n",
              "      <td>1110.0</td>\n",
              "      <td>11.2</td>\n",
              "      <td>59.6</td>\n",
              "      <td>0</td>\n",
              "    </tr>\n",
              "  </tbody>\n",
              "</table>\n",
              "</div>"
            ],
            "text/plain": [
              "   CO(GT)  PT08.S1(CO)  C6H6(GT)  ...     T    RH  Weekend\n",
              "0     2.6       1360.0      11.9  ...  13.6  48.9        0\n",
              "1     2.0       1292.0       9.4  ...  13.3  47.7        0\n",
              "2     2.2       1402.0       9.0  ...  11.9  54.0        0\n",
              "3     2.2       1376.0       9.2  ...  11.0  60.0        0\n",
              "4     1.6       1272.0       6.5  ...  11.2  59.6        0\n",
              "\n",
              "[5 rows x 12 columns]"
            ]
          },
          "metadata": {
            "tags": []
          },
          "execution_count": 152
        }
      ]
    },
    {
      "cell_type": "markdown",
      "metadata": {
        "id": "hk4TXElahhIn"
      },
      "source": [
        "# **2.1 + 2.2 - Advanced Classifiers + Evaluatation**\n"
      ]
    },
    {
      "cell_type": "markdown",
      "metadata": {
        "id": "TQ3TLuQJhsC8"
      },
      "source": [
        "Using the dataset for classification prepared for Task 1 build several advanced classifiers able to predict room occupancy from the available variables. In particular, you are required to use SVM (linear and non-linear), NN (Single and Multilayer Perceptron), DNN (design at least two different architectures), Ensemble Classifier (RandomForest, AdaBoost and a Bagging technique in which you can select a base classifier of your choice with a justification)."
      ]
    },
    {
      "cell_type": "markdown",
      "metadata": {
        "id": "GubqkMjAnPYN"
      },
      "source": [
        "### **SVM**"
      ]
    },
    {
      "cell_type": "markdown",
      "metadata": {
        "id": "3cZr13tT1SP_"
      },
      "source": [
        "Support Vector Machines are a supervised learning model that represents the decision boundary using a subset of the training examples, known as the support vectors."
      ]
    },
    {
      "cell_type": "markdown",
      "metadata": {
        "id": "Us5keNTiuP16"
      },
      "source": [
        "SVMs are one of the powerful machine learning algorithms for classification, regression and outlier detection purposes. An SVM classifier builds a model that assigns new data points to one of the given categories. Thus, it can be viewed as a non-probabilistic binary linear classifier."
      ]
    },
    {
      "cell_type": "markdown",
      "metadata": {
        "id": "nUrsLpaOnZoC"
      },
      "source": [
        "Per quanto riguarda la SVM, è stata implementata applicando al dataset iniziale lo StandardScaler sugli attributi numerici.\n",
        "\n",
        "Per la ricerca dei migliori parametri per l’implementazione del Support Vector Classifier è stata utilizzata la GridSearchCV. Per quanto riguarda la SVM, è stata implementata applicando al dataset iniziale lo StandardScaler sugli attributi numerici."
      ]
    },
    {
      "cell_type": "markdown",
      "metadata": {
        "id": "pz7lbBjnnmGn"
      },
      "source": [
        "Lo scoring sulle varie combinazioni dei parametri è stato fatto tenendo conto dell’accuracy misurata su un set di validazione di ampiezza 5, inoltre, voglio differenziare i vari kernel.\n",
        "\n",
        "Useremo le Kernel function di :\n",
        "- Radial basis funciton (rbf)\n",
        "- Linear\n",
        "- Polynomial (poly)\n",
        "- Sigmoid\n",
        "\n",
        "\n",
        "Partiamo da rbf perchè è quella di default"
      ]
    },
    {
      "cell_type": "markdown",
      "metadata": {
        "id": "quqkZPuv5uwo"
      },
      "source": [
        "Prima però devo standardizzare le variabili numeriche del dataset"
      ]
    },
    {
      "cell_type": "code",
      "metadata": {
        "id": "XtQn5vlD6Dh2"
      },
      "source": [
        "%matplotlib inline\n",
        "\n",
        "import numpy as np\n",
        "import pandas as pd\n",
        "import matplotlib.pyplot as plt\n",
        "\n",
        "from collections import defaultdict\n",
        "\n",
        "from sklearn.preprocessing import StandardScaler\n",
        "from sklearn.linear_model import LogisticRegressionCV"
      ],
      "execution_count": null,
      "outputs": []
    },
    {
      "cell_type": "code",
      "metadata": {
        "id": "_3CivT7YJdId"
      },
      "source": [
        "from sklearn.neighbors import KNeighborsClassifier\n",
        "from sklearn.model_selection import train_test_split, cross_val_score "
      ],
      "execution_count": null,
      "outputs": []
    },
    {
      "cell_type": "code",
      "metadata": {
        "id": "_nUkGgJfKvGw"
      },
      "source": [
        "from sklearn.preprocessing import StandardScaler"
      ],
      "execution_count": null,
      "outputs": []
    },
    {
      "cell_type": "code",
      "metadata": {
        "id": "IZd7RDfVQavK"
      },
      "source": [
        "from sklearn.metrics import classification_report,confusion_matrix"
      ],
      "execution_count": null,
      "outputs": []
    },
    {
      "cell_type": "code",
      "metadata": {
        "id": "-XopHQItjMw4"
      },
      "source": [
        "from sklearn.metrics import accuracy_score, f1_score, classification_report\n",
        "from sklearn.metrics import roc_curve, auc, roc_auc_score\n",
        "from sklearn.metrics import roc_curve, auc, roc_auc_score\n"
      ],
      "execution_count": null,
      "outputs": []
    },
    {
      "cell_type": "code",
      "metadata": {
        "id": "Cpd5BXzwvGXm"
      },
      "source": [
        "scaler = StandardScaler()"
      ],
      "execution_count": null,
      "outputs": []
    },
    {
      "cell_type": "markdown",
      "metadata": {
        "id": "LWGSEW9wvGXv"
      },
      "source": [
        "Before standardize i need to drop out the depenedet variable"
      ]
    },
    {
      "cell_type": "code",
      "metadata": {
        "id": "aFJUtJrvvGXw",
        "outputId": "44e81595-dcb1-44cc-b0c7-59d29e5253b3",
        "colab": {
          "base_uri": "https://localhost:8080/"
        }
      },
      "source": [
        "scaler.fit(df2.drop('Weekend',axis=1))"
      ],
      "execution_count": null,
      "outputs": [
        {
          "output_type": "execute_result",
          "data": {
            "text/plain": [
              "StandardScaler(copy=True, with_mean=True, with_std=True)"
            ]
          },
          "metadata": {
            "tags": []
          },
          "execution_count": 159
        }
      ]
    },
    {
      "cell_type": "code",
      "metadata": {
        "id": "40n1pfgBvGX3"
      },
      "source": [
        "scaled_features = scaler.transform(df2.drop('Weekend',axis=1))"
      ],
      "execution_count": null,
      "outputs": []
    },
    {
      "cell_type": "code",
      "metadata": {
        "id": "cgNoaX5VvGX7",
        "outputId": "737f85b3-f086-4740-ba59-3013ebcdefb6",
        "colab": {
          "base_uri": "https://localhost:8080/",
          "height": 204
        }
      },
      "source": [
        "df2_feat = pd.DataFrame(scaled_features,columns=df2.columns[:-1])\n",
        "df2_feat.head()"
      ],
      "execution_count": null,
      "outputs": [
        {
          "output_type": "execute_result",
          "data": {
            "text/html": [
              "<div>\n",
              "<style scoped>\n",
              "    .dataframe tbody tr th:only-of-type {\n",
              "        vertical-align: middle;\n",
              "    }\n",
              "\n",
              "    .dataframe tbody tr th {\n",
              "        vertical-align: top;\n",
              "    }\n",
              "\n",
              "    .dataframe thead th {\n",
              "        text-align: right;\n",
              "    }\n",
              "</style>\n",
              "<table border=\"1\" class=\"dataframe\">\n",
              "  <thead>\n",
              "    <tr style=\"text-align: right;\">\n",
              "      <th></th>\n",
              "      <th>CO(GT)</th>\n",
              "      <th>PT08.S1(CO)</th>\n",
              "      <th>C6H6(GT)</th>\n",
              "      <th>PT08.S2(NMHC)</th>\n",
              "      <th>NOx(GT)</th>\n",
              "      <th>PT08.S3(NOx)</th>\n",
              "      <th>NO2(GT)</th>\n",
              "      <th>PT08.S4(NO2)</th>\n",
              "      <th>PT08.S5(O3)</th>\n",
              "      <th>T</th>\n",
              "      <th>RH</th>\n",
              "    </tr>\n",
              "  </thead>\n",
              "  <tbody>\n",
              "    <tr>\n",
              "      <th>0</th>\n",
              "      <td>0.339856</td>\n",
              "      <td>1.222702</td>\n",
              "      <td>0.248813</td>\n",
              "      <td>0.408519</td>\n",
              "      <td>-0.418252</td>\n",
              "      <td>0.875962</td>\n",
              "      <td>-0.002078</td>\n",
              "      <td>0.694669</td>\n",
              "      <td>0.627494</td>\n",
              "      <td>-0.544962</td>\n",
              "      <td>-0.019689</td>\n",
              "    </tr>\n",
              "    <tr>\n",
              "      <th>1</th>\n",
              "      <td>-0.116071</td>\n",
              "      <td>0.903123</td>\n",
              "      <td>-0.093547</td>\n",
              "      <td>0.060588</td>\n",
              "      <td>-0.743974</td>\n",
              "      <td>1.344717</td>\n",
              "      <td>-0.480235</td>\n",
              "      <td>0.302742</td>\n",
              "      <td>-0.130331</td>\n",
              "      <td>-0.579615</td>\n",
              "      <td>-0.090386</td>\n",
              "    </tr>\n",
              "    <tr>\n",
              "      <th>2</th>\n",
              "      <td>0.035905</td>\n",
              "      <td>1.420088</td>\n",
              "      <td>-0.148325</td>\n",
              "      <td>-0.000586</td>\n",
              "      <td>-0.599209</td>\n",
              "      <td>1.209652</td>\n",
              "      <td>0.020692</td>\n",
              "      <td>0.290955</td>\n",
              "      <td>0.130812</td>\n",
              "      <td>-0.741330</td>\n",
              "      <td>0.280772</td>\n",
              "    </tr>\n",
              "    <tr>\n",
              "      <th>3</th>\n",
              "      <td>0.035905</td>\n",
              "      <td>1.297897</td>\n",
              "      <td>-0.120936</td>\n",
              "      <td>0.033824</td>\n",
              "      <td>-0.387231</td>\n",
              "      <td>1.018972</td>\n",
              "      <td>0.202847</td>\n",
              "      <td>0.376413</td>\n",
              "      <td>0.461080</td>\n",
              "      <td>-0.845290</td>\n",
              "      <td>0.634256</td>\n",
              "    </tr>\n",
              "    <tr>\n",
              "      <th>4</th>\n",
              "      <td>-0.420023</td>\n",
              "      <td>0.809130</td>\n",
              "      <td>-0.490684</td>\n",
              "      <td>-0.394398</td>\n",
              "      <td>-0.599209</td>\n",
              "      <td>1.467865</td>\n",
              "      <td>0.066230</td>\n",
              "      <td>0.099412</td>\n",
              "      <td>0.222979</td>\n",
              "      <td>-0.822188</td>\n",
              "      <td>0.610691</td>\n",
              "    </tr>\n",
              "  </tbody>\n",
              "</table>\n",
              "</div>"
            ],
            "text/plain": [
              "     CO(GT)  PT08.S1(CO)  C6H6(GT)  ...  PT08.S5(O3)         T        RH\n",
              "0  0.339856     1.222702  0.248813  ...     0.627494 -0.544962 -0.019689\n",
              "1 -0.116071     0.903123 -0.093547  ...    -0.130331 -0.579615 -0.090386\n",
              "2  0.035905     1.420088 -0.148325  ...     0.130812 -0.741330  0.280772\n",
              "3  0.035905     1.297897 -0.120936  ...     0.461080 -0.845290  0.634256\n",
              "4 -0.420023     0.809130 -0.490684  ...     0.222979 -0.822188  0.610691\n",
              "\n",
              "[5 rows x 11 columns]"
            ]
          },
          "metadata": {
            "tags": []
          },
          "execution_count": 161
        }
      ]
    },
    {
      "cell_type": "markdown",
      "metadata": {
        "id": "q4VP1kp5vGX_"
      },
      "source": [
        "Now i recompute the split on scaled features and without dependent variable:\n"
      ]
    },
    {
      "cell_type": "code",
      "metadata": {
        "id": "nNFbgRQUvGYA"
      },
      "source": [
        "from sklearn.model_selection import train_test_split"
      ],
      "execution_count": null,
      "outputs": []
    },
    {
      "cell_type": "code",
      "metadata": {
        "id": "_-bq027ivGYE"
      },
      "source": [
        "X_train, X_test, y_train, y_test = train_test_split(scaled_features,df2['Weekend'],test_size=0.20)"
      ],
      "execution_count": null,
      "outputs": []
    },
    {
      "cell_type": "markdown",
      "metadata": {
        "id": "Ny_656ozvimA"
      },
      "source": [
        "Metti **PCA** qua che mi serve per dopo:"
      ]
    },
    {
      "cell_type": "code",
      "metadata": {
        "id": "dNc99k3zucAq"
      },
      "source": [
        "from sklearn.decomposition import PCA"
      ],
      "execution_count": null,
      "outputs": []
    },
    {
      "cell_type": "code",
      "metadata": {
        "id": "yL1nOX-VucAt"
      },
      "source": [
        "pca = PCA(n_components=2)\n",
        "pca.fit(X_train)\n",
        "X_pca = pca.transform(X_train)"
      ],
      "execution_count": null,
      "outputs": []
    },
    {
      "cell_type": "code",
      "metadata": {
        "id": "6QPDlTjPucAv",
        "outputId": "cf9c88bc-45e1-40ad-9b20-a5d34831a5e7",
        "colab": {
          "base_uri": "https://localhost:8080/",
          "height": 265
        }
      },
      "source": [
        "plt.scatter(X_pca[:, 0], X_pca[:, 1], c=y_train, cmap=plt.cm.prism, edgecolor='k', alpha=0.7)\n",
        "plt.show()"
      ],
      "execution_count": null,
      "outputs": [
        {
          "output_type": "display_data",
          "data": {
            "image/png": "[encoded data removed]",
            "text/plain": [
              "<Figure size 432x288 with 1 Axes>"
            ]
          },
          "metadata": {
            "tags": [],
            "needs_background": "light"
          }
        }
      ]
    },
    {
      "cell_type": "markdown",
      "metadata": {
        "id": "UaYcAzTRwJU4"
      },
      "source": [
        "Per i vari algoritmi di SVM li confronteremo usando i seguenti valori di C (che rappresenta il costo per l'errata classificazione) :\n",
        "- 1\n",
        "- 10\n",
        "- 100\n",
        "- 1000"
      ]
    },
    {
      "cell_type": "markdown",
      "metadata": {
        "id": "rpZXYjVsw4ri"
      },
      "source": [
        "I parametri usati per gamma invece li vediamo dopo, ho preso un set standard e usato la GridSearchCV per trovare i migliori, approfondito dopo"
      ]
    },
    {
      "cell_type": "markdown",
      "metadata": {
        "id": "OVCWbXdSvRgl"
      },
      "source": [
        "#### **SVM default parameters**"
      ]
    },
    {
      "cell_type": "markdown",
      "metadata": {
        "id": "kG8kznWXvWig"
      },
      "source": [
        "Default hyperparameter means C=1.0, kernel=rbf and gamma=auto among other parameters"
      ]
    },
    {
      "cell_type": "code",
      "metadata": {
        "id": "0icXA2-yvQPj",
        "outputId": "701fe604-a63b-498e-d396-4499b56a8e72",
        "colab": {
          "base_uri": "https://localhost:8080/"
        }
      },
      "source": [
        "from sklearn.svm import SVC\n",
        "from sklearn.metrics import accuracy_score\n",
        "\n",
        "svc=SVC() # instantiate classifier with default hyperparameters\n",
        "svc.fit(X_train,y_train) # fit classifier to training set\n",
        "y_pred=svc.predict(X_test) # make predictions on test set\n",
        "\n",
        "print('Model accuracy score with default hyperparameters: {0:0.4f}'. format(accuracy_score(y_test, y_pred)))"
      ],
      "execution_count": null,
      "outputs": [
        {
          "output_type": "stream",
          "text": [
            "Model accuracy score with default hyperparameters: 0.7415\n"
          ],
          "name": "stdout"
        }
      ]
    },
    {
      "cell_type": "markdown",
      "metadata": {
        "id": "AJlebXQzwdKs"
      },
      "source": [
        "The accuracy for default hyperparametrs SVM is 0.7644"
      ]
    },
    {
      "cell_type": "markdown",
      "metadata": {
        "id": "INTKgHJ8ym1h"
      },
      "source": [
        "visto che il default è il rbf iniziamo da quest'ultimo ad esplorare qualche valore di C:"
      ]
    },
    {
      "cell_type": "markdown",
      "metadata": {
        "id": "xTYh4GyIyzk-"
      },
      "source": [
        "#### **Run SVM with rbf kernel and C=10.0**\n",
        "If we have a lot of outliers in our dataset (non lo sappiamo ancora perchè viene dopo) it is good idea use an highr C, also C0100, but now test with C=10. "
      ]
    },
    {
      "cell_type": "code",
      "metadata": {
        "id": "5xBwKx3wzOEc",
        "outputId": "69694e9e-978e-4c70-92c1-b840fd183b83",
        "colab": {
          "base_uri": "https://localhost:8080/"
        }
      },
      "source": [
        "svc=SVC(C=10.0) \n",
        "svc.fit(X_train,y_train)\n",
        "y_pred=svc.predict(X_test)\n",
        "\n",
        "print('Model accuracy score with rbf kernel and C=10.0 : {0:0.4f}'. format(accuracy_score(y_test, y_pred)))"
      ],
      "execution_count": null,
      "outputs": [
        {
          "output_type": "stream",
          "text": [
            "Model accuracy score with rbf kernel and C=10.0 : 0.7804\n"
          ],
          "name": "stdout"
        }
      ]
    },
    {
      "cell_type": "markdown",
      "metadata": {
        "id": "I6Q5gM8Sz-MB"
      },
      "source": [
        "Accuracy è aumentata di qualche punto quindi bene."
      ]
    },
    {
      "cell_type": "markdown",
      "metadata": {
        "id": "DHkIcUvdzHR1"
      },
      "source": [
        "#### **Run SVM with rbf kernel and C=100.0**"
      ]
    },
    {
      "cell_type": "markdown",
      "metadata": {
        "id": "XKgET3zqsBJ6"
      },
      "source": [
        "So, we should increase the value of C as higher C means fewer outliers. So, I will run SVM with kernel=rbf and C=100.0."
      ]
    },
    {
      "cell_type": "code",
      "metadata": {
        "id": "eCQlToz6z3cQ",
        "outputId": "e5490804-b26d-407a-d25b-1616fd22f0bd",
        "colab": {
          "base_uri": "https://localhost:8080/"
        }
      },
      "source": [
        "svc=SVC(C=100.0) \n",
        "svc.fit(X_train,y_train)\n",
        "y_pred=svc.predict(X_test)\n",
        "\n",
        "print('Model accuracy score with rbf kernel and C=100.0 : {0:0.4f}'. format(accuracy_score(y_test, y_pred)))"
      ],
      "execution_count": null,
      "outputs": [
        {
          "output_type": "stream",
          "text": [
            "Model accuracy score with rbf kernel and C=100.0 : 0.8168\n"
          ],
          "name": "stdout"
        }
      ]
    },
    {
      "cell_type": "markdown",
      "metadata": {
        "id": "9mDXPenQ0JrU"
      },
      "source": [
        "Ancora meglio con C=100, il meglio fino a ora in termini di accuracy."
      ]
    },
    {
      "cell_type": "markdown",
      "metadata": {
        "id": "-SFxu6Y60SxL"
      },
      "source": [
        "#### **Run SVM with rbf kernel and C=1000.0**"
      ]
    },
    {
      "cell_type": "code",
      "metadata": {
        "id": "9TgnBQVB0RlO",
        "outputId": "54a4be78-6868-4a1e-b4d8-06f68326efd0",
        "colab": {
          "base_uri": "https://localhost:8080/"
        }
      },
      "source": [
        "svc=SVC(C=1000.0) \n",
        "svc.fit(X_train,y_train)\n",
        "y_pred=svc.predict(X_test)\n",
        "\n",
        "print('Model accuracy score with rbf kernel and C=1000.0 : {0:0.4f}'. format(accuracy_score(y_test, y_pred)))"
      ],
      "execution_count": null,
      "outputs": [
        {
          "output_type": "stream",
          "text": [
            "Model accuracy score with rbf kernel and C=1000.0 : 0.8259\n"
          ],
          "name": "stdout"
        }
      ]
    },
    {
      "cell_type": "markdown",
      "metadata": {
        "id": "PUxZ0gZL7Pvy"
      },
      "source": [
        "In termini di accurancy il migliore SVM con rbf è quello con C=1000"
      ]
    },
    {
      "cell_type": "markdown",
      "metadata": {
        "id": "KgOobGpsxQDA"
      },
      "source": [
        "### **Linear SVM**"
      ]
    },
    {
      "cell_type": "code",
      "metadata": {
        "id": "hNhw3WR_ucAz"
      },
      "source": [
        "from sklearn.svm import LinearSVC"
      ],
      "execution_count": null,
      "outputs": []
    },
    {
      "cell_type": "markdown",
      "metadata": {
        "id": "lP7pCqvMpemh"
      },
      "source": [
        "#### **SVM Linear with C=1.0**"
      ]
    },
    {
      "cell_type": "code",
      "metadata": {
        "id": "ObgLjpAU0g9-",
        "outputId": "051883a2-5c04-43b3-a8b8-2fc9f19733ce",
        "colab": {
          "base_uri": "https://localhost:8080/"
        }
      },
      "source": [
        "linear_svc=SVC(kernel='linear', C=1.0,random_state=10) \n",
        "linear_svc.fit(X_train,y_train)\n",
        "y_pred_test=linear_svc.predict(X_test)\n",
        "\n",
        "print('Model accuracy score with linear kernel and C=1.0 : {0:0.4f}'. format(accuracy_score(y_test, y_pred_test)))\n"
      ],
      "execution_count": null,
      "outputs": [
        {
          "output_type": "stream",
          "text": [
            "Model accuracy score with linear kernel and C=1.0 : 0.6928\n"
          ],
          "name": "stdout"
        }
      ]
    },
    {
      "cell_type": "code",
      "metadata": {
        "id": "xn2OsovKq3xT",
        "outputId": "60a86efc-4223-46c6-f6f1-750a81b10aa1",
        "colab": {
          "base_uri": "https://localhost:8080/"
        }
      },
      "source": [
        "print('F1-score %s' % f1_score(y_test, y_pred_test, average=None))\n",
        "print(classification_report(y_test, y_pred_test))"
      ],
      "execution_count": null,
      "outputs": [
        {
          "output_type": "stream",
          "text": [
            "F1-score [0.81855475 0.        ]\n",
            "              precision    recall  f1-score   support\n",
            "\n",
            "           0       0.69      1.00      0.82      1297\n",
            "           1       0.00      0.00      0.00       575\n",
            "\n",
            "    accuracy                           0.69      1872\n",
            "   macro avg       0.35      0.50      0.41      1872\n",
            "weighted avg       0.48      0.69      0.57      1872\n",
            "\n"
          ],
          "name": "stdout"
        },
        {
          "output_type": "stream",
          "text": [
            "/usr/local/lib/python3.6/dist-packages/sklearn/metrics/_classification.py:1272: UndefinedMetricWarning: Precision and F-score are ill-defined and being set to 0.0 in labels with no predicted samples. Use `zero_division` parameter to control this behavior.\n",
            "  _warn_prf(average, modifier, msg_start, len(result))\n"
          ],
          "name": "stderr"
        }
      ]
    },
    {
      "cell_type": "markdown",
      "metadata": {
        "id": "J3YecaeCq69R"
      },
      "source": [
        "SVM linear con C=1.0 ha accuracy di 0.71 e F1-score=0.8278"
      ]
    },
    {
      "cell_type": "markdown",
      "metadata": {
        "id": "FcA5pXkbsrYD"
      },
      "source": [
        "#### **SVM Linear C=10**"
      ]
    },
    {
      "cell_type": "code",
      "metadata": {
        "id": "YgsDvnBe13AG",
        "outputId": "cd11a45d-f39d-42f6-f25d-6fa159ac8fce",
        "colab": {
          "base_uri": "https://localhost:8080/"
        }
      },
      "source": [
        "clf = LinearSVC(C=10.0, random_state=10)\n",
        "clf.fit(X_train, y_train)\n",
        "\n",
        "y_pred = clf.predict(X_test)\n",
        "\n",
        "print('Accuracy %s' % accuracy_score(y_test, y_pred))\n",
        "print('F1-score %s' % f1_score(y_test, y_pred, average=None))\n",
        "print(classification_report(y_test, y_pred))"
      ],
      "execution_count": null,
      "outputs": [
        {
          "output_type": "stream",
          "text": [
            "Accuracy 0.7142094017094017\n",
            "F1-score [0.82124958 0.28761651]\n",
            "              precision    recall  f1-score   support\n",
            "\n",
            "           0       0.72      0.95      0.82      1297\n",
            "           1       0.61      0.19      0.29       575\n",
            "\n",
            "    accuracy                           0.71      1872\n",
            "   macro avg       0.67      0.57      0.55      1872\n",
            "weighted avg       0.69      0.71      0.66      1872\n",
            "\n"
          ],
          "name": "stdout"
        },
        {
          "output_type": "stream",
          "text": [
            "/usr/local/lib/python3.6/dist-packages/sklearn/svm/_base.py:947: ConvergenceWarning: Liblinear failed to converge, increase the number of iterations.\n",
            "  \"the number of iterations.\", ConvergenceWarning)\n"
          ],
          "name": "stderr"
        }
      ]
    },
    {
      "cell_type": "markdown",
      "metadata": {
        "id": "f5j-iHoMzj68"
      },
      "source": [
        "Migliorata sia Accuracy che F1-Score"
      ]
    },
    {
      "cell_type": "markdown",
      "metadata": {
        "id": "JOly8QPfrCb0"
      },
      "source": [
        "#### **SVM Linear C=100**"
      ]
    },
    {
      "cell_type": "code",
      "metadata": {
        "id": "ItFwsuNFxW0x",
        "outputId": "f4a8995b-77a8-4462-beca-c066d88cfa6e",
        "colab": {
          "base_uri": "https://localhost:8080/"
        }
      },
      "source": [
        "clf = LinearSVC(C=100.0, random_state=10)\n",
        "clf.fit(X_train, y_train)\n",
        "\n",
        "y_pred = clf.predict(X_test)\n",
        "\n",
        "print('Accuracy %s' % accuracy_score(y_test, y_pred))\n",
        "print('F1-score %s' % f1_score(y_test, y_pred, average=None))\n",
        "print(classification_report(y_test, y_pred))"
      ],
      "execution_count": null,
      "outputs": [
        {
          "output_type": "stream",
          "text": [
            "Accuracy 0.6308760683760684\n",
            "F1-score [0.72170761 0.4520222 ]\n",
            "              precision    recall  f1-score   support\n",
            "\n",
            "           0       0.76      0.69      0.72      1297\n",
            "           1       0.42      0.50      0.45       575\n",
            "\n",
            "    accuracy                           0.63      1872\n",
            "   macro avg       0.59      0.59      0.59      1872\n",
            "weighted avg       0.65      0.63      0.64      1872\n",
            "\n"
          ],
          "name": "stdout"
        },
        {
          "output_type": "stream",
          "text": [
            "/usr/local/lib/python3.6/dist-packages/sklearn/svm/_base.py:947: ConvergenceWarning: Liblinear failed to converge, increase the number of iterations.\n",
            "  \"the number of iterations.\", ConvergenceWarning)\n"
          ],
          "name": "stderr"
        }
      ]
    },
    {
      "cell_type": "markdown",
      "metadata": {
        "id": "3669T7A_zwmU"
      },
      "source": [
        "Questo è andato peggio"
      ]
    },
    {
      "cell_type": "markdown",
      "metadata": {
        "id": "VFyVESXFz0YL"
      },
      "source": [
        "#### **SVM Linear C=1000**"
      ]
    },
    {
      "cell_type": "code",
      "metadata": {
        "id": "zGqsUcGWxbGS",
        "outputId": "4d4dc2a4-7031-4722-ffb9-ef0abd23d541",
        "colab": {
          "base_uri": "https://localhost:8080/"
        }
      },
      "source": [
        "clf = LinearSVC(C=1000.0, random_state=10)\n",
        "clf.fit(X_train, y_train)\n",
        "\n",
        "y_pred = clf.predict(X_test)\n",
        "\n",
        "print('Accuracy %s' % accuracy_score(y_test, y_pred))\n",
        "print('F1-score %s' % f1_score(y_test, y_pred, average=None))\n",
        "print(classification_report(y_test, y_pred))"
      ],
      "execution_count": null,
      "outputs": [
        {
          "output_type": "stream",
          "text": [
            "Accuracy 0.5774572649572649\n",
            "F1-score [0.66917608 0.41537324]\n",
            "              precision    recall  f1-score   support\n",
            "\n",
            "           0       0.73      0.62      0.67      1297\n",
            "           1       0.36      0.49      0.42       575\n",
            "\n",
            "    accuracy                           0.58      1872\n",
            "   macro avg       0.55      0.55      0.54      1872\n",
            "weighted avg       0.62      0.58      0.59      1872\n",
            "\n"
          ],
          "name": "stdout"
        },
        {
          "output_type": "stream",
          "text": [
            "/usr/local/lib/python3.6/dist-packages/sklearn/svm/_base.py:947: ConvergenceWarning: Liblinear failed to converge, increase the number of iterations.\n",
            "  \"the number of iterations.\", ConvergenceWarning)\n"
          ],
          "name": "stderr"
        }
      ]
    },
    {
      "cell_type": "markdown",
      "metadata": {
        "id": "Ar7wmdpiz7g0"
      },
      "source": [
        "Questo ancora peggio"
      ]
    },
    {
      "cell_type": "markdown",
      "metadata": {
        "id": "iOJOSPDaz8Da"
      },
      "source": [
        "**Il miglior SVM Linear è quello con C=10**"
      ]
    },
    {
      "cell_type": "markdown",
      "metadata": {
        "id": "w8j2wUNkRzYO"
      },
      "source": [
        "#### **Decision function su SVM Lineare**"
      ]
    },
    {
      "cell_type": "code",
      "metadata": {
        "id": "EevaXezxxu5e"
      },
      "source": [
        "decision_function = clf.decision_function(X_train)\n",
        "support_vector_indices = np.where((2 * y_train - 1) * decision_function <= 1)[0]\n",
        "support_vectors = X_train[support_vector_indices]"
      ],
      "execution_count": null,
      "outputs": []
    },
    {
      "cell_type": "code",
      "metadata": {
        "id": "4sk1BFg4xwnC"
      },
      "source": [
        "support_vectors_pca = pca.transform(support_vectors)"
      ],
      "execution_count": null,
      "outputs": []
    },
    {
      "cell_type": "code",
      "metadata": {
        "id": "nPBwizHGxyC_",
        "outputId": "22dc3a91-cd48-4e79-a3d9-2f2617431141",
        "colab": {
          "base_uri": "https://localhost:8080/",
          "height": 265
        }
      },
      "source": [
        "plt.scatter(X_pca[:, 0], X_pca[:, 1], c=y_train, cmap=plt.cm.prism, edgecolor='none', alpha=0.7, s=30)\n",
        "plt.scatter(support_vectors_pca[:100, 0], support_vectors_pca[:100, 1], s=100,\n",
        "                linewidth=1, facecolors='none', edgecolors='k')\n",
        "plt.show()"
      ],
      "execution_count": null,
      "outputs": [
        {
          "output_type": "display_data",
          "data": {
            "image/png": "[encoded data removed]",
            "text/plain": [
              "<Figure size 432x288 with 1 Axes>"
            ]
          },
          "metadata": {
            "tags": [],
            "needs_background": "light"
          }
        }
      ]
    },
    {
      "cell_type": "markdown",
      "metadata": {
        "id": "JAMkbqB60saX"
      },
      "source": [
        "After SVM linear operations we want to compare the train-set and test-set accuracy.\n",
        "Now, we will compare the train-set and test-set accuracy to check for overfitting."
      ]
    },
    {
      "cell_type": "code",
      "metadata": {
        "id": "icIsGVQ91PFs",
        "outputId": "fafb5c26-4e98-4af4-8e31-e15b1a7ccd89",
        "colab": {
          "base_uri": "https://localhost:8080/"
        }
      },
      "source": [
        "print('Training set score: {:.4f}'.format(linear_svc.score(X_train, y_train)))\n",
        "\n",
        "print('Test set score: {:.4f}'.format(linear_svc.score(X_test, y_test)))"
      ],
      "execution_count": null,
      "outputs": [
        {
          "output_type": "stream",
          "text": [
            "Training set score: 0.7177\n",
            "Test set score: 0.6928\n"
          ],
          "name": "stdout"
        }
      ]
    },
    {
      "cell_type": "markdown",
      "metadata": {
        "id": "XZHguZk91ak-"
      },
      "source": [
        "The training-set accuracy score is 0.7144 while the test-set accuracy to be 0.7062. These two values are quite comparable. \n",
        "So, if it reasonable think that there is no question of overfitting. "
      ]
    },
    {
      "cell_type": "markdown",
      "metadata": {
        "id": "5aJaAVU52pHJ"
      },
      "source": [
        "Infatti le tecniche di random Undersampling non andavano benissimo in Task1"
      ]
    },
    {
      "cell_type": "markdown",
      "metadata": {
        "id": "kqHOB9cB20eH"
      },
      "source": [
        "### **Effort of C**"
      ]
    },
    {
      "cell_type": "code",
      "metadata": {
        "id": "VUtTngQO2yH4",
        "outputId": "360f4577-2542-4505-e7bd-54c5ba6d100f",
        "colab": {
          "base_uri": "https://localhost:8080/",
          "height": 369
        }
      },
      "source": [
        "from sklearn.datasets import make_blobs\n",
        "from sklearn.svm import LinearSVC\n",
        "\n",
        "X, y = make_blobs(n_samples=40, centers=2, random_state=10)\n",
        "\n",
        "plt.figure(figsize=(10, 5))\n",
        "for i, C in enumerate([1, 100]):\n",
        "    # \"hinge\" is the standard SVM loss\n",
        "    clf = LinearSVC(C=C, loss=\"hinge\", random_state=42).fit(X, y)\n",
        "    # obtain the support vectors through the decision function\n",
        "    decision_function = clf.decision_function(X)\n",
        "    # we can also calculate the decision function manually\n",
        "    # decision_function = np.dot(X, clf.coef_[0]) + clf.intercept_[0]\n",
        "    support_vector_indices = np.where((2 * y - 1) * decision_function <= 1)[0]\n",
        "    support_vectors = X[support_vector_indices]\n",
        "\n",
        "    plt.subplot(1, 2, i + 1)\n",
        "    plt.scatter(X[:, 0], X[:, 1], c=y, s=30, cmap=plt.cm.Paired)\n",
        "    ax = plt.gca()\n",
        "    xlim = ax.get_xlim()\n",
        "    ylim = ax.get_ylim()\n",
        "    xx, yy = np.meshgrid(np.linspace(xlim[0], xlim[1], 50),\n",
        "                         np.linspace(ylim[0], ylim[1], 50))\n",
        "    Z = clf.decision_function(np.c_[xx.ravel(), yy.ravel()])\n",
        "    Z = Z.reshape(xx.shape)\n",
        "    plt.contour(xx, yy, Z, colors='k', levels=[-1, 0, 1], alpha=0.5,\n",
        "                linestyles=['--', '-', '--'])\n",
        "    plt.scatter(support_vectors[:, 0], support_vectors[:, 1], s=100,\n",
        "                linewidth=1, facecolors='none', edgecolors='k')\n",
        "    plt.title(\"C=\" + str(C))\n",
        "plt.tight_layout()\n",
        "plt.show()"
      ],
      "execution_count": null,
      "outputs": [
        {
          "output_type": "display_data",
          "data": {
            "image/png": "[encoded data removed]",
            "text/plain": [
              "<Figure size 720x360 with 2 Axes>"
            ]
          },
          "metadata": {
            "tags": [],
            "needs_background": "light"
          }
        }
      ]
    },
    {
      "cell_type": "markdown",
      "metadata": {
        "id": "TX_WaFOK2uus"
      },
      "source": [
        "### **Poly SVM**"
      ]
    },
    {
      "cell_type": "markdown",
      "metadata": {
        "id": "GyiW8_Nt3NKO"
      },
      "source": [
        "#### **Poly SVM C=1.0** "
      ]
    },
    {
      "cell_type": "code",
      "metadata": {
        "id": "dDLGDAKM2tlD",
        "outputId": "29b731fb-02b6-4b74-f71b-9b73c080c275",
        "colab": {
          "base_uri": "https://localhost:8080/"
        }
      },
      "source": [
        "clf = SVC(C=1, kernel='poly', random_state=10)\n",
        "clf.fit(X_train, y_train)\n",
        "\n",
        "y_pred = clf.predict(X_test)\n",
        "\n",
        "print('Accuracy %s' % accuracy_score(y_test, y_pred))\n",
        "print('F1-score %s' % f1_score(y_test, y_pred, average=None))\n",
        "print(classification_report(y_test, y_pred))"
      ],
      "execution_count": null,
      "outputs": [
        {
          "output_type": "stream",
          "text": [
            "Accuracy 0.7216880341880342\n",
            "F1-score [0.83166397 0.1972265 ]\n",
            "              precision    recall  f1-score   support\n",
            "\n",
            "           0       0.72      0.99      0.83      1297\n",
            "           1       0.86      0.11      0.20       575\n",
            "\n",
            "    accuracy                           0.72      1872\n",
            "   macro avg       0.79      0.55      0.51      1872\n",
            "weighted avg       0.76      0.72      0.64      1872\n",
            "\n"
          ],
          "name": "stdout"
        }
      ]
    },
    {
      "cell_type": "markdown",
      "metadata": {
        "id": "M7W0ay8A34SQ"
      },
      "source": [
        "#### **Poly SVM C=10** "
      ]
    },
    {
      "cell_type": "code",
      "metadata": {
        "id": "Jd8Asf_E3vEg",
        "outputId": "ce96af4d-3736-4fe2-b24c-461e55238576",
        "colab": {
          "base_uri": "https://localhost:8080/"
        }
      },
      "source": [
        "clf = SVC(C=10, kernel='poly', random_state=10)\n",
        "clf.fit(X_train, y_train)\n",
        "\n",
        "y_pred = clf.predict(X_test)\n",
        "\n",
        "print('Accuracy %s' % accuracy_score(y_test, y_pred))\n",
        "print('F1-score %s' % f1_score(y_test, y_pred, average=None))\n",
        "print(classification_report(y_test, y_pred))"
      ],
      "execution_count": null,
      "outputs": [
        {
          "output_type": "stream",
          "text": [
            "Accuracy 0.7430555555555556\n",
            "F1-score [0.84067572 0.33655172]\n",
            "              precision    recall  f1-score   support\n",
            "\n",
            "           0       0.74      0.98      0.84      1297\n",
            "           1       0.81      0.21      0.34       575\n",
            "\n",
            "    accuracy                           0.74      1872\n",
            "   macro avg       0.78      0.60      0.59      1872\n",
            "weighted avg       0.76      0.74      0.69      1872\n",
            "\n"
          ],
          "name": "stdout"
        }
      ]
    },
    {
      "cell_type": "markdown",
      "metadata": {
        "id": "0ksyFs9N37qq"
      },
      "source": [
        "#### **Poly SVM C=100** "
      ]
    },
    {
      "cell_type": "code",
      "metadata": {
        "id": "TYRwmdJo3wro",
        "outputId": "b2d78591-67aa-45e4-fa28-1eda512d6c1f",
        "colab": {
          "base_uri": "https://localhost:8080/"
        }
      },
      "source": [
        "clf = SVC(C=100, kernel='poly', random_state=10)\n",
        "clf.fit(X_train, y_train)\n",
        "\n",
        "y_pred = clf.predict(X_test)\n",
        "\n",
        "print('Accuracy %s' % accuracy_score(y_test, y_pred))\n",
        "print('F1-score %s' % f1_score(y_test, y_pred, average=None))\n",
        "print(classification_report(y_test, y_pred))"
      ],
      "execution_count": null,
      "outputs": [
        {
          "output_type": "stream",
          "text": [
            "Accuracy 0.7596153846153846\n",
            "F1-score [0.84641638 0.44717445]\n",
            "              precision    recall  f1-score   support\n",
            "\n",
            "           0       0.76      0.96      0.85      1297\n",
            "           1       0.76      0.32      0.45       575\n",
            "\n",
            "    accuracy                           0.76      1872\n",
            "   macro avg       0.76      0.64      0.65      1872\n",
            "weighted avg       0.76      0.76      0.72      1872\n",
            "\n"
          ],
          "name": "stdout"
        }
      ]
    },
    {
      "cell_type": "markdown",
      "metadata": {
        "id": "im0_eWfF39Ih"
      },
      "source": [
        "#### **Poly SVM C=1000** "
      ]
    },
    {
      "cell_type": "code",
      "metadata": {
        "id": "dR1-eBn93ytx",
        "outputId": "9d432bc7-3633-47df-9f49-7184fba48883",
        "colab": {
          "base_uri": "https://localhost:8080/"
        }
      },
      "source": [
        "clf = SVC(C=1000, kernel='poly', random_state=10)\n",
        "clf.fit(X_train, y_train)\n",
        "\n",
        "y_pred = clf.predict(X_test)\n",
        "\n",
        "print('Accuracy %s' % accuracy_score(y_test, y_pred))\n",
        "print('F1-score %s' % f1_score(y_test, y_pred, average=None))\n",
        "print(classification_report(y_test, y_pred))"
      ],
      "execution_count": null,
      "outputs": [
        {
          "output_type": "stream",
          "text": [
            "Accuracy 0.7729700854700855\n",
            "F1-score [0.85299204 0.5017585 ]\n",
            "              precision    recall  f1-score   support\n",
            "\n",
            "           0       0.77      0.95      0.85      1297\n",
            "           1       0.77      0.37      0.50       575\n",
            "\n",
            "    accuracy                           0.77      1872\n",
            "   macro avg       0.77      0.66      0.68      1872\n",
            "weighted avg       0.77      0.77      0.75      1872\n",
            "\n"
          ],
          "name": "stdout"
        }
      ]
    },
    {
      "cell_type": "markdown",
      "metadata": {
        "id": "aoxilnHZ4KSL"
      },
      "source": [
        "Il miglior SVM Poly è quello con C=1000"
      ]
    },
    {
      "cell_type": "markdown",
      "metadata": {
        "id": "A-T7fCkU4X86"
      },
      "source": [
        "### **Sigmoid SVM**"
      ]
    },
    {
      "cell_type": "markdown",
      "metadata": {
        "id": "g3xwxEwk4X8_"
      },
      "source": [
        "#### **Sigmoid SVM C=1.0** "
      ]
    },
    {
      "cell_type": "code",
      "metadata": {
        "id": "PERULx424X9C",
        "outputId": "2a0e384d-3f27-481c-afb9-23f742177c3a",
        "colab": {
          "base_uri": "https://localhost:8080/"
        }
      },
      "source": [
        "clf = SVC(C=1, kernel='sigmoid', random_state=10)\n",
        "clf.fit(X_train, y_train)\n",
        "\n",
        "y_pred = clf.predict(X_test)\n",
        "\n",
        "print('Accuracy %s' % accuracy_score(y_test, y_pred))\n",
        "print('F1-score %s' % f1_score(y_test, y_pred, average=None))\n",
        "print(classification_report(y_test, y_pred))"
      ],
      "execution_count": null,
      "outputs": [
        {
          "output_type": "stream",
          "text": [
            "Accuracy 0.6089743589743589\n",
            "F1-score [0.72727273 0.30943396]\n",
            "              precision    recall  f1-score   support\n",
            "\n",
            "           0       0.70      0.75      0.73      1297\n",
            "           1       0.34      0.29      0.31       575\n",
            "\n",
            "    accuracy                           0.61      1872\n",
            "   macro avg       0.52      0.52      0.52      1872\n",
            "weighted avg       0.59      0.61      0.60      1872\n",
            "\n"
          ],
          "name": "stdout"
        }
      ]
    },
    {
      "cell_type": "markdown",
      "metadata": {
        "id": "X8TVAo8a4X9Q"
      },
      "source": [
        "#### **Sigmoid SVM C=10** "
      ]
    },
    {
      "cell_type": "code",
      "metadata": {
        "id": "1WVJiuKo4X9T",
        "outputId": "35ccbd41-542a-484d-893e-f4b80c6aaa9e",
        "colab": {
          "base_uri": "https://localhost:8080/"
        }
      },
      "source": [
        "clf = SVC(C=10, kernel='sigmoid', random_state=10)\n",
        "clf.fit(X_train, y_train)\n",
        "\n",
        "y_pred = clf.predict(X_test)\n",
        "\n",
        "print('Accuracy %s' % accuracy_score(y_test, y_pred))\n",
        "print('F1-score %s' % f1_score(y_test, y_pred, average=None))\n",
        "print(classification_report(y_test, y_pred))"
      ],
      "execution_count": null,
      "outputs": [
        {
          "output_type": "stream",
          "text": [
            "Accuracy 0.6073717948717948\n",
            "F1-score [0.72543892 0.31115276]\n",
            "              precision    recall  f1-score   support\n",
            "\n",
            "           0       0.70      0.75      0.73      1297\n",
            "           1       0.34      0.29      0.31       575\n",
            "\n",
            "    accuracy                           0.61      1872\n",
            "   macro avg       0.52      0.52      0.52      1872\n",
            "weighted avg       0.59      0.61      0.60      1872\n",
            "\n"
          ],
          "name": "stdout"
        }
      ]
    },
    {
      "cell_type": "markdown",
      "metadata": {
        "id": "BLeSznqX4X9b"
      },
      "source": [
        "#### **Sigmoid SVM C=100** "
      ]
    },
    {
      "cell_type": "code",
      "metadata": {
        "id": "Lj747ZA34X9c",
        "outputId": "16e13951-6bc4-41ea-97c0-67acbc3bfe20",
        "colab": {
          "base_uri": "https://localhost:8080/"
        }
      },
      "source": [
        "clf = SVC(C=100, kernel='sigmoid', random_state=10)\n",
        "clf.fit(X_train, y_train)\n",
        "\n",
        "y_pred = clf.predict(X_test)\n",
        "\n",
        "print('Accuracy %s' % accuracy_score(y_test, y_pred))\n",
        "print('F1-score %s' % f1_score(y_test, y_pred, average=None))\n",
        "print(classification_report(y_test, y_pred))"
      ],
      "execution_count": null,
      "outputs": [
        {
          "output_type": "stream",
          "text": [
            "Accuracy 0.6079059829059829\n",
            "F1-score [0.72571001 0.31273408]\n",
            "              precision    recall  f1-score   support\n",
            "\n",
            "           0       0.70      0.75      0.73      1297\n",
            "           1       0.34      0.29      0.31       575\n",
            "\n",
            "    accuracy                           0.61      1872\n",
            "   macro avg       0.52      0.52      0.52      1872\n",
            "weighted avg       0.59      0.61      0.60      1872\n",
            "\n"
          ],
          "name": "stdout"
        }
      ]
    },
    {
      "cell_type": "markdown",
      "metadata": {
        "id": "rtIbAmpb4X9g"
      },
      "source": [
        "#### **Sigmoid SVM C=1000** "
      ]
    },
    {
      "cell_type": "code",
      "metadata": {
        "id": "F_wwao904X9h",
        "outputId": "79c53f24-519c-4252-9561-48b89f5e01b8",
        "colab": {
          "base_uri": "https://localhost:8080/"
        }
      },
      "source": [
        "clf = SVC(C=1000, kernel='sigmoid', random_state=10)\n",
        "clf.fit(X_train, y_train)\n",
        "\n",
        "y_pred = clf.predict(X_test)\n",
        "\n",
        "print('Accuracy %s' % accuracy_score(y_test, y_pred))\n",
        "print('F1-score %s' % f1_score(y_test, y_pred, average=None))\n",
        "print(classification_report(y_test, y_pred))"
      ],
      "execution_count": null,
      "outputs": [
        {
          "output_type": "stream",
          "text": [
            "Accuracy 0.6079059829059829\n",
            "F1-score [0.72571001 0.31273408]\n",
            "              precision    recall  f1-score   support\n",
            "\n",
            "           0       0.70      0.75      0.73      1297\n",
            "           1       0.34      0.29      0.31       575\n",
            "\n",
            "    accuracy                           0.61      1872\n",
            "   macro avg       0.52      0.52      0.52      1872\n",
            "weighted avg       0.59      0.61      0.60      1872\n",
            "\n"
          ],
          "name": "stdout"
        }
      ]
    },
    {
      "cell_type": "markdown",
      "metadata": {
        "id": "ClPkyqOw4X9l"
      },
      "source": [
        "Male tutti i SVM Sigmoid, prendo quello con C=1.0 perchè ha il valore di F1 + alto anche se di veramente poco"
      ]
    },
    {
      "cell_type": "markdown",
      "metadata": {
        "id": "NgSpD_rE5Pwh"
      },
      "source": [
        "### **Hyperparameter Optimization with GridSearchCV**"
      ]
    },
    {
      "cell_type": "markdown",
      "metadata": {
        "id": "LRYPbSpdpXAN"
      },
      "source": [
        "**QUESTO CI METTE 3 ORE COME TEMPO DI ESECUZIONE**"
      ]
    },
    {
      "cell_type": "code",
      "metadata": {
        "id": "Ap7BrEz94ynz",
        "outputId": "4beb4320-76d6-459c-f71f-391119f1cb26",
        "colab": {
          "base_uri": "https://localhost:8080/"
        }
      },
      "source": [
        "# import GridSearchCV\n",
        "from sklearn.model_selection import GridSearchCV\n",
        "# import SVC classifier\n",
        "from sklearn.svm import SVC\n",
        "\n",
        "\n",
        "# instantiate classifier with default hyperparameters with kernel=rbf, C=1.0 and gamma=auto\n",
        "svc=SVC() \n",
        "\n",
        "# declare parameters for hyperparameter tuning\n",
        "parameters = [ {'C':[1, 10, 100, 1000], 'kernel':['linear']},\n",
        "               {'C':[1, 10, 100, 1000], 'kernel':['rbf'], 'gamma':[0.1, 0.2, 0.3, 0.4, 0.5]},\n",
        "               {'C':[1, 10, 100, 1000], 'kernel':['poly'], 'degree': [2,3,4] ,'gamma':[0.01,0.02,0.03,0.04,0.05]}, \n",
        "               {'C':[1, 10, 100, 1000], 'kernel':['sigmoid'], 'gamma':[0.01,0.02,0.03,0.04,0.05]} \n",
        "              ]\n",
        "\n",
        "grid_search = GridSearchCV(estimator = svc,  \n",
        "                           param_grid = parameters,\n",
        "                           scoring = 'accuracy',\n",
        "                           cv = 5,\n",
        "                           verbose=0)\n",
        "\n",
        "\n",
        "grid_search.fit(X_train, y_train)"
      ],
      "execution_count": null,
      "outputs": [
        {
          "output_type": "execute_result",
          "data": {
            "text/plain": [
              "GridSearchCV(cv=5, error_score=nan,\n",
              "             estimator=SVC(C=1.0, break_ties=False, cache_size=200,\n",
              "                           class_weight=None, coef0=0.0,\n",
              "                           decision_function_shape='ovr', degree=3,\n",
              "                           gamma='scale', kernel='rbf', max_iter=-1,\n",
              "                           probability=False, random_state=None, shrinking=True,\n",
              "                           tol=0.001, verbose=False),\n",
              "             iid='deprecated', n_jobs=None,\n",
              "             param_grid=[{'C': [1, 10, 100, 1000], 'kernel': ['linear']},\n",
              "                         {'C': [1, 10, 100, 1000],\n",
              "                          'gamma': [0.1, 0.2, 0.3, 0.4, 0.5],\n",
              "                          'kernel': ['rbf']},\n",
              "                         {'C': [1, 10, 100, 1000], 'degree': [2, 3, 4],\n",
              "                          'gamma': [0.01, 0.02, 0.03, 0.04, 0.05],\n",
              "                          'kernel': ['poly']},\n",
              "                         {'C': [1, 10, 100, 1000],\n",
              "                          'gamma': [0.01, 0.02, 0.03, 0.04, 0.05],\n",
              "                          'kernel': ['sigmoid']}],\n",
              "             pre_dispatch='2*n_jobs', refit=True, return_train_score=False,\n",
              "             scoring='accuracy', verbose=0)"
            ]
          },
          "metadata": {
            "tags": []
          },
          "execution_count": 190
        }
      ]
    },
    {
      "cell_type": "markdown",
      "metadata": {
        "id": "53RJiONwnB9u"
      },
      "source": [
        "let's examine the best model now:"
      ]
    },
    {
      "cell_type": "code",
      "metadata": {
        "id": "wDXhGNJMnAMO",
        "outputId": "2f2ad080-a809-4c99-91f4-cc61f679e9aa",
        "colab": {
          "base_uri": "https://localhost:8080/"
        }
      },
      "source": [
        "# best score achieved during the GridSearchCV\n",
        "print('GridSearch CV best score : {:.4f}\\n\\n'.format(grid_search.best_score_))\n",
        "\n",
        "# print parameters that give the best results\n",
        "print('Parameters that give the best results :','\\n\\n', (grid_search.best_params_))\n",
        "\n",
        "# print estimator that was chosen by the GridSearch\n",
        "print('\\n\\nEstimator that was chosen by the search :','\\n\\n', (grid_search.best_estimator_))"
      ],
      "execution_count": null,
      "outputs": [
        {
          "output_type": "stream",
          "text": [
            "GridSearch CV best score : 0.8354\n",
            "\n",
            "\n",
            "Parameters that give the best results : \n",
            "\n",
            " {'C': 1000, 'gamma': 0.1, 'kernel': 'rbf'}\n",
            "\n",
            "\n",
            "Estimator that was chosen by the search : \n",
            "\n",
            " SVC(C=1000, break_ties=False, cache_size=200, class_weight=None, coef0=0.0,\n",
            "    decision_function_shape='ovr', degree=3, gamma=0.1, kernel='rbf',\n",
            "    max_iter=-1, probability=False, random_state=None, shrinking=True,\n",
            "    tol=0.001, verbose=False)\n"
          ],
          "name": "stdout"
        }
      ]
    },
    {
      "cell_type": "markdown",
      "metadata": {
        "id": "KkF2fZRhnO9j"
      },
      "source": [
        "Da questo possiamo vedere che il miglior score con GridSearch è di 0.8354 e ha come paraemtri :\n",
        "- c = 100\n",
        "- gamma = 0.1\n",
        "- kernel = rbf"
      ]
    },
    {
      "cell_type": "code",
      "metadata": {
        "id": "EZiBbhOEnKiy",
        "outputId": "b0adea05-b633-42fb-bbf1-17a8fbbe108e",
        "colab": {
          "base_uri": "https://localhost:8080/"
        }
      },
      "source": [
        "# calculate GridSearch CV score on test set\n",
        "\n",
        "print('GridSearch CV score on test set: {0:0.4f}'.format(grid_search.score(X_test, y_test)))"
      ],
      "execution_count": null,
      "outputs": [
        {
          "output_type": "stream",
          "text": [
            "GridSearch CV score on test set: 0.8264\n"
          ],
          "name": "stdout"
        }
      ]
    },
    {
      "cell_type": "markdown",
      "metadata": {
        "id": "inRzb_gi-jYg"
      },
      "source": [
        "SCRIVI CONCLUSIONI SVM"
      ]
    }
  ]
}